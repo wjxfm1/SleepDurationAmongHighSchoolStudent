{
 "cells": [
  {
   "cell_type": "markdown",
   "metadata": {},
   "source": [
    "<a id='section_id0'></a>\n",
    "# Data Programming Essentials *with Python*\n",
    "\n",
    "## Part-5: Modeling 4 : Bayes' classifier\n",
    "\n",
    "<font color=\"#740202\">**Table of contents:**\n",
    "\n",
    "|No.|Topic||No.|Topic||No.|Topic|\n",
    "|:------|:------||:------|:------||:------|:------|\n",
    "|1.|[Key Libraries](#section_id1)||2.|[Data preparation](#section_id2)||3.|[Manual Naive Bayes with \"sex\" and \"race\"](#section_id3)  |\n",
    "|4.|[Naive Bayes with Scikit](#section_id4)  ||5.|[Using all variables](#section_id5)  ||6.|[References](#section_id6)  |\n",
    "\n",
    "***"
   ]
  },
  {
   "cell_type": "markdown",
   "metadata": {},
   "source": [
    "<a id='section_id1'></a>\n",
    "### <span style=\"background-color:#B0E0E6\">Libraries</span>"
   ]
  },
  {
   "cell_type": "code",
   "execution_count": 121,
   "metadata": {},
   "outputs": [],
   "source": [
    "#pandas and numpy\n",
    "import pandas as pd\n",
    "import numpy as np\n",
    "\n",
    "#Scikit stuff\n",
    "from sklearn.model_selection import train_test_split\n",
    "from sklearn.metrics import confusion_matrix, classification_report, precision_score, \\\n",
    "                            accuracy_score, roc_curve, roc_auc_score\n",
    "from sklearn.naive_bayes import MultinomialNB, ComplementNB\n",
    "import scikitplot as skplt\n",
    "\n",
    "#for plots\n",
    "import matplotlib.pylab as plt\n",
    "%matplotlib inline\n",
    "import seaborn as sns\n",
    "\n",
    "#DMBA book utility tools\n",
    "from dmba import classificationSummary, gainsChart, liftChart"
   ]
  },
  {
   "cell_type": "markdown",
   "metadata": {},
   "source": [
    "<div style=\"text-align: right\"> <a href='#section_id0'>Back to top of Notebook</a></div>"
   ]
  },
  {
   "cell_type": "markdown",
   "metadata": {},
   "source": [
    "<a id='section_id2'></a>\n",
    "### <span style=\"background-color:#B0E0E6\">Data preparation </span>"
   ]
  },
  {
   "cell_type": "markdown",
   "metadata": {},
   "source": [
    "|Variable|Description|\n",
    "|:------|:------|\n",
    "|sleeping|sleep hours on an average shcool night: 1=<4 hrs, 2=5 hrs, 3=6 hrs, 4=7 hrs, 5=8 hrs, 6=9 hrs, 7= >=10 hrs|\n",
    "|sex|1=Female, 2=Male|\n",
    "|race|1=White, 2=Black or African American, 3=Hispanic/Latino, 4=All other races|\n",
    "|sexharass|sexual harassment during the past 12 months: 1=0 times, 2=1 time, 3=2 or 3 times, 4=4 or 5 times, 5=6 or more times|\n",
    "|smoking|smoke cigarettes during the past 30 days: 1=0 days, 2=1 or 2 days, 3=3 to 5 days, 4= 6 to 9 days, 5=10 to 19 days, 6=20 to 29 days, 7=all 30 days|\n",
    "|vegetables|eating other vegetables(do not count green salad, potatoes, or carrots) during the past 7 days: 1=0 times, 2=1 to 3 times, 3=4 to 6 times, 4=1 time/day, 5=2 times/day, 6=3 times/day, 7=>= 4 times/day|\n",
    "|soda|drinking soda or pop during past 7 days: 1= 0 times, 2=1 to 3 times, 3=4 to 6 times, 4=1 time/day, 5=2 times/day, 6=3 times/day, 7=>=4 times/day |\n",
    "|breakfast|days of eating breakfast per week: 1=0 day, 2=1 day, 3=2 days, 4=3 days, 5= 4 days, 6=5 days, 7=6 days, 8= 7 days|\n",
    "|computer|hours of playing computer games or something that is not school work per day: 1=0 hrs, 2=<1 hr, 3=1 hr, 4=2 hrs, 5=3 hrs, 6=4 hrs, 7=>=5 hrs|\n"
   ]
  },
  {
   "cell_type": "code",
   "execution_count": 144,
   "metadata": {},
   "outputs": [],
   "source": [
    "df1 = pd.read_csv('sleeping.csv')"
   ]
  },
  {
   "cell_type": "code",
   "execution_count": 145,
   "metadata": {},
   "outputs": [
    {
     "data": {
      "text/html": [
       "<div>\n",
       "<style scoped>\n",
       "    .dataframe tbody tr th:only-of-type {\n",
       "        vertical-align: middle;\n",
       "    }\n",
       "\n",
       "    .dataframe tbody tr th {\n",
       "        vertical-align: top;\n",
       "    }\n",
       "\n",
       "    .dataframe thead th {\n",
       "        text-align: right;\n",
       "    }\n",
       "</style>\n",
       "<table border=\"1\" class=\"dataframe\">\n",
       "  <thead>\n",
       "    <tr style=\"text-align: right;\">\n",
       "      <th></th>\n",
       "      <th>sleeping</th>\n",
       "      <th>sex</th>\n",
       "      <th>race</th>\n",
       "      <th>sexharass</th>\n",
       "      <th>smoking</th>\n",
       "      <th>vegetables</th>\n",
       "      <th>soda</th>\n",
       "      <th>breakfast</th>\n",
       "      <th>computer</th>\n",
       "    </tr>\n",
       "  </thead>\n",
       "  <tbody>\n",
       "    <tr>\n",
       "      <th>0</th>\n",
       "      <td>1</td>\n",
       "      <td>2</td>\n",
       "      <td>4</td>\n",
       "      <td>4</td>\n",
       "      <td>4</td>\n",
       "      <td>3</td>\n",
       "      <td>2</td>\n",
       "      <td>3</td>\n",
       "      <td>3</td>\n",
       "    </tr>\n",
       "    <tr>\n",
       "      <th>1</th>\n",
       "      <td>1</td>\n",
       "      <td>2</td>\n",
       "      <td>3</td>\n",
       "      <td>1</td>\n",
       "      <td>1</td>\n",
       "      <td>2</td>\n",
       "      <td>1</td>\n",
       "      <td>1</td>\n",
       "      <td>2</td>\n",
       "    </tr>\n",
       "    <tr>\n",
       "      <th>2</th>\n",
       "      <td>1</td>\n",
       "      <td>2</td>\n",
       "      <td>4</td>\n",
       "      <td>1</td>\n",
       "      <td>1</td>\n",
       "      <td>1</td>\n",
       "      <td>1</td>\n",
       "      <td>1</td>\n",
       "      <td>1</td>\n",
       "    </tr>\n",
       "  </tbody>\n",
       "</table>\n",
       "</div>"
      ],
      "text/plain": [
       "   sleeping  sex  race  sexharass  smoking  vegetables  soda  breakfast  \\\n",
       "0         1    2     4          4        4           3     2          3   \n",
       "1         1    2     3          1        1           2     1          1   \n",
       "2         1    2     4          1        1           1     1          1   \n",
       "\n",
       "   computer  \n",
       "0         3  \n",
       "1         2  \n",
       "2         1  "
      ]
     },
     "execution_count": 145,
     "metadata": {},
     "output_type": "execute_result"
    }
   ],
   "source": [
    "df1.head(3)"
   ]
  },
  {
   "cell_type": "code",
   "execution_count": 146,
   "metadata": {},
   "outputs": [
    {
     "name": "stdout",
     "output_type": "stream",
     "text": [
      "<class 'pandas.core.frame.DataFrame'>\n",
      "RangeIndex: 36220 entries, 0 to 36219\n",
      "Data columns (total 9 columns):\n",
      " #   Column      Non-Null Count  Dtype\n",
      "---  ------      --------------  -----\n",
      " 0   sleeping    36220 non-null  int64\n",
      " 1   sex         36220 non-null  int64\n",
      " 2   race        36220 non-null  int64\n",
      " 3   sexharass   36220 non-null  int64\n",
      " 4   smoking     36220 non-null  int64\n",
      " 5   vegetables  36220 non-null  int64\n",
      " 6   soda        36220 non-null  int64\n",
      " 7   breakfast   36220 non-null  int64\n",
      " 8   computer    36220 non-null  int64\n",
      "dtypes: int64(9)\n",
      "memory usage: 2.5 MB\n"
     ]
    }
   ],
   "source": [
    "df1.info()"
   ]
  },
  {
   "cell_type": "code",
   "execution_count": 147,
   "metadata": {},
   "outputs": [
    {
     "data": {
      "text/html": [
       "<div>\n",
       "<style scoped>\n",
       "    .dataframe tbody tr th:only-of-type {\n",
       "        vertical-align: middle;\n",
       "    }\n",
       "\n",
       "    .dataframe tbody tr th {\n",
       "        vertical-align: top;\n",
       "    }\n",
       "\n",
       "    .dataframe thead th {\n",
       "        text-align: right;\n",
       "    }\n",
       "</style>\n",
       "<table border=\"1\" class=\"dataframe\">\n",
       "  <thead>\n",
       "    <tr style=\"text-align: right;\">\n",
       "      <th></th>\n",
       "      <th>sleeping</th>\n",
       "      <th>sex</th>\n",
       "      <th>race</th>\n",
       "      <th>sexharass</th>\n",
       "      <th>smoking</th>\n",
       "      <th>vegetables</th>\n",
       "      <th>soda</th>\n",
       "      <th>breakfast</th>\n",
       "      <th>computer</th>\n",
       "      <th>sleepcat</th>\n",
       "    </tr>\n",
       "  </thead>\n",
       "  <tbody>\n",
       "    <tr>\n",
       "      <th>0</th>\n",
       "      <td>1</td>\n",
       "      <td>2</td>\n",
       "      <td>4</td>\n",
       "      <td>4</td>\n",
       "      <td>4</td>\n",
       "      <td>3</td>\n",
       "      <td>2</td>\n",
       "      <td>3</td>\n",
       "      <td>3</td>\n",
       "      <td>short</td>\n",
       "    </tr>\n",
       "    <tr>\n",
       "      <th>1</th>\n",
       "      <td>1</td>\n",
       "      <td>2</td>\n",
       "      <td>3</td>\n",
       "      <td>1</td>\n",
       "      <td>1</td>\n",
       "      <td>2</td>\n",
       "      <td>1</td>\n",
       "      <td>1</td>\n",
       "      <td>2</td>\n",
       "      <td>short</td>\n",
       "    </tr>\n",
       "    <tr>\n",
       "      <th>2</th>\n",
       "      <td>1</td>\n",
       "      <td>2</td>\n",
       "      <td>4</td>\n",
       "      <td>1</td>\n",
       "      <td>1</td>\n",
       "      <td>1</td>\n",
       "      <td>1</td>\n",
       "      <td>1</td>\n",
       "      <td>1</td>\n",
       "      <td>short</td>\n",
       "    </tr>\n",
       "    <tr>\n",
       "      <th>3</th>\n",
       "      <td>3</td>\n",
       "      <td>2</td>\n",
       "      <td>4</td>\n",
       "      <td>1</td>\n",
       "      <td>1</td>\n",
       "      <td>3</td>\n",
       "      <td>5</td>\n",
       "      <td>5</td>\n",
       "      <td>4</td>\n",
       "      <td>short</td>\n",
       "    </tr>\n",
       "    <tr>\n",
       "      <th>4</th>\n",
       "      <td>3</td>\n",
       "      <td>2</td>\n",
       "      <td>4</td>\n",
       "      <td>1</td>\n",
       "      <td>6</td>\n",
       "      <td>2</td>\n",
       "      <td>6</td>\n",
       "      <td>5</td>\n",
       "      <td>7</td>\n",
       "      <td>short</td>\n",
       "    </tr>\n",
       "    <tr>\n",
       "      <th>5</th>\n",
       "      <td>5</td>\n",
       "      <td>2</td>\n",
       "      <td>4</td>\n",
       "      <td>1</td>\n",
       "      <td>1</td>\n",
       "      <td>5</td>\n",
       "      <td>2</td>\n",
       "      <td>4</td>\n",
       "      <td>5</td>\n",
       "      <td>long</td>\n",
       "    </tr>\n",
       "  </tbody>\n",
       "</table>\n",
       "</div>"
      ],
      "text/plain": [
       "   sleeping  sex  race  sexharass  smoking  vegetables  soda  breakfast  \\\n",
       "0         1    2     4          4        4           3     2          3   \n",
       "1         1    2     3          1        1           2     1          1   \n",
       "2         1    2     4          1        1           1     1          1   \n",
       "3         3    2     4          1        1           3     5          5   \n",
       "4         3    2     4          1        6           2     6          5   \n",
       "5         5    2     4          1        1           5     2          4   \n",
       "\n",
       "   computer sleepcat  \n",
       "0         3    short  \n",
       "1         2    short  \n",
       "2         1    short  \n",
       "3         4    short  \n",
       "4         7    short  \n",
       "5         5     long  "
      ]
     },
     "execution_count": 147,
     "metadata": {},
     "output_type": "execute_result"
    }
   ],
   "source": [
    "# inserting a health_category column\n",
    "df1['sleepcat']=pd.cut(df1['sleeping'], bins=[0,4,8], labels=['short', 'long']) # 0 = short, 1 =long\n",
    "df1.head(6)"
   ]
  },
  {
   "cell_type": "code",
   "execution_count": 148,
   "metadata": {},
   "outputs": [],
   "source": [
    "df1.drop(columns=['sleeping'], inplace=True) # no need to do this"
   ]
  },
  {
   "cell_type": "code",
   "execution_count": 149,
   "metadata": {},
   "outputs": [
    {
     "data": {
      "text/plain": [
       "Index(['sex', 'race', 'sexharass', 'smoking', 'vegetables', 'soda',\n",
       "       'breakfast', 'computer', 'sleepcat'],\n",
       "      dtype='object')"
      ]
     },
     "execution_count": 149,
     "metadata": {},
     "output_type": "execute_result"
    }
   ],
   "source": [
    "df1.columns"
   ]
  },
  {
   "cell_type": "code",
   "execution_count": 150,
   "metadata": {},
   "outputs": [],
   "source": [
    "df1['racecat']=pd.cut(df1['race'], bins=[0,2,5], labels=['white', 'nonwhite']) # 1 = white, 0 =nonwhite\n"
   ]
  },
  {
   "cell_type": "code",
   "execution_count": 131,
   "metadata": {},
   "outputs": [],
   "source": [
    "# inserting a sleep_category column\n",
    "\n",
    "#df1['sexharcat']=pd.cut(df1['sexharass'], bins=[0,1,6], labels=['No', 'Yes']) # 0 = no, 1 =yes\n"
   ]
  },
  {
   "cell_type": "code",
   "execution_count": 152,
   "metadata": {},
   "outputs": [
    {
     "data": {
      "text/html": [
       "<div>\n",
       "<style scoped>\n",
       "    .dataframe tbody tr th:only-of-type {\n",
       "        vertical-align: middle;\n",
       "    }\n",
       "\n",
       "    .dataframe tbody tr th {\n",
       "        vertical-align: top;\n",
       "    }\n",
       "\n",
       "    .dataframe thead th {\n",
       "        text-align: right;\n",
       "    }\n",
       "</style>\n",
       "<table border=\"1\" class=\"dataframe\">\n",
       "  <thead>\n",
       "    <tr style=\"text-align: right;\">\n",
       "      <th></th>\n",
       "      <th>sex</th>\n",
       "      <th>race</th>\n",
       "      <th>sexharass</th>\n",
       "      <th>smoking</th>\n",
       "      <th>vegetables</th>\n",
       "      <th>soda</th>\n",
       "      <th>breakfast</th>\n",
       "      <th>computer</th>\n",
       "      <th>sleepcat</th>\n",
       "      <th>racecat</th>\n",
       "    </tr>\n",
       "  </thead>\n",
       "  <tbody>\n",
       "    <tr>\n",
       "      <th>0</th>\n",
       "      <td>2</td>\n",
       "      <td>4</td>\n",
       "      <td>4</td>\n",
       "      <td>4</td>\n",
       "      <td>3</td>\n",
       "      <td>2</td>\n",
       "      <td>3</td>\n",
       "      <td>3</td>\n",
       "      <td>short</td>\n",
       "      <td>nonwhite</td>\n",
       "    </tr>\n",
       "    <tr>\n",
       "      <th>1</th>\n",
       "      <td>2</td>\n",
       "      <td>3</td>\n",
       "      <td>1</td>\n",
       "      <td>1</td>\n",
       "      <td>2</td>\n",
       "      <td>1</td>\n",
       "      <td>1</td>\n",
       "      <td>2</td>\n",
       "      <td>short</td>\n",
       "      <td>nonwhite</td>\n",
       "    </tr>\n",
       "    <tr>\n",
       "      <th>2</th>\n",
       "      <td>2</td>\n",
       "      <td>4</td>\n",
       "      <td>1</td>\n",
       "      <td>1</td>\n",
       "      <td>1</td>\n",
       "      <td>1</td>\n",
       "      <td>1</td>\n",
       "      <td>1</td>\n",
       "      <td>short</td>\n",
       "      <td>nonwhite</td>\n",
       "    </tr>\n",
       "  </tbody>\n",
       "</table>\n",
       "</div>"
      ],
      "text/plain": [
       "   sex  race  sexharass  smoking  vegetables  soda  breakfast  computer  \\\n",
       "0    2     4          4        4           3     2          3         3   \n",
       "1    2     3          1        1           2     1          1         2   \n",
       "2    2     4          1        1           1     1          1         1   \n",
       "\n",
       "  sleepcat   racecat  \n",
       "0    short  nonwhite  \n",
       "1    short  nonwhite  \n",
       "2    short  nonwhite  "
      ]
     },
     "execution_count": 152,
     "metadata": {},
     "output_type": "execute_result"
    }
   ],
   "source": [
    "df1.head(3)"
   ]
  },
  {
   "cell_type": "code",
   "execution_count": 153,
   "metadata": {},
   "outputs": [],
   "source": [
    "df1.sleepcat = df1.sleepcat.astype('category') \n",
    "df1.racecat = df1.racecat.astype('category') \n",
    "df1.sex = df1.sex.astype('category')"
   ]
  },
  {
   "cell_type": "markdown",
   "metadata": {},
   "source": [
    "Stumped by categorical data? Count plots to the help!"
   ]
  },
  {
   "cell_type": "code",
   "execution_count": 154,
   "metadata": {},
   "outputs": [
    {
     "data": {
      "text/plain": [
       "<matplotlib.axes._subplots.AxesSubplot at 0x24c5ac68a48>"
      ]
     },
     "execution_count": 154,
     "metadata": {},
     "output_type": "execute_result"
    },
    {
     "data": {
      "image/png": "[encoded data removed]",
      "text/plain": [
       "<Figure size 432x288 with 1 Axes>"
      ]
     },
     "metadata": {
      "needs_background": "light"
     },
     "output_type": "display_data"
    }
   ],
   "source": [
    "sns.countplot(x='sleepcat', hue='sex', data=df1)"
   ]
  },
  {
   "cell_type": "code",
   "execution_count": 155,
   "metadata": {},
   "outputs": [
    {
     "name": "stderr",
     "output_type": "stream",
     "text": [
      "C:\\Users\\edwar\\anaconda3\\lib\\site-packages\\seaborn\\axisgrid.py:728: UserWarning: Using the countplot function without specifying `order` is likely to produce an incorrect plot.\n",
      "  warnings.warn(warning)\n"
     ]
    },
    {
     "data": {
      "text/plain": [
       "<seaborn.axisgrid.FacetGrid at 0x24c5b0be8c8>"
      ]
     },
     "execution_count": 155,
     "metadata": {},
     "output_type": "execute_result"
    },
    {
     "data": {
      "image/png": "[encoded data removed]",
      "text/plain": [
       "<Figure size 478.725x216 with 2 Axes>"
      ]
     },
     "metadata": {
      "needs_background": "light"
     },
     "output_type": "display_data"
    }
   ],
   "source": [
    "g = sns.FacetGrid(df1, col=\"racecat\")\n",
    "g.map(sns.countplot, x=\"sleepcat\", hue=\"sex\", data=df1)\n",
    "g.set_axis_labels(\"\",\"Count\")\n",
    "g.add_legend()"
   ]
  },
  {
   "cell_type": "code",
   "execution_count": 156,
   "metadata": {},
   "outputs": [
    {
     "data": {
      "text/plain": [
       "<seaborn.axisgrid.FacetGrid at 0x24c5dee3188>"
      ]
     },
     "execution_count": 156,
     "metadata": {},
     "output_type": "execute_result"
    },
    {
     "data": {
      "image/png": "[encoded data removed]",
      "text/plain": [
       "<Figure size 478.725x216 with 2 Axes>"
      ]
     },
     "metadata": {
      "needs_background": "light"
     },
     "output_type": "display_data"
    }
   ],
   "source": [
    "g2 = sns.FacetGrid(df1, col=\"sleepcat\")\n",
    "g2.map(sns.countplot, x=\"racecat\", hue=\"sex\", data=df1, palette=\"gist_earth\")\n",
    "g2.set_axis_labels(\"Race difference\",\"Count\")\n",
    "g2.add_legend()"
   ]
  },
  {
   "cell_type": "markdown",
   "metadata": {},
   "source": [
    "<div style=\"text-align: right\"> <a href='#section_id0'>Back to top of Notebook</a></div>"
   ]
  },
  {
   "cell_type": "markdown",
   "metadata": {},
   "source": [
    "<a id='section_id3'></a>\n",
    "### <span style=\"background-color:#B0E0E6\">Manual Naive Bayes steps with variables of \"race\" and \"sex\" only </span>\n",
    "* Refer to class slides for the formula derivations"
   ]
  },
  {
   "cell_type": "code",
   "execution_count": 141,
   "metadata": {},
   "outputs": [],
   "source": [
    "# split the original data frame into a train and test using the same random_state\n",
    "train_df, valid_df = train_test_split(df1, test_size=0.10, random_state=1)"
   ]
  },
  {
   "cell_type": "code",
   "execution_count": 142,
   "metadata": {},
   "outputs": [],
   "source": [
    "pd.set_option('precision', 3) # to get only 3 digit rounded numbers for probabilities"
   ]
  },
  {
   "cell_type": "code",
   "execution_count": 143,
   "metadata": {},
   "outputs": [
    {
     "name": "stdout",
     "output_type": "stream",
     "text": [
      "short    0.753\n",
      "long     0.247\n",
      "Name: sleepcat, dtype: float64\n"
     ]
    }
   ],
   "source": [
    "# probability of fraudulent and truthful reports\n",
    "print(train_df['sleepcat'].value_counts() / len(train_df))"
   ]
  },
  {
   "cell_type": "code",
   "execution_count": 157,
   "metadata": {},
   "outputs": [
    {
     "name": "stdout",
     "output_type": "stream",
     "text": [
      "sex           1      2\n",
      "sleepcat              \n",
      "short     0.531  0.469\n",
      "long      0.478  0.522\n",
      "\n",
      "racecat   white  nonwhite\n",
      "sleepcat                 \n",
      "short     0.607     0.393\n",
      "long      0.641     0.359\n",
      "\n"
     ]
    }
   ],
   "source": [
    "predictors = ['sex', 'racecat']\n",
    "for predictor in predictors:\n",
    "    # construct the frequency table\n",
    "    df = train_df[['sleepcat', predictor]]\n",
    "    freqTable = df.pivot_table(index='sleepcat', columns=predictor, aggfunc=len)\n",
    "\n",
    "    # divide each row by the sum of the row to get conditional probabilities\n",
    "    propTable = freqTable.apply(lambda x: x / sum(x), axis=1)\n",
    "    print(propTable)\n",
    "    print()"
   ]
  },
  {
   "cell_type": "code",
   "execution_count": 161,
   "metadata": {},
   "outputs": [
    {
     "name": "stdout",
     "output_type": "stream",
     "text": [
      "P(short | sex = 2(Male), race=nonwhite) ~  0.184\n",
      "P(long  | sex = 2(Male), race=nonwhite) 0.187\n",
      "P(short | sex = 2(Male), race=nonwhite) =  0.496\n",
      "P(long  | sex = 2(Male), race=nonwhite) =  0.504\n"
     ]
    }
   ],
   "source": [
    "# P(short | sex = 2(Male), race=nonwhite)\n",
    "P_hat_satLS = 0.469 * 0.393 #naive Bayes approximation\n",
    "# P(long | sex = 2(Male), race=nonwhite)\n",
    "P_hat_dissatLS = 0.522 * 0.359 #naive Bayes approximation\n",
    "print('P(short | sex = 2(Male), race=nonwhite) ~ ', \"{:.3f}\".format(P_hat_satLS))\n",
    "print('P(long  | sex = 2(Male), race=nonwhite)', \"{:.3f}\".format(P_hat_dissatLS))\n",
    "\n",
    "print('P(short | sex = 2(Male), race=nonwhite) = ', \\\n",
    "      \"{0:.3f}\".format(P_hat_satLS / (P_hat_satLS+ P_hat_dissatLS)))\n",
    "print('P(long  | sex = 2(Male), race=nonwhite) = ', \\\n",
    "      \"{0:.3f}\".format(P_hat_dissatLS / (P_hat_satLS + P_hat_dissatLS)))"
   ]
  },
  {
   "cell_type": "code",
   "execution_count": 159,
   "metadata": {},
   "outputs": [],
   "source": [
    "pd.reset_option('precision')"
   ]
  },
  {
   "cell_type": "markdown",
   "metadata": {},
   "source": [
    "*<Mark>Interpretation:</Mark> There is around 50% chance that nonwhite male students have insufficient sleep. \n"
   ]
  },
  {
   "cell_type": "code",
   "execution_count": 162,
   "metadata": {},
   "outputs": [
    {
     "name": "stdout",
     "output_type": "stream",
     "text": [
      "P(short | sex = 1(Female), race=white) ~  0.322\n",
      "P(long  | sex = 1(Female), race=white ) 0.306\n",
      "P(short | sex = 1(Female), race=white) =  0.513\n",
      "P(long  | sex = 1(Female), race=white ) =  0.487\n"
     ]
    }
   ],
   "source": [
    "# P(short | sex = 1(Female), race=white)\n",
    "P_hat_satLS = 0.531 * 0.607 #naive Bayes approximation\n",
    "# P(long | sex = 1(Female), race=white )\n",
    "P_hat_dissatLS = 0.478 * 0.641 #naive Bayes approximation\n",
    "print('P(short | sex = 1(Female), race=white) ~ ', \"{:.3f}\".format(P_hat_satLS))\n",
    "print('P(long  | sex = 1(Female), race=white )', \"{:.3f}\".format(P_hat_dissatLS))\n",
    "\n",
    "print('P(short | sex = 1(Female), race=white) = ', \\\n",
    "      \"{0:.3f}\".format(P_hat_satLS / (P_hat_satLS+ P_hat_dissatLS)))\n",
    "print('P(long  | sex = 1(Female), race=white ) = ', \\\n",
    "      \"{0:.3f}\".format(P_hat_dissatLS / (P_hat_satLS + P_hat_dissatLS)))"
   ]
  },
  {
   "cell_type": "code",
   "execution_count": 163,
   "metadata": {},
   "outputs": [],
   "source": [
    "pd.reset_option('precision')"
   ]
  },
  {
   "cell_type": "markdown",
   "metadata": {},
   "source": [
    "*<Mark>Interpretation:</Mark> There is around 51% chance that white female students have insufficient sleep. \n"
   ]
  },
  {
   "cell_type": "markdown",
   "metadata": {},
   "source": [
    "<div style=\"text-align: right\"> <a href='#section_id0'>Back to top of Notebook</a></div>"
   ]
  },
  {
   "cell_type": "markdown",
   "metadata": {},
   "source": [
    "<a id='section_id4'></a>\n",
    "### <span style=\"background-color:#B0E0E6\">Executing Naive Bayes with Scikit-Learn</span>"
   ]
  },
  {
   "cell_type": "code",
   "execution_count": 164,
   "metadata": {},
   "outputs": [],
   "source": [
    "predictors = ['sex', 'racecat']\n",
    "outcome = 'sleepcat'\n",
    "\n",
    "X = pd.get_dummies(df1[predictors])\n",
    "y = (df1[outcome] == 'short').astype(int)\n",
    "classes = ['short', 'long']"
   ]
  },
  {
   "cell_type": "code",
   "execution_count": 165,
   "metadata": {},
   "outputs": [],
   "source": [
    "# split into training and validation\n",
    "X_train, X_valid, y_train, y_valid = train_test_split(X, y, test_size=0.10, random_state=1)"
   ]
  },
  {
   "cell_type": "code",
   "execution_count": 166,
   "metadata": {},
   "outputs": [
    {
     "data": {
      "text/plain": [
       "MultinomialNB(alpha=0.01, class_prior=None, fit_prior=True)"
      ]
     },
     "execution_count": 166,
     "metadata": {},
     "output_type": "execute_result"
    }
   ],
   "source": [
    "# run naive Bayes\n",
    "reports_nb = MultinomialNB(alpha=0.01)\n",
    "reports_nb.fit(X_train, y_train)"
   ]
  },
  {
   "cell_type": "code",
   "execution_count": 167,
   "metadata": {},
   "outputs": [
    {
     "name": "stdout",
     "output_type": "stream",
     "text": [
      "Confusion Matrix (Accuracy 0.7525)\n",
      "\n",
      "       Prediction\n",
      "Actual short  long\n",
      " short     0  8067\n",
      "  long     0 24531\n"
     ]
    }
   ],
   "source": [
    "#Training performance\n",
    "y_train_pred = reports_nb.predict(X_train)\n",
    "classificationSummary(y_train, y_train_pred, class_names=classes)"
   ]
  },
  {
   "cell_type": "code",
   "execution_count": 168,
   "metadata": {},
   "outputs": [
    {
     "data": {
      "text/plain": [
       "<matplotlib.axes._subplots.AxesSubplot at 0x24c5df12f48>"
      ]
     },
     "execution_count": 168,
     "metadata": {},
     "output_type": "execute_result"
    },
    {
     "data": {
      "image/png": "[encoded data removed]",
      "text/plain": [
       "<Figure size 288x288 with 2 Axes>"
      ]
     },
     "metadata": {
      "needs_background": "light"
     },
     "output_type": "display_data"
    }
   ],
   "source": [
    "skplt.metrics.plot_confusion_matrix(y_train, y_train_pred, figsize=(4,4), cmap=\"Accent\")"
   ]
  },
  {
   "cell_type": "code",
   "execution_count": 169,
   "metadata": {},
   "outputs": [
    {
     "name": "stdout",
     "output_type": "stream",
     "text": [
      "Confusion Matrix (Accuracy 0.7457)\n",
      "\n",
      "       Prediction\n",
      "Actual short  long\n",
      " short     0   921\n",
      "  long     0  2701\n"
     ]
    }
   ],
   "source": [
    "#Testing performance\n",
    "y_valid_pred = reports_nb.predict(X_valid)\n",
    "classificationSummary(y_valid, y_valid_pred, class_names=classes)"
   ]
  },
  {
   "cell_type": "markdown",
   "metadata": {},
   "source": [
    "#### Cutoff probability approach"
   ]
  },
  {
   "cell_type": "code",
   "execution_count": 170,
   "metadata": {},
   "outputs": [],
   "source": [
    "# predicting probabilities\n",
    "predProb_train = reports_nb.predict_proba(X_train)\n",
    "predProb_valid = reports_nb.predict_proba(X_valid)"
   ]
  },
  {
   "cell_type": "code",
   "execution_count": 171,
   "metadata": {},
   "outputs": [
    {
     "data": {
      "text/html": [
       "<div>\n",
       "<style scoped>\n",
       "    .dataframe tbody tr th:only-of-type {\n",
       "        vertical-align: middle;\n",
       "    }\n",
       "\n",
       "    .dataframe tbody tr th {\n",
       "        vertical-align: top;\n",
       "    }\n",
       "\n",
       "    .dataframe thead th {\n",
       "        text-align: right;\n",
       "    }\n",
       "</style>\n",
       "<table border=\"1\" class=\"dataframe\">\n",
       "  <thead>\n",
       "    <tr style=\"text-align: right;\">\n",
       "      <th></th>\n",
       "      <th>actual</th>\n",
       "      <th>p(0)</th>\n",
       "      <th>p(1)</th>\n",
       "      <th>predicted</th>\n",
       "    </tr>\n",
       "  </thead>\n",
       "  <tbody>\n",
       "    <tr>\n",
       "      <th>26100</th>\n",
       "      <td>0</td>\n",
       "      <td>0.238096</td>\n",
       "      <td>0.761904</td>\n",
       "      <td>1</td>\n",
       "    </tr>\n",
       "    <tr>\n",
       "      <th>31920</th>\n",
       "      <td>1</td>\n",
       "      <td>0.238096</td>\n",
       "      <td>0.761904</td>\n",
       "      <td>1</td>\n",
       "    </tr>\n",
       "    <tr>\n",
       "      <th>22338</th>\n",
       "      <td>1</td>\n",
       "      <td>0.278802</td>\n",
       "      <td>0.721198</td>\n",
       "      <td>1</td>\n",
       "    </tr>\n",
       "    <tr>\n",
       "      <th>5279</th>\n",
       "      <td>0</td>\n",
       "      <td>0.212809</td>\n",
       "      <td>0.787191</td>\n",
       "      <td>1</td>\n",
       "    </tr>\n",
       "    <tr>\n",
       "      <th>32718</th>\n",
       "      <td>1</td>\n",
       "      <td>0.212809</td>\n",
       "      <td>0.787191</td>\n",
       "      <td>1</td>\n",
       "    </tr>\n",
       "  </tbody>\n",
       "</table>\n",
       "</div>"
      ],
      "text/plain": [
       "       actual      p(0)      p(1)  predicted\n",
       "26100       0  0.238096  0.761904          1\n",
       "31920       1  0.238096  0.761904          1\n",
       "22338       1  0.278802  0.721198          1\n",
       "5279        0  0.212809  0.787191          1\n",
       "32718       1  0.212809  0.787191          1"
      ]
     },
     "execution_count": 171,
     "metadata": {},
     "output_type": "execute_result"
    }
   ],
   "source": [
    "nb_result_tr = pd.DataFrame({'actual': y_train, \n",
    "                             'p(0)': [p[0] for p in predProb_train],\n",
    "                             'p(1)': [p[1] for p in predProb_train],\n",
    "                             'predicted': y_train_pred})\n",
    "nb_result_tr.head()"
   ]
  },
  {
   "cell_type": "code",
   "execution_count": 172,
   "metadata": {},
   "outputs": [
    {
     "data": {
      "text/plain": [
       "(array([ 9718.,     0.,     0.,     0.,  6003.,     0., 10348.,     0.,\n",
       "            0.,  6529.]),\n",
       " array([0.72119784, 0.72779711, 0.73439638, 0.74099566, 0.74759493,\n",
       "        0.75419421, 0.76079348, 0.76739275, 0.77399203, 0.7805913 ,\n",
       "        0.78719058]),\n",
       " <a list of 10 Patch objects>)"
      ]
     },
     "execution_count": 172,
     "metadata": {},
     "output_type": "execute_result"
    },
    {
     "data": {
      "image/png": "[encoded data removed]",
      "text/plain": [
       "<Figure size 432x288 with 1 Axes>"
      ]
     },
     "metadata": {
      "needs_background": "light"
     },
     "output_type": "display_data"
    }
   ],
   "source": [
    "plt.hist(predProb_train[:,1])"
   ]
  },
  {
   "cell_type": "code",
   "execution_count": 173,
   "metadata": {},
   "outputs": [],
   "source": [
    "# if we cut the probability values at 75%:\n",
    "ypredclass_tr2 = np.where(predProb_train[:,1] > 0.75, 1, 0)"
   ]
  },
  {
   "cell_type": "code",
   "execution_count": 174,
   "metadata": {},
   "outputs": [
    {
     "name": "stdout",
     "output_type": "stream",
     "text": [
      "Confusion Matrix (Accuracy 0.5287)\n",
      "\n",
      "       Prediction\n",
      "Actual short  long\n",
      " short  4213  3854\n",
      "  long 11508 13023\n"
     ]
    }
   ],
   "source": [
    "#Training performance with new cutoff\n",
    "classificationSummary(y_train, ypredclass_tr2, class_names=classes)"
   ]
  },
  {
   "cell_type": "code",
   "execution_count": 175,
   "metadata": {},
   "outputs": [
    {
     "data": {
      "text/plain": [
       "<matplotlib.axes._subplots.AxesSubplot at 0x24c5dfceb88>"
      ]
     },
     "execution_count": 175,
     "metadata": {},
     "output_type": "execute_result"
    },
    {
     "data": {
      "image/png": "[encoded data removed]",
      "text/plain": [
       "<Figure size 288x288 with 2 Axes>"
      ]
     },
     "metadata": {
      "needs_background": "light"
     },
     "output_type": "display_data"
    }
   ],
   "source": [
    "skplt.metrics.plot_confusion_matrix(y_train, ypredclass_tr2, figsize=(4,4), cmap=\"tab20b\")"
   ]
  },
  {
   "cell_type": "markdown",
   "metadata": {},
   "source": [
    "#### ROC curve"
   ]
  },
  {
   "cell_type": "code",
   "execution_count": 176,
   "metadata": {},
   "outputs": [
    {
     "name": "stdout",
     "output_type": "stream",
     "text": [
      "Area under the curve (AUC):\n",
      " 0.5\n"
     ]
    },
    {
     "data": {
      "image/png": "[encoded data removed]",
      "text/plain": [
       "<Figure size 432x288 with 1 Axes>"
      ]
     },
     "metadata": {
      "needs_background": "light"
     },
     "output_type": "display_data"
    }
   ],
   "source": [
    "skplt.metrics.plot_roc(y_train, predProb_train)\n",
    "print(\"Area under the curve (AUC):\\n\", roc_auc_score(y_train, y_train_pred))"
   ]
  },
  {
   "cell_type": "markdown",
   "metadata": {},
   "source": [
    "#### Gains and Lift Charts"
   ]
  },
  {
   "cell_type": "code",
   "execution_count": 178,
   "metadata": {},
   "outputs": [
    {
     "data": {
      "image/png": "[encoded data removed]",
      "text/plain": [
       "<Figure size 720x288 with 2 Axes>"
      ]
     },
     "metadata": {
      "needs_background": "light"
     },
     "output_type": "display_data"
    }
   ],
   "source": [
    "dfgains = nb_result_tr.sort_values(by='p(1)', ascending=False)\n",
    "fig, axes = plt.subplots(nrows=1, ncols=2, figsize=(10, 4))\n",
    "\n",
    "gainsChart(dfgains.actual, ax=axes[0])\n",
    "liftChart(dfgains['p(1)'], title=False, ax=axes[1])\n",
    "    \n",
    "plt.tight_layout()\n",
    "plt.show()"
   ]
  },
  {
   "cell_type": "markdown",
   "metadata": {},
   "source": [
    "<div style=\"text-align: right\"> <a href='#section_id0'>Back to top of Notebook</a></div>"
   ]
  },
  {
   "cell_type": "markdown",
   "metadata": {},
   "source": [
    "#### Variants of the algorithm\n",
    "* The available alogorithms for Naive Bayes in Scikit can [be found here](https://scikit-learn.org/stable/modules/naive_bayes.html)"
   ]
  },
  {
   "cell_type": "code",
   "execution_count": 179,
   "metadata": {},
   "outputs": [
    {
     "data": {
      "text/plain": [
       "ComplementNB(alpha=1.0, class_prior=None, fit_prior=True, norm=False)"
      ]
     },
     "execution_count": 179,
     "metadata": {},
     "output_type": "execute_result"
    }
   ],
   "source": [
    "reports_cnb = ComplementNB()\n",
    "reports_cnb.fit(X_train, y_train)"
   ]
  },
  {
   "cell_type": "code",
   "execution_count": 180,
   "metadata": {},
   "outputs": [
    {
     "name": "stdout",
     "output_type": "stream",
     "text": [
      "Confusion Matrix (Accuracy 0.5287)\n",
      "\n",
      "       Prediction\n",
      "Actual short  long\n",
      " short  4213  3854\n",
      "  long 11508 13023\n"
     ]
    }
   ],
   "source": [
    "#Training performance\n",
    "y_train_pred_cnb = reports_cnb.predict(X_train)\n",
    "classificationSummary(y_train, y_train_pred_cnb, class_names=classes)"
   ]
  },
  {
   "cell_type": "markdown",
   "metadata": {},
   "source": [
    "<div style=\"text-align: right\"> <a href='#section_id0'>Back to top of Notebook</a></div>"
   ]
  },
  {
   "cell_type": "markdown",
   "metadata": {},
   "source": [
    "<a id='section_id5'></a>\n",
    "### <span style=\"background-color:#B0E0E6\"> Using all variables according to Flight Delays Example</span>\n",
    "* Example from Chapter 8 of the [DMBA book](https://pitt.summon.serialssolutions.com/#!/search?bookMark=ePnHCXMw42JgAfZbU5khpymBDxSztADNrHEZgbYtA2tc0K0CXMBq3gRYkwA7SJwMSi6JJYkKueALERSATTUF6P2LxQqJoIM5QMcV8zCwpgGjI5WXgaWkqBRYcEq7uYY4e-iCDkeKhw50xAPTkpmJBejiIfyyKlhkYXM9QGVA95qYGQMA-383uA)"
   ]
  },
  {
   "cell_type": "code",
   "execution_count": 208,
   "metadata": {},
   "outputs": [],
   "source": [
    "df1 = pd.read_csv('sleeping.csv')"
   ]
  },
  {
   "cell_type": "code",
   "execution_count": 209,
   "metadata": {},
   "outputs": [
    {
     "data": {
      "text/html": [
       "<div>\n",
       "<style scoped>\n",
       "    .dataframe tbody tr th:only-of-type {\n",
       "        vertical-align: middle;\n",
       "    }\n",
       "\n",
       "    .dataframe tbody tr th {\n",
       "        vertical-align: top;\n",
       "    }\n",
       "\n",
       "    .dataframe thead th {\n",
       "        text-align: right;\n",
       "    }\n",
       "</style>\n",
       "<table border=\"1\" class=\"dataframe\">\n",
       "  <thead>\n",
       "    <tr style=\"text-align: right;\">\n",
       "      <th></th>\n",
       "      <th>sleeping</th>\n",
       "      <th>sex</th>\n",
       "      <th>race</th>\n",
       "      <th>sexharass</th>\n",
       "      <th>smoking</th>\n",
       "      <th>vegetables</th>\n",
       "      <th>soda</th>\n",
       "      <th>breakfast</th>\n",
       "      <th>computer</th>\n",
       "    </tr>\n",
       "  </thead>\n",
       "  <tbody>\n",
       "    <tr>\n",
       "      <th>0</th>\n",
       "      <td>1</td>\n",
       "      <td>2</td>\n",
       "      <td>4</td>\n",
       "      <td>4</td>\n",
       "      <td>4</td>\n",
       "      <td>3</td>\n",
       "      <td>2</td>\n",
       "      <td>3</td>\n",
       "      <td>3</td>\n",
       "    </tr>\n",
       "    <tr>\n",
       "      <th>1</th>\n",
       "      <td>1</td>\n",
       "      <td>2</td>\n",
       "      <td>3</td>\n",
       "      <td>1</td>\n",
       "      <td>1</td>\n",
       "      <td>2</td>\n",
       "      <td>1</td>\n",
       "      <td>1</td>\n",
       "      <td>2</td>\n",
       "    </tr>\n",
       "    <tr>\n",
       "      <th>2</th>\n",
       "      <td>1</td>\n",
       "      <td>2</td>\n",
       "      <td>4</td>\n",
       "      <td>1</td>\n",
       "      <td>1</td>\n",
       "      <td>1</td>\n",
       "      <td>1</td>\n",
       "      <td>1</td>\n",
       "      <td>1</td>\n",
       "    </tr>\n",
       "    <tr>\n",
       "      <th>3</th>\n",
       "      <td>3</td>\n",
       "      <td>2</td>\n",
       "      <td>4</td>\n",
       "      <td>1</td>\n",
       "      <td>1</td>\n",
       "      <td>3</td>\n",
       "      <td>5</td>\n",
       "      <td>5</td>\n",
       "      <td>4</td>\n",
       "    </tr>\n",
       "    <tr>\n",
       "      <th>4</th>\n",
       "      <td>3</td>\n",
       "      <td>2</td>\n",
       "      <td>4</td>\n",
       "      <td>1</td>\n",
       "      <td>6</td>\n",
       "      <td>2</td>\n",
       "      <td>6</td>\n",
       "      <td>5</td>\n",
       "      <td>7</td>\n",
       "    </tr>\n",
       "  </tbody>\n",
       "</table>\n",
       "</div>"
      ],
      "text/plain": [
       "   sleeping  sex  race  sexharass  smoking  vegetables  soda  breakfast  \\\n",
       "0         1    2     4          4        4           3     2          3   \n",
       "1         1    2     3          1        1           2     1          1   \n",
       "2         1    2     4          1        1           1     1          1   \n",
       "3         3    2     4          1        1           3     5          5   \n",
       "4         3    2     4          1        6           2     6          5   \n",
       "\n",
       "   computer  \n",
       "0         3  \n",
       "1         2  \n",
       "2         1  \n",
       "3         4  \n",
       "4         7  "
      ]
     },
     "execution_count": 209,
     "metadata": {},
     "output_type": "execute_result"
    }
   ],
   "source": [
    "df1.head()"
   ]
  },
  {
   "cell_type": "code",
   "execution_count": 210,
   "metadata": {},
   "outputs": [
    {
     "name": "stdout",
     "output_type": "stream",
     "text": [
      "<class 'pandas.core.frame.DataFrame'>\n",
      "RangeIndex: 36220 entries, 0 to 36219\n",
      "Data columns (total 9 columns):\n",
      " #   Column      Non-Null Count  Dtype\n",
      "---  ------      --------------  -----\n",
      " 0   sleeping    36220 non-null  int64\n",
      " 1   sex         36220 non-null  int64\n",
      " 2   race        36220 non-null  int64\n",
      " 3   sexharass   36220 non-null  int64\n",
      " 4   smoking     36220 non-null  int64\n",
      " 5   vegetables  36220 non-null  int64\n",
      " 6   soda        36220 non-null  int64\n",
      " 7   breakfast   36220 non-null  int64\n",
      " 8   computer    36220 non-null  int64\n",
      "dtypes: int64(9)\n",
      "memory usage: 2.5 MB\n"
     ]
    }
   ],
   "source": [
    "df1.info()"
   ]
  },
  {
   "cell_type": "code",
   "execution_count": 211,
   "metadata": {},
   "outputs": [
    {
     "data": {
      "text/html": [
       "<div>\n",
       "<style scoped>\n",
       "    .dataframe tbody tr th:only-of-type {\n",
       "        vertical-align: middle;\n",
       "    }\n",
       "\n",
       "    .dataframe tbody tr th {\n",
       "        vertical-align: top;\n",
       "    }\n",
       "\n",
       "    .dataframe thead th {\n",
       "        text-align: right;\n",
       "    }\n",
       "</style>\n",
       "<table border=\"1\" class=\"dataframe\">\n",
       "  <thead>\n",
       "    <tr style=\"text-align: right;\">\n",
       "      <th></th>\n",
       "      <th>sleeping</th>\n",
       "      <th>sex</th>\n",
       "      <th>race</th>\n",
       "      <th>sexharass</th>\n",
       "      <th>smoking</th>\n",
       "      <th>vegetables</th>\n",
       "      <th>soda</th>\n",
       "      <th>breakfast</th>\n",
       "      <th>computer</th>\n",
       "      <th>sleepcat</th>\n",
       "    </tr>\n",
       "  </thead>\n",
       "  <tbody>\n",
       "    <tr>\n",
       "      <th>0</th>\n",
       "      <td>1</td>\n",
       "      <td>2</td>\n",
       "      <td>4</td>\n",
       "      <td>4</td>\n",
       "      <td>4</td>\n",
       "      <td>3</td>\n",
       "      <td>2</td>\n",
       "      <td>3</td>\n",
       "      <td>3</td>\n",
       "      <td>short</td>\n",
       "    </tr>\n",
       "    <tr>\n",
       "      <th>1</th>\n",
       "      <td>1</td>\n",
       "      <td>2</td>\n",
       "      <td>3</td>\n",
       "      <td>1</td>\n",
       "      <td>1</td>\n",
       "      <td>2</td>\n",
       "      <td>1</td>\n",
       "      <td>1</td>\n",
       "      <td>2</td>\n",
       "      <td>short</td>\n",
       "    </tr>\n",
       "    <tr>\n",
       "      <th>2</th>\n",
       "      <td>1</td>\n",
       "      <td>2</td>\n",
       "      <td>4</td>\n",
       "      <td>1</td>\n",
       "      <td>1</td>\n",
       "      <td>1</td>\n",
       "      <td>1</td>\n",
       "      <td>1</td>\n",
       "      <td>1</td>\n",
       "      <td>short</td>\n",
       "    </tr>\n",
       "  </tbody>\n",
       "</table>\n",
       "</div>"
      ],
      "text/plain": [
       "   sleeping  sex  race  sexharass  smoking  vegetables  soda  breakfast  \\\n",
       "0         1    2     4          4        4           3     2          3   \n",
       "1         1    2     3          1        1           2     1          1   \n",
       "2         1    2     4          1        1           1     1          1   \n",
       "\n",
       "   computer sleepcat  \n",
       "0         3    short  \n",
       "1         2    short  \n",
       "2         1    short  "
      ]
     },
     "execution_count": 211,
     "metadata": {},
     "output_type": "execute_result"
    }
   ],
   "source": [
    "# inserting a health_category column\n",
    "df1['sleepcat']=pd.cut(df1['sleeping'], bins=[0,4,8], labels=['short', 'long']) # 0 = short, 1 =long\n",
    "df1.head(3)"
   ]
  },
  {
   "cell_type": "code",
   "execution_count": 212,
   "metadata": {},
   "outputs": [],
   "source": [
    "df1.drop(columns=['sleeping'], inplace=True) # no need to do this"
   ]
  },
  {
   "cell_type": "code",
   "execution_count": 213,
   "metadata": {},
   "outputs": [
    {
     "data": {
      "text/plain": [
       "Index(['sex', 'race', 'sexharass', 'smoking', 'vegetables', 'soda',\n",
       "       'breakfast', 'computer', 'sleepcat'],\n",
       "      dtype='object')"
      ]
     },
     "execution_count": 213,
     "metadata": {},
     "output_type": "execute_result"
    }
   ],
   "source": [
    "df1.columns"
   ]
  },
  {
   "cell_type": "markdown",
   "metadata": {},
   "source": [
    "#### Begin with our usual first step: exploratory analysis"
   ]
  },
  {
   "cell_type": "code",
   "execution_count": 214,
   "metadata": {},
   "outputs": [
    {
     "data": {
      "image/png": "[encoded data removed]",
      "text/plain": [
       "<Figure size 432x288 with 1 Axes>"
      ]
     },
     "metadata": {
      "needs_background": "light"
     },
     "output_type": "display_data"
    }
   ],
   "source": [
    "#Exploring average sleeping hours by days of eating breakfast a week\n",
    "short_df1=df1\n",
    "# Create an indicator variable\n",
    "short_df1['isLong'] = [1 if status == 'long' else 0 for status in short_df1['sleepcat']]\n",
    "\n",
    "# group information by day of week and determine the average delay\n",
    "averageShort = short_df1.groupby(['breakfast'])['isLong'].mean()\n",
    "\n",
    "# create a bar chart\n",
    "ax = averageShort.plot.bar(color='C0')\n",
    "ax.set_xlabel('Days of eating breakfast per week')\n",
    "ax.set_ylabel('Average Short sleep hours')\n",
    "_ = ax.set_xticklabels(['0 day', '1 day', '2 days', '3 days', '4 days', '5 days', '6 days', '7 days'])"
   ]
  },
  {
   "cell_type": "code",
   "execution_count": 215,
   "metadata": {},
   "outputs": [
    {
     "data": {
      "image/png": "[encoded data removed]",
      "text/plain": [
       "<Figure size 432x288 with 1 Axes>"
      ]
     },
     "metadata": {
      "needs_background": "light"
     },
     "output_type": "display_data"
    }
   ],
   "source": [
    "#Exploring average sleeping hours by days of eating breakfast a week\n",
    "short_df1=df1\n",
    "# Create an indicator variable\n",
    "short_df1['isLong'] = [1 if status == 'long' else 0 for status in short_df1['sleepcat']]\n",
    "\n",
    "# group information by day of week and determine the average delay\n",
    "averageShort = short_df1.groupby(['smoking'])['isLong'].mean()\n",
    "\n",
    "# create a bar chart\n",
    "ax = averageShort.plot.bar(color='C0')\n",
    "ax.set_xlabel('Days of smoking last week')\n",
    "ax.set_ylabel('Average Short sleep hours')\n",
    "_ = ax.set_xticklabels(['0 day', '1-2 days', '3-5 days', '6-9 days', '10-19 days', '20-29 days', 'all 30 days'])"
   ]
  },
  {
   "cell_type": "code",
   "execution_count": 216,
   "metadata": {},
   "outputs": [],
   "source": [
    "#Functions to draw more graphs and adding tweaks\n",
    "def createGraph(group, xlabel, axis):\n",
    "    groupAverage = short_df1.groupby([group])['isLong'].mean()\n",
    "    \n",
    "    ax = groupAverage.plot.bar(color='C0', ax=axis)\n",
    "    ax.set_ylabel('Average sleeping hours')\n",
    "    ax.set_xlabel(xlabel)\n",
    "    return ax\n"
   ]
  },
  {
   "cell_type": "code",
   "execution_count": 217,
   "metadata": {},
   "outputs": [
    {
     "data": {
      "image/png": "[encoded data removed]",
      "text/plain": [
       "<Figure size 864x720 with 6 Axes>"
      ]
     },
     "metadata": {
      "needs_background": "light"
     },
     "output_type": "display_data"
    }
   ],
   "source": [
    "#plot the graphs using the above functions:\n",
    "\n",
    "fig, axes = plt.subplots(nrows=3, ncols=2, figsize=(12, 10))\n",
    "createGraph('breakfast', 'days eating breakfast per week', axis=axes[0][0])\n",
    "createGraph('vegetables', 'times eating other vegetables last week', axis=axes[0][1])\n",
    "createGraph('soda', 'times drinking soda last week', axis=axes[1][0])\n",
    "createGraph('computer', 'hours of playing computers per shool night', axis=axes[1][1])\n",
    "createGraph('sexharass', 'times of having sexual harassment last year', axis=axes[2][0])\n",
    "createGraph('smoking', 'days of smoking cigarettes last month', axis=axes[2][1])\n",
    "plt.tight_layout()\n",
    "\n",
    "plt.show()"
   ]
  },
  {
   "cell_type": "markdown",
   "metadata": {},
   "source": [
    "* On average, the more vegetables or breakfast students eat per week, the longer they sleep per school night.\n",
    "* On average, students who haven't being sexually harrassed sleep more than those had such experience.\n",
    "* On average, the more frequently students smoking cigarettes or drinking soda, the shorter they sleep per school night. "
   ]
  },
  {
   "cell_type": "markdown",
   "metadata": {},
   "source": [
    "<div style=\"text-align: right\"> <a href='#section_id0'>Back to top of Notebook</a></div>"
   ]
  },
  {
   "cell_type": "markdown",
   "metadata": {},
   "source": [
    "#### Next, organize the data for Naive Bayes"
   ]
  },
  {
   "cell_type": "code",
   "execution_count": 218,
   "metadata": {},
   "outputs": [
    {
     "data": {
      "text/html": [
       "<div>\n",
       "<style scoped>\n",
       "    .dataframe tbody tr th:only-of-type {\n",
       "        vertical-align: middle;\n",
       "    }\n",
       "\n",
       "    .dataframe tbody tr th {\n",
       "        vertical-align: top;\n",
       "    }\n",
       "\n",
       "    .dataframe thead th {\n",
       "        text-align: right;\n",
       "    }\n",
       "</style>\n",
       "<table border=\"1\" class=\"dataframe\">\n",
       "  <thead>\n",
       "    <tr style=\"text-align: right;\">\n",
       "      <th></th>\n",
       "      <th>sex</th>\n",
       "      <th>race</th>\n",
       "      <th>sexharass</th>\n",
       "      <th>smoking</th>\n",
       "      <th>vegetables</th>\n",
       "      <th>soda</th>\n",
       "      <th>breakfast</th>\n",
       "      <th>computer</th>\n",
       "      <th>sleepcat</th>\n",
       "      <th>isLong</th>\n",
       "    </tr>\n",
       "  </thead>\n",
       "  <tbody>\n",
       "    <tr>\n",
       "      <th>0</th>\n",
       "      <td>2</td>\n",
       "      <td>4</td>\n",
       "      <td>4</td>\n",
       "      <td>4</td>\n",
       "      <td>3</td>\n",
       "      <td>2</td>\n",
       "      <td>3</td>\n",
       "      <td>3</td>\n",
       "      <td>short</td>\n",
       "      <td>0</td>\n",
       "    </tr>\n",
       "    <tr>\n",
       "      <th>1</th>\n",
       "      <td>2</td>\n",
       "      <td>3</td>\n",
       "      <td>1</td>\n",
       "      <td>1</td>\n",
       "      <td>2</td>\n",
       "      <td>1</td>\n",
       "      <td>1</td>\n",
       "      <td>2</td>\n",
       "      <td>short</td>\n",
       "      <td>0</td>\n",
       "    </tr>\n",
       "    <tr>\n",
       "      <th>2</th>\n",
       "      <td>2</td>\n",
       "      <td>4</td>\n",
       "      <td>1</td>\n",
       "      <td>1</td>\n",
       "      <td>1</td>\n",
       "      <td>1</td>\n",
       "      <td>1</td>\n",
       "      <td>1</td>\n",
       "      <td>short</td>\n",
       "      <td>0</td>\n",
       "    </tr>\n",
       "  </tbody>\n",
       "</table>\n",
       "</div>"
      ],
      "text/plain": [
       "   sex  race  sexharass  smoking  vegetables  soda  breakfast  computer  \\\n",
       "0    2     4          4        4           3     2          3         3   \n",
       "1    2     3          1        1           2     1          1         2   \n",
       "2    2     4          1        1           1     1          1         1   \n",
       "\n",
       "  sleepcat  isLong  \n",
       "0    short       0  \n",
       "1    short       0  \n",
       "2    short       0  "
      ]
     },
     "execution_count": 218,
     "metadata": {},
     "output_type": "execute_result"
    }
   ],
   "source": [
    "short_df1.head(3)"
   ]
  },
  {
   "cell_type": "code",
   "execution_count": 219,
   "metadata": {},
   "outputs": [],
   "source": [
    "# convert to categorical\n",
    "short_df1.sex = short_df1.sex.astype('category')\n",
    "short_df1.race = short_df1.race.astype('category')\n",
    "short_df1.sexharass = short_df1.sexharass.astype('category')\n",
    "short_df1.smoking = short_df1.smoking.astype('category')\n",
    "short_df1.vegetables = short_df1.vegetables.astype('category')\n",
    "short_df1.soda = short_df1.soda.astype('category')\n",
    "short_df1.breakfast = short_df1.breakfast.astype('category')\n",
    "short_df1.computer = short_df1.computer.astype('category')\n",
    "\n"
   ]
  },
  {
   "cell_type": "code",
   "execution_count": 230,
   "metadata": {},
   "outputs": [],
   "source": [
    "predictors = ['sex', 'race', 'sexharass', 'smoking', 'vegetables', 'soda', 'breakfast', 'computer']\n",
    "outcome = 'sleepcat'\n",
    "X = pd.get_dummies(short_df1[predictors])\n",
    "y = (short_df1[outcome] == 'long').astype(int)\n",
    "classes = ['long', 'short']"
   ]
  },
  {
   "cell_type": "markdown",
   "metadata": {},
   "source": [
    "#### Train the model"
   ]
  },
  {
   "cell_type": "code",
   "execution_count": 231,
   "metadata": {},
   "outputs": [],
   "source": [
    "# split into training and validation\n",
    "X_train, X_valid, y_train, y_valid = train_test_split(X, y, test_size=0.40, random_state=1)"
   ]
  },
  {
   "cell_type": "code",
   "execution_count": 232,
   "metadata": {},
   "outputs": [
    {
     "data": {
      "text/plain": [
       "MultinomialNB(alpha=0.01, class_prior=None, fit_prior=True)"
      ]
     },
     "execution_count": 232,
     "metadata": {},
     "output_type": "execute_result"
    }
   ],
   "source": [
    "# run naive Bayes\n",
    "satisf_nb = MultinomialNB(alpha=0.01)\n",
    "satisf_nb.fit(X_train, y_train)"
   ]
  },
  {
   "cell_type": "code",
   "execution_count": 233,
   "metadata": {},
   "outputs": [
    {
     "data": {
      "text/plain": [
       "MultinomialNB(alpha=0.01, class_prior=None, fit_prior=True)"
      ]
     },
     "execution_count": 233,
     "metadata": {},
     "output_type": "execute_result"
    }
   ],
   "source": [
    "# run naive Bayes\n",
    "satisf_nb = MultinomialNB(alpha=0.01)\n",
    "satisf_nb.fit(X_train, y_train)"
   ]
  },
  {
   "cell_type": "code",
   "execution_count": 234,
   "metadata": {},
   "outputs": [
    {
     "name": "stdout",
     "output_type": "stream",
     "text": [
      "Confusion Matrix (Accuracy 0.7530)\n",
      "\n",
      "       Prediction\n",
      "Actual  long short\n",
      "  long 16254   136\n",
      " short  5232   110\n"
     ]
    }
   ],
   "source": [
    "# Training Performance \n",
    "predProb_train = satisf_nb.predict_proba(X_train)\n",
    "y_train_pred = satisf_nb.predict(X_train)\n",
    "classificationSummary(y_train, y_train_pred, class_names=classes) "
   ]
  },
  {
   "cell_type": "markdown",
   "metadata": {},
   "source": [
    "#### Peformance of the model in the test dataset"
   ]
  },
  {
   "cell_type": "code",
   "execution_count": 235,
   "metadata": {},
   "outputs": [
    {
     "name": "stdout",
     "output_type": "stream",
     "text": [
      "Confusion Matrix (Accuracy 0.7475)\n",
      "\n",
      "       Prediction\n",
      "Actual  long short\n",
      "  long 10759    83\n",
      " short  3575    71\n"
     ]
    }
   ],
   "source": [
    "#Testing performance:\n",
    "predProb_valid = satisf_nb.predict_proba(X_valid)\n",
    "y_valid_pred = satisf_nb.predict(X_valid)\n",
    "classificationSummary(y_valid, y_valid_pred, class_names=classes)"
   ]
  },
  {
   "cell_type": "code",
   "execution_count": 236,
   "metadata": {},
   "outputs": [
    {
     "data": {
      "text/plain": [
       "<matplotlib.axes._subplots.AxesSubplot at 0x24c5f7cae48>"
      ]
     },
     "execution_count": 236,
     "metadata": {},
     "output_type": "execute_result"
    },
    {
     "data": {
      "image/png": "[encoded data removed]",
      "text/plain": [
       "<Figure size 288x288 with 2 Axes>"
      ]
     },
     "metadata": {
      "needs_background": "light"
     },
     "output_type": "display_data"
    }
   ],
   "source": [
    "skplt.metrics.plot_confusion_matrix(y_valid, y_valid_pred, figsize=(4,4), cmap=\"gist_yarg\")"
   ]
  },
  {
   "cell_type": "markdown",
   "metadata": {},
   "source": [
    "<Mark>Interpretation:</Mark> We see that the model resulted in 75% accuracy of classifying sleeping duration. 71 out of the 3646 students with sufficient sleep were correctly identified by the model. It missed 3575 others who had sufficient sleep, and wrongly identifed 83 as having sufficient sleep.<br>"
   ]
  },
  {
   "cell_type": "code",
   "execution_count": 237,
   "metadata": {},
   "outputs": [
    {
     "name": "stdout",
     "output_type": "stream",
     "text": [
      "Area under the curve (AUC):\n",
      " 0.5059089906858428\n"
     ]
    },
    {
     "data": {
      "image/png": "[encoded data removed]",
      "text/plain": [
       "<Figure size 432x288 with 1 Axes>"
      ]
     },
     "metadata": {
      "needs_background": "light"
     },
     "output_type": "display_data"
    }
   ],
   "source": [
    "skplt.metrics.plot_roc(y_valid, predProb_valid)\n",
    "print(\"Area under the curve (AUC):\\n\", roc_auc_score(y_valid, y_valid_pred))"
   ]
  },
  {
   "cell_type": "code",
   "execution_count": 238,
   "metadata": {},
   "outputs": [
    {
     "data": {
      "image/png": "[encoded data removed]",
      "text/plain": [
       "<Figure size 720x288 with 2 Axes>"
      ]
     },
     "metadata": {
      "needs_background": "light"
     },
     "output_type": "display_data"
    }
   ],
   "source": [
    "nb_delay_tt = pd.DataFrame({'actual': y_valid, \n",
    "                             'p(0)': [p[0] for p in predProb_valid],\n",
    "                             'p(1)': [p[1] for p in predProb_valid],\n",
    "                             'predicted': y_valid_pred})\n",
    "nb_delay_tt.head()\n",
    "\n",
    "\n",
    "dfgains1 = nb_delay_tt.sort_values(by='p(1)', ascending=False)\n",
    "fig, axes = plt.subplots(nrows=1, ncols=2, figsize=(10, 4))\n",
    "\n",
    "gainsChart(dfgains1.actual, ax=axes[0])\n",
    "liftChart(dfgains1['p(1)'], title=False, ax=axes[1])\n",
    "    \n",
    "plt.tight_layout()\n",
    "plt.show()"
   ]
  },
  {
   "cell_type": "markdown",
   "metadata": {},
   "source": [
    "<a id='section_id6'></a>\n",
    "### <span style=\"background-color:#B0E0E6\">References:</span>"
   ]
  },
  {
   "cell_type": "markdown",
   "metadata": {},
   "source": [
    "* Chapter 8 of _Datamining for Business Analytics_. [Access through Pitt library](https://pitt.summon.serialssolutions.com/#!/search?bookMark=ePnHCXMw42JgAfZbU5khpymBDxSztADNrHEZgbYtA2tc0K0CXMBq3gRYkwA7SJwMSi6JJYkKueALERSATTUF6P2LxQqJoIM5QMcV8zCwpgGjI5WXgaWkqBRYcEq7uYY4e-iCDkeKhw50xAPTkpmJBejiIfyyKlhkYXM9QGVA95qYGQMA-383uA)\n",
    "* An intuitive cartoon-based [introduction to Bayesian Statistics](https://faculty.washington.edu/kenrice/BayesIntroClassEpi2018.pdf) by Professor Rice\n",
    "* Third edition of [Bayesian Data Analysis](http://www.stat.columbia.edu/~gelman/book/BDA3.pdf) by Gelman, Carlin, Dunson, and Rubin\n",
    "\n",
    "***\n",
    "<font color=\"#610B21\"><center>\\~\\~ End of Part-5. We'll discuss decision tree approaches in Part-6\\~\\~ </center>\n",
    "<font color=\"#0B610B\"><center>*** See you later! *** </center>\n",
    "***"
   ]
  },
  {
   "cell_type": "code",
   "execution_count": null,
   "metadata": {},
   "outputs": [],
   "source": []
  }
 ],
 "metadata": {
  "kernelspec": {
   "display_name": "Python 3",
   "language": "python",
   "name": "python3"
  },
  "language_info": {
   "codemirror_mode": {
    "name": "ipython",
    "version": 3
   },
   "file_extension": ".py",
   "mimetype": "text/x-python",
   "name": "python",
   "nbconvert_exporter": "python",
   "pygments_lexer": "ipython3",
   "version": "3.7.6"
  }
 },
 "nbformat": 4,
 "nbformat_minor": 4
}
