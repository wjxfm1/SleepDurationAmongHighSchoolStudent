{
 "cells": [
  {
   "cell_type": "markdown",
   "metadata": {},
   "source": [
    "<a id='section_id0'></a>\n",
    "# Data Programming Essentials *with Python*\n",
    "\n",
    "## Part 4-Modeling 3 : KNN\n",
    "\n",
    "<font color=\"#740202\">**Table of contents:**\n",
    "\n",
    "|No.|Topic||No.|Topic||No.|Topic|\n",
    "|:------|:------||:------|:------||:------|:------|\n",
    "|1.|[Key Libraries](#section_id1)||2.|[Regression-Sleeping dataset](#section_id3)  |\n",
    "|3.|[Classification method](#section_id4)  ||4.|[Mapping Neighbors](#section_id5)  ||5.|[References](#section_id6)  |\n",
    "\n",
    "***"
   ]
  },
  {
   "cell_type": "markdown",
   "metadata": {},
   "source": [
    "<a id='section_id1'></a>\n",
    "### <span style=\"background-color:#B0E0E6\">Key libraries</span>\n",
    "* We'll use the [Nearest Neighbors](https://scikit-learn.org/stable/modules/neighbors.html) module of scikit-learn\n",
    "* [KNeighborsClassifier](https://scikit-learn.org/stable/modules/generated/sklearn.neighbors.KNeighborsClassifier.html#sklearn.neighbors.KNeighborsClassifier) implements classification using a simple majority vote of the nearest neighbors\n",
    "* [KNeighborsRegressor](https://scikit-learn.org/stable/modules/generated/sklearn.neighbors.KNeighborsRegressor.html#sklearn.neighbors.KNeighborsRegressor) assigns values based on the mean of the values of the nearest neighbors to a data point."
   ]
  },
  {
   "cell_type": "code",
   "execution_count": 1,
   "metadata": {},
   "outputs": [
    {
     "name": "stdout",
     "output_type": "stream",
     "text": [
      "no display found. Using non-interactive Agg backend\n"
     ]
    }
   ],
   "source": [
    "import pandas as pd\n",
    "import numpy as np\n",
    "import scipy.stats as stats\n",
    "\n",
    "# for KNN:\n",
    "from sklearn.neighbors import NearestNeighbors\n",
    "from sklearn.neighbors import KNeighborsClassifier\n",
    "from sklearn.neighbors import KNeighborsRegressor\n",
    "\n",
    "#for model evaluation and pre-processing tools:\n",
    "import statsmodels.api as sm\n",
    "from sklearn import preprocessing\n",
    "from sklearn.model_selection import KFold\n",
    "from sklearn.metrics import mean_squared_error, r2_score\n",
    "from sklearn.metrics import confusion_matrix, classification_report, precision_score, \\\n",
    "                            accuracy_score, roc_curve, roc_auc_score\n",
    "from sklearn.model_selection import train_test_split, cross_validate, cross_val_score\n",
    "\n",
    "#for plotting confusion matrix:\n",
    "import scikitplot as skplt\n",
    "\n",
    "#utility tools of the DMBA book. \n",
    "from dmba import regressionSummary, exhaustive_search\n",
    "from dmba import backward_elimination, forward_selection, stepwise_selection\n",
    "from dmba import adjusted_r2_score, AIC_score, BIC_score\n",
    "from dmba import classificationSummary, gainsChart, liftChart\n",
    "\n",
    "# visualization and tuning the aesthetics\n",
    "import matplotlib.pylab as plt\n",
    "import seaborn as sns\n",
    "%matplotlib inline\n",
    "sns.set_style(\"whitegrid\")\n",
    "sns.set_context(\"notebook\", font_scale=1, rc={\"lines.linewidth\": 2,'font.family': [u'times']})\n",
    "plt.style.use('seaborn-whitegrid')\n",
    "plt.rc('text', usetex = False)\n",
    "plt.rc('font', family = 'serif')\n",
    "plt.rc('xtick', labelsize = 10) \n",
    "plt.rc('ytick', labelsize = 10) \n",
    "plt.rc('font', size = 12) \n",
    "plt.rc('figure', figsize = (6, 5))"
   ]
  },
  {
   "cell_type": "markdown",
   "metadata": {},
   "source": [
    "<div style=\"text-align: right\"> <a href='#section_id0'>Back to top of Notebook</a></div>"
   ]
  },
  {
   "cell_type": "markdown",
   "metadata": {},
   "source": [
    "<a id='section_id3'></a>\n",
    "### <span style=\"background-color:#B0E0E6\">Regression-sleeping dataset</span>"
   ]
  },
  {
   "cell_type": "markdown",
   "metadata": {},
   "source": [
    "|Variable|Description|\n",
    "|:------|:------|\n",
    "|sleeping|sleep hours on an average shcool night: 1=<4 hrs, 2=5 hrs, 3=6 hrs, 4=7 hrs, 5=8 hrs, 6=9 hrs, 7= >=10 hrs|\n",
    "|sex|1=Female, 2=Male|\n",
    "|race|1=White, 2=Black or African American, 3=Hispanic/Latino, 4=All other races|\n",
    "|sexharass|sexual harassment during the past 12 months: 1=0 times, 2=1 time, 3=2 or 3 times, 4=4 or 5 times, 5=6 or more times|\n",
    "|smoking|smoke cigarettes during the past 30 days: 1=0 days, 2=1 or 2 days, 3=3 to 5 days, 4= 6 to 9 days, 5=10 to 19 days, 6=20 to 29 days, 7=all 30 days|\n",
    "|vegetables|eating other vegetables(do not count green salad, potatoes, or carrots) during the past 7 days: 1=0 times, 2=1 to 3 times, 3=4 to 6 times, 4=1 time/day, 5=2 times/day, 6=3 times/day, 7=>= 4 times/day|\n",
    "|soda|drinking soda or pop during past 7 days: 1= 0 times, 2=1 to 3 times, 3=4 to 6 times, 4=1 time/day, 5=2 times/day, 6=3 times/day, 7=>=4 times/day |\n",
    "|breakfast|days of eating breakfast per week: 1=0 day, 2=1 day, 3=2 days, 4=3 days, 5= 4 days, 6=5 days, 7=6 days, 8= 7 days|\n",
    "|computer|hours of playing computer games or something that is not school work per day: 1=0 hrs, 2=<1 hr, 3=1 hr, 4=2 hrs, 5=3 hrs, 6=4 hrs, 7=>=5 hrs|"
   ]
  },
  {
   "cell_type": "code",
   "execution_count": 2,
   "metadata": {},
   "outputs": [],
   "source": [
    "df1 = pd.read_csv('sleeping.csv')"
   ]
  },
  {
   "cell_type": "code",
   "execution_count": 3,
   "metadata": {},
   "outputs": [
    {
     "data": {
      "text/html": [
       "<div>\n",
       "<style scoped>\n",
       "    .dataframe tbody tr th:only-of-type {\n",
       "        vertical-align: middle;\n",
       "    }\n",
       "\n",
       "    .dataframe tbody tr th {\n",
       "        vertical-align: top;\n",
       "    }\n",
       "\n",
       "    .dataframe thead th {\n",
       "        text-align: right;\n",
       "    }\n",
       "</style>\n",
       "<table border=\"1\" class=\"dataframe\">\n",
       "  <thead>\n",
       "    <tr style=\"text-align: right;\">\n",
       "      <th></th>\n",
       "      <th>sleeping</th>\n",
       "      <th>sex</th>\n",
       "      <th>race</th>\n",
       "      <th>sexharass</th>\n",
       "      <th>smoking</th>\n",
       "      <th>vegetables</th>\n",
       "      <th>soda</th>\n",
       "      <th>breakfast</th>\n",
       "      <th>computer</th>\n",
       "    </tr>\n",
       "  </thead>\n",
       "  <tbody>\n",
       "    <tr>\n",
       "      <th>0</th>\n",
       "      <td>1</td>\n",
       "      <td>2</td>\n",
       "      <td>4</td>\n",
       "      <td>4</td>\n",
       "      <td>4</td>\n",
       "      <td>3</td>\n",
       "      <td>2</td>\n",
       "      <td>3</td>\n",
       "      <td>3</td>\n",
       "    </tr>\n",
       "    <tr>\n",
       "      <th>1</th>\n",
       "      <td>1</td>\n",
       "      <td>2</td>\n",
       "      <td>3</td>\n",
       "      <td>1</td>\n",
       "      <td>1</td>\n",
       "      <td>2</td>\n",
       "      <td>1</td>\n",
       "      <td>1</td>\n",
       "      <td>2</td>\n",
       "    </tr>\n",
       "    <tr>\n",
       "      <th>2</th>\n",
       "      <td>1</td>\n",
       "      <td>2</td>\n",
       "      <td>4</td>\n",
       "      <td>1</td>\n",
       "      <td>1</td>\n",
       "      <td>1</td>\n",
       "      <td>1</td>\n",
       "      <td>1</td>\n",
       "      <td>1</td>\n",
       "    </tr>\n",
       "  </tbody>\n",
       "</table>\n",
       "</div>"
      ],
      "text/plain": [
       "   sleeping  sex  race  sexharass  smoking  vegetables  soda  breakfast  \\\n",
       "0         1    2     4          4        4           3     2          3   \n",
       "1         1    2     3          1        1           2     1          1   \n",
       "2         1    2     4          1        1           1     1          1   \n",
       "\n",
       "   computer  \n",
       "0         3  \n",
       "1         2  \n",
       "2         1  "
      ]
     },
     "execution_count": 3,
     "metadata": {},
     "output_type": "execute_result"
    }
   ],
   "source": [
    "df1.head(3)"
   ]
  },
  {
   "cell_type": "code",
   "execution_count": 4,
   "metadata": {},
   "outputs": [],
   "source": [
    "# First, scale the predictors and predicted variables:\n",
    "Xp=preprocessing.scale(df1[['sex', 'race', 'sexharass', 'smoking', 'vegetables', 'soda', 'breakfast',\n",
    "                            'computer']]).astype('float64')\n",
    "Yp=preprocessing.scale(df1.sleeping).astype('float64')#scaling"
   ]
  },
  {
   "cell_type": "code",
   "execution_count": 5,
   "metadata": {},
   "outputs": [
    {
     "name": "stdout",
     "output_type": "stream",
     "text": [
      "(27165, 8) (27165,)\n",
      "(9055, 8) (9055,)\n"
     ]
    }
   ],
   "source": [
    "# Set aside a portion (e.g., 25%) of data for out-of-training-sample testing.\n",
    "\n",
    "X3p_train, X3p_test, Y3p_train, Y3p_test = train_test_split(Xp, Yp, \\\n",
    "                                                            test_size=0.25, random_state=7)\n",
    "print(X3p_train.shape, Y3p_train.shape)\n",
    "print(X3p_test.shape, Y3p_test.shape)"
   ]
  },
  {
   "cell_type": "code",
   "execution_count": 6,
   "metadata": {},
   "outputs": [],
   "source": [
    "# Define the KNN model parameters\n",
    "knn_rcv = KNeighborsRegressor(n_neighbors=4, weights='uniform') \n",
    "# use 4 nearest neighbors weighted uniformly"
   ]
  },
  {
   "cell_type": "markdown",
   "metadata": {},
   "source": [
    "More parameters to tweak are available in [the module](https://scikit-learn.org/stable/modules/generated/sklearn.neighbors.KNeighborsRegressor.html), and we can use it to fine tune the models later."
   ]
  },
  {
   "cell_type": "code",
   "execution_count": 7,
   "metadata": {},
   "outputs": [
    {
     "data": {
      "text/plain": [
       "KNeighborsRegressor(algorithm='auto', leaf_size=30, metric='minkowski',\n",
       "                    metric_params=None, n_jobs=None, n_neighbors=4, p=2,\n",
       "                    weights='uniform')"
      ]
     },
     "execution_count": 7,
     "metadata": {},
     "output_type": "execute_result"
    }
   ],
   "source": [
    "# fit the KNN model using training sample\n",
    "knn_rcv.fit(X3p_train, Y3p_train)"
   ]
  },
  {
   "cell_type": "code",
   "execution_count": 8,
   "metadata": {},
   "outputs": [],
   "source": [
    "# how does the model perform in training?\n",
    "knn_prediction_reg=knn_rcv.predict(X3p_train) \n",
    "#get the predictions using training data"
   ]
  },
  {
   "cell_type": "code",
   "execution_count": 9,
   "metadata": {},
   "outputs": [
    {
     "data": {
      "text/plain": [
       "0.8892321867404388"
      ]
     },
     "execution_count": 9,
     "metadata": {},
     "output_type": "execute_result"
    }
   ],
   "source": [
    "np.sqrt(np.square(Y3p_train-knn_prediction_reg).mean()) \n",
    "#average error of prediction in training data."
   ]
  },
  {
   "cell_type": "code",
   "execution_count": 10,
   "metadata": {},
   "outputs": [
    {
     "data": {
      "text/plain": [
       "0.8892321867404388"
      ]
     },
     "execution_count": 10,
     "metadata": {},
     "output_type": "execute_result"
    }
   ],
   "source": [
    "import statsmodels.api as sm\n",
    "sm.tools.eval_measures.rmse(Y3p_train, knn_prediction_reg, axis=0)"
   ]
  },
  {
   "cell_type": "code",
   "execution_count": 11,
   "metadata": {},
   "outputs": [
    {
     "name": "stdout",
     "output_type": "stream",
     "text": [
      "\n",
      "Regression statistics\n",
      "\n",
      "                      Mean Error (ME) : -0.0037\n",
      "       Root Mean Squared Error (RMSE) : 0.8892\n",
      "            Mean Absolute Error (MAE) : 0.7026\n",
      "          Mean Percentage Error (MPE) : 71.6318\n",
      "Mean Absolute Percentage Error (MAPE) : 98.3992\n"
     ]
    }
   ],
   "source": [
    "# We can also use this handy function from the DMBA package to print all the metrics in one go.\n",
    "regressionSummary(Y3p_train, knn_prediction_reg)"
   ]
  },
  {
   "cell_type": "markdown",
   "metadata": {},
   "source": [
    "<Mark>Note:</Mark> After scaling, the units of the variables are not aligned with the original measurements. We see that the KNN regression produces an RMSE of about 0.89 units of scaled sleeping hours. To interpret the results in the original units of satisfaction degree, we need to rescale the predictions."
   ]
  },
  {
   "cell_type": "code",
   "execution_count": 12,
   "metadata": {},
   "outputs": [
    {
     "data": {
      "text/plain": [
       "count    36220.000000\n",
       "mean         3.508007\n",
       "std          1.398969\n",
       "min          1.000000\n",
       "25%          3.000000\n",
       "50%          4.000000\n",
       "75%          4.000000\n",
       "max          7.000000\n",
       "Name: sleeping, dtype: float64"
      ]
     },
     "execution_count": 12,
     "metadata": {},
     "output_type": "execute_result"
    }
   ],
   "source": [
    "df1.sleeping.describe()"
   ]
  },
  {
   "cell_type": "code",
   "execution_count": 13,
   "metadata": {},
   "outputs": [],
   "source": [
    "#to rescale the predicted values, we need to first fit the original scaler:\n",
    "data = df1.sleeping.values\n",
    "scaler = preprocessing.StandardScaler()\n",
    "scaler.fit(data.reshape(-1, 1)) #reshaping is needed for 1-dimensional arrays\n",
    "scaled = scaler.transform(data.reshape(-1, 1))\n",
    "# for inverse transformation\n",
    "inversedpredictions = scaler.inverse_transform(knn_prediction_reg)"
   ]
  },
  {
   "cell_type": "code",
   "execution_count": 14,
   "metadata": {},
   "outputs": [
    {
     "name": "stdout",
     "output_type": "stream",
     "text": [
      "\n",
      "Regression statistics\n",
      "\n",
      "                      Mean Error (ME) : -3.5129\n",
      "       Root Mean Squared Error (RMSE) : 3.6372\n",
      "            Mean Absolute Error (MAE) : 3.5136\n",
      "          Mean Percentage Error (MPE) : 4.2692\n",
      "Mean Absolute Percentage Error (MAPE) : 641.8231\n"
     ]
    }
   ],
   "source": [
    "regressionSummary(Y3p_train,inversedpredictions)"
   ]
  },
  {
   "cell_type": "markdown",
   "metadata": {},
   "source": [
    "<Mark>Interpretation:</Mark> We see that, on average, the KNN predictor's error is about 0.89 scaled sleeping hours or 3.64 hours of sleeping duration.\n"
   ]
  },
  {
   "cell_type": "code",
   "execution_count": 15,
   "metadata": {},
   "outputs": [
    {
     "name": "stderr",
     "output_type": "stream",
     "text": [
      "C:\\Users\\edwar\\anaconda3\\lib\\site-packages\\sklearn\\model_selection\\_split.py:296: FutureWarning: Setting a random_state has no effect since shuffle is False. This will raise an error in 0.24. You should leave random_state to its default (None), or set shuffle=True.\n",
      "  FutureWarning\n"
     ]
    }
   ],
   "source": [
    "# how does the model perform when there is variation on different training samples?\n",
    "cvparam = KFold(3, random_state=13)\n",
    "scores_mse_knn =  cross_validate(knn_rcv, X3p_train, Y3p_train, \\\n",
    "                                 cv=cvparam, scoring='neg_mean_squared_error') #10-fold"
   ]
  },
  {
   "cell_type": "code",
   "execution_count": 16,
   "metadata": {},
   "outputs": [
    {
     "data": {
      "text/plain": [
       "array([-1.09657337, -1.12143064, -1.11879255])"
      ]
     },
     "execution_count": 16,
     "metadata": {},
     "output_type": "execute_result"
    }
   ],
   "source": [
    "# how does the model perform when there is variation on different training samples?\n",
    "scores_mse_knn['test_score']"
   ]
  },
  {
   "cell_type": "code",
   "execution_count": 17,
   "metadata": {},
   "outputs": [
    {
     "data": {
      "text/plain": [
       "1.0546399955183645"
      ]
     },
     "execution_count": 17,
     "metadata": {},
     "output_type": "execute_result"
    }
   ],
   "source": [
    "np.sqrt(scores_mse_knn['test_score'].mean()*-1) #Multiplying by -1 to remove negativity in MSE"
   ]
  },
  {
   "cell_type": "markdown",
   "metadata": {},
   "source": [
    "<Mark>Interpretation:</Mark> We see that the KNN model's prediction after 3-fold cross validation is yeilding a prediction with 1.05 scaled units of sleeping hours, an obvious increase in RMSE."
   ]
  },
  {
   "cell_type": "code",
   "execution_count": 21,
   "metadata": {},
   "outputs": [],
   "source": [
    "# How does the trained model do for the testing sample?\n",
    "knn_prediction_reg_tt=knn_rcv.predict(X3p_test) #get the predictions using test data"
   ]
  },
  {
   "cell_type": "code",
   "execution_count": 22,
   "metadata": {},
   "outputs": [
    {
     "data": {
      "text/plain": [
       "1.0540389952411005"
      ]
     },
     "execution_count": 22,
     "metadata": {},
     "output_type": "execute_result"
    }
   ],
   "source": [
    "#average error of prediction in training data.\n",
    "np.sqrt(np.square(knn_prediction_reg_tt-Y3p_test).mean())"
   ]
  },
  {
   "cell_type": "code",
   "execution_count": 23,
   "metadata": {},
   "outputs": [
    {
     "name": "stdout",
     "output_type": "stream",
     "text": [
      "\n",
      "Regression statistics\n",
      "\n",
      "                      Mean Error (ME) : 0.0035\n",
      "       Root Mean Squared Error (RMSE) : 1.0540\n",
      "            Mean Absolute Error (MAE) : 0.8370\n",
      "          Mean Percentage Error (MPE) : 87.4009\n",
      "Mean Absolute Percentage Error (MAPE) : 116.1070\n"
     ]
    }
   ],
   "source": [
    "regressionSummary(Y3p_test,knn_prediction_reg_tt)"
   ]
  },
  {
   "cell_type": "code",
   "execution_count": 24,
   "metadata": {},
   "outputs": [],
   "source": [
    "#to rescale the predicted values, we need to first fit the original scaler:\n",
    "data = df1.sleeping.values\n",
    "scaler = preprocessing.StandardScaler()\n",
    "scaler.fit(data.reshape(-1, 1)) #reshaping is needed for 1-dimensional arrays\n",
    "scaled = scaler.transform(data.reshape(-1, 1))\n",
    "# for inverse transformation\n",
    "inversedpredictions = scaler.inverse_transform(knn_prediction_reg_tt)"
   ]
  },
  {
   "cell_type": "code",
   "execution_count": 25,
   "metadata": {},
   "outputs": [
    {
     "name": "stdout",
     "output_type": "stream",
     "text": [
      "\n",
      "Regression statistics\n",
      "\n",
      "                      Mean Error (ME) : -3.5036\n",
      "       Root Mean Squared Error (RMSE) : 3.6909\n",
      "            Mean Absolute Error (MAE) : 3.5066\n",
      "          Mean Percentage Error (MPE) : 16.7408\n",
      "Mean Absolute Percentage Error (MAPE) : 642.2926\n"
     ]
    }
   ],
   "source": [
    "regressionSummary(Y3p_test,inversedpredictions)"
   ]
  },
  {
   "cell_type": "markdown",
   "metadata": {},
   "source": [
    "</Mark> We see that the KNN model's prediction on testing sample is pretty similar with training data: the test error is about 1.05 scaled sleeping hours or 3.69 hours of sleeping duration."
   ]
  },
  {
   "cell_type": "markdown",
   "metadata": {},
   "source": [
    "<div style=\"text-align: right\"> <a href='#section_id0'>Back to top of Notebook</a></div>"
   ]
  },
  {
   "cell_type": "markdown",
   "metadata": {},
   "source": [
    "<a id='section_id4'></a>\n",
    "### <span style=\"background-color:#B0E0E6\">Classification method</span>\n"
   ]
  },
  {
   "cell_type": "code",
   "execution_count": 26,
   "metadata": {},
   "outputs": [
    {
     "data": {
      "text/html": [
       "<div>\n",
       "<style scoped>\n",
       "    .dataframe tbody tr th:only-of-type {\n",
       "        vertical-align: middle;\n",
       "    }\n",
       "\n",
       "    .dataframe tbody tr th {\n",
       "        vertical-align: top;\n",
       "    }\n",
       "\n",
       "    .dataframe thead th {\n",
       "        text-align: right;\n",
       "    }\n",
       "</style>\n",
       "<table border=\"1\" class=\"dataframe\">\n",
       "  <thead>\n",
       "    <tr style=\"text-align: right;\">\n",
       "      <th></th>\n",
       "      <th>sleeping</th>\n",
       "      <th>sex</th>\n",
       "      <th>race</th>\n",
       "      <th>sexharass</th>\n",
       "      <th>smoking</th>\n",
       "      <th>vegetables</th>\n",
       "      <th>soda</th>\n",
       "      <th>breakfast</th>\n",
       "      <th>computer</th>\n",
       "      <th>sleepcat</th>\n",
       "    </tr>\n",
       "  </thead>\n",
       "  <tbody>\n",
       "    <tr>\n",
       "      <th>0</th>\n",
       "      <td>1</td>\n",
       "      <td>2</td>\n",
       "      <td>4</td>\n",
       "      <td>4</td>\n",
       "      <td>4</td>\n",
       "      <td>3</td>\n",
       "      <td>2</td>\n",
       "      <td>3</td>\n",
       "      <td>3</td>\n",
       "      <td>short</td>\n",
       "    </tr>\n",
       "    <tr>\n",
       "      <th>1</th>\n",
       "      <td>1</td>\n",
       "      <td>2</td>\n",
       "      <td>3</td>\n",
       "      <td>1</td>\n",
       "      <td>1</td>\n",
       "      <td>2</td>\n",
       "      <td>1</td>\n",
       "      <td>1</td>\n",
       "      <td>2</td>\n",
       "      <td>short</td>\n",
       "    </tr>\n",
       "    <tr>\n",
       "      <th>2</th>\n",
       "      <td>1</td>\n",
       "      <td>2</td>\n",
       "      <td>4</td>\n",
       "      <td>1</td>\n",
       "      <td>1</td>\n",
       "      <td>1</td>\n",
       "      <td>1</td>\n",
       "      <td>1</td>\n",
       "      <td>1</td>\n",
       "      <td>short</td>\n",
       "    </tr>\n",
       "    <tr>\n",
       "      <th>3</th>\n",
       "      <td>3</td>\n",
       "      <td>2</td>\n",
       "      <td>4</td>\n",
       "      <td>1</td>\n",
       "      <td>1</td>\n",
       "      <td>3</td>\n",
       "      <td>5</td>\n",
       "      <td>5</td>\n",
       "      <td>4</td>\n",
       "      <td>short</td>\n",
       "    </tr>\n",
       "    <tr>\n",
       "      <th>4</th>\n",
       "      <td>3</td>\n",
       "      <td>2</td>\n",
       "      <td>4</td>\n",
       "      <td>1</td>\n",
       "      <td>6</td>\n",
       "      <td>2</td>\n",
       "      <td>6</td>\n",
       "      <td>5</td>\n",
       "      <td>7</td>\n",
       "      <td>short</td>\n",
       "    </tr>\n",
       "    <tr>\n",
       "      <th>5</th>\n",
       "      <td>5</td>\n",
       "      <td>2</td>\n",
       "      <td>4</td>\n",
       "      <td>1</td>\n",
       "      <td>1</td>\n",
       "      <td>5</td>\n",
       "      <td>2</td>\n",
       "      <td>4</td>\n",
       "      <td>5</td>\n",
       "      <td>long</td>\n",
       "    </tr>\n",
       "  </tbody>\n",
       "</table>\n",
       "</div>"
      ],
      "text/plain": [
       "   sleeping  sex  race  sexharass  smoking  vegetables  soda  breakfast  \\\n",
       "0         1    2     4          4        4           3     2          3   \n",
       "1         1    2     3          1        1           2     1          1   \n",
       "2         1    2     4          1        1           1     1          1   \n",
       "3         3    2     4          1        1           3     5          5   \n",
       "4         3    2     4          1        6           2     6          5   \n",
       "5         5    2     4          1        1           5     2          4   \n",
       "\n",
       "   computer sleepcat  \n",
       "0         3    short  \n",
       "1         2    short  \n",
       "2         1    short  \n",
       "3         4    short  \n",
       "4         7    short  \n",
       "5         5     long  "
      ]
     },
     "execution_count": 26,
     "metadata": {},
     "output_type": "execute_result"
    }
   ],
   "source": [
    "# inserting a health_category column\n",
    "df1['sleepcat']=pd.cut(df1['sleeping'], bins=[0,4,8], labels=['short', 'long']) # 0 = short, 1 =long\n",
    "df1.head(6)"
   ]
  },
  {
   "cell_type": "code",
   "execution_count": 27,
   "metadata": {},
   "outputs": [],
   "source": [
    "# pre-processing the data to get dummy for dependent variable\n",
    "healthdummy=pd.get_dummies(df1['sleepcat'])\n",
    " #one dummy variable is sufficient for predictor with 2-levels\n",
    "df1['sleeplong']=healthdummy['long']"
   ]
  },
  {
   "cell_type": "code",
   "execution_count": 28,
   "metadata": {},
   "outputs": [],
   "source": [
    "yvar= df1.sleeplong.astype('float64')\n",
    " #just retain the independent variables\n",
    "Xvar = df1.drop(['sleeping', 'sleeplong', 'sleepcat'], axis=1).astype('float64')"
   ]
  },
  {
   "cell_type": "code",
   "execution_count": 29,
   "metadata": {},
   "outputs": [
    {
     "data": {
      "text/html": [
       "<div>\n",
       "<style scoped>\n",
       "    .dataframe tbody tr th:only-of-type {\n",
       "        vertical-align: middle;\n",
       "    }\n",
       "\n",
       "    .dataframe tbody tr th {\n",
       "        vertical-align: top;\n",
       "    }\n",
       "\n",
       "    .dataframe thead th {\n",
       "        text-align: right;\n",
       "    }\n",
       "</style>\n",
       "<table border=\"1\" class=\"dataframe\">\n",
       "  <thead>\n",
       "    <tr style=\"text-align: right;\">\n",
       "      <th></th>\n",
       "      <th>sex</th>\n",
       "      <th>race</th>\n",
       "      <th>sexharass</th>\n",
       "      <th>smoking</th>\n",
       "      <th>vegetables</th>\n",
       "      <th>soda</th>\n",
       "      <th>breakfast</th>\n",
       "      <th>computer</th>\n",
       "    </tr>\n",
       "  </thead>\n",
       "  <tbody>\n",
       "    <tr>\n",
       "      <th>0</th>\n",
       "      <td>2.0</td>\n",
       "      <td>4.0</td>\n",
       "      <td>4.0</td>\n",
       "      <td>4.0</td>\n",
       "      <td>3.0</td>\n",
       "      <td>2.0</td>\n",
       "      <td>3.0</td>\n",
       "      <td>3.0</td>\n",
       "    </tr>\n",
       "    <tr>\n",
       "      <th>1</th>\n",
       "      <td>2.0</td>\n",
       "      <td>3.0</td>\n",
       "      <td>1.0</td>\n",
       "      <td>1.0</td>\n",
       "      <td>2.0</td>\n",
       "      <td>1.0</td>\n",
       "      <td>1.0</td>\n",
       "      <td>2.0</td>\n",
       "    </tr>\n",
       "    <tr>\n",
       "      <th>2</th>\n",
       "      <td>2.0</td>\n",
       "      <td>4.0</td>\n",
       "      <td>1.0</td>\n",
       "      <td>1.0</td>\n",
       "      <td>1.0</td>\n",
       "      <td>1.0</td>\n",
       "      <td>1.0</td>\n",
       "      <td>1.0</td>\n",
       "    </tr>\n",
       "  </tbody>\n",
       "</table>\n",
       "</div>"
      ],
      "text/plain": [
       "   sex  race  sexharass  smoking  vegetables  soda  breakfast  computer\n",
       "0  2.0   4.0        4.0      4.0         3.0   2.0        3.0       3.0\n",
       "1  2.0   3.0        1.0      1.0         2.0   1.0        1.0       2.0\n",
       "2  2.0   4.0        1.0      1.0         1.0   1.0        1.0       1.0"
      ]
     },
     "execution_count": 29,
     "metadata": {},
     "output_type": "execute_result"
    }
   ],
   "source": [
    "Xvar.head(3)"
   ]
  },
  {
   "cell_type": "code",
   "execution_count": 30,
   "metadata": {},
   "outputs": [],
   "source": [
    "# we scale the Xvar before using KNN:\n",
    "Xvarpc=preprocessing.scale(Xvar)"
   ]
  },
  {
   "cell_type": "markdown",
   "metadata": {},
   "source": [
    "The response variable yvar doesn't need scaling becuase it is a binary variable."
   ]
  },
  {
   "cell_type": "code",
   "execution_count": 31,
   "metadata": {},
   "outputs": [
    {
     "name": "stdout",
     "output_type": "stream",
     "text": [
      "(27165, 8) (27165,)\n",
      "(9055, 8) (9055,)\n"
     ]
    }
   ],
   "source": [
    "# Set aside 25% of data for out-of-training-sample test:\n",
    "X3pc_train, X3pc_test, Y3pc_train, Y3pc_test = train_test_split(Xvarpc, yvar, \\\n",
    "                                                           test_size=0.25, random_state=7)\n",
    "print(X3pc_train.shape, Y3pc_train.shape)\n",
    "print(X3pc_test.shape, Y3pc_test.shape)"
   ]
  },
  {
   "cell_type": "code",
   "execution_count": 32,
   "metadata": {},
   "outputs": [],
   "source": [
    "# Specify the parameters of the KNN classifer:\n",
    "knn_ccv = KNeighborsClassifier(n_neighbors=4, weights='uniform') # considering 4 nearest neighbors weighted equally"
   ]
  },
  {
   "cell_type": "code",
   "execution_count": 33,
   "metadata": {},
   "outputs": [
    {
     "data": {
      "text/plain": [
       "KNeighborsClassifier(algorithm='auto', leaf_size=30, metric='minkowski',\n",
       "                     metric_params=None, n_jobs=None, n_neighbors=4, p=2,\n",
       "                     weights='uniform')"
      ]
     },
     "execution_count": 33,
     "metadata": {},
     "output_type": "execute_result"
    }
   ],
   "source": [
    "# Fit the KNN model with training data:\n",
    "knn_ccv.fit(X3pc_train, Y3pc_train)"
   ]
  },
  {
   "cell_type": "code",
   "execution_count": 34,
   "metadata": {},
   "outputs": [],
   "source": [
    "# Get the prediction of the KNN training\n",
    "knn_prediction_ctr=knn_ccv.predict(X3pc_train)"
   ]
  },
  {
   "cell_type": "code",
   "execution_count": 35,
   "metadata": {},
   "outputs": [
    {
     "name": "stdout",
     "output_type": "stream",
     "text": [
      "Confusion Matrix:\n",
      " [[19654   743]\n",
      " [ 5639  1129]]\n",
      "\n",
      "\n",
      "Classification Report:\n",
      "               precision    recall  f1-score   support\n",
      "\n",
      "         0.0       0.78      0.96      0.86     20397\n",
      "         1.0       0.60      0.17      0.26      6768\n",
      "\n",
      "    accuracy                           0.77     27165\n",
      "   macro avg       0.69      0.57      0.56     27165\n",
      "weighted avg       0.73      0.77      0.71     27165\n",
      "\n"
     ]
    }
   ],
   "source": [
    "# Evaluate how good the knn classification of training data is:\n",
    "cm_knn = confusion_matrix(Y3pc_train, knn_prediction_ctr)\n",
    "print(\"Confusion Matrix:\\n\", cm_knn)\n",
    "print(\"\\n\")\n",
    "print(\"Classification Report:\\n\",classification_report(Y3pc_train, knn_prediction_ctr))"
   ]
  },
  {
   "cell_type": "code",
   "execution_count": 36,
   "metadata": {},
   "outputs": [
    {
     "data": {
      "text/plain": [
       "<matplotlib.axes._subplots.AxesSubplot at 0x1b827d4b948>"
      ]
     },
     "execution_count": 36,
     "metadata": {},
     "output_type": "execute_result"
    },
    {
     "data": {
      "image/png": "[encoded data removed]",
      "text/plain": [
       "<Figure size 288x288 with 2 Axes>"
      ]
     },
     "metadata": {},
     "output_type": "display_data"
    }
   ],
   "source": [
    "skplt.metrics.plot_confusion_matrix(Y3pc_train, knn_prediction_ctr, figsize=(4,4), cmap=\"Blues\")"
   ]
  },
  {
   "cell_type": "markdown",
   "metadata": {},
   "source": [
    "<Mark>Interpretation:</Mark> We see that the model resulted in 77% accuracy of classifying sleep duration. 1129 people who were sleep sufficiently were correctly identified by the model.It missed 5639 people and wrongly predicted 743 others having sufficient sleep.<br>"
   ]
  },
  {
   "cell_type": "code",
   "execution_count": 37,
   "metadata": {},
   "outputs": [
    {
     "name": "stderr",
     "output_type": "stream",
     "text": [
      "C:\\Users\\edwar\\anaconda3\\lib\\site-packages\\sklearn\\model_selection\\_split.py:296: FutureWarning: Setting a random_state has no effect since shuffle is False. This will raise an error in 0.24. You should leave random_state to its default (None), or set shuffle=True.\n",
      "  FutureWarning\n"
     ]
    }
   ],
   "source": [
    "# Evaluate how good the knn classification, after cross-validation:\n",
    "cvparam = KFold(3, random_state=13)\n",
    "scores_accuracy_knn =  cross_val_score(knn_ccv, X3pc_train, Y3pc_train, cv=cvparam, scoring='accuracy')"
   ]
  },
  {
   "cell_type": "markdown",
   "metadata": {},
   "source": [
    "<Mark>Note:</Mark> The features of the [cross_validate() function](https://scikit-learn.org/stable/modules/cross_validation.html#cross-validation-and-model-selection) are quite extensive. Several ways of splitting the data are possible. \n",
    "* Here, we are just doing a basic K-fold split (k=3 in our example).\n",
    "* The MSE score in each of the three folds is stored in the \"scores_accuracy_knn\" array.\n",
    "* The scoring algorithm returns the accuracy metric derived from the confusion matrix of each of the 3 folds"
   ]
  },
  {
   "cell_type": "code",
   "execution_count": 38,
   "metadata": {},
   "outputs": [
    {
     "data": {
      "text/plain": [
       "0.7298361862690963"
      ]
     },
     "execution_count": 38,
     "metadata": {},
     "output_type": "execute_result"
    }
   ],
   "source": [
    "scores_accuracy_knn.mean() #average training accuracy"
   ]
  },
  {
   "cell_type": "markdown",
   "metadata": {},
   "source": [
    "<Mark>Interpretation:</Mark> We see that the model, after 10-fold cross validation, resulted in 73% accuracy of classifying students on their sleep duration. <br>"
   ]
  },
  {
   "cell_type": "code",
   "execution_count": 39,
   "metadata": {},
   "outputs": [],
   "source": [
    "# How good is the trained model for predicting the test data?\n",
    "knn_prediction_ctr_tt=knn_ccv.predict(X3pc_test) #use test data"
   ]
  },
  {
   "cell_type": "code",
   "execution_count": 40,
   "metadata": {},
   "outputs": [
    {
     "name": "stdout",
     "output_type": "stream",
     "text": [
      "Confusion Matrix:\n",
      " [[6405  430]\n",
      " [2012  208]]\n",
      "\n",
      "\n",
      "Classification Report:\n",
      "               precision    recall  f1-score   support\n",
      "\n",
      "         0.0       0.76      0.94      0.84      6835\n",
      "         1.0       0.33      0.09      0.15      2220\n",
      "\n",
      "    accuracy                           0.73      9055\n",
      "   macro avg       0.54      0.52      0.49      9055\n",
      "weighted avg       0.65      0.73      0.67      9055\n",
      "\n"
     ]
    }
   ],
   "source": [
    "# Evaluate how good the knn classification of training data is:\n",
    "cm_knn_tt = confusion_matrix(Y3pc_test, knn_prediction_ctr_tt)\n",
    "print(\"Confusion Matrix:\\n\", cm_knn_tt)\n",
    "print(\"\\n\")\n",
    "print(\"Classification Report:\\n\",classification_report(Y3pc_test, knn_prediction_ctr_tt))"
   ]
  },
  {
   "cell_type": "code",
   "execution_count": 41,
   "metadata": {},
   "outputs": [
    {
     "data": {
      "text/plain": [
       "<matplotlib.axes._subplots.AxesSubplot at 0x1b82a282f48>"
      ]
     },
     "execution_count": 41,
     "metadata": {},
     "output_type": "execute_result"
    },
    {
     "data": {
      "image/png": "[encoded data removed]",
      "text/plain": [
       "<Figure size 288x288 with 2 Axes>"
      ]
     },
     "metadata": {},
     "output_type": "display_data"
    }
   ],
   "source": [
    "skplt.metrics.plot_confusion_matrix(Y3pc_test, knn_prediction_ctr_tt, figsize=(4,4), cmap=\"Oranges\")"
   ]
  },
  {
   "cell_type": "markdown",
   "metadata": {},
   "source": [
    "<Mark>Interpretation:</Mark> We see that the model resulted in 73% accuracy of classifying people on their satisfaction degree, 208 students who have sufficient sleep were correctly identified by the model.It missed 2012 people and wrongly predicted 430 others as having sufficient sleep.<br>"
   ]
  },
  {
   "cell_type": "markdown",
   "metadata": {},
   "source": [
    "Is the model's accuracy better than a naive prediction? A naive prediction is to say that \"no body is satisfied\"."
   ]
  },
  {
   "cell_type": "code",
   "execution_count": 42,
   "metadata": {},
   "outputs": [
    {
     "data": {
      "text/plain": [
       "0.7518498067366096"
      ]
     },
     "execution_count": 42,
     "metadata": {},
     "output_type": "execute_result"
    }
   ],
   "source": [
    "1-df1.sleeplong.mean()"
   ]
  },
  {
   "cell_type": "code",
   "execution_count": 43,
   "metadata": {},
   "outputs": [
    {
     "data": {
      "text/plain": [
       "count    36220.000000\n",
       "mean         0.248150\n",
       "std          0.431945\n",
       "min          0.000000\n",
       "25%          0.000000\n",
       "50%          0.000000\n",
       "75%          0.000000\n",
       "max          1.000000\n",
       "Name: sleeplong, dtype: float64"
      ]
     },
     "execution_count": 43,
     "metadata": {},
     "output_type": "execute_result"
    }
   ],
   "source": [
    "df1.sleeplong.describe()"
   ]
  },
  {
   "cell_type": "code",
   "execution_count": 44,
   "metadata": {},
   "outputs": [
    {
     "data": {
      "text/plain": [
       "8988"
      ]
     },
     "execution_count": 44,
     "metadata": {},
     "output_type": "execute_result"
    }
   ],
   "source": [
    "df1[df1['sleeplong']==1].shape[0]"
   ]
  },
  {
   "cell_type": "code",
   "execution_count": 45,
   "metadata": {},
   "outputs": [
    {
     "data": {
      "text/plain": [
       "<matplotlib.axes._subplots.AxesSubplot at 0x1b82a31a788>"
      ]
     },
     "execution_count": 45,
     "metadata": {},
     "output_type": "execute_result"
    },
    {
     "data": {
      "image/png": "[encoded data removed]",
      "text/plain": [
       "<Figure size 432x360 with 1 Axes>"
      ]
     },
     "metadata": {},
     "output_type": "display_data"
    }
   ],
   "source": [
    "# Exploring why our naive prediction is about the same as the logistic regression\n",
    "sns.countplot(x=\"sleeplong\", data=df1)"
   ]
  },
  {
   "cell_type": "markdown",
   "metadata": {},
   "source": [
    "<Mark>Interpretation:</Mark> Clearly, more students have insufficient sleep. The naive prediction accuracy is a little higher than KNN models discussed above."
   ]
  },
  {
   "cell_type": "markdown",
   "metadata": {},
   "source": [
    "<div style=\"text-align: right\"> <a href='#section_id0'>Back to top of Notebook</a></div>"
   ]
  },
  {
   "cell_type": "markdown",
   "metadata": {},
   "source": [
    "<a id='section_id5'></a>\n",
    "### <span style=\"background-color:#B0E0E6\">Mapping Neighbors</span>\n",
    "* Identifying the nearest neighbors can be managerially relevant.\n",
    "* This is an example of unsupervised learning"
   ]
  },
  {
   "cell_type": "code",
   "execution_count": 47,
   "metadata": {},
   "outputs": [],
   "source": [
    "#define and fit the function using training data\n",
    "nbrs = NearestNeighbors(n_neighbors=4, algorithm='auto').fit(X3pc_train)"
   ]
  },
  {
   "cell_type": "markdown",
   "metadata": {},
   "source": [
    "* The choice of neighbors search algorithm is controlled through the keyword 'algorithm', which must be one of 'auto', 'ball_tree', 'kd_tree', 'brute'. \n",
    "* When the default value 'auto' is passed, the algorithm attempts to determine the best approach from the training data. \n",
    "* For a discussion of the strengths and weaknesses of each option, see [Nearest Neighbor Algorithms](https://scikit-learn.org/stable/modules/neighbors.html#nearest-neighbor-algorithms)"
   ]
  },
  {
   "cell_type": "code",
   "execution_count": 48,
   "metadata": {},
   "outputs": [],
   "source": [
    "#find the neighbors on test set\n",
    "distances, indices = nbrs.kneighbors(X3pc_test)"
   ]
  },
  {
   "cell_type": "code",
   "execution_count": 49,
   "metadata": {},
   "outputs": [
    {
     "data": {
      "text/html": [
       "<div>\n",
       "<style scoped>\n",
       "    .dataframe tbody tr th:only-of-type {\n",
       "        vertical-align: middle;\n",
       "    }\n",
       "\n",
       "    .dataframe tbody tr th {\n",
       "        vertical-align: top;\n",
       "    }\n",
       "\n",
       "    .dataframe thead th {\n",
       "        text-align: right;\n",
       "    }\n",
       "</style>\n",
       "<table border=\"1\" class=\"dataframe\">\n",
       "  <thead>\n",
       "    <tr style=\"text-align: right;\">\n",
       "      <th></th>\n",
       "      <th>n1</th>\n",
       "      <th>n2</th>\n",
       "      <th>n3</th>\n",
       "      <th>n4</th>\n",
       "      <th>d1</th>\n",
       "      <th>d2</th>\n",
       "      <th>d3</th>\n",
       "      <th>d4</th>\n",
       "    </tr>\n",
       "  </thead>\n",
       "  <tbody>\n",
       "    <tr>\n",
       "      <th>0</th>\n",
       "      <td>17021</td>\n",
       "      <td>25581</td>\n",
       "      <td>20415</td>\n",
       "      <td>8243</td>\n",
       "      <td>0.000000</td>\n",
       "      <td>0.734930</td>\n",
       "      <td>0.752709</td>\n",
       "      <td>0.825690</td>\n",
       "    </tr>\n",
       "    <tr>\n",
       "      <th>1</th>\n",
       "      <td>5576</td>\n",
       "      <td>1478</td>\n",
       "      <td>11087</td>\n",
       "      <td>11481</td>\n",
       "      <td>0.000000</td>\n",
       "      <td>0.000000</td>\n",
       "      <td>0.000000</td>\n",
       "      <td>0.000000</td>\n",
       "    </tr>\n",
       "    <tr>\n",
       "      <th>2</th>\n",
       "      <td>12772</td>\n",
       "      <td>24775</td>\n",
       "      <td>8774</td>\n",
       "      <td>3030</td>\n",
       "      <td>0.591473</td>\n",
       "      <td>0.815165</td>\n",
       "      <td>1.055710</td>\n",
       "      <td>1.055710</td>\n",
       "    </tr>\n",
       "    <tr>\n",
       "      <th>3</th>\n",
       "      <td>14811</td>\n",
       "      <td>2550</td>\n",
       "      <td>835</td>\n",
       "      <td>2934</td>\n",
       "      <td>0.897851</td>\n",
       "      <td>1.051994</td>\n",
       "      <td>1.063859</td>\n",
       "      <td>1.063859</td>\n",
       "    </tr>\n",
       "    <tr>\n",
       "      <th>4</th>\n",
       "      <td>23083</td>\n",
       "      <td>3691</td>\n",
       "      <td>181</td>\n",
       "      <td>4523</td>\n",
       "      <td>0.000000</td>\n",
       "      <td>0.000000</td>\n",
       "      <td>0.376355</td>\n",
       "      <td>0.456286</td>\n",
       "    </tr>\n",
       "  </tbody>\n",
       "</table>\n",
       "</div>"
      ],
      "text/plain": [
       "      n1     n2     n3     n4        d1        d2        d3        d4\n",
       "0  17021  25581  20415   8243  0.000000  0.734930  0.752709  0.825690\n",
       "1   5576   1478  11087  11481  0.000000  0.000000  0.000000  0.000000\n",
       "2  12772  24775   8774   3030  0.591473  0.815165  1.055710  1.055710\n",
       "3  14811   2550    835   2934  0.897851  1.051994  1.063859  1.063859\n",
       "4  23083   3691    181   4523  0.000000  0.000000  0.376355  0.456286"
      ]
     },
     "execution_count": 49,
     "metadata": {},
     "output_type": "execute_result"
    }
   ],
   "source": [
    "#map the results for convenient reference\n",
    "nnindex=pd.DataFrame(indices, columns=['n1', 'n2', 'n3','n4'])\n",
    "nndistance=pd.DataFrame(distances, columns=['d1', 'd2', 'd3','d4'])\n",
    "neighbors_map=pd.concat([nnindex, nndistance], axis=1, sort=False)\n",
    "neighbors_map.head()"
   ]
  },
  {
   "cell_type": "markdown",
   "metadata": {},
   "source": [
    "<a id='section_id6'></a>\n",
    "### <span style=\"background-color:#B0E0E6\">References:</span>"
   ]
  },
  {
   "cell_type": "markdown",
   "metadata": {},
   "source": [
    "* Chapter 7 of _Datamining for Business Analytics_. [Access through Pitt library](https://pitt.summon.serialssolutions.com/#!/search?bookMark=ePnHCXMw42JgAfZbU5khpymBDxSztADNrHEZgbYtA2tc0K0CXMBq3gRYkwA7SJwMSi6JJYkKueALERSATTUF6P2LxQqJoIM5QMcV8zCwpgGjI5WXgaWkqBRYcEq7uYY4e-iCDkeKhw50xAPTkpmJBejiIfyyKlhkYXM9QGVA95qYGQMA-383uA)\n",
    "* Another book I like is: [Introduction to Statistical Learning](http://faculty.marshall.usc.edu/gareth-james/ISL/). The ISL book provides intuitive and \"math-lite\" explanations for many concepts. \n",
    "    * The ISL book uses \"R for lab exercises,\" but the concepts covered are independent of the programming language.\n",
    "    * [The videos](https://www.dataschool.io/15-hours-of-expert-machine-learning-videos/) from the authors of the ISL book are a great resource.\n",
    "    * Another book, [Elements of Statistical Learning](https://web.stanford.edu/~hastie/ElemStatLearn/), has more advanced treatment of the topics covered by ISL.\n",
    "\n",
    "***"
   ]
  },
  {
   "cell_type": "markdown",
   "metadata": {},
   "source": [
    "<font color=\"#610B21\"><center>\\~\\~ End of Part-4. We'll discuss Naive Bayes in Part-5\\~\\~ </center>\n",
    "\n",
    "***"
   ]
  },
  {
   "cell_type": "code",
   "execution_count": null,
   "metadata": {},
   "outputs": [],
   "source": []
  }
 ],
 "metadata": {
  "kernelspec": {
   "display_name": "Python 3",
   "language": "python",
   "name": "python3"
  },
  "language_info": {
   "codemirror_mode": {
    "name": "ipython",
    "version": 3
   },
   "file_extension": ".py",
   "mimetype": "text/x-python",
   "name": "python",
   "nbconvert_exporter": "python",
   "pygments_lexer": "ipython3",
   "version": "3.7.6"
  }
 },
 "nbformat": 4,
 "nbformat_minor": 4
}
