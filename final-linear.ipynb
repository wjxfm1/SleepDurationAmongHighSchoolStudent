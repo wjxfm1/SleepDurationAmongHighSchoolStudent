{
 "cells": [
  {
   "cell_type": "markdown",
   "metadata": {},
   "source": [
    "<a id='section_id0'></a>\n",
    "# Data Programming Essentials *with Python*\n",
    "\n",
    "## Final part 2: Modeling 1 : Linear Regression\n",
    "\n",
    "<font color=\"#740202\">**Table of contents:**\n",
    "\n",
    "|No.|Topic||No.|Topic||No.|Topic|\n",
    "|:------|:------||:------|:------||:------|:------|\n",
    "|1.|[Key Libraries](#section_id1)||2.|[Sleeping Dataset](#section_id3)  |\n",
    "|3.|[Regression Analysis with Statsmodels](#section_id4)  ||4.|[Regression Analysis with Scikit](#section_id5)  ||5.|[K-fold Cross Validation](#section_id6)  |\n",
    "|6.|[Variable selection approaches](#section_id7)  ||7.|[Lasso and Ridge Regressions](#section_id8)||9.|[References](#section_id9)|\n",
    "\n",
    "***"
   ]
  },
  {
   "cell_type": "markdown",
   "metadata": {},
   "source": [
    "<a id='section_id1'></a>\n",
    "### <span style=\"background-color:#B0E0E6\">Key libraries</span>\n",
    "* The following are the main libraries we'll use for modeling with linear regressions:\n",
    "* [Statsmodels](https://www.statsmodels.org/stable/index.html)\n",
    "    * This library is suitable when your main goal for analysis is \"explanation\". It provides easy reference to a host of statistics that can help with hypothesis testing exercises. \n",
    "* [Scikit-learn](https://scikit-learn.org/stable/index.html)\n",
    "    * This is a very popular package for machine learning in Python. Compiling explanation-oriented statistics is a little cumbersome with this package, but it provides powerful tools for prediction-oriented analysis.\n",
    "* [DMBA](https://pypi.org/project/dmba/)\n",
    "    * This is the set of utilities associated with the reference book I suggested: [Data Mining for Business Analytics](https://www.dataminingbook.com/book/python-edition)\n",
    "    * You can freely access the book and download individual PDF book chapters through the [Pitt library](https://pitt.summon.serialssolutions.com/#!/search?bookMark=ePnHCXMw42JgAfZbU5khpymBDxSztADNrHEZgbYtA2tc0K0CXMBq3gRYkwA7SJwMSi6JJYkKueALERSATTUF6P2LxQqJoIM5QMcV8zCwpgGjI5WXgaWkqBRYcEq7uYY4e-iCDkeKhw50xAPTkpmJBejiIfyyKlhkYXM9QGVA95qYGQMA-383uA)\n",
    "    * Linear regression is covered in chapter 6 of the DMBA book."
   ]
  },
  {
   "cell_type": "code",
   "execution_count": 3,
   "metadata": {},
   "outputs": [],
   "source": [
    "import pandas as pd\n",
    "import numpy as np\n",
    "import scipy.stats as stats\n",
    "\n",
    "# for regressions with statsmodels:\n",
    "import statsmodels.api as sm\n",
    "import statsmodels.formula.api as smf\n",
    "import statsmodels.stats.api as sms\n",
    "from statsmodels.compat import lzip\n",
    "from statsmodels.stats.outliers_influence import OLSInfluence\n",
    "from statsmodels.graphics.regressionplots import plot_leverage_resid2\n",
    "\n",
    "# for regressions with scikit-learn:\n",
    "import sklearn.linear_model as sklm\n",
    "from sklearn import preprocessing\n",
    "from sklearn.model_selection import KFold\n",
    "from sklearn.metrics import mean_squared_error, r2_score\n",
    "from sklearn.model_selection import train_test_split, cross_validate, cross_val_score"
   ]
  },
  {
   "cell_type": "code",
   "execution_count": 4,
   "metadata": {},
   "outputs": [
    {
     "name": "stdout",
     "output_type": "stream",
     "text": [
      "Requirement already satisfied: dmba in c:\\users\\edwar\\anaconda3\\lib\\site-packages (0.0.12)\n",
      "no display found. Using non-interactive Agg backend\n"
     ]
    }
   ],
   "source": [
    "#These are utility tools of the DMBA book. \n",
    "#Install the \"dmba\" package first (just one time)\n",
    "\n",
    "!pip install dmba\n",
    "from dmba import regressionSummary, exhaustive_search\n",
    "from dmba import backward_elimination, forward_selection, stepwise_selection\n",
    "from dmba import adjusted_r2_score, AIC_score, BIC_score"
   ]
  },
  {
   "cell_type": "code",
   "execution_count": 5,
   "metadata": {},
   "outputs": [],
   "source": [
    "# visualization and tuning the aesthetics\n",
    "import matplotlib.pylab as plt\n",
    "import seaborn as sns\n",
    "%matplotlib inline\n",
    "sns.set_style(\"whitegrid\")\n",
    "sns.set_context(\"notebook\", font_scale=1, rc={\"lines.linewidth\": 2,'font.family': [u'times']})\n",
    "plt.style.use('seaborn-whitegrid')\n",
    "plt.rc('text', usetex = False)\n",
    "plt.rc('font', family = 'serif')\n",
    "plt.rc('xtick', labelsize = 10) \n",
    "plt.rc('ytick', labelsize = 10) \n",
    "plt.rc('font', size = 12) \n",
    "plt.rc('figure', figsize = (6, 5))"
   ]
  },
  {
   "cell_type": "markdown",
   "metadata": {},
   "source": [
    "<div style=\"text-align: right\"> <a href='#section_id0'>Back to top of Notebook</a></div>"
   ]
  },
  {
   "cell_type": "markdown",
   "metadata": {},
   "source": [
    "<a id='section_id3'></a>\n",
    "### <span style=\"background-color:#B0E0E6\">Sleelping Dataset: check and explore</span>"
   ]
  },
  {
   "cell_type": "markdown",
   "metadata": {},
   "source": [
    "|Variable|Description|\n",
    "|:------|:------|\n",
    "|sleeping|sleep hours on an average shcool night: 1=<4 hrs, 2=5 hrs, 3=6 hrs, 4=7 hrs, 5=8 hrs, 6=9 hrs, 7= >=10 hrs|\n",
    "|sex|1=Female, 2=Male|\n",
    "|race|1=White, 2=Black or African American, 3=Hispanic/Latino, 4=All other races|\n",
    "|sexharass|sexual harassment during the past 12 months: 1=0 times, 2=1 time, 3=2 or 3 times, 4=4 or 5 times, 5=6 or more times|\n",
    "|smoking|smoke cigarettes during the past 30 days: 1=0 days, 2=1 or 2 days, 3=3 to 5 days, 4= 6 to 9 days, 5=10 to 19 days, 6=20 to 29 days, 7=all 30 days|\n",
    "|vegetables|eating other vegetables(do not count green salad, potatoes, or carrots) during the past 7 days: 1=0 times, 2=1 to 3 times, 3=4 to 6 times, 4=1 time/day, 5=2 times/day, 6=3 times/day, 7=>= 4 times/day|\n",
    "|soda|drinking soda or pop during past 7 days: 1= 0 times, 2=1 to 3 times, 3=4 to 6 times, 4=1 time/day, 5=2 times/day, 6=3 times/day, 7=>=4 times/day |\n",
    "|breakfast|days of eating breakfast per week: 1=0 day, 2=1 day, 3=2 days, 4=3 days, 5= 4 days, 6=5 days, 7=6 days, 8= 7 days|\n",
    "|computer|hours of playing computer games or something that is not school work per day: 1=0 hrs, 2=<1 hr, 3=1 hr, 4=2 hrs, 5=3 hrs, 6=4 hrs, 7=>=5 hrs|"
   ]
  },
  {
   "cell_type": "code",
   "execution_count": 6,
   "metadata": {},
   "outputs": [],
   "source": [
    "df1 = pd.read_csv('sleeping.csv')"
   ]
  },
  {
   "cell_type": "code",
   "execution_count": 7,
   "metadata": {},
   "outputs": [
    {
     "data": {
      "text/html": [
       "<div>\n",
       "<style scoped>\n",
       "    .dataframe tbody tr th:only-of-type {\n",
       "        vertical-align: middle;\n",
       "    }\n",
       "\n",
       "    .dataframe tbody tr th {\n",
       "        vertical-align: top;\n",
       "    }\n",
       "\n",
       "    .dataframe thead th {\n",
       "        text-align: right;\n",
       "    }\n",
       "</style>\n",
       "<table border=\"1\" class=\"dataframe\">\n",
       "  <thead>\n",
       "    <tr style=\"text-align: right;\">\n",
       "      <th></th>\n",
       "      <th>sleeping</th>\n",
       "      <th>sex</th>\n",
       "      <th>race</th>\n",
       "      <th>sexharass</th>\n",
       "      <th>smoking</th>\n",
       "      <th>vegetables</th>\n",
       "      <th>soda</th>\n",
       "      <th>breakfast</th>\n",
       "      <th>computer</th>\n",
       "    </tr>\n",
       "  </thead>\n",
       "  <tbody>\n",
       "    <tr>\n",
       "      <th>count</th>\n",
       "      <td>36220.000000</td>\n",
       "      <td>36220.000000</td>\n",
       "      <td>36220.000000</td>\n",
       "      <td>36220.000000</td>\n",
       "      <td>36220.000000</td>\n",
       "      <td>36220.000000</td>\n",
       "      <td>36220.000000</td>\n",
       "      <td>36220.000000</td>\n",
       "      <td>36220.000000</td>\n",
       "    </tr>\n",
       "    <tr>\n",
       "      <th>mean</th>\n",
       "      <td>3.508007</td>\n",
       "      <td>1.481336</td>\n",
       "      <td>2.064633</td>\n",
       "      <td>1.186554</td>\n",
       "      <td>1.250028</td>\n",
       "      <td>2.556102</td>\n",
       "      <td>2.410574</td>\n",
       "      <td>5.098896</td>\n",
       "      <td>3.930204</td>\n",
       "    </tr>\n",
       "    <tr>\n",
       "      <th>std</th>\n",
       "      <td>1.398969</td>\n",
       "      <td>0.499658</td>\n",
       "      <td>1.226763</td>\n",
       "      <td>0.631294</td>\n",
       "      <td>0.988877</td>\n",
       "      <td>1.360694</td>\n",
       "      <td>1.490681</td>\n",
       "      <td>2.657106</td>\n",
       "      <td>2.191636</td>\n",
       "    </tr>\n",
       "    <tr>\n",
       "      <th>min</th>\n",
       "      <td>1.000000</td>\n",
       "      <td>1.000000</td>\n",
       "      <td>1.000000</td>\n",
       "      <td>1.000000</td>\n",
       "      <td>1.000000</td>\n",
       "      <td>1.000000</td>\n",
       "      <td>1.000000</td>\n",
       "      <td>1.000000</td>\n",
       "      <td>1.000000</td>\n",
       "    </tr>\n",
       "    <tr>\n",
       "      <th>25%</th>\n",
       "      <td>3.000000</td>\n",
       "      <td>1.000000</td>\n",
       "      <td>1.000000</td>\n",
       "      <td>1.000000</td>\n",
       "      <td>1.000000</td>\n",
       "      <td>2.000000</td>\n",
       "      <td>1.000000</td>\n",
       "      <td>3.000000</td>\n",
       "      <td>2.000000</td>\n",
       "    </tr>\n",
       "    <tr>\n",
       "      <th>50%</th>\n",
       "      <td>4.000000</td>\n",
       "      <td>1.000000</td>\n",
       "      <td>1.000000</td>\n",
       "      <td>1.000000</td>\n",
       "      <td>1.000000</td>\n",
       "      <td>2.000000</td>\n",
       "      <td>2.000000</td>\n",
       "      <td>5.000000</td>\n",
       "      <td>4.000000</td>\n",
       "    </tr>\n",
       "    <tr>\n",
       "      <th>75%</th>\n",
       "      <td>4.000000</td>\n",
       "      <td>2.000000</td>\n",
       "      <td>3.000000</td>\n",
       "      <td>1.000000</td>\n",
       "      <td>1.000000</td>\n",
       "      <td>3.000000</td>\n",
       "      <td>3.000000</td>\n",
       "      <td>8.000000</td>\n",
       "      <td>6.000000</td>\n",
       "    </tr>\n",
       "    <tr>\n",
       "      <th>max</th>\n",
       "      <td>7.000000</td>\n",
       "      <td>2.000000</td>\n",
       "      <td>4.000000</td>\n",
       "      <td>5.000000</td>\n",
       "      <td>7.000000</td>\n",
       "      <td>7.000000</td>\n",
       "      <td>7.000000</td>\n",
       "      <td>8.000000</td>\n",
       "      <td>7.000000</td>\n",
       "    </tr>\n",
       "  </tbody>\n",
       "</table>\n",
       "</div>"
      ],
      "text/plain": [
       "           sleeping           sex          race     sexharass       smoking  \\\n",
       "count  36220.000000  36220.000000  36220.000000  36220.000000  36220.000000   \n",
       "mean       3.508007      1.481336      2.064633      1.186554      1.250028   \n",
       "std        1.398969      0.499658      1.226763      0.631294      0.988877   \n",
       "min        1.000000      1.000000      1.000000      1.000000      1.000000   \n",
       "25%        3.000000      1.000000      1.000000      1.000000      1.000000   \n",
       "50%        4.000000      1.000000      1.000000      1.000000      1.000000   \n",
       "75%        4.000000      2.000000      3.000000      1.000000      1.000000   \n",
       "max        7.000000      2.000000      4.000000      5.000000      7.000000   \n",
       "\n",
       "         vegetables          soda     breakfast      computer  \n",
       "count  36220.000000  36220.000000  36220.000000  36220.000000  \n",
       "mean       2.556102      2.410574      5.098896      3.930204  \n",
       "std        1.360694      1.490681      2.657106      2.191636  \n",
       "min        1.000000      1.000000      1.000000      1.000000  \n",
       "25%        2.000000      1.000000      3.000000      2.000000  \n",
       "50%        2.000000      2.000000      5.000000      4.000000  \n",
       "75%        3.000000      3.000000      8.000000      6.000000  \n",
       "max        7.000000      7.000000      8.000000      7.000000  "
      ]
     },
     "execution_count": 7,
     "metadata": {},
     "output_type": "execute_result"
    }
   ],
   "source": [
    "df1.describe()"
   ]
  },
  {
   "cell_type": "code",
   "execution_count": 8,
   "metadata": {},
   "outputs": [
    {
     "name": "stdout",
     "output_type": "stream",
     "text": [
      "<class 'pandas.core.frame.DataFrame'>\n",
      "RangeIndex: 36220 entries, 0 to 36219\n",
      "Data columns (total 9 columns):\n",
      " #   Column      Non-Null Count  Dtype\n",
      "---  ------      --------------  -----\n",
      " 0   sleeping    36220 non-null  int64\n",
      " 1   sex         36220 non-null  int64\n",
      " 2   race        36220 non-null  int64\n",
      " 3   sexharass   36220 non-null  int64\n",
      " 4   smoking     36220 non-null  int64\n",
      " 5   vegetables  36220 non-null  int64\n",
      " 6   soda        36220 non-null  int64\n",
      " 7   breakfast   36220 non-null  int64\n",
      " 8   computer    36220 non-null  int64\n",
      "dtypes: int64(9)\n",
      "memory usage: 2.5 MB\n"
     ]
    }
   ],
   "source": [
    "df1.info()"
   ]
  },
  {
   "cell_type": "code",
   "execution_count": 9,
   "metadata": {},
   "outputs": [
    {
     "data": {
      "text/plain": [
       "0"
      ]
     },
     "execution_count": 9,
     "metadata": {},
     "output_type": "execute_result"
    }
   ],
   "source": [
    "df1.isna().sum().sum()"
   ]
  },
  {
   "cell_type": "code",
   "execution_count": 10,
   "metadata": {},
   "outputs": [
    {
     "data": {
      "text/plain": [
       "<seaborn.axisgrid.PairGrid at 0x29c0a535f08>"
      ]
     },
     "execution_count": 10,
     "metadata": {},
     "output_type": "execute_result"
    },
    {
     "data": {
      "image/png": "[encoded data removed]",
      "text/plain": [
       "<Figure size 1080x180 with 6 Axes>"
      ]
     },
     "metadata": {},
     "output_type": "display_data"
    }
   ],
   "source": [
    "sns.pairplot(data=df1, y_vars=['sleeping'], x_vars=['sexharass', 'smoking', 'vegetables', 'soda', 'breakfast', 'computer'])"
   ]
  },
  {
   "cell_type": "code",
   "execution_count": 11,
   "metadata": {},
   "outputs": [
    {
     "data": {
      "text/html": [
       "<div>\n",
       "<style scoped>\n",
       "    .dataframe tbody tr th:only-of-type {\n",
       "        vertical-align: middle;\n",
       "    }\n",
       "\n",
       "    .dataframe tbody tr th {\n",
       "        vertical-align: top;\n",
       "    }\n",
       "\n",
       "    .dataframe thead th {\n",
       "        text-align: right;\n",
       "    }\n",
       "</style>\n",
       "<table border=\"1\" class=\"dataframe\">\n",
       "  <thead>\n",
       "    <tr style=\"text-align: right;\">\n",
       "      <th></th>\n",
       "      <th>sleeping</th>\n",
       "      <th>sex</th>\n",
       "      <th>race</th>\n",
       "      <th>sexharass</th>\n",
       "      <th>smoking</th>\n",
       "      <th>vegetables</th>\n",
       "      <th>soda</th>\n",
       "      <th>breakfast</th>\n",
       "      <th>computer</th>\n",
       "    </tr>\n",
       "  </thead>\n",
       "  <tbody>\n",
       "    <tr>\n",
       "      <th>sleeping</th>\n",
       "      <td>1.000000</td>\n",
       "      <td>0.050891</td>\n",
       "      <td>-0.073107</td>\n",
       "      <td>-0.100934</td>\n",
       "      <td>-0.097065</td>\n",
       "      <td>0.053879</td>\n",
       "      <td>-0.061425</td>\n",
       "      <td>0.264238</td>\n",
       "      <td>-0.055082</td>\n",
       "    </tr>\n",
       "    <tr>\n",
       "      <th>sex</th>\n",
       "      <td>0.050891</td>\n",
       "      <td>1.000000</td>\n",
       "      <td>-0.008730</td>\n",
       "      <td>-0.131154</td>\n",
       "      <td>0.031740</td>\n",
       "      <td>-0.011861</td>\n",
       "      <td>0.110614</td>\n",
       "      <td>0.060118</td>\n",
       "      <td>0.034058</td>\n",
       "    </tr>\n",
       "    <tr>\n",
       "      <th>race</th>\n",
       "      <td>-0.073107</td>\n",
       "      <td>-0.008730</td>\n",
       "      <td>1.000000</td>\n",
       "      <td>0.014876</td>\n",
       "      <td>-0.029708</td>\n",
       "      <td>-0.022442</td>\n",
       "      <td>-0.052377</td>\n",
       "      <td>-0.037561</td>\n",
       "      <td>0.025410</td>\n",
       "    </tr>\n",
       "    <tr>\n",
       "      <th>sexharass</th>\n",
       "      <td>-0.100934</td>\n",
       "      <td>-0.131154</td>\n",
       "      <td>0.014876</td>\n",
       "      <td>1.000000</td>\n",
       "      <td>0.146019</td>\n",
       "      <td>0.024699</td>\n",
       "      <td>0.051952</td>\n",
       "      <td>-0.084936</td>\n",
       "      <td>0.017453</td>\n",
       "    </tr>\n",
       "    <tr>\n",
       "      <th>smoking</th>\n",
       "      <td>-0.097065</td>\n",
       "      <td>0.031740</td>\n",
       "      <td>-0.029708</td>\n",
       "      <td>0.146019</td>\n",
       "      <td>1.000000</td>\n",
       "      <td>0.003918</td>\n",
       "      <td>0.173174</td>\n",
       "      <td>-0.089880</td>\n",
       "      <td>-0.016917</td>\n",
       "    </tr>\n",
       "    <tr>\n",
       "      <th>vegetables</th>\n",
       "      <td>0.053879</td>\n",
       "      <td>-0.011861</td>\n",
       "      <td>-0.022442</td>\n",
       "      <td>0.024699</td>\n",
       "      <td>0.003918</td>\n",
       "      <td>1.000000</td>\n",
       "      <td>-0.014684</td>\n",
       "      <td>0.157419</td>\n",
       "      <td>-0.033184</td>\n",
       "    </tr>\n",
       "    <tr>\n",
       "      <th>soda</th>\n",
       "      <td>-0.061425</td>\n",
       "      <td>0.110614</td>\n",
       "      <td>-0.052377</td>\n",
       "      <td>0.051952</td>\n",
       "      <td>0.173174</td>\n",
       "      <td>-0.014684</td>\n",
       "      <td>1.000000</td>\n",
       "      <td>-0.087709</td>\n",
       "      <td>0.132579</td>\n",
       "    </tr>\n",
       "    <tr>\n",
       "      <th>breakfast</th>\n",
       "      <td>0.264238</td>\n",
       "      <td>0.060118</td>\n",
       "      <td>-0.037561</td>\n",
       "      <td>-0.084936</td>\n",
       "      <td>-0.089880</td>\n",
       "      <td>0.157419</td>\n",
       "      <td>-0.087709</td>\n",
       "      <td>1.000000</td>\n",
       "      <td>-0.001090</td>\n",
       "    </tr>\n",
       "    <tr>\n",
       "      <th>computer</th>\n",
       "      <td>-0.055082</td>\n",
       "      <td>0.034058</td>\n",
       "      <td>0.025410</td>\n",
       "      <td>0.017453</td>\n",
       "      <td>-0.016917</td>\n",
       "      <td>-0.033184</td>\n",
       "      <td>0.132579</td>\n",
       "      <td>-0.001090</td>\n",
       "      <td>1.000000</td>\n",
       "    </tr>\n",
       "  </tbody>\n",
       "</table>\n",
       "</div>"
      ],
      "text/plain": [
       "            sleeping       sex      race  sexharass   smoking  vegetables  \\\n",
       "sleeping    1.000000  0.050891 -0.073107  -0.100934 -0.097065    0.053879   \n",
       "sex         0.050891  1.000000 -0.008730  -0.131154  0.031740   -0.011861   \n",
       "race       -0.073107 -0.008730  1.000000   0.014876 -0.029708   -0.022442   \n",
       "sexharass  -0.100934 -0.131154  0.014876   1.000000  0.146019    0.024699   \n",
       "smoking    -0.097065  0.031740 -0.029708   0.146019  1.000000    0.003918   \n",
       "vegetables  0.053879 -0.011861 -0.022442   0.024699  0.003918    1.000000   \n",
       "soda       -0.061425  0.110614 -0.052377   0.051952  0.173174   -0.014684   \n",
       "breakfast   0.264238  0.060118 -0.037561  -0.084936 -0.089880    0.157419   \n",
       "computer   -0.055082  0.034058  0.025410   0.017453 -0.016917   -0.033184   \n",
       "\n",
       "                soda  breakfast  computer  \n",
       "sleeping   -0.061425   0.264238 -0.055082  \n",
       "sex         0.110614   0.060118  0.034058  \n",
       "race       -0.052377  -0.037561  0.025410  \n",
       "sexharass   0.051952  -0.084936  0.017453  \n",
       "smoking     0.173174  -0.089880 -0.016917  \n",
       "vegetables -0.014684   0.157419 -0.033184  \n",
       "soda        1.000000  -0.087709  0.132579  \n",
       "breakfast  -0.087709   1.000000 -0.001090  \n",
       "computer    0.132579  -0.001090  1.000000  "
      ]
     },
     "execution_count": 11,
     "metadata": {},
     "output_type": "execute_result"
    }
   ],
   "source": [
    "df1.corr() # doesn't make a lot sense since most of variables are categorical"
   ]
  },
  {
   "cell_type": "code",
   "execution_count": 12,
   "metadata": {},
   "outputs": [
    {
     "data": {
      "text/plain": [
       "<matplotlib.axes._subplots.AxesSubplot at 0x29c10f669c8>"
      ]
     },
     "execution_count": 12,
     "metadata": {},
     "output_type": "execute_result"
    },
    {
     "data": {
      "image/png": "[encoded data removed]",
      "text/plain": [
       "<Figure size 432x360 with 2 Axes>"
      ]
     },
     "metadata": {},
     "output_type": "display_data"
    }
   ],
   "source": [
    "# Draw a correlation heatmap \n",
    "corrmat = df1.corr()\n",
    "sns.heatmap(corrmat, square = True, cmap=\"Blues\")"
   ]
  },
  {
   "cell_type": "code",
   "execution_count": 13,
   "metadata": {},
   "outputs": [
    {
     "data": {
      "text/plain": [
       "<seaborn.axisgrid.FacetGrid at 0x29c12036448>"
      ]
     },
     "execution_count": 13,
     "metadata": {},
     "output_type": "execute_result"
    },
    {
     "data": {
      "image/png": "[encoded data removed]",
      "text/plain": [
       "<Figure size 360x360 with 1 Axes>"
      ]
     },
     "metadata": {},
     "output_type": "display_data"
    }
   ],
   "source": [
    "sns.lmplot(x=\"breakfast\", y=\"sleeping\", data=df1, order=1, ci=95, scatter_kws={'color':'b'}, line_kws={'color':'r'})"
   ]
  },
  {
   "cell_type": "code",
   "execution_count": 14,
   "metadata": {},
   "outputs": [
    {
     "data": {
      "text/plain": [
       "<seaborn.axisgrid.FacetGrid at 0x29c120d8688>"
      ]
     },
     "execution_count": 14,
     "metadata": {},
     "output_type": "execute_result"
    },
    {
     "data": {
      "image/png": "[encoded data removed]",
      "text/plain": [
       "<Figure size 360x360 with 1 Axes>"
      ]
     },
     "metadata": {},
     "output_type": "display_data"
    }
   ],
   "source": [
    "sns.lmplot(x=\"vegetables\", y=\"sleeping\", data=df1, order=1, ci=95, scatter_kws={'color':'b'}, line_kws={'color':'r'})"
   ]
  },
  {
   "cell_type": "markdown",
   "metadata": {},
   "source": [
    "<div style=\"text-align: right\"> <a href='#section_id0'>Back to top of Notebook</a></div>"
   ]
  },
  {
   "cell_type": "markdown",
   "metadata": {},
   "source": [
    "<a id='section_id4'></a>\n",
    "### <span style=\"background-color:#B0E0E6\">Regression Analysis with Statsmodels</span>"
   ]
  },
  {
   "cell_type": "code",
   "execution_count": 15,
   "metadata": {},
   "outputs": [
    {
     "data": {
      "text/html": [
       "<table class=\"simpletable\">\n",
       "<caption>OLS Regression Results</caption>\n",
       "<tr>\n",
       "  <th>Dep. Variable:</th>        <td>sleeping</td>     <th>  R-squared:         </th> <td>   0.089</td> \n",
       "</tr>\n",
       "<tr>\n",
       "  <th>Model:</th>                   <td>OLS</td>       <th>  Adj. R-squared:    </th> <td>   0.089</td> \n",
       "</tr>\n",
       "<tr>\n",
       "  <th>Method:</th>             <td>Least Squares</td>  <th>  F-statistic:       </th> <td>   441.0</td> \n",
       "</tr>\n",
       "<tr>\n",
       "  <th>Date:</th>             <td>Sun, 19 Jul 2020</td> <th>  Prob (F-statistic):</th>  <td>  0.00</td>  \n",
       "</tr>\n",
       "<tr>\n",
       "  <th>Time:</th>                 <td>18:05:23</td>     <th>  Log-Likelihood:    </th> <td> -61870.</td> \n",
       "</tr>\n",
       "<tr>\n",
       "  <th>No. Observations:</th>      <td> 36220</td>      <th>  AIC:               </th> <td>1.238e+05</td>\n",
       "</tr>\n",
       "<tr>\n",
       "  <th>Df Residuals:</th>          <td> 36211</td>      <th>  BIC:               </th> <td>1.238e+05</td>\n",
       "</tr>\n",
       "<tr>\n",
       "  <th>Df Model:</th>              <td>     8</td>      <th>                     </th>     <td> </td>    \n",
       "</tr>\n",
       "<tr>\n",
       "  <th>Covariance Type:</th>      <td>nonrobust</td>    <th>                     </th>     <td> </td>    \n",
       "</tr>\n",
       "</table>\n",
       "<table class=\"simpletable\">\n",
       "<tr>\n",
       "       <td></td>         <th>coef</th>     <th>std err</th>      <th>t</th>      <th>P>|t|</th>  <th>[0.025</th>    <th>0.975]</th>  \n",
       "</tr>\n",
       "<tr>\n",
       "  <th>const</th>      <td>    3.2925</td> <td>    0.038</td> <td>   86.553</td> <td> 0.000</td> <td>    3.218</td> <td>    3.367</td>\n",
       "</tr>\n",
       "<tr>\n",
       "  <th>sex</th>        <td>    0.0956</td> <td>    0.014</td> <td>    6.682</td> <td> 0.000</td> <td>    0.068</td> <td>    0.124</td>\n",
       "</tr>\n",
       "<tr>\n",
       "  <th>race</th>       <td>   -0.0734</td> <td>    0.006</td> <td>  -12.792</td> <td> 0.000</td> <td>   -0.085</td> <td>   -0.062</td>\n",
       "</tr>\n",
       "<tr>\n",
       "  <th>sexharass</th>  <td>   -0.1404</td> <td>    0.011</td> <td>  -12.332</td> <td> 0.000</td> <td>   -0.163</td> <td>   -0.118</td>\n",
       "</tr>\n",
       "<tr>\n",
       "  <th>smoking</th>    <td>   -0.0924</td> <td>    0.007</td> <td>  -12.652</td> <td> 0.000</td> <td>   -0.107</td> <td>   -0.078</td>\n",
       "</tr>\n",
       "<tr>\n",
       "  <th>vegetables</th> <td>    0.0146</td> <td>    0.005</td> <td>    2.791</td> <td> 0.005</td> <td>    0.004</td> <td>    0.025</td>\n",
       "</tr>\n",
       "<tr>\n",
       "  <th>soda</th>       <td>   -0.0241</td> <td>    0.005</td> <td>   -4.938</td> <td> 0.000</td> <td>   -0.034</td> <td>   -0.015</td>\n",
       "</tr>\n",
       "<tr>\n",
       "  <th>breakfast</th>  <td>    0.1284</td> <td>    0.003</td> <td>   47.423</td> <td> 0.000</td> <td>    0.123</td> <td>    0.134</td>\n",
       "</tr>\n",
       "<tr>\n",
       "  <th>computer</th>   <td>   -0.0322</td> <td>    0.003</td> <td>   -9.949</td> <td> 0.000</td> <td>   -0.039</td> <td>   -0.026</td>\n",
       "</tr>\n",
       "</table>\n",
       "<table class=\"simpletable\">\n",
       "<tr>\n",
       "  <th>Omnibus:</th>       <td>118.749</td> <th>  Durbin-Watson:     </th> <td>   1.935</td>\n",
       "</tr>\n",
       "<tr>\n",
       "  <th>Prob(Omnibus):</th> <td> 0.000</td>  <th>  Jarque-Bera (JB):  </th> <td>  99.370</td>\n",
       "</tr>\n",
       "<tr>\n",
       "  <th>Skew:</th>          <td> 0.066</td>  <th>  Prob(JB):          </th> <td>2.64e-22</td>\n",
       "</tr>\n",
       "<tr>\n",
       "  <th>Kurtosis:</th>      <td> 2.780</td>  <th>  Cond. No.          </th> <td>    46.5</td>\n",
       "</tr>\n",
       "</table><br/><br/>Warnings:<br/>[1] Standard Errors assume that the covariance matrix of the errors is correctly specified."
      ],
      "text/plain": [
       "<class 'statsmodels.iolib.summary.Summary'>\n",
       "\"\"\"\n",
       "                            OLS Regression Results                            \n",
       "==============================================================================\n",
       "Dep. Variable:               sleeping   R-squared:                       0.089\n",
       "Model:                            OLS   Adj. R-squared:                  0.089\n",
       "Method:                 Least Squares   F-statistic:                     441.0\n",
       "Date:                Sun, 19 Jul 2020   Prob (F-statistic):               0.00\n",
       "Time:                        18:05:23   Log-Likelihood:                -61870.\n",
       "No. Observations:               36220   AIC:                         1.238e+05\n",
       "Df Residuals:                   36211   BIC:                         1.238e+05\n",
       "Df Model:                           8                                         \n",
       "Covariance Type:            nonrobust                                         \n",
       "==============================================================================\n",
       "                 coef    std err          t      P>|t|      [0.025      0.975]\n",
       "------------------------------------------------------------------------------\n",
       "const          3.2925      0.038     86.553      0.000       3.218       3.367\n",
       "sex            0.0956      0.014      6.682      0.000       0.068       0.124\n",
       "race          -0.0734      0.006    -12.792      0.000      -0.085      -0.062\n",
       "sexharass     -0.1404      0.011    -12.332      0.000      -0.163      -0.118\n",
       "smoking       -0.0924      0.007    -12.652      0.000      -0.107      -0.078\n",
       "vegetables     0.0146      0.005      2.791      0.005       0.004       0.025\n",
       "soda          -0.0241      0.005     -4.938      0.000      -0.034      -0.015\n",
       "breakfast      0.1284      0.003     47.423      0.000       0.123       0.134\n",
       "computer      -0.0322      0.003     -9.949      0.000      -0.039      -0.026\n",
       "==============================================================================\n",
       "Omnibus:                      118.749   Durbin-Watson:                   1.935\n",
       "Prob(Omnibus):                  0.000   Jarque-Bera (JB):               99.370\n",
       "Skew:                           0.066   Prob(JB):                     2.64e-22\n",
       "Kurtosis:                       2.780   Cond. No.                         46.5\n",
       "==============================================================================\n",
       "\n",
       "Warnings:\n",
       "[1] Standard Errors assume that the covariance matrix of the errors is correctly specified.\n",
       "\"\"\""
      ]
     },
     "execution_count": 15,
     "metadata": {},
     "output_type": "execute_result"
    }
   ],
   "source": [
    "y=df1['sleeping']\n",
    "X=df1[['sex', 'race', 'sexharass', 'smoking', 'vegetables', 'soda', 'breakfast', 'computer']]\n",
    "X=sm.add_constant(X)\n",
    "model1 = sm.OLS(y, X) \n",
    "results1 = model1.fit()\n",
    "results1.summary()"
   ]
  },
  {
   "cell_type": "markdown",
   "metadata": {},
   "source": [
    "* All variables are statistically significant."
   ]
  },
  {
   "cell_type": "markdown",
   "metadata": {},
   "source": [
    "<div style=\"text-align: right\"> <a href='#section_id5'>Compare with Scikit model results</a></div>"
   ]
  },
  {
   "cell_type": "markdown",
   "metadata": {},
   "source": [
    "#### Comparing the predicted values with actual values"
   ]
  },
  {
   "cell_type": "code",
   "execution_count": 16,
   "metadata": {},
   "outputs": [
    {
     "data": {
      "text/plain": [
       "0    2.542921\n",
       "1    3.099771\n",
       "2    3.043958\n",
       "3    3.393959\n",
       "4    2.796403\n",
       "dtype: float64"
      ]
     },
     "execution_count": 16,
     "metadata": {},
     "output_type": "execute_result"
    }
   ],
   "source": [
    "predictions1=results1.predict(X)\n",
    "predictions1.head()"
   ]
  },
  {
   "cell_type": "code",
   "execution_count": 17,
   "metadata": {},
   "outputs": [],
   "source": [
    "df1['predicted_sleep']=predictions1"
   ]
  },
  {
   "cell_type": "code",
   "execution_count": 18,
   "metadata": {},
   "outputs": [
    {
     "data": {
      "image/png": "[encoded data removed]",
      "text/plain": [
       "<Figure size 360x360 with 1 Axes>"
      ]
     },
     "metadata": {},
     "output_type": "display_data"
    }
   ],
   "source": [
    "g=sns.relplot(x=\"sleeping\", y=\"predicted_sleep\", data=df1) #store the plot in \"g\"\n",
    "g.set(xlabel=\"Actual sleep hours\", ylabel=\"Predicted sleep hours\") #set lables for axes\n",
    "mn = min(df1.sleeping.min(), df1.predicted_sleep.min()) #generate min coordinates for line\n",
    "mx = max(df1.sleeping.max(), df1.predicted_sleep.max()) #generate max coordinates for line\n",
    "points = np.linspace(mn, mx, 100) #generate points of the line\n",
    "plt.plot(points, points, color='r', linestyle='--', linewidth=1.5) #add the line to the plot\n",
    "plt.show() #show the full plot\n",
    "#plt.gca().plot(points, points, color='r', linestyle='--', linewidth=1.5) #also works"
   ]
  },
  {
   "cell_type": "markdown",
   "metadata": {},
   "source": [
    "#### Evaluate prediction performance using RMSE"
   ]
  },
  {
   "cell_type": "code",
   "execution_count": 19,
   "metadata": {},
   "outputs": [
    {
     "data": {
      "text/plain": [
       "1.3354128787088242"
      ]
     },
     "execution_count": 19,
     "metadata": {},
     "output_type": "execute_result"
    }
   ],
   "source": [
    "sm.tools.eval_measures.rmse(df1.sleeping, df1.predicted_sleep, axis=0)"
   ]
  },
  {
   "cell_type": "code",
   "execution_count": 20,
   "metadata": {},
   "outputs": [
    {
     "data": {
      "text/plain": [
       "1.335412878708824"
      ]
     },
     "execution_count": 20,
     "metadata": {},
     "output_type": "execute_result"
    }
   ],
   "source": [
    "np.sqrt(np.square(df1.sleeping-df1.predicted_sleep).mean()) "
   ]
  },
  {
   "cell_type": "markdown",
   "metadata": {},
   "source": [
    " * Interpretation: Suppose, sleeping duration is measured in hour, our prediction is deviant from the actual values by about 1.34 hours, on average.\n",
    " * Whether that accuracy of prediction is good or not is a subjective decision, depending on the business context."
   ]
  },
  {
   "cell_type": "code",
   "execution_count": 21,
   "metadata": {},
   "outputs": [
    {
     "name": "stdout",
     "output_type": "stream",
     "text": [
      "\n",
      "Regression statistics\n",
      "\n",
      "                      Mean Error (ME) : 0.0000\n",
      "       Root Mean Squared Error (RMSE) : 1.3354\n",
      "            Mean Absolute Error (MAE) : 1.0691\n",
      "          Mean Percentage Error (MPE) : -25.2167\n",
      "Mean Absolute Percentage Error (MAPE) : 46.6518\n"
     ]
    }
   ],
   "source": [
    "# We can also use this handy function from the DMBA package to print all the metrics in one go.\n",
    "regressionSummary(df1.sleeping, df1.predicted_sleep)"
   ]
  },
  {
   "cell_type": "markdown",
   "metadata": {},
   "source": [
    "#### Regression diagnostics"
   ]
  },
  {
   "cell_type": "code",
   "execution_count": 22,
   "metadata": {},
   "outputs": [],
   "source": [
    "residuals=results1.resid #provided by statsmodels\n",
    "# residuals=advertising.Sales-advertising.predicted_sales #manual calculation"
   ]
  },
  {
   "cell_type": "markdown",
   "metadata": {},
   "source": [
    "#### Normality of residuals"
   ]
  },
  {
   "cell_type": "code",
   "execution_count": 23,
   "metadata": {},
   "outputs": [
    {
     "data": {
      "text/plain": [
       "<matplotlib.axes._subplots.AxesSubplot at 0x29c12a4fac8>"
      ]
     },
     "execution_count": 23,
     "metadata": {},
     "output_type": "execute_result"
    },
    {
     "data": {
      "image/png": "[encoded data removed]",
      "text/plain": [
       "<Figure size 432x360 with 1 Axes>"
      ]
     },
     "metadata": {},
     "output_type": "display_data"
    }
   ],
   "source": [
    "sns.distplot(residuals, bins=10, kde=True, hist=True, fit=stats.gamma, fit_kws={\"color\":\"red\"})"
   ]
  },
  {
   "cell_type": "markdown",
   "metadata": {},
   "source": [
    "* The assumption related to the normality of the residuals seem to be okay.\n",
    " * The q-q plot is another way to visualize this. If the residuals are normally distributed, they should all line up along the red reference line in the chart below."
   ]
  },
  {
   "cell_type": "code",
   "execution_count": 24,
   "metadata": {},
   "outputs": [
    {
     "data": {
      "image/png": "[encoded data removed]",
      "text/plain": [
       "<Figure size 432x360 with 1 Axes>"
      ]
     },
     "metadata": {},
     "output_type": "display_data"
    }
   ],
   "source": [
    "fig=sm.qqplot(residuals, stats.t, fit=True, line='45')\n",
    "plt.show()"
   ]
  },
  {
   "cell_type": "markdown",
   "metadata": {},
   "source": [
    "* The QQ-plot seems like a pretty straight line with a light tail. This pattern is relatively harmless and we can proceed with methods that assume normality safely.\n",
    "* Reference: https://arc.lib.montana.edu/book/statistics-with-r-textbook/item/57#This%20pattern%20is%20relatively%20harmless%20and%20you%20can%20proceed%20with%20methods%20that%20assume%20normality%20safely."
   ]
  },
  {
   "cell_type": "markdown",
   "metadata": {},
   "source": [
    "More formal tests of the normality assumption:\n",
    "* Jarque-Bera test compares the skewness and kurtosis of the residuals with the normal distribution. The null hypothesis is that the residuals are normally distributed. So a desirable result is to get a p-value of >0.05 in the hypothesis test using the JB test.\n",
    "* Skewness of the normal distribution is 0.\n",
    "* Kurtosis of the normal distribution is 3. \n",
    "* The omni_normtest is similar to the JB test and uses both kurtosis and skewness to formulate a test statistic. Once again, the null hypothesis is that the residuals are normally distributed."
   ]
  },
  {
   "cell_type": "code",
   "execution_count": 25,
   "metadata": {},
   "outputs": [
    {
     "data": {
      "text/plain": [
       "[('Jarque-Bera', 99.36998191384278),\n",
       " ('Chi^2 two-tail prob.', 2.6429113376263764e-22),\n",
       " ('Skew', 0.06566213076263207),\n",
       " ('Kurtosis', 2.779549980095038)]"
      ]
     },
     "execution_count": 25,
     "metadata": {},
     "output_type": "execute_result"
    }
   ],
   "source": [
    "name = ['Jarque-Bera', 'Chi^2 two-tail prob.', 'Skew', 'Kurtosis']\n",
    "test = sms.jarque_bera(results1.resid)\n",
    "lzip(name, test)"
   ]
  },
  {
   "cell_type": "code",
   "execution_count": 26,
   "metadata": {},
   "outputs": [
    {
     "data": {
      "text/plain": [
       "[('Chi^2', 118.7493308736093),\n",
       " ('Two-tail probability', 1.6364789974270564e-26)]"
      ]
     },
     "execution_count": 26,
     "metadata": {},
     "output_type": "execute_result"
    }
   ],
   "source": [
    "name = ['Chi^2', 'Two-tail probability']\n",
    "test = sms.omni_normtest(results1.resid)\n",
    "lzip(name, test)"
   ]
  },
  {
   "cell_type": "markdown",
   "metadata": {},
   "source": [
    "#### Heteroskedasticity"
   ]
  },
  {
   "cell_type": "markdown",
   "metadata": {},
   "source": [
    "* Null hypothesis in these tests is homoskedasticity or the residual variance does not depend on the variables in the X matrix.\n",
    "* In the BP test, heteroskedasticity is treated as a linear function of all the independent variables in the model.\n",
    "* In the GQ test, sample observations are divided into two groups, and evidence of heteroskedasticity is based on a comparison of the residual sum of squares (RSS) using the F-statistic."
   ]
  },
  {
   "cell_type": "code",
   "execution_count": 27,
   "metadata": {},
   "outputs": [
    {
     "data": {
      "text/plain": [
       "[('Lagrange multiplier statistic', 411.00618600357876),\n",
       " ('p-value', 8.275605470936843e-84),\n",
       " ('f-value', 51.952538371653425),\n",
       " ('f p-value', 2.6891392584379348e-84)]"
      ]
     },
     "execution_count": 27,
     "metadata": {},
     "output_type": "execute_result"
    }
   ],
   "source": [
    "name = ['Lagrange multiplier statistic', 'p-value', 'f-value', 'f p-value']\n",
    "test = sms.het_breuschpagan(results1.resid, results1.model.exog)\n",
    "lzip(name, test)"
   ]
  },
  {
   "cell_type": "markdown",
   "metadata": {},
   "source": [
    "* Since p-value is less than 0.05, we fail to reject null hypothesis and say residual is normally distributed."
   ]
  },
  {
   "cell_type": "code",
   "execution_count": 28,
   "metadata": {},
   "outputs": [
    {
     "data": {
      "text/plain": [
       "[('F statistic', 0.8976721808136641), ('p-value', 0.9999999999998064)]"
      ]
     },
     "execution_count": 28,
     "metadata": {},
     "output_type": "execute_result"
    }
   ],
   "source": [
    "name = ['F statistic', 'p-value']\n",
    "test = sms.het_goldfeldquandt(results1.resid, results1.model.exog)\n",
    "lzip(name, test)"
   ]
  },
  {
   "cell_type": "markdown",
   "metadata": {},
   "source": [
    "#### Multicollinearity\n",
    "* Condition number is a metric that tries to capture the variables that are similarly explaining high proportions of variances in the response variable.\n",
    "* Condition numbers above 30 usually indicate the presence of multicollinearity."
   ]
  },
  {
   "cell_type": "code",
   "execution_count": 29,
   "metadata": {},
   "outputs": [
    {
     "data": {
      "text/plain": [
       "46.46683613319301"
      ]
     },
     "execution_count": 29,
     "metadata": {},
     "output_type": "execute_result"
    }
   ],
   "source": [
    "np.linalg.cond(results1.model.exog)"
   ]
  },
  {
   "cell_type": "markdown",
   "metadata": {},
   "source": [
    "* Since the condition number is greater than 30, we say there exists multicolinearity among independent variables."
   ]
  },
  {
   "cell_type": "markdown",
   "metadata": {},
   "source": [
    "#### Outliers\n",
    "* Influential observations can be identified through the leverage plot.\n",
    "* As a sensitivity test, we can try to omit these influential observations and see if the hypothesis testing results vary."
   ]
  },
  {
   "cell_type": "code",
   "execution_count": 30,
   "metadata": {},
   "outputs": [
    {
     "data": {
      "text/plain": [
       "array([[ 1.69668540e-02, -1.01297543e-02, -9.36510124e-03,\n",
       "        -2.57581464e-02, -1.33583052e-02, -1.78979834e-03,\n",
       "         5.71360667e-03,  2.33755217e-03,  2.52587244e-03],\n",
       "       [-5.20541245e-03, -1.03143699e-02, -5.50046304e-03,\n",
       "         1.42709493e-03,  1.86319936e-03,  1.20633414e-03,\n",
       "         8.34427260e-03,  1.36908994e-02,  6.61758251e-03],\n",
       "       [-5.70607101e-03, -1.00101757e-02, -1.19546239e-02,\n",
       "         1.22138949e-03,  1.72903401e-03,  7.18696807e-03,\n",
       "         7.25186058e-03,  1.20530195e-02,  1.05557950e-02],\n",
       "       [ 1.87090662e-03, -1.28500153e-03, -2.60764662e-03,\n",
       "         3.55316688e-04,  7.92104151e-04, -6.09371710e-04,\n",
       "        -2.81163270e-03, -1.50248405e-05,  4.30041801e-04],\n",
       "       [-1.88824412e-03,  4.09938570e-04,  1.43926523e-03,\n",
       "        -7.82370896e-04,  3.72911958e-03, -2.98937251e-04,\n",
       "         1.19741678e-03,  4.23137569e-04,  9.66057883e-04]])"
      ]
     },
     "execution_count": 30,
     "metadata": {},
     "output_type": "execute_result"
    }
   ],
   "source": [
    "test_class = OLSInfluence(results1)\n",
    "test_class.dfbetas[:5,:]"
   ]
  },
  {
   "cell_type": "code",
   "execution_count": 34,
   "metadata": {},
   "outputs": [
    {
     "data": {
      "image/png": "[encoded data removed]",
      "text/plain": [
       "<Figure size 576x432 with 1 Axes>"
      ]
     },
     "metadata": {},
     "output_type": "display_data"
    }
   ],
   "source": [
    "fig, ax = plt.subplots(figsize=(8,6))\n",
    "fig = plot_leverage_resid2(results1, ax = ax)"
   ]
  },
  {
   "cell_type": "markdown",
   "metadata": {},
   "source": [
    "* observations #  may be an outlier. "
   ]
  },
  {
   "cell_type": "markdown",
   "metadata": {},
   "source": [
    "#### Re-training the model: Exploring alternatives with interactions"
   ]
  },
  {
   "cell_type": "code",
   "execution_count": 35,
   "metadata": {},
   "outputs": [],
   "source": [
    "df1['comp_soda']=df1['computer']*df1['soda']"
   ]
  },
  {
   "cell_type": "markdown",
   "metadata": {},
   "source": [
    "#### Visualizing the interaction\n",
    "* We can split one of the interaction term along the median for visualizing the effect\n",
    "* Incomescale can be above or below median levels\n",
    "* We can show the relationship between health and town size at the two levels of Incomescale\n",
    "* Significant differences in the slopes provide clues about potential interaction effects"
   ]
  },
  {
   "cell_type": "code",
   "execution_count": 38,
   "metadata": {},
   "outputs": [
    {
     "data": {
      "text/plain": [
       "<seaborn.axisgrid.FacetGrid at 0x127a0673b08>"
      ]
     },
     "execution_count": 38,
     "metadata": {},
     "output_type": "execute_result"
    },
    {
     "data": {
      "image/png": "[encoded data removed]",
      "text/plain": [
       "<Figure size 479.35x360 with 1 Axes>"
      ]
     },
     "metadata": {},
     "output_type": "display_data"
    }
   ],
   "source": [
    "df2=df1\n",
    "df2['computer_med'] = df2.computer > df2.computer.median()\n",
    "df2['computer_med'] = np.where(df2.computer_med == False, \"Below Median\", \"Above Median\")\n",
    "sns.lmplot(x='soda', y='sleeping', hue='computer_med', data=df1)"
   ]
  },
  {
   "cell_type": "markdown",
   "metadata": {},
   "source": [
    "* Seems like no interatcion because the slope of two lines are roughly the same."
   ]
  },
  {
   "cell_type": "code",
   "execution_count": 40,
   "metadata": {},
   "outputs": [],
   "source": [
    "df1['sex_smoke']=df1['sexharass']*df1['smoking']"
   ]
  },
  {
   "cell_type": "code",
   "execution_count": 42,
   "metadata": {
    "scrolled": true
   },
   "outputs": [
    {
     "data": {
      "text/plain": [
       "<seaborn.axisgrid.FacetGrid at 0x1279fe72ac8>"
      ]
     },
     "execution_count": 42,
     "metadata": {},
     "output_type": "execute_result"
    },
    {
     "data": {
      "image/png": "[encoded data removed]",
      "text/plain": [
       "<Figure size 479.35x360 with 1 Axes>"
      ]
     },
     "metadata": {},
     "output_type": "display_data"
    }
   ],
   "source": [
    "df2=df1\n",
    "df2['smoke_med'] = df2.smoking > df2.smoking.median()\n",
    "df2['smoke_med'] = np.where(df2.smoke_med == False, \"Below Median\", \"Above Median\")\n",
    "sns.lmplot(x='sexharass', y='sleeping', hue='smoke_med', data=df1)"
   ]
  },
  {
   "cell_type": "markdown",
   "metadata": {},
   "source": [
    "* Seems like no interatcion because the slope of two lines are roughly the same."
   ]
  },
  {
   "cell_type": "code",
   "execution_count": 43,
   "metadata": {},
   "outputs": [],
   "source": [
    "df1['comp_smoke']=df1['computer']*df1['smoking']"
   ]
  },
  {
   "cell_type": "code",
   "execution_count": 44,
   "metadata": {},
   "outputs": [
    {
     "data": {
      "text/plain": [
       "<seaborn.axisgrid.FacetGrid at 0x1279ff61688>"
      ]
     },
     "execution_count": 44,
     "metadata": {},
     "output_type": "execute_result"
    },
    {
     "data": {
      "image/png": "[encoded data removed]",
      "text/plain": [
       "<Figure size 479.35x360 with 1 Axes>"
      ]
     },
     "metadata": {},
     "output_type": "display_data"
    }
   ],
   "source": [
    "df2=df1\n",
    "df2['computer_med'] = df2.computer > df2.computer.median()\n",
    "df2['computer_med'] = np.where(df2.computer_med == False, \"Below Median\", \"Above Median\")\n",
    "sns.lmplot(x='smoking', y='sleeping', hue='computer_med', data=df1)"
   ]
  },
  {
   "cell_type": "code",
   "execution_count": 45,
   "metadata": {},
   "outputs": [],
   "source": [
    "df1['soda_smoke']=df1['soda']*df1['smoking']"
   ]
  },
  {
   "cell_type": "code",
   "execution_count": 46,
   "metadata": {},
   "outputs": [
    {
     "data": {
      "text/plain": [
       "<seaborn.axisgrid.FacetGrid at 0x127a08b0888>"
      ]
     },
     "execution_count": 46,
     "metadata": {},
     "output_type": "execute_result"
    },
    {
     "data": {
      "image/png": "[encoded data removed]",
      "text/plain": [
       "<Figure size 479.35x360 with 1 Axes>"
      ]
     },
     "metadata": {},
     "output_type": "display_data"
    }
   ],
   "source": [
    "df2=df1\n",
    "df2['smoke_med'] = df2.smoking > df2.smoking.median()\n",
    "df2['smoke_med'] = np.where(df2.smoke_med == False, \"Below Median\", \"Above Median\")\n",
    "sns.lmplot(x='soda', y='sleeping', hue='smoke_med', data=df1)"
   ]
  },
  {
   "cell_type": "code",
   "execution_count": 47,
   "metadata": {},
   "outputs": [],
   "source": [
    "df1['veg_smoke']=df1['vegetables']*df1['smoking']"
   ]
  },
  {
   "cell_type": "code",
   "execution_count": 48,
   "metadata": {},
   "outputs": [
    {
     "data": {
      "text/plain": [
       "<seaborn.axisgrid.FacetGrid at 0x127a0b5f748>"
      ]
     },
     "execution_count": 48,
     "metadata": {},
     "output_type": "execute_result"
    },
    {
     "data": {
      "image/png": "[encoded data removed]",
      "text/plain": [
       "<Figure size 479.35x360 with 1 Axes>"
      ]
     },
     "metadata": {},
     "output_type": "display_data"
    }
   ],
   "source": [
    "df2=df1\n",
    "df2['smoke_med'] = df2.smoking > df2.smoking.median()\n",
    "df2['smoke_med'] = np.where(df2.smoke_med == False, \"Below Median\", \"Above Median\")\n",
    "sns.lmplot(x='vegetables', y='sleeping', hue='smoke_med', data=df1)"
   ]
  },
  {
   "cell_type": "code",
   "execution_count": 49,
   "metadata": {},
   "outputs": [],
   "source": [
    "df1['break_smoke']=df1['breakfast']*df1['smoking']"
   ]
  },
  {
   "cell_type": "code",
   "execution_count": 50,
   "metadata": {},
   "outputs": [
    {
     "data": {
      "text/plain": [
       "<seaborn.axisgrid.FacetGrid at 0x127a0c0f608>"
      ]
     },
     "execution_count": 50,
     "metadata": {},
     "output_type": "execute_result"
    },
    {
     "data": {
      "image/png": "[encoded data removed]",
      "text/plain": [
       "<Figure size 479.35x360 with 1 Axes>"
      ]
     },
     "metadata": {},
     "output_type": "display_data"
    }
   ],
   "source": [
    "df2=df1\n",
    "df2['smoke_med'] = df2.smoking > df2.smoking.median()\n",
    "df2['smoke_med'] = np.where(df2.smoke_med == False, \"Below Median\", \"Above Median\")\n",
    "sns.lmplot(x='breakfast', y='sleeping', hue='smoke_med', data=df1)"
   ]
  },
  {
   "cell_type": "code",
   "execution_count": 51,
   "metadata": {},
   "outputs": [],
   "source": [
    "df1['sexual_race']=df1['sexharass']*df1['race']"
   ]
  },
  {
   "cell_type": "code",
   "execution_count": 56,
   "metadata": {},
   "outputs": [
    {
     "data": {
      "text/plain": [
       "<seaborn.axisgrid.FacetGrid at 0x127a2a5e948>"
      ]
     },
     "execution_count": 56,
     "metadata": {},
     "output_type": "execute_result"
    },
    {
     "data": {
      "image/png": "[encoded data removed]",
      "text/plain": [
       "<Figure size 479.35x360 with 1 Axes>"
      ]
     },
     "metadata": {},
     "output_type": "display_data"
    }
   ],
   "source": [
    "df2=df1\n",
    "df2['sexual_med'] = df2.sexharass > df2.sexharass.median()\n",
    "df2['sexual_med'] = np.where(df2.sexual_med == False, \"Below Median\", \"Above Median\")\n",
    "sns.lmplot(x='race', y='sleeping', hue='sexual_med', data=df1)"
   ]
  },
  {
   "cell_type": "code",
   "execution_count": 57,
   "metadata": {},
   "outputs": [
    {
     "data": {
      "text/html": [
       "<div>\n",
       "<style scoped>\n",
       "    .dataframe tbody tr th:only-of-type {\n",
       "        vertical-align: middle;\n",
       "    }\n",
       "\n",
       "    .dataframe tbody tr th {\n",
       "        vertical-align: top;\n",
       "    }\n",
       "\n",
       "    .dataframe thead th {\n",
       "        text-align: right;\n",
       "    }\n",
       "</style>\n",
       "<table border=\"1\" class=\"dataframe\">\n",
       "  <thead>\n",
       "    <tr style=\"text-align: right;\">\n",
       "      <th></th>\n",
       "      <th>sleeping</th>\n",
       "      <th>sex</th>\n",
       "      <th>race</th>\n",
       "      <th>sexharass</th>\n",
       "      <th>smoking</th>\n",
       "      <th>vegetables</th>\n",
       "      <th>soda</th>\n",
       "      <th>breakfast</th>\n",
       "      <th>computer</th>\n",
       "      <th>predicted_sleep</th>\n",
       "      <th>...</th>\n",
       "      <th>computer_med</th>\n",
       "      <th>sex_smoke</th>\n",
       "      <th>smoke_med</th>\n",
       "      <th>comp_smoke</th>\n",
       "      <th>soda_smoke</th>\n",
       "      <th>veg_smoke</th>\n",
       "      <th>break_smoke</th>\n",
       "      <th>smoking_med</th>\n",
       "      <th>race_med</th>\n",
       "      <th>sexual_med</th>\n",
       "    </tr>\n",
       "  </thead>\n",
       "  <tbody>\n",
       "    <tr>\n",
       "      <th>0</th>\n",
       "      <td>1</td>\n",
       "      <td>2</td>\n",
       "      <td>4</td>\n",
       "      <td>4</td>\n",
       "      <td>4</td>\n",
       "      <td>3</td>\n",
       "      <td>2</td>\n",
       "      <td>3</td>\n",
       "      <td>3</td>\n",
       "      <td>2.542921</td>\n",
       "      <td>...</td>\n",
       "      <td>Above Median</td>\n",
       "      <td>8</td>\n",
       "      <td>Above Median</td>\n",
       "      <td>12</td>\n",
       "      <td>8</td>\n",
       "      <td>12</td>\n",
       "      <td>12</td>\n",
       "      <td>True</td>\n",
       "      <td>Above Median</td>\n",
       "      <td>Above Median</td>\n",
       "    </tr>\n",
       "    <tr>\n",
       "      <th>1</th>\n",
       "      <td>1</td>\n",
       "      <td>2</td>\n",
       "      <td>3</td>\n",
       "      <td>1</td>\n",
       "      <td>1</td>\n",
       "      <td>2</td>\n",
       "      <td>1</td>\n",
       "      <td>1</td>\n",
       "      <td>2</td>\n",
       "      <td>3.099771</td>\n",
       "      <td>...</td>\n",
       "      <td>Below Median</td>\n",
       "      <td>2</td>\n",
       "      <td>Below Median</td>\n",
       "      <td>2</td>\n",
       "      <td>1</td>\n",
       "      <td>2</td>\n",
       "      <td>1</td>\n",
       "      <td>False</td>\n",
       "      <td>Above Median</td>\n",
       "      <td>Below Median</td>\n",
       "    </tr>\n",
       "    <tr>\n",
       "      <th>2</th>\n",
       "      <td>1</td>\n",
       "      <td>2</td>\n",
       "      <td>4</td>\n",
       "      <td>1</td>\n",
       "      <td>1</td>\n",
       "      <td>1</td>\n",
       "      <td>1</td>\n",
       "      <td>1</td>\n",
       "      <td>1</td>\n",
       "      <td>3.043958</td>\n",
       "      <td>...</td>\n",
       "      <td>Below Median</td>\n",
       "      <td>2</td>\n",
       "      <td>Below Median</td>\n",
       "      <td>1</td>\n",
       "      <td>1</td>\n",
       "      <td>1</td>\n",
       "      <td>1</td>\n",
       "      <td>False</td>\n",
       "      <td>Above Median</td>\n",
       "      <td>Below Median</td>\n",
       "    </tr>\n",
       "  </tbody>\n",
       "</table>\n",
       "<p>3 rows × 21 columns</p>\n",
       "</div>"
      ],
      "text/plain": [
       "   sleeping  sex  race  sexharass  smoking  vegetables  soda  breakfast  \\\n",
       "0         1    2     4          4        4           3     2          3   \n",
       "1         1    2     3          1        1           2     1          1   \n",
       "2         1    2     4          1        1           1     1          1   \n",
       "\n",
       "   computer  predicted_sleep  ...  computer_med sex_smoke     smoke_med  \\\n",
       "0         3         2.542921  ...  Above Median         8  Above Median   \n",
       "1         2         3.099771  ...  Below Median         2  Below Median   \n",
       "2         1         3.043958  ...  Below Median         2  Below Median   \n",
       "\n",
       "  comp_smoke  soda_smoke  veg_smoke  break_smoke  smoking_med      race_med  \\\n",
       "0         12           8         12           12         True  Above Median   \n",
       "1          2           1          2            1        False  Above Median   \n",
       "2          1           1          1            1        False  Above Median   \n",
       "\n",
       "     sexual_med  \n",
       "0  Above Median  \n",
       "1  Below Median  \n",
       "2  Below Median  \n",
       "\n",
       "[3 rows x 21 columns]"
      ]
     },
     "execution_count": 57,
     "metadata": {},
     "output_type": "execute_result"
    }
   ],
   "source": [
    "df1.head(3)"
   ]
  },
  {
   "cell_type": "code",
   "execution_count": 61,
   "metadata": {},
   "outputs": [
    {
     "data": {
      "text/html": [
       "<table class=\"simpletable\">\n",
       "<caption>OLS Regression Results</caption>\n",
       "<tr>\n",
       "  <th>Dep. Variable:</th>        <td>sleeping</td>     <th>  R-squared:         </th> <td>   0.089</td> \n",
       "</tr>\n",
       "<tr>\n",
       "  <th>Model:</th>                   <td>OLS</td>       <th>  Adj. R-squared:    </th> <td>   0.089</td> \n",
       "</tr>\n",
       "<tr>\n",
       "  <th>Method:</th>             <td>Least Squares</td>  <th>  F-statistic:       </th> <td>   253.0</td> \n",
       "</tr>\n",
       "<tr>\n",
       "  <th>Date:</th>             <td>Mon, 13 Jul 2020</td> <th>  Prob (F-statistic):</th>  <td>  0.00</td>  \n",
       "</tr>\n",
       "<tr>\n",
       "  <th>Time:</th>                 <td>15:44:15</td>     <th>  Log-Likelihood:    </th> <td> -61864.</td> \n",
       "</tr>\n",
       "<tr>\n",
       "  <th>No. Observations:</th>      <td> 36220</td>      <th>  AIC:               </th> <td>1.238e+05</td>\n",
       "</tr>\n",
       "<tr>\n",
       "  <th>Df Residuals:</th>          <td> 36205</td>      <th>  BIC:               </th> <td>1.239e+05</td>\n",
       "</tr>\n",
       "<tr>\n",
       "  <th>Df Model:</th>              <td>    14</td>      <th>                     </th>     <td> </td>    \n",
       "</tr>\n",
       "<tr>\n",
       "  <th>Covariance Type:</th>      <td>nonrobust</td>    <th>                     </th>     <td> </td>    \n",
       "</tr>\n",
       "</table>\n",
       "<table class=\"simpletable\">\n",
       "<tr>\n",
       "       <td></td>          <th>coef</th>     <th>std err</th>      <th>t</th>      <th>P>|t|</th>  <th>[0.025</th>    <th>0.975]</th>  \n",
       "</tr>\n",
       "<tr>\n",
       "  <th>const</th>       <td>    3.1844</td> <td>    0.065</td> <td>   49.263</td> <td> 0.000</td> <td>    3.058</td> <td>    3.311</td>\n",
       "</tr>\n",
       "<tr>\n",
       "  <th>sex</th>         <td>    0.1783</td> <td>    0.033</td> <td>    5.337</td> <td> 0.000</td> <td>    0.113</td> <td>    0.244</td>\n",
       "</tr>\n",
       "<tr>\n",
       "  <th>race</th>        <td>   -0.0492</td> <td>    0.018</td> <td>   -2.741</td> <td> 0.006</td> <td>   -0.084</td> <td>   -0.014</td>\n",
       "</tr>\n",
       "<tr>\n",
       "  <th>sexharass</th>   <td>   -0.1413</td> <td>    0.011</td> <td>  -12.387</td> <td> 0.000</td> <td>   -0.164</td> <td>   -0.119</td>\n",
       "</tr>\n",
       "<tr>\n",
       "  <th>smoking</th>     <td>   -0.0437</td> <td>    0.030</td> <td>   -1.464</td> <td> 0.143</td> <td>   -0.102</td> <td>    0.015</td>\n",
       "</tr>\n",
       "<tr>\n",
       "  <th>vegetables</th>  <td>    0.0072</td> <td>    0.008</td> <td>    0.912</td> <td> 0.362</td> <td>   -0.008</td> <td>    0.023</td>\n",
       "</tr>\n",
       "<tr>\n",
       "  <th>soda</th>        <td>   -0.0213</td> <td>    0.007</td> <td>   -2.999</td> <td> 0.003</td> <td>   -0.035</td> <td>   -0.007</td>\n",
       "</tr>\n",
       "<tr>\n",
       "  <th>breakfast</th>   <td>    0.1314</td> <td>    0.004</td> <td>   29.907</td> <td> 0.000</td> <td>    0.123</td> <td>    0.140</td>\n",
       "</tr>\n",
       "<tr>\n",
       "  <th>computer</th>    <td>   -0.0372</td> <td>    0.005</td> <td>   -7.246</td> <td> 0.000</td> <td>   -0.047</td> <td>   -0.027</td>\n",
       "</tr>\n",
       "<tr>\n",
       "  <th>sex_race</th>    <td>   -0.0163</td> <td>    0.011</td> <td>   -1.421</td> <td> 0.155</td> <td>   -0.039</td> <td>    0.006</td>\n",
       "</tr>\n",
       "<tr>\n",
       "  <th>sex_smoke</th>   <td>   -0.0394</td> <td>    0.014</td> <td>   -2.733</td> <td> 0.006</td> <td>   -0.068</td> <td>   -0.011</td>\n",
       "</tr>\n",
       "<tr>\n",
       "  <th>comp_smoke</th>  <td>    0.0037</td> <td>    0.003</td> <td>    1.183</td> <td> 0.237</td> <td>   -0.002</td> <td>    0.010</td>\n",
       "</tr>\n",
       "<tr>\n",
       "  <th>soda_smoke</th>  <td>   -0.0020</td> <td>    0.004</td> <td>   -0.548</td> <td> 0.584</td> <td>   -0.009</td> <td>    0.005</td>\n",
       "</tr>\n",
       "<tr>\n",
       "  <th>veg_smoke</th>   <td>    0.0058</td> <td>    0.005</td> <td>    1.290</td> <td> 0.197</td> <td>   -0.003</td> <td>    0.015</td>\n",
       "</tr>\n",
       "<tr>\n",
       "  <th>break_smoke</th> <td>   -0.0024</td> <td>    0.003</td> <td>   -0.850</td> <td> 0.395</td> <td>   -0.008</td> <td>    0.003</td>\n",
       "</tr>\n",
       "</table>\n",
       "<table class=\"simpletable\">\n",
       "<tr>\n",
       "  <th>Omnibus:</th>       <td>118.732</td> <th>  Durbin-Watson:     </th> <td>   1.935</td>\n",
       "</tr>\n",
       "<tr>\n",
       "  <th>Prob(Omnibus):</th> <td> 0.000</td>  <th>  Jarque-Bera (JB):  </th> <td>  99.215</td>\n",
       "</tr>\n",
       "<tr>\n",
       "  <th>Skew:</th>          <td> 0.065</td>  <th>  Prob(JB):          </th> <td>2.86e-22</td>\n",
       "</tr>\n",
       "<tr>\n",
       "  <th>Kurtosis:</th>      <td> 2.779</td>  <th>  Cond. No.          </th> <td>    152.</td>\n",
       "</tr>\n",
       "</table><br/><br/>Warnings:<br/>[1] Standard Errors assume that the covariance matrix of the errors is correctly specified."
      ],
      "text/plain": [
       "<class 'statsmodels.iolib.summary.Summary'>\n",
       "\"\"\"\n",
       "                            OLS Regression Results                            \n",
       "==============================================================================\n",
       "Dep. Variable:               sleeping   R-squared:                       0.089\n",
       "Model:                            OLS   Adj. R-squared:                  0.089\n",
       "Method:                 Least Squares   F-statistic:                     253.0\n",
       "Date:                Mon, 13 Jul 2020   Prob (F-statistic):               0.00\n",
       "Time:                        15:44:15   Log-Likelihood:                -61864.\n",
       "No. Observations:               36220   AIC:                         1.238e+05\n",
       "Df Residuals:                   36205   BIC:                         1.239e+05\n",
       "Df Model:                          14                                         \n",
       "Covariance Type:            nonrobust                                         \n",
       "===============================================================================\n",
       "                  coef    std err          t      P>|t|      [0.025      0.975]\n",
       "-------------------------------------------------------------------------------\n",
       "const           3.1844      0.065     49.263      0.000       3.058       3.311\n",
       "sex             0.1783      0.033      5.337      0.000       0.113       0.244\n",
       "race           -0.0492      0.018     -2.741      0.006      -0.084      -0.014\n",
       "sexharass      -0.1413      0.011    -12.387      0.000      -0.164      -0.119\n",
       "smoking        -0.0437      0.030     -1.464      0.143      -0.102       0.015\n",
       "vegetables      0.0072      0.008      0.912      0.362      -0.008       0.023\n",
       "soda           -0.0213      0.007     -2.999      0.003      -0.035      -0.007\n",
       "breakfast       0.1314      0.004     29.907      0.000       0.123       0.140\n",
       "computer       -0.0372      0.005     -7.246      0.000      -0.047      -0.027\n",
       "sex_race       -0.0163      0.011     -1.421      0.155      -0.039       0.006\n",
       "sex_smoke      -0.0394      0.014     -2.733      0.006      -0.068      -0.011\n",
       "comp_smoke      0.0037      0.003      1.183      0.237      -0.002       0.010\n",
       "soda_smoke     -0.0020      0.004     -0.548      0.584      -0.009       0.005\n",
       "veg_smoke       0.0058      0.005      1.290      0.197      -0.003       0.015\n",
       "break_smoke    -0.0024      0.003     -0.850      0.395      -0.008       0.003\n",
       "==============================================================================\n",
       "Omnibus:                      118.732   Durbin-Watson:                   1.935\n",
       "Prob(Omnibus):                  0.000   Jarque-Bera (JB):               99.215\n",
       "Skew:                           0.065   Prob(JB):                     2.86e-22\n",
       "Kurtosis:                       2.779   Cond. No.                         152.\n",
       "==============================================================================\n",
       "\n",
       "Warnings:\n",
       "[1] Standard Errors assume that the covariance matrix of the errors is correctly specified.\n",
       "\"\"\""
      ]
     },
     "execution_count": 61,
     "metadata": {},
     "output_type": "execute_result"
    }
   ],
   "source": [
    "y=df1['sleeping']\n",
    "X2=df1.drop(['sleeping','computer_med','smoke_med','sexual_med', 'smoking_med', 'race_med', 'predicted_sleep'], axis=1).astype('float64')\n",
    "X2=sm.add_constant(X2)\n",
    "model2 = sm.OLS(y, X2) \n",
    "results2 = model2.fit()\n",
    "results2.summary()"
   ]
  },
  {
   "cell_type": "markdown",
   "metadata": {},
   "source": [
    "* It looks like among all interaciton terms, only sex_smoke is statistically significant."
   ]
  },
  {
   "cell_type": "code",
   "execution_count": 63,
   "metadata": {},
   "outputs": [],
   "source": [
    "predictions2=results2.predict(X2)\n",
    "df1['predicted_sleep2']=predictions2"
   ]
  },
  {
   "cell_type": "code",
   "execution_count": 64,
   "metadata": {},
   "outputs": [
    {
     "data": {
      "image/png": "[encoded data removed]",
      "text/plain": [
       "<Figure size 360x360 with 1 Axes>"
      ]
     },
     "metadata": {},
     "output_type": "display_data"
    }
   ],
   "source": [
    "g2=sns.relplot(x=\"sleeping\", y=\"predicted_sleep2\", data=df1) #store the plot in \"g2\"\n",
    "g2.set(xlabel=\"Actual sleep duration\", ylabel=\"Predicted sleep duration\") #set lables for axes\n",
    "mn2 = min(df1.sleeping.min(), df1.predicted_sleep2.min()) #generate min coordinates for line\n",
    "mx2 = max(df1.sleeping.max(), df1.predicted_sleep2.max()) #generate max coordinates for line\n",
    "points2 = np.linspace(mn2, mx2, 100) #generate points of the line\n",
    "plt.plot(points2, points2, color='g', linestyle='--', linewidth=1.5) #add the line to the plot\n",
    "plt.show() #show the full plot\n",
    "#plt.gca().plot(points, points, color='r', linestyle='--', linewidth=1.5) #also works"
   ]
  },
  {
   "cell_type": "code",
   "execution_count": 65,
   "metadata": {},
   "outputs": [
    {
     "data": {
      "text/plain": [
       "1.3351662975354046"
      ]
     },
     "execution_count": 65,
     "metadata": {},
     "output_type": "execute_result"
    }
   ],
   "source": [
    "sm.tools.eval_measures.rmse(df1.sleeping, df1.predicted_sleep2, axis=0)"
   ]
  },
  {
   "cell_type": "markdown",
   "metadata": {},
   "source": [
    "<Mark>Interpretation:</Mark> Suppose, sleep duration is measured in hour, our prediction is deviant from the actual values by about 1.34 hours, on average. Model 2 seems to have the same prediction accuracy than Model 1<br> "
   ]
  },
  {
   "cell_type": "markdown",
   "metadata": {},
   "source": [
    "#### An alternative way to specify models in Statsmodels"
   ]
  },
  {
   "cell_type": "code",
   "execution_count": 70,
   "metadata": {},
   "outputs": [
    {
     "data": {
      "text/html": [
       "<table class=\"simpletable\">\n",
       "<caption>OLS Regression Results</caption>\n",
       "<tr>\n",
       "  <th>Dep. Variable:</th>        <td>sleeping</td>     <th>  R-squared:         </th> <td>   0.089</td> \n",
       "</tr>\n",
       "<tr>\n",
       "  <th>Model:</th>                   <td>OLS</td>       <th>  Adj. R-squared:    </th> <td>   0.089</td> \n",
       "</tr>\n",
       "<tr>\n",
       "  <th>Method:</th>             <td>Least Squares</td>  <th>  F-statistic:       </th> <td>   253.0</td> \n",
       "</tr>\n",
       "<tr>\n",
       "  <th>Date:</th>             <td>Mon, 13 Jul 2020</td> <th>  Prob (F-statistic):</th>  <td>  0.00</td>  \n",
       "</tr>\n",
       "<tr>\n",
       "  <th>Time:</th>                 <td>15:56:59</td>     <th>  Log-Likelihood:    </th> <td> -61864.</td> \n",
       "</tr>\n",
       "<tr>\n",
       "  <th>No. Observations:</th>      <td> 36220</td>      <th>  AIC:               </th> <td>1.238e+05</td>\n",
       "</tr>\n",
       "<tr>\n",
       "  <th>Df Residuals:</th>          <td> 36205</td>      <th>  BIC:               </th> <td>1.239e+05</td>\n",
       "</tr>\n",
       "<tr>\n",
       "  <th>Df Model:</th>              <td>    14</td>      <th>                     </th>     <td> </td>    \n",
       "</tr>\n",
       "<tr>\n",
       "  <th>Covariance Type:</th>      <td>nonrobust</td>    <th>                     </th>     <td> </td>    \n",
       "</tr>\n",
       "</table>\n",
       "<table class=\"simpletable\">\n",
       "<tr>\n",
       "       <td></td>          <th>coef</th>     <th>std err</th>      <th>t</th>      <th>P>|t|</th>  <th>[0.025</th>    <th>0.975]</th>  \n",
       "</tr>\n",
       "<tr>\n",
       "  <th>Intercept</th>   <td>    3.1844</td> <td>    0.065</td> <td>   49.263</td> <td> 0.000</td> <td>    3.058</td> <td>    3.311</td>\n",
       "</tr>\n",
       "<tr>\n",
       "  <th>sex</th>         <td>    0.1783</td> <td>    0.033</td> <td>    5.337</td> <td> 0.000</td> <td>    0.113</td> <td>    0.244</td>\n",
       "</tr>\n",
       "<tr>\n",
       "  <th>race</th>        <td>   -0.0492</td> <td>    0.018</td> <td>   -2.741</td> <td> 0.006</td> <td>   -0.084</td> <td>   -0.014</td>\n",
       "</tr>\n",
       "<tr>\n",
       "  <th>sexharass</th>   <td>   -0.1413</td> <td>    0.011</td> <td>  -12.387</td> <td> 0.000</td> <td>   -0.164</td> <td>   -0.119</td>\n",
       "</tr>\n",
       "<tr>\n",
       "  <th>smoking</th>     <td>   -0.0437</td> <td>    0.030</td> <td>   -1.464</td> <td> 0.143</td> <td>   -0.102</td> <td>    0.015</td>\n",
       "</tr>\n",
       "<tr>\n",
       "  <th>vegetables</th>  <td>    0.0072</td> <td>    0.008</td> <td>    0.912</td> <td> 0.362</td> <td>   -0.008</td> <td>    0.023</td>\n",
       "</tr>\n",
       "<tr>\n",
       "  <th>soda</th>        <td>   -0.0213</td> <td>    0.007</td> <td>   -2.999</td> <td> 0.003</td> <td>   -0.035</td> <td>   -0.007</td>\n",
       "</tr>\n",
       "<tr>\n",
       "  <th>breakfast</th>   <td>    0.1314</td> <td>    0.004</td> <td>   29.907</td> <td> 0.000</td> <td>    0.123</td> <td>    0.140</td>\n",
       "</tr>\n",
       "<tr>\n",
       "  <th>computer</th>    <td>   -0.0372</td> <td>    0.005</td> <td>   -7.246</td> <td> 0.000</td> <td>   -0.047</td> <td>   -0.027</td>\n",
       "</tr>\n",
       "<tr>\n",
       "  <th>sex_race</th>    <td>   -0.0163</td> <td>    0.011</td> <td>   -1.421</td> <td> 0.155</td> <td>   -0.039</td> <td>    0.006</td>\n",
       "</tr>\n",
       "<tr>\n",
       "  <th>sex_smoke</th>   <td>   -0.0394</td> <td>    0.014</td> <td>   -2.733</td> <td> 0.006</td> <td>   -0.068</td> <td>   -0.011</td>\n",
       "</tr>\n",
       "<tr>\n",
       "  <th>comp_smoke</th>  <td>    0.0037</td> <td>    0.003</td> <td>    1.183</td> <td> 0.237</td> <td>   -0.002</td> <td>    0.010</td>\n",
       "</tr>\n",
       "<tr>\n",
       "  <th>soda_smoke</th>  <td>   -0.0020</td> <td>    0.004</td> <td>   -0.548</td> <td> 0.584</td> <td>   -0.009</td> <td>    0.005</td>\n",
       "</tr>\n",
       "<tr>\n",
       "  <th>veg_smoke</th>   <td>    0.0058</td> <td>    0.005</td> <td>    1.290</td> <td> 0.197</td> <td>   -0.003</td> <td>    0.015</td>\n",
       "</tr>\n",
       "<tr>\n",
       "  <th>break_smoke</th> <td>   -0.0024</td> <td>    0.003</td> <td>   -0.850</td> <td> 0.395</td> <td>   -0.008</td> <td>    0.003</td>\n",
       "</tr>\n",
       "</table>\n",
       "<table class=\"simpletable\">\n",
       "<tr>\n",
       "  <th>Omnibus:</th>       <td>118.732</td> <th>  Durbin-Watson:     </th> <td>   1.935</td>\n",
       "</tr>\n",
       "<tr>\n",
       "  <th>Prob(Omnibus):</th> <td> 0.000</td>  <th>  Jarque-Bera (JB):  </th> <td>  99.215</td>\n",
       "</tr>\n",
       "<tr>\n",
       "  <th>Skew:</th>          <td> 0.065</td>  <th>  Prob(JB):          </th> <td>2.86e-22</td>\n",
       "</tr>\n",
       "<tr>\n",
       "  <th>Kurtosis:</th>      <td> 2.779</td>  <th>  Cond. No.          </th> <td>    152.</td>\n",
       "</tr>\n",
       "</table><br/><br/>Warnings:<br/>[1] Standard Errors assume that the covariance matrix of the errors is correctly specified."
      ],
      "text/plain": [
       "<class 'statsmodels.iolib.summary.Summary'>\n",
       "\"\"\"\n",
       "                            OLS Regression Results                            \n",
       "==============================================================================\n",
       "Dep. Variable:               sleeping   R-squared:                       0.089\n",
       "Model:                            OLS   Adj. R-squared:                  0.089\n",
       "Method:                 Least Squares   F-statistic:                     253.0\n",
       "Date:                Mon, 13 Jul 2020   Prob (F-statistic):               0.00\n",
       "Time:                        15:56:59   Log-Likelihood:                -61864.\n",
       "No. Observations:               36220   AIC:                         1.238e+05\n",
       "Df Residuals:                   36205   BIC:                         1.239e+05\n",
       "Df Model:                          14                                         \n",
       "Covariance Type:            nonrobust                                         \n",
       "===============================================================================\n",
       "                  coef    std err          t      P>|t|      [0.025      0.975]\n",
       "-------------------------------------------------------------------------------\n",
       "Intercept       3.1844      0.065     49.263      0.000       3.058       3.311\n",
       "sex             0.1783      0.033      5.337      0.000       0.113       0.244\n",
       "race           -0.0492      0.018     -2.741      0.006      -0.084      -0.014\n",
       "sexharass      -0.1413      0.011    -12.387      0.000      -0.164      -0.119\n",
       "smoking        -0.0437      0.030     -1.464      0.143      -0.102       0.015\n",
       "vegetables      0.0072      0.008      0.912      0.362      -0.008       0.023\n",
       "soda           -0.0213      0.007     -2.999      0.003      -0.035      -0.007\n",
       "breakfast       0.1314      0.004     29.907      0.000       0.123       0.140\n",
       "computer       -0.0372      0.005     -7.246      0.000      -0.047      -0.027\n",
       "sex_race       -0.0163      0.011     -1.421      0.155      -0.039       0.006\n",
       "sex_smoke      -0.0394      0.014     -2.733      0.006      -0.068      -0.011\n",
       "comp_smoke      0.0037      0.003      1.183      0.237      -0.002       0.010\n",
       "soda_smoke     -0.0020      0.004     -0.548      0.584      -0.009       0.005\n",
       "veg_smoke       0.0058      0.005      1.290      0.197      -0.003       0.015\n",
       "break_smoke    -0.0024      0.003     -0.850      0.395      -0.008       0.003\n",
       "==============================================================================\n",
       "Omnibus:                      118.732   Durbin-Watson:                   1.935\n",
       "Prob(Omnibus):                  0.000   Jarque-Bera (JB):               99.215\n",
       "Skew:                           0.065   Prob(JB):                     2.86e-22\n",
       "Kurtosis:                       2.779   Cond. No.                         152.\n",
       "==============================================================================\n",
       "\n",
       "Warnings:\n",
       "[1] Standard Errors assume that the covariance matrix of the errors is correctly specified.\n",
       "\"\"\""
      ]
     },
     "execution_count": 70,
     "metadata": {},
     "output_type": "execute_result"
    }
   ],
   "source": [
    "formula='sleeping ~ sex + race + sexharass+ smoking+vegetables+soda+breakfast+ computer+ sex_race+ sex_smoke+comp_smoke+ soda_smoke+ veg_smoke+break_smoke'\n",
    "model = smf.ols(formula, data=df1) \n",
    "results = model.fit()\n",
    "results.summary()"
   ]
  },
  {
   "cell_type": "markdown",
   "metadata": {},
   "source": [
    "<a id='section_id5'></a>\n",
    "### <span style=\"background-color:#B0E0E6\">Regression Analysis with Scikit-Learn</span>"
   ]
  },
  {
   "cell_type": "markdown",
   "metadata": {},
   "source": [
    "* First, define the X (predictor/independent) and the Y (predicted/dependent) variables:\n",
    "* SciKit doesn't work with Pandas dataframes, so we just need the matrix of values in the dataframe."
   ]
  },
  {
   "cell_type": "code",
   "execution_count": 71,
   "metadata": {},
   "outputs": [
    {
     "data": {
      "text/plain": [
       "Index(['sleeping', 'sex', 'race', 'sexharass', 'smoking', 'vegetables', 'soda',\n",
       "       'breakfast', 'computer', 'predicted_sleep', 'sex_race', 'computer_med',\n",
       "       'sex_smoke', 'smoke_med', 'comp_smoke', 'soda_smoke', 'veg_smoke',\n",
       "       'break_smoke', 'smoking_med', 'race_med', 'sexual_med',\n",
       "       'predicted_sleep2'],\n",
       "      dtype='object')"
      ]
     },
     "execution_count": 71,
     "metadata": {},
     "output_type": "execute_result"
    }
   ],
   "source": [
    "df1.columns"
   ]
  },
  {
   "cell_type": "code",
   "execution_count": 73,
   "metadata": {},
   "outputs": [],
   "source": [
    "Y = df1.sleeping\n",
    "#X = advertising[['TV', 'Radio', 'Newspaper']].values\n",
    "#retain only the selected independent variables by dropping others\n",
    "X3= df1.drop(['sleeping', 'predicted_sleep', 'predicted_sleep2', 'computer_med','smoke_med','sexual_med', 'smoking_med', 'race_med', 'predicted_sleep'], axis=1).values"
   ]
  },
  {
   "cell_type": "code",
   "execution_count": 74,
   "metadata": {},
   "outputs": [
    {
     "data": {
      "text/plain": [
       "array([[ 2,  4,  4,  4,  3,  2,  3,  3,  8,  8, 12,  8, 12, 12],\n",
       "       [ 2,  3,  1,  1,  2,  1,  1,  2,  6,  2,  2,  1,  2,  1],\n",
       "       [ 2,  4,  1,  1,  1,  1,  1,  1,  8,  2,  1,  1,  1,  1],\n",
       "       [ 2,  4,  1,  1,  3,  5,  5,  4,  8,  2,  4,  5,  3,  5],\n",
       "       [ 2,  4,  1,  6,  2,  6,  5,  7,  8, 12, 42, 36, 12, 30],\n",
       "       [ 2,  4,  1,  1,  5,  2,  4,  5,  8,  2,  5,  2,  5,  4],\n",
       "       [ 2,  4,  1,  1,  3,  1,  8,  7,  8,  2,  7,  1,  3,  8],\n",
       "       [ 2,  1,  1,  1,  2,  1,  3,  6,  2,  2,  6,  1,  2,  3]],\n",
       "      dtype=int64)"
      ]
     },
     "execution_count": 74,
     "metadata": {},
     "output_type": "execute_result"
    }
   ],
   "source": [
    "X3[:8]"
   ]
  },
  {
   "cell_type": "code",
   "execution_count": 75,
   "metadata": {},
   "outputs": [
    {
     "data": {
      "text/plain": [
       "LinearRegression(copy_X=True, fit_intercept=True, n_jobs=None, normalize=False)"
      ]
     },
     "execution_count": 75,
     "metadata": {},
     "output_type": "execute_result"
    }
   ],
   "source": [
    "# model specification\n",
    "healthreg=sklm.LinearRegression()\n",
    "healthreg.fit(X3, Y)"
   ]
  },
  {
   "cell_type": "code",
   "execution_count": 76,
   "metadata": {},
   "outputs": [
    {
     "name": "stdout",
     "output_type": "stream",
     "text": [
      "Intercept: 3.18435260758488\n",
      "sex: 0.17829619107447736\n",
      "race: -0.04920380564868176\n",
      "sexharass: -0.14126228664266105\n",
      "smoking: -0.04370904129651251\n",
      "vegetables: 0.007232008570165551\n",
      "soda: -0.021311372504675345\n",
      "breakfast: 0.13139686270621867\n",
      "computer: -0.037169081543633166\n"
     ]
    }
   ],
   "source": [
    "# look into the regression results, if desired\n",
    "print('Intercept:', healthreg.intercept_)\n",
    "print('sex:', healthreg.coef_[0])\n",
    "print('race:', healthreg.coef_[1])\n",
    "print('sexharass:', healthreg.coef_[2])\n",
    "print('smoking:', healthreg.coef_[3])\n",
    "print('vegetables:', healthreg.coef_[4])\n",
    "print('soda:', healthreg.coef_[5])\n",
    "print('breakfast:', healthreg.coef_[6])\n",
    "print('computer:', healthreg.coef_[7])\n"
   ]
  },
  {
   "cell_type": "code",
   "execution_count": 77,
   "metadata": {},
   "outputs": [],
   "source": [
    "# Fourth, get the predicted values and evaluate the training:\n",
    "health_predictions=healthreg.predict(X3) # predictions for training set"
   ]
  },
  {
   "cell_type": "markdown",
   "metadata": {},
   "source": [
    "* scikit does produce a [host of regression metrics](https://scikit-learn.org/stable/modules/classes.html#module-sklearn.metrics)."
   ]
  },
  {
   "cell_type": "code",
   "execution_count": 78,
   "metadata": {},
   "outputs": [
    {
     "data": {
      "text/plain": [
       "1.3351662975354046"
      ]
     },
     "execution_count": 78,
     "metadata": {},
     "output_type": "execute_result"
    }
   ],
   "source": [
    "np.sqrt(mean_squared_error(Y, health_predictions))"
   ]
  },
  {
   "cell_type": "markdown",
   "metadata": {},
   "source": [
    "<a id='section_id6'></a>\n",
    "### <span style=\"background-color:#B0E0E6\">K-fold Cross Validation</span>"
   ]
  },
  {
   "cell_type": "markdown",
   "metadata": {},
   "source": [
    "* To simulate variance in data, we split it into training and test portions\n",
    "* We are using 75% of data for \"training\" and 25% for validation/testing\n",
    "* Random state parameter helps us to achieve the same \"random\" split across different computers. This can be any number. As long as we use the same number across different computers, we should get the same results."
   ]
  },
  {
   "cell_type": "code",
   "execution_count": 79,
   "metadata": {},
   "outputs": [
    {
     "name": "stdout",
     "output_type": "stream",
     "text": [
      "(27165, 14) (27165,)\n",
      "(9055, 14) (9055,)\n"
     ]
    }
   ],
   "source": [
    "X_train, X_test, Y_train, Y_test = train_test_split(X3, Y, test_size=0.25, random_state=7)\n",
    "print(X_train.shape, Y_train.shape)\n",
    "print(X_test.shape, Y_test.shape)"
   ]
  },
  {
   "cell_type": "code",
   "execution_count": 80,
   "metadata": {},
   "outputs": [
    {
     "data": {
      "text/plain": [
       "LinearRegression(copy_X=True, fit_intercept=True, n_jobs=None, normalize=False)"
      ]
     },
     "execution_count": 80,
     "metadata": {},
     "output_type": "execute_result"
    }
   ],
   "source": [
    "#training model\n",
    "healthreg2=sklm.LinearRegression()\n",
    "healthreg2.fit(X_train, Y_train)"
   ]
  },
  {
   "cell_type": "code",
   "execution_count": 81,
   "metadata": {},
   "outputs": [
    {
     "name": "stderr",
     "output_type": "stream",
     "text": [
      "C:\\Users\\edwar\\anaconda3\\lib\\site-packages\\sklearn\\model_selection\\_split.py:296: FutureWarning: Setting a random_state has no effect since shuffle is False. This will raise an error in 0.24. You should leave random_state to its default (None), or set shuffle=True.\n",
      "  FutureWarning\n"
     ]
    }
   ],
   "source": [
    "# 10-fold cross validation\n",
    "cvparam = KFold(10, random_state=13)\n",
    "scores_mse_lm =  cross_validate(healthreg2, X_train, Y_train, cv=cvparam, scoring='neg_mean_squared_error')"
   ]
  },
  {
   "cell_type": "markdown",
   "metadata": {},
   "source": [
    "<Mark>Note:</Mark> \n",
    "* The features of the [cross_validate() function](https://scikit-learn.org/stable/modules/cross_validation.html#cross-validation-and-model-selection) are quite extensive. Several ways of splitting the data are possible. Here, we are just doing a basic K-fold split (k=10 in our example).\n",
    "* The MSE values from each of the three folds are stored in the scores_mse_lm array.\n",
    "* The negative sign is becuase the parameter used by the algorithm is \"neg_mean_squared_error\", to indicate that a lower value of MSE is better. I multipled it by -1 to get the actual MSE."
   ]
  },
  {
   "cell_type": "code",
   "execution_count": 82,
   "metadata": {},
   "outputs": [
    {
     "data": {
      "text/plain": [
       "{'fit_time': array([0.02210212, 0.01786494, 0.02403283, 0.0168376 , 0.01666355,\n",
       "        0.01426411, 0.01757193, 0.01962757, 0.02734065, 0.01626492]),\n",
       " 'score_time': array([0.        , 0.        , 0.00797844, 0.        , 0.        ,\n",
       "        0.        , 0.        , 0.        , 0.00479293, 0.        ]),\n",
       " 'test_score': array([-1.78526285, -1.74354804, -1.71660056, -1.88309404, -1.80289184,\n",
       "        -1.81474831, -1.76225283, -1.76658055, -1.7838966 , -1.8219335 ])}"
      ]
     },
     "execution_count": 82,
     "metadata": {},
     "output_type": "execute_result"
    }
   ],
   "source": [
    "scores_mse_lm "
   ]
  },
  {
   "cell_type": "code",
   "execution_count": 83,
   "metadata": {},
   "outputs": [
    {
     "data": {
      "text/plain": [
       "array([-1.78526285, -1.74354804, -1.71660056, -1.88309404, -1.80289184,\n",
       "       -1.81474831, -1.76225283, -1.76658055, -1.7838966 , -1.8219335 ])"
      ]
     },
     "execution_count": 83,
     "metadata": {},
     "output_type": "execute_result"
    }
   ],
   "source": [
    "scores_mse_lm['test_score'] # 10 cv mse"
   ]
  },
  {
   "cell_type": "code",
   "execution_count": 84,
   "metadata": {},
   "outputs": [
    {
     "data": {
      "text/plain": [
       "1.3371914265540823"
      ]
     },
     "execution_count": 84,
     "metadata": {},
     "output_type": "execute_result"
    }
   ],
   "source": [
    "np.sqrt(scores_mse_lm['test_score'].mean()*-1)"
   ]
  },
  {
   "cell_type": "markdown",
   "metadata": {},
   "source": [
    "<Mark>Interpretation:</Mark> After we induce some variation in the training sample, by doing a 10-fold split, the accuracy of our prediction has not gone down. <br> \n",
    "Here, the 10-fold cross-validation reveals that the model is deviant from reality by about 0.71 degree."
   ]
  },
  {
   "cell_type": "markdown",
   "metadata": {},
   "source": [
    "#### Checking prediction on the out-of-training-sample (i.e., the test sample):"
   ]
  },
  {
   "cell_type": "code",
   "execution_count": 85,
   "metadata": {},
   "outputs": [
    {
     "data": {
      "text/plain": [
       "1.3327745002011773"
      ]
     },
     "execution_count": 85,
     "metadata": {},
     "output_type": "execute_result"
    }
   ],
   "source": [
    "lm_predictions_tt=healthreg2.predict(X_test) #use test sample and coefficients derived from trained model\n",
    "np.sqrt(np.square(lm_predictions_tt-Y_test).mean()) #compare predictions with actual values in test sample"
   ]
  },
  {
   "cell_type": "markdown",
   "metadata": {},
   "source": [
    "<Mark>Interpretation:</Mark> Our model is deviant from the actual values by about 1.33, on average, when using the test data. \n",
    "Is that good enough? That is indeed a subjective decision, depending on the business context."
   ]
  },
  {
   "cell_type": "markdown",
   "metadata": {},
   "source": [
    "#### Re-training the model by including an interaction term"
   ]
  },
  {
   "cell_type": "code",
   "execution_count": 87,
   "metadata": {},
   "outputs": [],
   "source": [
    "X4 = df1[['sex', 'race', 'sexharass', 'smoking','vegetables','soda','breakfast', 'computer', 'sex_race', 'sex_smoke','comp_smoke', 'soda_smoke', 'veg_smoke','break_smoke']].values\n",
    "X_train2, X_test2, Y_train2, Y_test2 = train_test_split(X4, Y, test_size=0.25, random_state=7)"
   ]
  },
  {
   "cell_type": "code",
   "execution_count": 88,
   "metadata": {},
   "outputs": [
    {
     "data": {
      "text/plain": [
       "LinearRegression(copy_X=True, fit_intercept=True, n_jobs=None, normalize=False)"
      ]
     },
     "execution_count": 88,
     "metadata": {},
     "output_type": "execute_result"
    }
   ],
   "source": [
    "#training model\n",
    "healthreg3=sklm.LinearRegression()\n",
    "healthreg3.fit(X_train2, Y_train2)"
   ]
  },
  {
   "cell_type": "code",
   "execution_count": 89,
   "metadata": {},
   "outputs": [
    {
     "name": "stderr",
     "output_type": "stream",
     "text": [
      "C:\\Users\\edwar\\anaconda3\\lib\\site-packages\\sklearn\\model_selection\\_split.py:296: FutureWarning: Setting a random_state has no effect since shuffle is False. This will raise an error in 0.24. You should leave random_state to its default (None), or set shuffle=True.\n",
      "  FutureWarning\n"
     ]
    }
   ],
   "source": [
    "# 10-fold cross validation\n",
    "cvparam = KFold(10, random_state=13)\n",
    "scores_mse_lm2 =  cross_validate(healthreg3, X_train2, Y_train2, cv=cvparam, scoring='neg_mean_squared_error')"
   ]
  },
  {
   "cell_type": "code",
   "execution_count": 90,
   "metadata": {},
   "outputs": [
    {
     "data": {
      "text/plain": [
       "1.3371914265540823"
      ]
     },
     "execution_count": 90,
     "metadata": {},
     "output_type": "execute_result"
    }
   ],
   "source": [
    "np.sqrt(scores_mse_lm2['test_score'].mean()*-1)"
   ]
  },
  {
   "cell_type": "code",
   "execution_count": 91,
   "metadata": {},
   "outputs": [
    {
     "data": {
      "text/plain": [
       "1.3327745002011773"
      ]
     },
     "execution_count": 91,
     "metadata": {},
     "output_type": "execute_result"
    }
   ],
   "source": [
    "lm_predictions_tt2=healthreg3.predict(X_test2) #use test sample and coefficients derived from trained model\n",
    "np.sqrt(np.square(lm_predictions_tt2-Y_test2).mean()) #compare predictions with actual values in test sample"
   ]
  },
  {
   "cell_type": "markdown",
   "metadata": {},
   "source": [
    "<Mark>Interpretation:</Mark> The model is performing the same as the previous one without interaction effects. <br> \n"
   ]
  },
  {
   "cell_type": "markdown",
   "metadata": {},
   "source": [
    "<a id='section_id7'></a>\n",
    "### <span style=\"background-color:#B0E0E6\">Variable Selection Approaches</span>\n",
    "* I'll include the interaction term in the dataset \n",
    " * (https://pitt.summon.serialssolutions.com/#!/search?bookMark=ePnHCXMw42JgAfZbU5khpymBDxSztADNrHEZgbYtA2tc0K0CXMBq3gRYkwA7SJwMSi6JJYkKueALERSATTUF6P2LxQqJoIM5QMcV8zCwpgGjI5WXgaWkqBRYcEq7uYY4e-iCDkeKhw50xAPTkpmJBejiIfyyKlhkYXM9QGVA95qYGQMA-383uA)"
   ]
  },
  {
   "cell_type": "code",
   "execution_count": 92,
   "metadata": {},
   "outputs": [],
   "source": [
    "#setting response and predictor variables, matching with the book chapter\n",
    "predictors = ['sex', 'race', 'sexharass', 'smoking','vegetables','soda','breakfast', 'computer', 'sex_race', 'sex_smoke','comp_smoke', 'soda_smoke', 'veg_smoke','break_smoke']\n",
    "outcome = 'sleeping'"
   ]
  },
  {
   "cell_type": "code",
   "execution_count": 93,
   "metadata": {},
   "outputs": [],
   "source": [
    "# partition data\n",
    "X = pd.get_dummies(df1[predictors], drop_first=True)\n",
    "y = df1[outcome]\n",
    "train_X, valid_X, train_y, valid_y = train_test_split(X, y, test_size=0.4, random_state=1)"
   ]
  },
  {
   "cell_type": "markdown",
   "metadata": {},
   "source": [
    "#### Exhaustive search\n",
    "* Use adjusted R-squared. Akaike Information Criteria (AIC) or Bayesian Information Criteria (BIC) to pick among the models with different subsets of predictor variables.\n",
    "* Use a function from the DMBA package for implementing exhaustive search."
   ]
  },
  {
   "cell_type": "code",
   "execution_count": 94,
   "metadata": {},
   "outputs": [],
   "source": [
    "def train_model(variables):\n",
    "    model = sklm.LinearRegression()\n",
    "    model.fit(train_X[variables], train_y)\n",
    "    return model\n",
    "\n",
    "def score_model(model, variables):\n",
    "    pred_y = model.predict(train_X[variables])\n",
    "    # we negate as score is optimized to be as low as possible\n",
    "    return -adjusted_r2_score(train_y, pred_y, model)"
   ]
  },
  {
   "cell_type": "code",
   "execution_count": 95,
   "metadata": {},
   "outputs": [],
   "source": [
    "allVariables = train_X.columns\n",
    "results = exhaustive_search(allVariables, train_model, score_model)"
   ]
  },
  {
   "cell_type": "code",
   "execution_count": 96,
   "metadata": {},
   "outputs": [],
   "source": [
    "data = []\n",
    "for result in results:\n",
    "    model = result['model']\n",
    "    variables = result['variables']\n",
    "    AIC = AIC_score(train_y, model.predict(train_X[variables]), model)\n",
    "    \n",
    "    d = {'n': result['n'], 'r2adj': -result['score'], 'AIC': AIC}\n",
    "    d.update({var: var in result['variables'] for var in allVariables})\n",
    "    data.append(d)"
   ]
  },
  {
   "cell_type": "code",
   "execution_count": 97,
   "metadata": {},
   "outputs": [],
   "source": [
    "searchresults=pd.DataFrame(data, columns=('n', 'r2adj', 'AIC') + tuple(sorted(allVariables)))"
   ]
  },
  {
   "cell_type": "code",
   "execution_count": 98,
   "metadata": {},
   "outputs": [
    {
     "data": {
      "text/html": [
       "<div>\n",
       "<style scoped>\n",
       "    .dataframe tbody tr th:only-of-type {\n",
       "        vertical-align: middle;\n",
       "    }\n",
       "\n",
       "    .dataframe tbody tr th {\n",
       "        vertical-align: top;\n",
       "    }\n",
       "\n",
       "    .dataframe thead th {\n",
       "        text-align: right;\n",
       "    }\n",
       "</style>\n",
       "<table border=\"1\" class=\"dataframe\">\n",
       "  <thead>\n",
       "    <tr style=\"text-align: right;\">\n",
       "      <th></th>\n",
       "      <th>n</th>\n",
       "      <th>r2adj</th>\n",
       "      <th>AIC</th>\n",
       "      <th>break_smoke</th>\n",
       "      <th>breakfast</th>\n",
       "      <th>comp_smoke</th>\n",
       "      <th>computer</th>\n",
       "      <th>race</th>\n",
       "      <th>sex</th>\n",
       "      <th>sex_race</th>\n",
       "      <th>sex_smoke</th>\n",
       "      <th>sexharass</th>\n",
       "      <th>smoking</th>\n",
       "      <th>soda</th>\n",
       "      <th>soda_smoke</th>\n",
       "      <th>veg_smoke</th>\n",
       "      <th>vegetables</th>\n",
       "    </tr>\n",
       "  </thead>\n",
       "  <tbody>\n",
       "    <tr>\n",
       "      <th>0</th>\n",
       "      <td>1</td>\n",
       "      <td>0.070865</td>\n",
       "      <td>74504.910824</td>\n",
       "      <td>False</td>\n",
       "      <td>True</td>\n",
       "      <td>False</td>\n",
       "      <td>False</td>\n",
       "      <td>False</td>\n",
       "      <td>False</td>\n",
       "      <td>False</td>\n",
       "      <td>False</td>\n",
       "      <td>False</td>\n",
       "      <td>False</td>\n",
       "      <td>False</td>\n",
       "      <td>False</td>\n",
       "      <td>False</td>\n",
       "      <td>False</td>\n",
       "    </tr>\n",
       "    <tr>\n",
       "      <th>1</th>\n",
       "      <td>2</td>\n",
       "      <td>0.077073</td>\n",
       "      <td>74360.213501</td>\n",
       "      <td>False</td>\n",
       "      <td>True</td>\n",
       "      <td>False</td>\n",
       "      <td>False</td>\n",
       "      <td>False</td>\n",
       "      <td>False</td>\n",
       "      <td>False</td>\n",
       "      <td>False</td>\n",
       "      <td>True</td>\n",
       "      <td>False</td>\n",
       "      <td>False</td>\n",
       "      <td>False</td>\n",
       "      <td>False</td>\n",
       "      <td>False</td>\n",
       "    </tr>\n",
       "    <tr>\n",
       "      <th>2</th>\n",
       "      <td>3</td>\n",
       "      <td>0.081479</td>\n",
       "      <td>74257.228749</td>\n",
       "      <td>False</td>\n",
       "      <td>True</td>\n",
       "      <td>True</td>\n",
       "      <td>False</td>\n",
       "      <td>False</td>\n",
       "      <td>False</td>\n",
       "      <td>False</td>\n",
       "      <td>False</td>\n",
       "      <td>True</td>\n",
       "      <td>False</td>\n",
       "      <td>False</td>\n",
       "      <td>False</td>\n",
       "      <td>False</td>\n",
       "      <td>False</td>\n",
       "    </tr>\n",
       "    <tr>\n",
       "      <th>3</th>\n",
       "      <td>4</td>\n",
       "      <td>0.085224</td>\n",
       "      <td>74169.424079</td>\n",
       "      <td>False</td>\n",
       "      <td>True</td>\n",
       "      <td>False</td>\n",
       "      <td>False</td>\n",
       "      <td>True</td>\n",
       "      <td>False</td>\n",
       "      <td>False</td>\n",
       "      <td>False</td>\n",
       "      <td>True</td>\n",
       "      <td>False</td>\n",
       "      <td>False</td>\n",
       "      <td>True</td>\n",
       "      <td>False</td>\n",
       "      <td>False</td>\n",
       "    </tr>\n",
       "    <tr>\n",
       "      <th>4</th>\n",
       "      <td>5</td>\n",
       "      <td>0.086848</td>\n",
       "      <td>74131.813565</td>\n",
       "      <td>False</td>\n",
       "      <td>True</td>\n",
       "      <td>False</td>\n",
       "      <td>True</td>\n",
       "      <td>True</td>\n",
       "      <td>False</td>\n",
       "      <td>False</td>\n",
       "      <td>False</td>\n",
       "      <td>True</td>\n",
       "      <td>False</td>\n",
       "      <td>False</td>\n",
       "      <td>True</td>\n",
       "      <td>False</td>\n",
       "      <td>False</td>\n",
       "    </tr>\n",
       "    <tr>\n",
       "      <th>5</th>\n",
       "      <td>6</td>\n",
       "      <td>0.087420</td>\n",
       "      <td>74119.195787</td>\n",
       "      <td>False</td>\n",
       "      <td>True</td>\n",
       "      <td>False</td>\n",
       "      <td>True</td>\n",
       "      <td>True</td>\n",
       "      <td>True</td>\n",
       "      <td>False</td>\n",
       "      <td>False</td>\n",
       "      <td>True</td>\n",
       "      <td>False</td>\n",
       "      <td>False</td>\n",
       "      <td>True</td>\n",
       "      <td>False</td>\n",
       "      <td>False</td>\n",
       "    </tr>\n",
       "    <tr>\n",
       "      <th>6</th>\n",
       "      <td>7</td>\n",
       "      <td>0.087999</td>\n",
       "      <td>74106.409665</td>\n",
       "      <td>False</td>\n",
       "      <td>True</td>\n",
       "      <td>False</td>\n",
       "      <td>True</td>\n",
       "      <td>True</td>\n",
       "      <td>True</td>\n",
       "      <td>False</td>\n",
       "      <td>False</td>\n",
       "      <td>True</td>\n",
       "      <td>True</td>\n",
       "      <td>True</td>\n",
       "      <td>False</td>\n",
       "      <td>False</td>\n",
       "      <td>False</td>\n",
       "    </tr>\n",
       "    <tr>\n",
       "      <th>7</th>\n",
       "      <td>8</td>\n",
       "      <td>0.088215</td>\n",
       "      <td>74102.252059</td>\n",
       "      <td>False</td>\n",
       "      <td>True</td>\n",
       "      <td>False</td>\n",
       "      <td>True</td>\n",
       "      <td>True</td>\n",
       "      <td>True</td>\n",
       "      <td>False</td>\n",
       "      <td>False</td>\n",
       "      <td>True</td>\n",
       "      <td>True</td>\n",
       "      <td>True</td>\n",
       "      <td>False</td>\n",
       "      <td>False</td>\n",
       "      <td>True</td>\n",
       "    </tr>\n",
       "    <tr>\n",
       "      <th>8</th>\n",
       "      <td>9</td>\n",
       "      <td>0.088246</td>\n",
       "      <td>74102.526638</td>\n",
       "      <td>False</td>\n",
       "      <td>True</td>\n",
       "      <td>False</td>\n",
       "      <td>True</td>\n",
       "      <td>True</td>\n",
       "      <td>True</td>\n",
       "      <td>False</td>\n",
       "      <td>True</td>\n",
       "      <td>True</td>\n",
       "      <td>True</td>\n",
       "      <td>True</td>\n",
       "      <td>False</td>\n",
       "      <td>False</td>\n",
       "      <td>True</td>\n",
       "    </tr>\n",
       "    <tr>\n",
       "      <th>9</th>\n",
       "      <td>10</td>\n",
       "      <td>0.088226</td>\n",
       "      <td>74103.993333</td>\n",
       "      <td>False</td>\n",
       "      <td>True</td>\n",
       "      <td>False</td>\n",
       "      <td>True</td>\n",
       "      <td>True</td>\n",
       "      <td>True</td>\n",
       "      <td>True</td>\n",
       "      <td>True</td>\n",
       "      <td>True</td>\n",
       "      <td>True</td>\n",
       "      <td>True</td>\n",
       "      <td>False</td>\n",
       "      <td>False</td>\n",
       "      <td>True</td>\n",
       "    </tr>\n",
       "    <tr>\n",
       "      <th>10</th>\n",
       "      <td>11</td>\n",
       "      <td>0.088202</td>\n",
       "      <td>74105.562150</td>\n",
       "      <td>False</td>\n",
       "      <td>True</td>\n",
       "      <td>False</td>\n",
       "      <td>True</td>\n",
       "      <td>True</td>\n",
       "      <td>True</td>\n",
       "      <td>True</td>\n",
       "      <td>True</td>\n",
       "      <td>True</td>\n",
       "      <td>True</td>\n",
       "      <td>True</td>\n",
       "      <td>True</td>\n",
       "      <td>False</td>\n",
       "      <td>True</td>\n",
       "    </tr>\n",
       "    <tr>\n",
       "      <th>11</th>\n",
       "      <td>12</td>\n",
       "      <td>0.088176</td>\n",
       "      <td>74107.194423</td>\n",
       "      <td>False</td>\n",
       "      <td>True</td>\n",
       "      <td>True</td>\n",
       "      <td>True</td>\n",
       "      <td>True</td>\n",
       "      <td>True</td>\n",
       "      <td>True</td>\n",
       "      <td>True</td>\n",
       "      <td>True</td>\n",
       "      <td>True</td>\n",
       "      <td>True</td>\n",
       "      <td>True</td>\n",
       "      <td>False</td>\n",
       "      <td>True</td>\n",
       "    </tr>\n",
       "    <tr>\n",
       "      <th>12</th>\n",
       "      <td>13</td>\n",
       "      <td>0.088134</td>\n",
       "      <td>74109.176000</td>\n",
       "      <td>True</td>\n",
       "      <td>True</td>\n",
       "      <td>True</td>\n",
       "      <td>True</td>\n",
       "      <td>True</td>\n",
       "      <td>True</td>\n",
       "      <td>True</td>\n",
       "      <td>True</td>\n",
       "      <td>True</td>\n",
       "      <td>True</td>\n",
       "      <td>True</td>\n",
       "      <td>True</td>\n",
       "      <td>False</td>\n",
       "      <td>True</td>\n",
       "    </tr>\n",
       "    <tr>\n",
       "      <th>13</th>\n",
       "      <td>14</td>\n",
       "      <td>0.088093</td>\n",
       "      <td>74111.174361</td>\n",
       "      <td>True</td>\n",
       "      <td>True</td>\n",
       "      <td>True</td>\n",
       "      <td>True</td>\n",
       "      <td>True</td>\n",
       "      <td>True</td>\n",
       "      <td>True</td>\n",
       "      <td>True</td>\n",
       "      <td>True</td>\n",
       "      <td>True</td>\n",
       "      <td>True</td>\n",
       "      <td>True</td>\n",
       "      <td>True</td>\n",
       "      <td>True</td>\n",
       "    </tr>\n",
       "  </tbody>\n",
       "</table>\n",
       "</div>"
      ],
      "text/plain": [
       "     n     r2adj           AIC  break_smoke  breakfast  comp_smoke  computer  \\\n",
       "0    1  0.070865  74504.910824        False       True       False     False   \n",
       "1    2  0.077073  74360.213501        False       True       False     False   \n",
       "2    3  0.081479  74257.228749        False       True        True     False   \n",
       "3    4  0.085224  74169.424079        False       True       False     False   \n",
       "4    5  0.086848  74131.813565        False       True       False      True   \n",
       "5    6  0.087420  74119.195787        False       True       False      True   \n",
       "6    7  0.087999  74106.409665        False       True       False      True   \n",
       "7    8  0.088215  74102.252059        False       True       False      True   \n",
       "8    9  0.088246  74102.526638        False       True       False      True   \n",
       "9   10  0.088226  74103.993333        False       True       False      True   \n",
       "10  11  0.088202  74105.562150        False       True       False      True   \n",
       "11  12  0.088176  74107.194423        False       True        True      True   \n",
       "12  13  0.088134  74109.176000         True       True        True      True   \n",
       "13  14  0.088093  74111.174361         True       True        True      True   \n",
       "\n",
       "     race    sex  sex_race  sex_smoke  sexharass  smoking   soda  soda_smoke  \\\n",
       "0   False  False     False      False      False    False  False       False   \n",
       "1   False  False     False      False       True    False  False       False   \n",
       "2   False  False     False      False       True    False  False       False   \n",
       "3    True  False     False      False       True    False  False        True   \n",
       "4    True  False     False      False       True    False  False        True   \n",
       "5    True   True     False      False       True    False  False        True   \n",
       "6    True   True     False      False       True     True   True       False   \n",
       "7    True   True     False      False       True     True   True       False   \n",
       "8    True   True     False       True       True     True   True       False   \n",
       "9    True   True      True       True       True     True   True       False   \n",
       "10   True   True      True       True       True     True   True        True   \n",
       "11   True   True      True       True       True     True   True        True   \n",
       "12   True   True      True       True       True     True   True        True   \n",
       "13   True   True      True       True       True     True   True        True   \n",
       "\n",
       "    veg_smoke  vegetables  \n",
       "0       False       False  \n",
       "1       False       False  \n",
       "2       False       False  \n",
       "3       False       False  \n",
       "4       False       False  \n",
       "5       False       False  \n",
       "6       False       False  \n",
       "7       False        True  \n",
       "8       False        True  \n",
       "9       False        True  \n",
       "10      False        True  \n",
       "11      False        True  \n",
       "12      False        True  \n",
       "13       True        True  "
      ]
     },
     "execution_count": 98,
     "metadata": {},
     "output_type": "execute_result"
    }
   ],
   "source": [
    "searchresults"
   ]
  },
  {
   "cell_type": "code",
   "execution_count": 99,
   "metadata": {},
   "outputs": [
    {
     "data": {
      "text/plain": [
       "<seaborn.axisgrid.FacetGrid at 0x127a3e308c8>"
      ]
     },
     "execution_count": 99,
     "metadata": {},
     "output_type": "execute_result"
    },
    {
     "data": {
      "image/png": "[encoded data removed]",
      "text/plain": [
       "<Figure size 360x360 with 1 Axes>"
      ]
     },
     "metadata": {},
     "output_type": "display_data"
    }
   ],
   "source": [
    "sns.relplot(x=\"n\", y=\"r2adj\", data=searchresults, kind=\"line\")"
   ]
  },
  {
   "cell_type": "markdown",
   "metadata": {},
   "source": [
    "* The model with 8 predictors is preferred. \n",
    "* eating breakfast is a dominant predictor and featured in all models"
   ]
  },
  {
   "cell_type": "markdown",
   "metadata": {},
   "source": [
    "<div style=\"text-align: right\"> <a href='#section_id0'>Back to top of Notebook</a></div>"
   ]
  },
  {
   "cell_type": "markdown",
   "metadata": {},
   "source": [
    "#### Backward elimination of variables\n",
    "* We start with the \"full\" model and elimiate in steps the least useful predictor according to statistical significance. \n",
    "* The elimination stops when all the remaining predictors make significant contributions to the model."
   ]
  },
  {
   "cell_type": "code",
   "execution_count": 100,
   "metadata": {},
   "outputs": [
    {
     "name": "stdout",
     "output_type": "stream",
     "text": [
      "Variables: sex, race, sexharass, smoking, vegetables, soda, breakfast, computer, sex_race, sex_smoke, comp_smoke, soda_smoke, veg_smoke, break_smoke\n",
      "Start: score=74111.17\n",
      "Step: score=74109.18, remove veg_smoke\n",
      "Step: score=74107.19, remove break_smoke\n",
      "Step: score=74105.56, remove comp_smoke\n",
      "Step: score=74103.99, remove soda_smoke\n",
      "Step: score=74102.53, remove sex_race\n",
      "Step: score=74102.25, remove sex_smoke\n",
      "Step: score=74102.25, remove None\n",
      "['sex', 'race', 'sexharass', 'smoking', 'vegetables', 'soda', 'breakfast', 'computer']\n"
     ]
    }
   ],
   "source": [
    "def train_model(variables):\n",
    "    model = sklm.LinearRegression()\n",
    "    model.fit(train_X[variables], train_y)\n",
    "    return model\n",
    "\n",
    "def score_model(model, variables):\n",
    "    return AIC_score(train_y, model.predict(train_X[variables]), model)\n",
    "\n",
    "best_model, best_variables = backward_elimination(train_X.columns, train_model, score_model, verbose=True)\n",
    "\n",
    "print(best_variables)"
   ]
  },
  {
   "cell_type": "code",
   "execution_count": 101,
   "metadata": {},
   "outputs": [
    {
     "name": "stdout",
     "output_type": "stream",
     "text": [
      "\n",
      "Regression statistics\n",
      "\n",
      "                      Mean Error (ME) : 0.0132\n",
      "       Root Mean Squared Error (RMSE) : 1.3433\n",
      "            Mean Absolute Error (MAE) : 1.0768\n",
      "          Mean Percentage Error (MPE) : -25.1617\n",
      "Mean Absolute Percentage Error (MAPE) : 47.0280\n"
     ]
    }
   ],
   "source": [
    "regressionSummary(valid_y, best_model.predict(valid_X[best_variables]))"
   ]
  },
  {
   "cell_type": "markdown",
   "metadata": {},
   "source": [
    "<div style=\"text-align: right\"> <a href='#section_id0'>Back to top of Notebook</a></div>"
   ]
  },
  {
   "cell_type": "markdown",
   "metadata": {},
   "source": [
    "#### Forward selection\n",
    "* We start with the \"null\" model and keep adding predictors one-by-one. \n",
    "* Each added predictor wil be the one that makes the largest contribution to the R-squared value.\n",
    "* The algorithm stops when additional predictors dont make significant contribution."
   ]
  },
  {
   "cell_type": "code",
   "execution_count": 102,
   "metadata": {},
   "outputs": [
    {
     "name": "stdout",
     "output_type": "stream",
     "text": [
      "Variables: sex, race, sexharass, smoking, vegetables, soda, breakfast, computer, sex_race, sex_smoke, comp_smoke, soda_smoke, veg_smoke, break_smoke\n",
      "Start: score=76101.23, constant\n",
      "Step: score=74504.91, add breakfast\n",
      "Step: score=74360.21, add sexharass\n",
      "Step: score=74257.23, add comp_smoke\n",
      "Step: score=74169.72, add race\n",
      "Step: score=74144.47, add soda\n",
      "Step: score=74132.08, add sex\n",
      "Step: score=74124.12, add sex_smoke\n",
      "Step: score=74109.05, add computer\n",
      "Step: score=74104.76, add vegetables\n",
      "Step: score=74104.31, add smoking\n",
      "Step: score=74104.31, add None\n",
      "['breakfast', 'sexharass', 'comp_smoke', 'race', 'soda', 'sex', 'sex_smoke', 'computer', 'vegetables', 'smoking']\n"
     ]
    }
   ],
   "source": [
    "# The initial model is the constant model - this requires special handling\n",
    "# in train_model and score_model\n",
    "def train_model(variables):\n",
    "    if len(variables) == 0:\n",
    "        return None\n",
    "    model = sklm.LinearRegression()\n",
    "    model.fit(train_X[variables], train_y)\n",
    "    return model\n",
    "\n",
    "def score_model(model, variables):\n",
    "    if len(variables) == 0:\n",
    "        return AIC_score(train_y, [train_y.mean()] * len(train_y), model, df=1)\n",
    "    return AIC_score(train_y, model.predict(train_X[variables]), model)\n",
    "\n",
    "best_model, best_variables = forward_selection(train_X.columns, train_model, score_model, verbose=True)\n",
    "\n",
    "print(best_variables)"
   ]
  },
  {
   "cell_type": "code",
   "execution_count": 103,
   "metadata": {},
   "outputs": [
    {
     "name": "stdout",
     "output_type": "stream",
     "text": [
      "\n",
      "Regression statistics\n",
      "\n",
      "                      Mean Error (ME) : 0.0131\n",
      "       Root Mean Squared Error (RMSE) : 1.3431\n",
      "            Mean Absolute Error (MAE) : 1.0767\n",
      "          Mean Percentage Error (MPE) : -25.1631\n",
      "Mean Absolute Percentage Error (MAPE) : 47.0266\n"
     ]
    }
   ],
   "source": [
    "regressionSummary(valid_y, best_model.predict(valid_X[best_variables]))"
   ]
  },
  {
   "cell_type": "markdown",
   "metadata": {},
   "source": [
    "#### Stepwise selection\n",
    "* It works like forward selection, but we drop variables that are not statistically significant at each step (similar to backward elimination)."
   ]
  },
  {
   "cell_type": "code",
   "execution_count": 104,
   "metadata": {},
   "outputs": [
    {
     "name": "stdout",
     "output_type": "stream",
     "text": [
      "Variables: sex, race, sexharass, smoking, vegetables, soda, breakfast, computer, sex_race, sex_smoke, comp_smoke, soda_smoke, veg_smoke, break_smoke\n",
      "Start: score=76101.23, constant\n",
      "Step: score=74504.91, add breakfast\n",
      "Step: score=74360.21, add sexharass\n",
      "Step: score=74257.23, add comp_smoke\n",
      "Step: score=74169.72, add race\n",
      "Step: score=74144.47, add soda\n",
      "Step: score=74132.08, add sex\n",
      "Step: score=74124.12, add sex_smoke\n",
      "Step: score=74109.05, add computer\n",
      "Step: score=74104.76, add vegetables\n",
      "Step: score=74102.81, remove comp_smoke\n",
      "Step: score=74102.53, add smoking\n",
      "Step: score=74102.25, remove sex_smoke\n",
      "Step: score=74102.25, unchanged None\n",
      "['breakfast', 'sexharass', 'race', 'soda', 'sex', 'computer', 'vegetables', 'smoking']\n"
     ]
    }
   ],
   "source": [
    "best_model, best_variables = stepwise_selection(train_X.columns, train_model, score_model, verbose=True)\n",
    "print(best_variables)"
   ]
  },
  {
   "cell_type": "code",
   "execution_count": 105,
   "metadata": {},
   "outputs": [
    {
     "name": "stdout",
     "output_type": "stream",
     "text": [
      "\n",
      "Regression statistics\n",
      "\n",
      "                      Mean Error (ME) : 0.0132\n",
      "       Root Mean Squared Error (RMSE) : 1.3433\n",
      "            Mean Absolute Error (MAE) : 1.0768\n",
      "          Mean Percentage Error (MPE) : -25.1617\n",
      "Mean Absolute Percentage Error (MAPE) : 47.0280\n"
     ]
    }
   ],
   "source": [
    "regressionSummary(valid_y, best_model.predict(valid_X[best_variables]))"
   ]
  },
  {
   "cell_type": "markdown",
   "metadata": {},
   "source": [
    "<div style=\"text-align: right\"> <a href='#section_id0'>Back to top of Notebook</a></div>"
   ]
  },
  {
   "cell_type": "markdown",
   "metadata": {},
   "source": [
    "<a id='section_id8'></a>\n",
    "### <span style=\"background-color:#B0E0E6\">Lasso and Ridge Regression Approaches</span>\n",
    "* These methods constrain the combined magnitude of the coefficients and \"shrink\" some coefficients towards zero. Coefficients of correlated predictors tend to produce high standard erros (or instability), which reduces predictive power. Small changes in data tend to radically shift which of these predictors are emphasized in the model.\n",
    "* Lasso uses L1 penalty or the sum of absolute values of the coefficients\n",
    "* Ridge uses L2 penalty or the sum of the the squared values of the coefficients\n",
    "* We can let the algorithm optimally set the penalty, or alpha, through cross-validation"
   ]
  },
  {
   "cell_type": "code",
   "execution_count": 106,
   "metadata": {},
   "outputs": [
    {
     "name": "stdout",
     "output_type": "stream",
     "text": [
      "\n",
      "Regression statistics\n",
      "\n",
      "                      Mean Error (ME) : 0.0129\n",
      "       Root Mean Squared Error (RMSE) : 1.3435\n",
      "            Mean Absolute Error (MAE) : 1.0772\n",
      "          Mean Percentage Error (MPE) : -25.2396\n",
      "Mean Absolute Percentage Error (MAPE) : 47.0895\n",
      "Lasso-CV chosen regularization:  3.568138204128176e-05\n",
      "[ 0.0660699  -0.06733504 -0.14174843 -0.05869488  0.0134068  -0.02300534\n",
      "  0.12770124 -0.02380074 -0.         -0.0027651  -0.         -0.004767\n",
      " -0.         -0.        ]\n"
     ]
    }
   ],
   "source": [
    "lasso_cv = sklm.LassoCV(normalize=True, cv=5)\n",
    "lasso_cv.fit(train_X, train_y)\n",
    "regressionSummary(valid_y, lasso_cv.predict(valid_X))\n",
    "print('Lasso-CV chosen regularization: ', lasso_cv.alpha_)\n",
    "print(lasso_cv.coef_)"
   ]
  },
  {
   "cell_type": "code",
   "execution_count": 107,
   "metadata": {},
   "outputs": [
    {
     "name": "stdout",
     "output_type": "stream",
     "text": [
      "\n",
      "Regression statistics\n",
      "\n",
      "                      Mean Error (ME) : 0.0126\n",
      "       Root Mean Squared Error (RMSE) : 1.3442\n",
      "            Mean Absolute Error (MAE) : 1.0802\n",
      "          Mean Percentage Error (MPE) : -25.3727\n",
      "Mean Absolute Percentage Error (MAPE) : 47.2646\n",
      "Ridge-CV chosen regularization:  0.1\n",
      "[ 0.11170252 -0.05072685 -0.13877846 -0.0517382   0.02237679 -0.02434661\n",
      "  0.10792511 -0.02114279 -0.01123947 -0.01756329 -0.0023082  -0.00586503\n",
      " -0.0034266   0.0085544 ]\n"
     ]
    }
   ],
   "source": [
    "ridge_cv = sklm.RidgeCV(normalize=True, cv=5)\n",
    "ridge_cv.fit(train_X, train_y)\n",
    "regressionSummary(valid_y, ridge_cv.predict(valid_X))\n",
    "print('Ridge-CV chosen regularization: ', ridge_cv.alpha_)\n",
    "print(ridge_cv.coef_)"
   ]
  },
  {
   "cell_type": "code",
   "execution_count": 108,
   "metadata": {},
   "outputs": [
    {
     "name": "stdout",
     "output_type": "stream",
     "text": [
      "\n",
      "Regression statistics\n",
      "\n",
      "                      Mean Error (ME) : 0.0129\n",
      "       Root Mean Squared Error (RMSE) : 1.3430\n",
      "            Mean Absolute Error (MAE) : 1.0768\n",
      "          Mean Percentage Error (MPE) : -25.1715\n",
      "Mean Absolute Percentage Error (MAPE) : 47.0328\n",
      "[ 0.12433596 -0.05544509 -0.14779227 -0.04767816  0.01653594 -0.02763453\n",
      "  0.12813206 -0.02908574 -0.01082994 -0.02284442  0.00242969 -0.00360018\n",
      "  0.00024106  0.00046322]\n"
     ]
    }
   ],
   "source": [
    "# for comparison, we can gather the estimates from OLS:\n",
    "linearRegression = sklm.LinearRegression(normalize=True).fit(train_X, train_y)\n",
    "regressionSummary(valid_y, linearRegression.predict(valid_X))\n",
    "print(linearRegression.coef_)"
   ]
  },
  {
   "cell_type": "code",
   "execution_count": 109,
   "metadata": {},
   "outputs": [
    {
     "data": {
      "text/html": [
       "<div>\n",
       "<style scoped>\n",
       "    .dataframe tbody tr th:only-of-type {\n",
       "        vertical-align: middle;\n",
       "    }\n",
       "\n",
       "    .dataframe tbody tr th {\n",
       "        vertical-align: top;\n",
       "    }\n",
       "\n",
       "    .dataframe thead th {\n",
       "        text-align: right;\n",
       "    }\n",
       "</style>\n",
       "<table border=\"1\" class=\"dataframe\">\n",
       "  <thead>\n",
       "    <tr style=\"text-align: right;\">\n",
       "      <th></th>\n",
       "      <th>features</th>\n",
       "      <th>linear regression</th>\n",
       "      <th>LassoCV</th>\n",
       "      <th>RidgeCV</th>\n",
       "    </tr>\n",
       "  </thead>\n",
       "  <tbody>\n",
       "    <tr>\n",
       "      <th>0</th>\n",
       "      <td>sex</td>\n",
       "      <td>0.124336</td>\n",
       "      <td>0.066070</td>\n",
       "      <td>0.111703</td>\n",
       "    </tr>\n",
       "    <tr>\n",
       "      <th>1</th>\n",
       "      <td>race</td>\n",
       "      <td>-0.055445</td>\n",
       "      <td>-0.067335</td>\n",
       "      <td>-0.050727</td>\n",
       "    </tr>\n",
       "    <tr>\n",
       "      <th>2</th>\n",
       "      <td>sexharass</td>\n",
       "      <td>-0.147792</td>\n",
       "      <td>-0.141748</td>\n",
       "      <td>-0.138778</td>\n",
       "    </tr>\n",
       "    <tr>\n",
       "      <th>3</th>\n",
       "      <td>smoking</td>\n",
       "      <td>-0.047678</td>\n",
       "      <td>-0.058695</td>\n",
       "      <td>-0.051738</td>\n",
       "    </tr>\n",
       "    <tr>\n",
       "      <th>4</th>\n",
       "      <td>vegetables</td>\n",
       "      <td>0.016536</td>\n",
       "      <td>0.013407</td>\n",
       "      <td>0.022377</td>\n",
       "    </tr>\n",
       "    <tr>\n",
       "      <th>5</th>\n",
       "      <td>soda</td>\n",
       "      <td>-0.027635</td>\n",
       "      <td>-0.023005</td>\n",
       "      <td>-0.024347</td>\n",
       "    </tr>\n",
       "    <tr>\n",
       "      <th>6</th>\n",
       "      <td>breakfast</td>\n",
       "      <td>0.128132</td>\n",
       "      <td>0.127701</td>\n",
       "      <td>0.107925</td>\n",
       "    </tr>\n",
       "    <tr>\n",
       "      <th>7</th>\n",
       "      <td>computer</td>\n",
       "      <td>-0.029086</td>\n",
       "      <td>-0.023801</td>\n",
       "      <td>-0.021143</td>\n",
       "    </tr>\n",
       "    <tr>\n",
       "      <th>8</th>\n",
       "      <td>sex_race</td>\n",
       "      <td>-0.010830</td>\n",
       "      <td>-0.000000</td>\n",
       "      <td>-0.011239</td>\n",
       "    </tr>\n",
       "    <tr>\n",
       "      <th>9</th>\n",
       "      <td>sex_smoke</td>\n",
       "      <td>-0.022844</td>\n",
       "      <td>-0.002765</td>\n",
       "      <td>-0.017563</td>\n",
       "    </tr>\n",
       "    <tr>\n",
       "      <th>10</th>\n",
       "      <td>comp_smoke</td>\n",
       "      <td>0.002430</td>\n",
       "      <td>-0.000000</td>\n",
       "      <td>-0.002308</td>\n",
       "    </tr>\n",
       "    <tr>\n",
       "      <th>11</th>\n",
       "      <td>soda_smoke</td>\n",
       "      <td>-0.003600</td>\n",
       "      <td>-0.004767</td>\n",
       "      <td>-0.005865</td>\n",
       "    </tr>\n",
       "    <tr>\n",
       "      <th>12</th>\n",
       "      <td>veg_smoke</td>\n",
       "      <td>0.000241</td>\n",
       "      <td>-0.000000</td>\n",
       "      <td>-0.003427</td>\n",
       "    </tr>\n",
       "    <tr>\n",
       "      <th>13</th>\n",
       "      <td>break_smoke</td>\n",
       "      <td>0.000463</td>\n",
       "      <td>-0.000000</td>\n",
       "      <td>0.008554</td>\n",
       "    </tr>\n",
       "  </tbody>\n",
       "</table>\n",
       "</div>"
      ],
      "text/plain": [
       "       features  linear regression   LassoCV   RidgeCV\n",
       "0           sex           0.124336  0.066070  0.111703\n",
       "1          race          -0.055445 -0.067335 -0.050727\n",
       "2     sexharass          -0.147792 -0.141748 -0.138778\n",
       "3       smoking          -0.047678 -0.058695 -0.051738\n",
       "4    vegetables           0.016536  0.013407  0.022377\n",
       "5          soda          -0.027635 -0.023005 -0.024347\n",
       "6     breakfast           0.128132  0.127701  0.107925\n",
       "7      computer          -0.029086 -0.023801 -0.021143\n",
       "8      sex_race          -0.010830 -0.000000 -0.011239\n",
       "9     sex_smoke          -0.022844 -0.002765 -0.017563\n",
       "10   comp_smoke           0.002430 -0.000000 -0.002308\n",
       "11   soda_smoke          -0.003600 -0.004767 -0.005865\n",
       "12    veg_smoke           0.000241 -0.000000 -0.003427\n",
       "13  break_smoke           0.000463 -0.000000  0.008554"
      ]
     },
     "execution_count": 109,
     "metadata": {},
     "output_type": "execute_result"
    }
   ],
   "source": [
    "pd.DataFrame({'features': train_X.columns, 'linear regression': linearRegression.coef_, \n",
    "              'LassoCV': lasso_cv.coef_, 'RidgeCV': ridge_cv.coef_})"
   ]
  },
  {
   "cell_type": "markdown",
   "metadata": {},
   "source": [
    "* The auto selection of the penalty in Lasso and Ridge did not eliminate any variables. \n",
    "* Lasso and Ridge did not improve the prediction accuracy (lower RMSE)\n",
    "* The coefficients of all interaction terms are nearly zero, and the coefficients of computer, soda, vegetables are relatively very close to zero in Lasso model, indicating that all these variables mentioned before did little contribution to the model."
   ]
  },
  {
   "cell_type": "markdown",
   "metadata": {},
   "source": [
    "<a id='section_id9'></a>\n",
    "### <span style=\"background-color:#B0E0E6\">References:</span>"
   ]
  },
  {
   "cell_type": "markdown",
   "metadata": {},
   "source": [
    "* Chapter 6 of _Datamining for Business Analytics_. [Access through Pitt library](https://pitt.summon.serialssolutions.com/#!/search?bookMark=ePnHCXMw42JgAfZbU5khpymBDxSztADNrHEZgbYtA2tc0K0CXMBq3gRYkwA7SJwMSi6JJYkKueALERSATTUF6P2LxQqJoIM5QMcV8zCwpgGjI5WXgaWkqBRYcEq7uYY4e-iCDkeKhw50xAPTkpmJBejiIfyyKlhkYXM9QGVA95qYGQMA-383uA)\n",
    "* Another book I like is: [Introduction to Statistical Learning](http://faculty.marshall.usc.edu/gareth-james/ISL/). The ISL book provides intuitive and \"math-lite\" explanations for many concepts. \n",
    "    * The ISL book uses \"R for lab exercises,\" but the concepts covered are independent of the programming language.\n",
    "    * [The videos](https://www.dataschool.io/15-hours-of-expert-machine-learning-videos/) from the authors of the ISL book are a great resource.\n",
    "    * Another book, [Elements of Statistical Learning](https://web.stanford.edu/~hastie/ElemStatLearn/), has more advanced treatment of the topics covered by ISL.\n",
    "\n",
    "***"
   ]
  },
  {
   "cell_type": "markdown",
   "metadata": {},
   "source": [
    "<font color=\"#610B21\"><center>\\~\\~ End of part 2. We'll discuss logistic regression in part 3\\~\\~ </center>\n",
    "<font color=\"#0B610B\"><center>\\*\\* **See you later!**\\*\\* </center>\n",
    "***"
   ]
  },
  {
   "cell_type": "markdown",
   "metadata": {},
   "source": [
    "<div style=\"text-align: right\"> <a href='#section_id0'>Back to top of Notebook</a></div>"
   ]
  },
  {
   "cell_type": "code",
   "execution_count": null,
   "metadata": {},
   "outputs": [],
   "source": []
  }
 ],
 "metadata": {
  "kernelspec": {
   "display_name": "Python 3",
   "language": "python",
   "name": "python3"
  },
  "language_info": {
   "codemirror_mode": {
    "name": "ipython",
    "version": 3
   },
   "file_extension": ".py",
   "mimetype": "text/x-python",
   "name": "python",
   "nbconvert_exporter": "python",
   "pygments_lexer": "ipython3",
   "version": "3.7.6"
  }
 },
 "nbformat": 4,
 "nbformat_minor": 4
}
