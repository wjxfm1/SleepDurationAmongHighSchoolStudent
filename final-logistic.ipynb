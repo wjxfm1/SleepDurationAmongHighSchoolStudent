{
 "cells": [
  {
   "cell_type": "markdown",
   "metadata": {},
   "source": [
    "<a id='section_id0'></a>\n",
    "# Data Programming Essentials *with Python*\n",
    "\n",
    "## Part 3 Modeling 2 : Logistic Regression\n",
    "\n",
    "<font color=\"#740202\">**Table of contents:**\n",
    "\n",
    "|No.|Topic||No.|Topic||No.|Topic|\n",
    "|:------|:------||:------|:------||:------|:------|\n",
    "|1.|[Key Libraries](#section_id1)||2.|[Sleeping dataset ](#section_id3)  |\n",
    "|3.|[Logit with Statsmodels](#section_id4)  ||4.|[Logit with Scikit](#section_id5)  ||5.|[K-fold Cross Validation](#section_id6)  |\n",
    "|6.|[Variable selection approaches](#section_id7)  ||7.|[Logit Regularization](#section_id8)||8.|[Nominal Logit](#section_id9)|\n",
    "|9.|[Ordinal Logit](#section_id10)  ||10.|[References](#section_id11)||||\n",
    "\n",
    "***"
   ]
  },
  {
   "cell_type": "markdown",
   "metadata": {},
   "source": [
    "<a id='section_id1'></a>\n",
    "### <span style=\"background-color:#B0E0E6\">Key libraries</span>\n",
    "* The following are the main libraries we'll use for modeling with logistic regression:\n",
    "* [Statsmodels](https://www.statsmodels.org/stable/index.html)\n",
    "    * This library is suitable when your main goal for analysis is \"explanation\". It provides easy reference to a host of statistics that can help with hypothesis testing exercises. \n",
    "* [Scikit-learn](https://scikit-learn.org/stable/index.html)\n",
    "    * This is a very popular package for machine learning in Python. Compiling explanation-oriented statistics is a little cumbersome with this package, but it provides powerful tools for prediction-oriented analysis.\n",
    "* [DMBA](https://pypi.org/project/dmba/)\n",
    "    * This is the set of utilities associated with the reference book I suggested: [Data Mining for Business Analytics](https://www.dataminingbook.com/book/python-edition)\n",
    "    * You can freely access the book and download individual PDF book chapters through the [Pitt library](https://pitt.summon.serialssolutions.com/#!/search?bookMark=ePnHCXMw42JgAfZbU5khpymBDxSztADNrHEZgbYtA2tc0K0CXMBq3gRYkwA7SJwMSi6JJYkKueALERSATTUF6P2LxQqJoIM5QMcV8zCwpgGjI5WXgaWkqBRYcEq7uYY4e-iCDkeKhw50xAPTkpmJBejiIfyyKlhkYXM9QGVA95qYGQMA-383uA)\n",
    "    * Logistic regression is covered in chapter 10 of the DMBA book."
   ]
  },
  {
   "cell_type": "code",
   "execution_count": 48,
   "metadata": {},
   "outputs": [
    {
     "name": "stdout",
     "output_type": "stream",
     "text": [
      "Requirement already satisfied: scikit-plot in c:\\users\\edwar\\anaconda3\\lib\\site-packages (0.3.7)\n",
      "Requirement already satisfied: scipy>=0.9 in c:\\users\\edwar\\anaconda3\\lib\\site-packages (from scikit-plot) (1.4.1)\n",
      "Requirement already satisfied: scikit-learn>=0.18 in c:\\users\\edwar\\anaconda3\\lib\\site-packages (from scikit-plot) (0.22.1)\n",
      "Requirement already satisfied: joblib>=0.10 in c:\\users\\edwar\\anaconda3\\lib\\site-packages (from scikit-plot) (0.14.1)\n",
      "Requirement already satisfied: matplotlib>=1.4.0 in c:\\users\\edwar\\anaconda3\\lib\\site-packages (from scikit-plot) (3.1.3)\n",
      "Requirement already satisfied: numpy>=1.13.3 in c:\\users\\edwar\\anaconda3\\lib\\site-packages (from scipy>=0.9->scikit-plot) (1.18.1)\n",
      "Requirement already satisfied: pyparsing!=2.0.4,!=2.1.2,!=2.1.6,>=2.0.1 in c:\\users\\edwar\\anaconda3\\lib\\site-packages (from matplotlib>=1.4.0->scikit-plot) (2.4.6)\n",
      "Requirement already satisfied: python-dateutil>=2.1 in c:\\users\\edwar\\anaconda3\\lib\\site-packages (from matplotlib>=1.4.0->scikit-plot) (2.8.1)\n",
      "Requirement already satisfied: cycler>=0.10 in c:\\users\\edwar\\anaconda3\\lib\\site-packages (from matplotlib>=1.4.0->scikit-plot) (0.10.0)\n",
      "Requirement already satisfied: kiwisolver>=1.0.1 in c:\\users\\edwar\\anaconda3\\lib\\site-packages (from matplotlib>=1.4.0->scikit-plot) (1.1.0)\n",
      "Requirement already satisfied: six>=1.5 in c:\\users\\edwar\\anaconda3\\lib\\site-packages (from python-dateutil>=2.1->matplotlib>=1.4.0->scikit-plot) (1.14.0)\n",
      "Requirement already satisfied: setuptools in c:\\users\\edwar\\anaconda3\\lib\\site-packages (from kiwisolver>=1.0.1->matplotlib>=1.4.0->scikit-plot) (45.2.0.post20200210)\n",
      "Requirement already satisfied: mord in c:\\users\\edwar\\anaconda3\\lib\\site-packages (0.6)\n"
     ]
    }
   ],
   "source": [
    "import pandas as pd\n",
    "import numpy as np\n",
    "import scipy.stats as stats\n",
    "\n",
    "# for regressions with statsmodels:\n",
    "import statsmodels.api as sm\n",
    "import statsmodels.formula.api as smf\n",
    "import statsmodels.stats.api as sms\n",
    "from statsmodels.compat import lzip\n",
    "from statsmodels.stats.outliers_influence import OLSInfluence\n",
    "from statsmodels.graphics.regressionplots import plot_leverage_resid2\n",
    "\n",
    "# for regressions with scikit-learn:\n",
    "import sklearn.linear_model as sklm\n",
    "from sklearn import preprocessing\n",
    "from sklearn.model_selection import KFold\n",
    "from sklearn.metrics import confusion_matrix, classification_report, precision_score, \\\n",
    "                            accuracy_score, roc_curve, roc_auc_score\n",
    "from sklearn.model_selection import train_test_split, cross_validate, cross_val_score\n",
    "\n",
    "#for plotting confusion matrix:\n",
    "!pip install scikit-plot\n",
    "import scikitplot as skplt\n",
    "\n",
    "#for ordinal logistic regression\n",
    "!pip install mord\n",
    "from mord import LogisticIT\n"
   ]
  },
  {
   "cell_type": "code",
   "execution_count": 49,
   "metadata": {},
   "outputs": [
    {
     "name": "stdout",
     "output_type": "stream",
     "text": [
      "Requirement already satisfied: dmba in c:\\users\\edwar\\anaconda3\\lib\\site-packages (0.0.12)\n"
     ]
    }
   ],
   "source": [
    "#These are utility tools of the DMBA book. \n",
    "#Install the \"dmba\" package first (just one time)\n",
    "\n",
    "!pip install dmba\n",
    "from dmba import regressionSummary, exhaustive_search\n",
    "from dmba import backward_elimination, forward_selection, stepwise_selection\n",
    "from dmba import adjusted_r2_score, AIC_score, BIC_score\n",
    "from dmba import classificationSummary, gainsChart, liftChart\n",
    "from dmba.metric import AIC_score"
   ]
  },
  {
   "cell_type": "code",
   "execution_count": 50,
   "metadata": {},
   "outputs": [],
   "source": [
    "# visualization and tuning the aesthetics\n",
    "import matplotlib.pylab as plt\n",
    "import seaborn as sns\n",
    "%matplotlib inline\n",
    "sns.set_style(\"whitegrid\")\n",
    "sns.set_context(\"notebook\", font_scale=1, rc={\"lines.linewidth\": 2,'font.family': [u'times']})\n",
    "plt.style.use('seaborn-whitegrid')\n",
    "plt.rc('text', usetex = False)\n",
    "plt.rc('font', family = 'serif')\n",
    "plt.rc('xtick', labelsize = 10) \n",
    "plt.rc('ytick', labelsize = 10) \n",
    "plt.rc('font', size = 12) \n",
    "plt.rc('figure', figsize = (6, 5))"
   ]
  },
  {
   "cell_type": "markdown",
   "metadata": {},
   "source": [
    "<div style=\"text-align: right\"> <a href='#section_id0'>Back to top of Notebook</a></div>"
   ]
  },
  {
   "cell_type": "markdown",
   "metadata": {},
   "source": [
    "<a id='section_id3'></a>\n",
    "### <span style=\"background-color:#B0E0E6\">Sleeping duration data: check and explore</span>"
   ]
  },
  {
   "cell_type": "markdown",
   "metadata": {},
   "source": [
    "|Variable|Description|\n",
    "|:------|:------|\n",
    "|sleeping|sleep hours on an average shcool night: 1=<4 hrs, 2=5 hrs, 3=6 hrs, 4=7 hrs, 5=8 hrs, 6=9 hrs, 7= >=10 hrs|\n",
    "|sex|1=Female, 2=Male|\n",
    "|race|1=White, 2=Black or African American, 3=Hispanic/Latino, 4=All other races|\n",
    "|sexharass|sexual harassment during the past 12 months: 1=0 times, 2=1 time, 3=2 or 3 times, 4=4 or 5 times, 5=6 or more times|\n",
    "|smoking|smoke cigarettes during the past 30 days: 1=0 days, 2=1 or 2 days, 3=3 to 5 days, 4= 6 to 9 days, 5=10 to 19 days, 6=20 to 29 days, 7=all 30 days|\n",
    "|vegetables|eating other vegetables(do not count green salad, potatoes, or carrots) during the past 7 days: 1=0 times, 2=1 to 3 times, 3=4 to 6 times, 4=1 time/day, 5=2 times/day, 6=3 times/day, 7=>= 4 times/day|\n",
    "|soda|drinking soda or pop during past 7 days: 1= 0 times, 2=1 to 3 times, 3=4 to 6 times, 4=1 time/day, 5=2 times/day, 6=3 times/day, 7=>=4 times/day |\n",
    "|breakfast|days of eating breakfast per week: 1=0 day, 2=1 day, 3=2 days, 4=3 days, 5= 4 days, 6=5 days, 7=6 days, 8= 7 days|\n",
    "|computer|hours of playing computer games or something that is not school work per day: 1=0 hrs, 2=<1 hr, 3=1 hr, 4=2 hrs, 5=3 hrs, 6=4 hrs, 7=>=5 hrs|\n"
   ]
  },
  {
   "cell_type": "code",
   "execution_count": 51,
   "metadata": {},
   "outputs": [],
   "source": [
    "df1 = pd.read_csv('sleeping.csv')"
   ]
  },
  {
   "cell_type": "code",
   "execution_count": 52,
   "metadata": {},
   "outputs": [
    {
     "data": {
      "text/html": [
       "<div>\n",
       "<style scoped>\n",
       "    .dataframe tbody tr th:only-of-type {\n",
       "        vertical-align: middle;\n",
       "    }\n",
       "\n",
       "    .dataframe tbody tr th {\n",
       "        vertical-align: top;\n",
       "    }\n",
       "\n",
       "    .dataframe thead th {\n",
       "        text-align: right;\n",
       "    }\n",
       "</style>\n",
       "<table border=\"1\" class=\"dataframe\">\n",
       "  <thead>\n",
       "    <tr style=\"text-align: right;\">\n",
       "      <th></th>\n",
       "      <th>sleeping</th>\n",
       "      <th>sex</th>\n",
       "      <th>race</th>\n",
       "      <th>sexharass</th>\n",
       "      <th>smoking</th>\n",
       "      <th>vegetables</th>\n",
       "      <th>soda</th>\n",
       "      <th>breakfast</th>\n",
       "      <th>computer</th>\n",
       "    </tr>\n",
       "  </thead>\n",
       "  <tbody>\n",
       "    <tr>\n",
       "      <th>count</th>\n",
       "      <td>36220.000000</td>\n",
       "      <td>36220.000000</td>\n",
       "      <td>36220.000000</td>\n",
       "      <td>36220.000000</td>\n",
       "      <td>36220.000000</td>\n",
       "      <td>36220.000000</td>\n",
       "      <td>36220.000000</td>\n",
       "      <td>36220.000000</td>\n",
       "      <td>36220.000000</td>\n",
       "    </tr>\n",
       "    <tr>\n",
       "      <th>mean</th>\n",
       "      <td>3.508007</td>\n",
       "      <td>1.481336</td>\n",
       "      <td>2.064633</td>\n",
       "      <td>1.186554</td>\n",
       "      <td>1.250028</td>\n",
       "      <td>2.556102</td>\n",
       "      <td>2.410574</td>\n",
       "      <td>5.098896</td>\n",
       "      <td>3.930204</td>\n",
       "    </tr>\n",
       "    <tr>\n",
       "      <th>std</th>\n",
       "      <td>1.398969</td>\n",
       "      <td>0.499658</td>\n",
       "      <td>1.226763</td>\n",
       "      <td>0.631294</td>\n",
       "      <td>0.988877</td>\n",
       "      <td>1.360694</td>\n",
       "      <td>1.490681</td>\n",
       "      <td>2.657106</td>\n",
       "      <td>2.191636</td>\n",
       "    </tr>\n",
       "    <tr>\n",
       "      <th>min</th>\n",
       "      <td>1.000000</td>\n",
       "      <td>1.000000</td>\n",
       "      <td>1.000000</td>\n",
       "      <td>1.000000</td>\n",
       "      <td>1.000000</td>\n",
       "      <td>1.000000</td>\n",
       "      <td>1.000000</td>\n",
       "      <td>1.000000</td>\n",
       "      <td>1.000000</td>\n",
       "    </tr>\n",
       "    <tr>\n",
       "      <th>25%</th>\n",
       "      <td>3.000000</td>\n",
       "      <td>1.000000</td>\n",
       "      <td>1.000000</td>\n",
       "      <td>1.000000</td>\n",
       "      <td>1.000000</td>\n",
       "      <td>2.000000</td>\n",
       "      <td>1.000000</td>\n",
       "      <td>3.000000</td>\n",
       "      <td>2.000000</td>\n",
       "    </tr>\n",
       "    <tr>\n",
       "      <th>50%</th>\n",
       "      <td>4.000000</td>\n",
       "      <td>1.000000</td>\n",
       "      <td>1.000000</td>\n",
       "      <td>1.000000</td>\n",
       "      <td>1.000000</td>\n",
       "      <td>2.000000</td>\n",
       "      <td>2.000000</td>\n",
       "      <td>5.000000</td>\n",
       "      <td>4.000000</td>\n",
       "    </tr>\n",
       "    <tr>\n",
       "      <th>75%</th>\n",
       "      <td>4.000000</td>\n",
       "      <td>2.000000</td>\n",
       "      <td>3.000000</td>\n",
       "      <td>1.000000</td>\n",
       "      <td>1.000000</td>\n",
       "      <td>3.000000</td>\n",
       "      <td>3.000000</td>\n",
       "      <td>8.000000</td>\n",
       "      <td>6.000000</td>\n",
       "    </tr>\n",
       "    <tr>\n",
       "      <th>max</th>\n",
       "      <td>7.000000</td>\n",
       "      <td>2.000000</td>\n",
       "      <td>4.000000</td>\n",
       "      <td>5.000000</td>\n",
       "      <td>7.000000</td>\n",
       "      <td>7.000000</td>\n",
       "      <td>7.000000</td>\n",
       "      <td>8.000000</td>\n",
       "      <td>7.000000</td>\n",
       "    </tr>\n",
       "  </tbody>\n",
       "</table>\n",
       "</div>"
      ],
      "text/plain": [
       "           sleeping           sex          race     sexharass       smoking  \\\n",
       "count  36220.000000  36220.000000  36220.000000  36220.000000  36220.000000   \n",
       "mean       3.508007      1.481336      2.064633      1.186554      1.250028   \n",
       "std        1.398969      0.499658      1.226763      0.631294      0.988877   \n",
       "min        1.000000      1.000000      1.000000      1.000000      1.000000   \n",
       "25%        3.000000      1.000000      1.000000      1.000000      1.000000   \n",
       "50%        4.000000      1.000000      1.000000      1.000000      1.000000   \n",
       "75%        4.000000      2.000000      3.000000      1.000000      1.000000   \n",
       "max        7.000000      2.000000      4.000000      5.000000      7.000000   \n",
       "\n",
       "         vegetables          soda     breakfast      computer  \n",
       "count  36220.000000  36220.000000  36220.000000  36220.000000  \n",
       "mean       2.556102      2.410574      5.098896      3.930204  \n",
       "std        1.360694      1.490681      2.657106      2.191636  \n",
       "min        1.000000      1.000000      1.000000      1.000000  \n",
       "25%        2.000000      1.000000      3.000000      2.000000  \n",
       "50%        2.000000      2.000000      5.000000      4.000000  \n",
       "75%        3.000000      3.000000      8.000000      6.000000  \n",
       "max        7.000000      7.000000      8.000000      7.000000  "
      ]
     },
     "execution_count": 52,
     "metadata": {},
     "output_type": "execute_result"
    }
   ],
   "source": [
    "df1.describe()"
   ]
  },
  {
   "cell_type": "code",
   "execution_count": 53,
   "metadata": {},
   "outputs": [
    {
     "name": "stdout",
     "output_type": "stream",
     "text": [
      "<class 'pandas.core.frame.DataFrame'>\n",
      "RangeIndex: 36220 entries, 0 to 36219\n",
      "Data columns (total 9 columns):\n",
      " #   Column      Non-Null Count  Dtype\n",
      "---  ------      --------------  -----\n",
      " 0   sleeping    36220 non-null  int64\n",
      " 1   sex         36220 non-null  int64\n",
      " 2   race        36220 non-null  int64\n",
      " 3   sexharass   36220 non-null  int64\n",
      " 4   smoking     36220 non-null  int64\n",
      " 5   vegetables  36220 non-null  int64\n",
      " 6   soda        36220 non-null  int64\n",
      " 7   breakfast   36220 non-null  int64\n",
      " 8   computer    36220 non-null  int64\n",
      "dtypes: int64(9)\n",
      "memory usage: 2.5 MB\n"
     ]
    }
   ],
   "source": [
    "df1.info()"
   ]
  },
  {
   "cell_type": "code",
   "execution_count": 54,
   "metadata": {},
   "outputs": [
    {
     "data": {
      "text/plain": [
       "0"
      ]
     },
     "execution_count": 54,
     "metadata": {},
     "output_type": "execute_result"
    }
   ],
   "source": [
    "df1.isna().sum().sum()"
   ]
  },
  {
   "cell_type": "code",
   "execution_count": 55,
   "metadata": {},
   "outputs": [
    {
     "data": {
      "text/html": [
       "<div>\n",
       "<style scoped>\n",
       "    .dataframe tbody tr th:only-of-type {\n",
       "        vertical-align: middle;\n",
       "    }\n",
       "\n",
       "    .dataframe tbody tr th {\n",
       "        vertical-align: top;\n",
       "    }\n",
       "\n",
       "    .dataframe thead th {\n",
       "        text-align: right;\n",
       "    }\n",
       "</style>\n",
       "<table border=\"1\" class=\"dataframe\">\n",
       "  <thead>\n",
       "    <tr style=\"text-align: right;\">\n",
       "      <th></th>\n",
       "      <th>sleeping</th>\n",
       "      <th>sex</th>\n",
       "      <th>race</th>\n",
       "      <th>sexharass</th>\n",
       "      <th>smoking</th>\n",
       "      <th>vegetables</th>\n",
       "      <th>soda</th>\n",
       "      <th>breakfast</th>\n",
       "      <th>computer</th>\n",
       "      <th>sleepcat</th>\n",
       "    </tr>\n",
       "  </thead>\n",
       "  <tbody>\n",
       "    <tr>\n",
       "      <th>0</th>\n",
       "      <td>1</td>\n",
       "      <td>2</td>\n",
       "      <td>4</td>\n",
       "      <td>4</td>\n",
       "      <td>4</td>\n",
       "      <td>3</td>\n",
       "      <td>2</td>\n",
       "      <td>3</td>\n",
       "      <td>3</td>\n",
       "      <td>0</td>\n",
       "    </tr>\n",
       "    <tr>\n",
       "      <th>1</th>\n",
       "      <td>1</td>\n",
       "      <td>2</td>\n",
       "      <td>3</td>\n",
       "      <td>1</td>\n",
       "      <td>1</td>\n",
       "      <td>2</td>\n",
       "      <td>1</td>\n",
       "      <td>1</td>\n",
       "      <td>2</td>\n",
       "      <td>0</td>\n",
       "    </tr>\n",
       "    <tr>\n",
       "      <th>2</th>\n",
       "      <td>1</td>\n",
       "      <td>2</td>\n",
       "      <td>4</td>\n",
       "      <td>1</td>\n",
       "      <td>1</td>\n",
       "      <td>1</td>\n",
       "      <td>1</td>\n",
       "      <td>1</td>\n",
       "      <td>1</td>\n",
       "      <td>0</td>\n",
       "    </tr>\n",
       "    <tr>\n",
       "      <th>3</th>\n",
       "      <td>3</td>\n",
       "      <td>2</td>\n",
       "      <td>4</td>\n",
       "      <td>1</td>\n",
       "      <td>1</td>\n",
       "      <td>3</td>\n",
       "      <td>5</td>\n",
       "      <td>5</td>\n",
       "      <td>4</td>\n",
       "      <td>0</td>\n",
       "    </tr>\n",
       "    <tr>\n",
       "      <th>4</th>\n",
       "      <td>3</td>\n",
       "      <td>2</td>\n",
       "      <td>4</td>\n",
       "      <td>1</td>\n",
       "      <td>6</td>\n",
       "      <td>2</td>\n",
       "      <td>6</td>\n",
       "      <td>5</td>\n",
       "      <td>7</td>\n",
       "      <td>0</td>\n",
       "    </tr>\n",
       "    <tr>\n",
       "      <th>5</th>\n",
       "      <td>5</td>\n",
       "      <td>2</td>\n",
       "      <td>4</td>\n",
       "      <td>1</td>\n",
       "      <td>1</td>\n",
       "      <td>5</td>\n",
       "      <td>2</td>\n",
       "      <td>4</td>\n",
       "      <td>5</td>\n",
       "      <td>1</td>\n",
       "    </tr>\n",
       "  </tbody>\n",
       "</table>\n",
       "</div>"
      ],
      "text/plain": [
       "   sleeping  sex  race  sexharass  smoking  vegetables  soda  breakfast  \\\n",
       "0         1    2     4          4        4           3     2          3   \n",
       "1         1    2     3          1        1           2     1          1   \n",
       "2         1    2     4          1        1           1     1          1   \n",
       "3         3    2     4          1        1           3     5          5   \n",
       "4         3    2     4          1        6           2     6          5   \n",
       "5         5    2     4          1        1           5     2          4   \n",
       "\n",
       "   computer sleepcat  \n",
       "0         3        0  \n",
       "1         2        0  \n",
       "2         1        0  \n",
       "3         4        0  \n",
       "4         7        0  \n",
       "5         5        1  "
      ]
     },
     "execution_count": 55,
     "metadata": {},
     "output_type": "execute_result"
    }
   ],
   "source": [
    "# inserting a sleep_category column\n",
    "\n",
    "df1['sleepcat']=pd.cut(df1['sleeping'], bins=[0,4,8], labels=['0', '1']) # 0 = short, 0 =long\n",
    "df1.head(6)"
   ]
  },
  {
   "cell_type": "code",
   "execution_count": 56,
   "metadata": {},
   "outputs": [
    {
     "data": {
      "text/plain": [
       "0"
      ]
     },
     "execution_count": 56,
     "metadata": {},
     "output_type": "execute_result"
    }
   ],
   "source": [
    "df1.isna().sum().sum()"
   ]
  },
  {
   "cell_type": "code",
   "execution_count": 10,
   "metadata": {},
   "outputs": [
    {
     "data": {
      "text/html": [
       "<div>\n",
       "<style scoped>\n",
       "    .dataframe tbody tr th:only-of-type {\n",
       "        vertical-align: middle;\n",
       "    }\n",
       "\n",
       "    .dataframe tbody tr th {\n",
       "        vertical-align: top;\n",
       "    }\n",
       "\n",
       "    .dataframe thead th {\n",
       "        text-align: right;\n",
       "    }\n",
       "</style>\n",
       "<table border=\"1\" class=\"dataframe\">\n",
       "  <thead>\n",
       "    <tr style=\"text-align: right;\">\n",
       "      <th></th>\n",
       "      <th>sleeping</th>\n",
       "      <th>sex</th>\n",
       "      <th>race</th>\n",
       "      <th>sexharass</th>\n",
       "      <th>smoking</th>\n",
       "      <th>vegetables</th>\n",
       "      <th>soda</th>\n",
       "      <th>breakfast</th>\n",
       "      <th>computer</th>\n",
       "      <th>sleepcat</th>\n",
       "    </tr>\n",
       "  </thead>\n",
       "  <tbody>\n",
       "    <tr>\n",
       "      <th>5</th>\n",
       "      <td>5</td>\n",
       "      <td>2</td>\n",
       "      <td>4</td>\n",
       "      <td>1</td>\n",
       "      <td>1</td>\n",
       "      <td>5</td>\n",
       "      <td>2</td>\n",
       "      <td>4</td>\n",
       "      <td>5</td>\n",
       "      <td>1</td>\n",
       "    </tr>\n",
       "    <tr>\n",
       "      <th>6</th>\n",
       "      <td>6</td>\n",
       "      <td>2</td>\n",
       "      <td>4</td>\n",
       "      <td>1</td>\n",
       "      <td>1</td>\n",
       "      <td>3</td>\n",
       "      <td>1</td>\n",
       "      <td>8</td>\n",
       "      <td>7</td>\n",
       "      <td>1</td>\n",
       "    </tr>\n",
       "    <tr>\n",
       "      <th>8</th>\n",
       "      <td>6</td>\n",
       "      <td>2</td>\n",
       "      <td>1</td>\n",
       "      <td>1</td>\n",
       "      <td>1</td>\n",
       "      <td>3</td>\n",
       "      <td>3</td>\n",
       "      <td>1</td>\n",
       "      <td>4</td>\n",
       "      <td>1</td>\n",
       "    </tr>\n",
       "    <tr>\n",
       "      <th>10</th>\n",
       "      <td>6</td>\n",
       "      <td>2</td>\n",
       "      <td>1</td>\n",
       "      <td>1</td>\n",
       "      <td>1</td>\n",
       "      <td>6</td>\n",
       "      <td>2</td>\n",
       "      <td>8</td>\n",
       "      <td>6</td>\n",
       "      <td>1</td>\n",
       "    </tr>\n",
       "    <tr>\n",
       "      <th>11</th>\n",
       "      <td>5</td>\n",
       "      <td>2</td>\n",
       "      <td>1</td>\n",
       "      <td>1</td>\n",
       "      <td>1</td>\n",
       "      <td>1</td>\n",
       "      <td>2</td>\n",
       "      <td>7</td>\n",
       "      <td>2</td>\n",
       "      <td>1</td>\n",
       "    </tr>\n",
       "    <tr>\n",
       "      <th>15</th>\n",
       "      <td>5</td>\n",
       "      <td>2</td>\n",
       "      <td>1</td>\n",
       "      <td>1</td>\n",
       "      <td>1</td>\n",
       "      <td>1</td>\n",
       "      <td>3</td>\n",
       "      <td>8</td>\n",
       "      <td>4</td>\n",
       "      <td>1</td>\n",
       "    </tr>\n",
       "    <tr>\n",
       "      <th>24</th>\n",
       "      <td>7</td>\n",
       "      <td>2</td>\n",
       "      <td>1</td>\n",
       "      <td>1</td>\n",
       "      <td>1</td>\n",
       "      <td>2</td>\n",
       "      <td>3</td>\n",
       "      <td>8</td>\n",
       "      <td>7</td>\n",
       "      <td>1</td>\n",
       "    </tr>\n",
       "    <tr>\n",
       "      <th>28</th>\n",
       "      <td>5</td>\n",
       "      <td>2</td>\n",
       "      <td>2</td>\n",
       "      <td>2</td>\n",
       "      <td>1</td>\n",
       "      <td>3</td>\n",
       "      <td>2</td>\n",
       "      <td>8</td>\n",
       "      <td>1</td>\n",
       "      <td>1</td>\n",
       "    </tr>\n",
       "    <tr>\n",
       "      <th>29</th>\n",
       "      <td>5</td>\n",
       "      <td>2</td>\n",
       "      <td>1</td>\n",
       "      <td>2</td>\n",
       "      <td>1</td>\n",
       "      <td>5</td>\n",
       "      <td>4</td>\n",
       "      <td>8</td>\n",
       "      <td>5</td>\n",
       "      <td>1</td>\n",
       "    </tr>\n",
       "    <tr>\n",
       "      <th>30</th>\n",
       "      <td>5</td>\n",
       "      <td>2</td>\n",
       "      <td>2</td>\n",
       "      <td>1</td>\n",
       "      <td>1</td>\n",
       "      <td>2</td>\n",
       "      <td>3</td>\n",
       "      <td>2</td>\n",
       "      <td>1</td>\n",
       "      <td>1</td>\n",
       "    </tr>\n",
       "  </tbody>\n",
       "</table>\n",
       "</div>"
      ],
      "text/plain": [
       "    sleeping  sex  race  sexharass  smoking  vegetables  soda  breakfast  \\\n",
       "5          5    2     4          1        1           5     2          4   \n",
       "6          6    2     4          1        1           3     1          8   \n",
       "8          6    2     1          1        1           3     3          1   \n",
       "10         6    2     1          1        1           6     2          8   \n",
       "11         5    2     1          1        1           1     2          7   \n",
       "15         5    2     1          1        1           1     3          8   \n",
       "24         7    2     1          1        1           2     3          8   \n",
       "28         5    2     2          2        1           3     2          8   \n",
       "29         5    2     1          2        1           5     4          8   \n",
       "30         5    2     2          1        1           2     3          2   \n",
       "\n",
       "    computer sleepcat  \n",
       "5          5        1  \n",
       "6          7        1  \n",
       "8          4        1  \n",
       "10         6        1  \n",
       "11         2        1  \n",
       "15         4        1  \n",
       "24         7        1  \n",
       "28         1        1  \n",
       "29         5        1  \n",
       "30         1        1  "
      ]
     },
     "execution_count": 10,
     "metadata": {},
     "output_type": "execute_result"
    }
   ],
   "source": [
    "# check if the cut is correct\n",
    "df1.loc[df1.sleeping>=5].head(10)"
   ]
  },
  {
   "cell_type": "code",
   "execution_count": 11,
   "metadata": {},
   "outputs": [
    {
     "data": {
      "text/html": [
       "<div>\n",
       "<style scoped>\n",
       "    .dataframe tbody tr th:only-of-type {\n",
       "        vertical-align: middle;\n",
       "    }\n",
       "\n",
       "    .dataframe tbody tr th {\n",
       "        vertical-align: top;\n",
       "    }\n",
       "\n",
       "    .dataframe thead th {\n",
       "        text-align: right;\n",
       "    }\n",
       "</style>\n",
       "<table border=\"1\" class=\"dataframe\">\n",
       "  <thead>\n",
       "    <tr style=\"text-align: right;\">\n",
       "      <th></th>\n",
       "      <th>sleeping</th>\n",
       "      <th>sex</th>\n",
       "      <th>race</th>\n",
       "      <th>sexharass</th>\n",
       "      <th>smoking</th>\n",
       "      <th>vegetables</th>\n",
       "      <th>soda</th>\n",
       "      <th>breakfast</th>\n",
       "      <th>computer</th>\n",
       "      <th>sleepcat</th>\n",
       "    </tr>\n",
       "  </thead>\n",
       "  <tbody>\n",
       "    <tr>\n",
       "      <th>0</th>\n",
       "      <td>1</td>\n",
       "      <td>2</td>\n",
       "      <td>4</td>\n",
       "      <td>4</td>\n",
       "      <td>4</td>\n",
       "      <td>3</td>\n",
       "      <td>2</td>\n",
       "      <td>3</td>\n",
       "      <td>3</td>\n",
       "      <td>0</td>\n",
       "    </tr>\n",
       "    <tr>\n",
       "      <th>1</th>\n",
       "      <td>1</td>\n",
       "      <td>2</td>\n",
       "      <td>3</td>\n",
       "      <td>1</td>\n",
       "      <td>1</td>\n",
       "      <td>2</td>\n",
       "      <td>1</td>\n",
       "      <td>1</td>\n",
       "      <td>2</td>\n",
       "      <td>0</td>\n",
       "    </tr>\n",
       "    <tr>\n",
       "      <th>2</th>\n",
       "      <td>1</td>\n",
       "      <td>2</td>\n",
       "      <td>4</td>\n",
       "      <td>1</td>\n",
       "      <td>1</td>\n",
       "      <td>1</td>\n",
       "      <td>1</td>\n",
       "      <td>1</td>\n",
       "      <td>1</td>\n",
       "      <td>0</td>\n",
       "    </tr>\n",
       "    <tr>\n",
       "      <th>3</th>\n",
       "      <td>3</td>\n",
       "      <td>2</td>\n",
       "      <td>4</td>\n",
       "      <td>1</td>\n",
       "      <td>1</td>\n",
       "      <td>3</td>\n",
       "      <td>5</td>\n",
       "      <td>5</td>\n",
       "      <td>4</td>\n",
       "      <td>0</td>\n",
       "    </tr>\n",
       "    <tr>\n",
       "      <th>4</th>\n",
       "      <td>3</td>\n",
       "      <td>2</td>\n",
       "      <td>4</td>\n",
       "      <td>1</td>\n",
       "      <td>6</td>\n",
       "      <td>2</td>\n",
       "      <td>6</td>\n",
       "      <td>5</td>\n",
       "      <td>7</td>\n",
       "      <td>0</td>\n",
       "    </tr>\n",
       "    <tr>\n",
       "      <th>7</th>\n",
       "      <td>4</td>\n",
       "      <td>2</td>\n",
       "      <td>1</td>\n",
       "      <td>1</td>\n",
       "      <td>1</td>\n",
       "      <td>2</td>\n",
       "      <td>1</td>\n",
       "      <td>3</td>\n",
       "      <td>6</td>\n",
       "      <td>0</td>\n",
       "    </tr>\n",
       "    <tr>\n",
       "      <th>9</th>\n",
       "      <td>2</td>\n",
       "      <td>2</td>\n",
       "      <td>3</td>\n",
       "      <td>1</td>\n",
       "      <td>1</td>\n",
       "      <td>5</td>\n",
       "      <td>2</td>\n",
       "      <td>8</td>\n",
       "      <td>4</td>\n",
       "      <td>0</td>\n",
       "    </tr>\n",
       "    <tr>\n",
       "      <th>12</th>\n",
       "      <td>1</td>\n",
       "      <td>2</td>\n",
       "      <td>2</td>\n",
       "      <td>1</td>\n",
       "      <td>1</td>\n",
       "      <td>1</td>\n",
       "      <td>2</td>\n",
       "      <td>1</td>\n",
       "      <td>1</td>\n",
       "      <td>0</td>\n",
       "    </tr>\n",
       "    <tr>\n",
       "      <th>13</th>\n",
       "      <td>4</td>\n",
       "      <td>2</td>\n",
       "      <td>3</td>\n",
       "      <td>1</td>\n",
       "      <td>1</td>\n",
       "      <td>1</td>\n",
       "      <td>1</td>\n",
       "      <td>8</td>\n",
       "      <td>6</td>\n",
       "      <td>0</td>\n",
       "    </tr>\n",
       "    <tr>\n",
       "      <th>14</th>\n",
       "      <td>1</td>\n",
       "      <td>2</td>\n",
       "      <td>3</td>\n",
       "      <td>1</td>\n",
       "      <td>1</td>\n",
       "      <td>1</td>\n",
       "      <td>1</td>\n",
       "      <td>1</td>\n",
       "      <td>1</td>\n",
       "      <td>0</td>\n",
       "    </tr>\n",
       "  </tbody>\n",
       "</table>\n",
       "</div>"
      ],
      "text/plain": [
       "    sleeping  sex  race  sexharass  smoking  vegetables  soda  breakfast  \\\n",
       "0          1    2     4          4        4           3     2          3   \n",
       "1          1    2     3          1        1           2     1          1   \n",
       "2          1    2     4          1        1           1     1          1   \n",
       "3          3    2     4          1        1           3     5          5   \n",
       "4          3    2     4          1        6           2     6          5   \n",
       "7          4    2     1          1        1           2     1          3   \n",
       "9          2    2     3          1        1           5     2          8   \n",
       "12         1    2     2          1        1           1     2          1   \n",
       "13         4    2     3          1        1           1     1          8   \n",
       "14         1    2     3          1        1           1     1          1   \n",
       "\n",
       "    computer sleepcat  \n",
       "0          3        0  \n",
       "1          2        0  \n",
       "2          1        0  \n",
       "3          4        0  \n",
       "4          7        0  \n",
       "7          6        0  \n",
       "9          4        0  \n",
       "12         1        0  \n",
       "13         6        0  \n",
       "14         1        0  "
      ]
     },
     "execution_count": 11,
     "metadata": {},
     "output_type": "execute_result"
    }
   ],
   "source": [
    "df1.loc[df1.sleeping<5].head(10)"
   ]
  },
  {
   "cell_type": "code",
   "execution_count": 57,
   "metadata": {},
   "outputs": [
    {
     "data": {
      "text/plain": [
       "Index(['sex', 'race', 'sexharass', 'smoking', 'vegetables', 'soda',\n",
       "       'breakfast', 'computer', 'sleepcat'],\n",
       "      dtype='object')"
      ]
     },
     "execution_count": 57,
     "metadata": {},
     "output_type": "execute_result"
    }
   ],
   "source": [
    "df1.drop(columns=['sleeping'], inplace=True)\n",
    "df1.columns"
   ]
  },
  {
   "cell_type": "code",
   "execution_count": 13,
   "metadata": {},
   "outputs": [
    {
     "data": {
      "text/plain": [
       "<seaborn.axisgrid.PairGrid at 0x24c27a2e688>"
      ]
     },
     "execution_count": 13,
     "metadata": {},
     "output_type": "execute_result"
    },
    {
     "data": {
      "image/png": "[encoded data removed]",
      "text/plain": [
       "<Figure size 1440x180 with 8 Axes>"
      ]
     },
     "metadata": {},
     "output_type": "display_data"
    }
   ],
   "source": [
    "sns.pairplot(data=df1, y_vars=['sleepcat'], x_vars=['sex', 'race', 'sexharass', 'smoking','vegetables', 'soda', 'breakfast', 'computer'])"
   ]
  },
  {
   "cell_type": "code",
   "execution_count": 58,
   "metadata": {},
   "outputs": [],
   "source": [
    "# converting the data types using functions like `.astype(int)` or `pd.to_numeric()`.\n",
    "df1.loc[:,'sleepcat']=pd.to_numeric(df1.loc[:,'sleepcat'], errors='coerce')"
   ]
  },
  {
   "cell_type": "code",
   "execution_count": 15,
   "metadata": {},
   "outputs": [
    {
     "data": {
      "text/plain": [
       "<matplotlib.axes._subplots.AxesSubplot at 0x24c28a4a508>"
      ]
     },
     "execution_count": 15,
     "metadata": {},
     "output_type": "execute_result"
    },
    {
     "data": {
      "image/png": "[encoded data removed]",
      "text/plain": [
       "<Figure size 432x360 with 1 Axes>"
      ]
     },
     "metadata": {},
     "output_type": "display_data"
    }
   ],
   "source": [
    "sns.regplot(x=\"breakfast\", y=\"sleepcat\", data=df1, logistic=True, line_kws={\"color\": \"red\"})"
   ]
  },
  {
   "cell_type": "code",
   "execution_count": 16,
   "metadata": {},
   "outputs": [
    {
     "data": {
      "text/plain": [
       "<matplotlib.axes._subplots.AxesSubplot at 0x24c28b02d48>"
      ]
     },
     "execution_count": 16,
     "metadata": {},
     "output_type": "execute_result"
    },
    {
     "data": {
      "image/png": "[encoded data removed]",
      "text/plain": [
       "<Figure size 432x360 with 1 Axes>"
      ]
     },
     "metadata": {},
     "output_type": "display_data"
    }
   ],
   "source": [
    "sns.regplot(x=\"vegetables\", y=\"sleepcat\", data=df1, logistic=True, line_kws={\"color\": \"red\"})"
   ]
  },
  {
   "cell_type": "code",
   "execution_count": 17,
   "metadata": {},
   "outputs": [
    {
     "data": {
      "text/plain": [
       "<matplotlib.axes._subplots.AxesSubplot at 0x24c27496bc8>"
      ]
     },
     "execution_count": 17,
     "metadata": {},
     "output_type": "execute_result"
    },
    {
     "data": {
      "image/png": "[encoded data removed]",
      "text/plain": [
       "<Figure size 432x360 with 1 Axes>"
      ]
     },
     "metadata": {},
     "output_type": "display_data"
    }
   ],
   "source": [
    "sns.regplot(x=\"sex\", y=\"sleepcat\", data=df1, logistic=True, line_kws={\"color\": \"red\"})"
   ]
  },
  {
   "cell_type": "code",
   "execution_count": 18,
   "metadata": {},
   "outputs": [
    {
     "data": {
      "text/plain": [
       "<matplotlib.axes._subplots.AxesSubplot at 0x24c2aca5508>"
      ]
     },
     "execution_count": 18,
     "metadata": {},
     "output_type": "execute_result"
    },
    {
     "data": {
      "image/png": "[encoded data removed]",
      "text/plain": [
       "<Figure size 432x360 with 1 Axes>"
      ]
     },
     "metadata": {},
     "output_type": "display_data"
    }
   ],
   "source": [
    "sns.countplot(x='sleepcat', data=df1)"
   ]
  },
  {
   "cell_type": "markdown",
   "metadata": {},
   "source": [
    "* There are more short sleep duration than sufficient sleep duration."
   ]
  },
  {
   "cell_type": "code",
   "execution_count": 19,
   "metadata": {},
   "outputs": [
    {
     "data": {
      "text/html": [
       "<div>\n",
       "<style scoped>\n",
       "    .dataframe tbody tr th:only-of-type {\n",
       "        vertical-align: middle;\n",
       "    }\n",
       "\n",
       "    .dataframe tbody tr th {\n",
       "        vertical-align: top;\n",
       "    }\n",
       "\n",
       "    .dataframe thead th {\n",
       "        text-align: right;\n",
       "    }\n",
       "</style>\n",
       "<table border=\"1\" class=\"dataframe\">\n",
       "  <thead>\n",
       "    <tr style=\"text-align: right;\">\n",
       "      <th></th>\n",
       "      <th>sex</th>\n",
       "      <th>race</th>\n",
       "      <th>sexharass</th>\n",
       "      <th>smoking</th>\n",
       "      <th>vegetables</th>\n",
       "      <th>soda</th>\n",
       "      <th>breakfast</th>\n",
       "      <th>computer</th>\n",
       "      <th>sleepcat</th>\n",
       "    </tr>\n",
       "  </thead>\n",
       "  <tbody>\n",
       "    <tr>\n",
       "      <th>sex</th>\n",
       "      <td>1.000000</td>\n",
       "      <td>-0.008730</td>\n",
       "      <td>-0.131154</td>\n",
       "      <td>0.031740</td>\n",
       "      <td>-0.011861</td>\n",
       "      <td>0.110614</td>\n",
       "      <td>0.060118</td>\n",
       "      <td>0.034058</td>\n",
       "      <td>0.050883</td>\n",
       "    </tr>\n",
       "    <tr>\n",
       "      <th>race</th>\n",
       "      <td>-0.008730</td>\n",
       "      <td>1.000000</td>\n",
       "      <td>0.014876</td>\n",
       "      <td>-0.029708</td>\n",
       "      <td>-0.022442</td>\n",
       "      <td>-0.052377</td>\n",
       "      <td>-0.037561</td>\n",
       "      <td>0.025410</td>\n",
       "      <td>-0.038761</td>\n",
       "    </tr>\n",
       "    <tr>\n",
       "      <th>sexharass</th>\n",
       "      <td>-0.131154</td>\n",
       "      <td>0.014876</td>\n",
       "      <td>1.000000</td>\n",
       "      <td>0.146019</td>\n",
       "      <td>0.024699</td>\n",
       "      <td>0.051952</td>\n",
       "      <td>-0.084936</td>\n",
       "      <td>0.017453</td>\n",
       "      <td>-0.048171</td>\n",
       "    </tr>\n",
       "    <tr>\n",
       "      <th>smoking</th>\n",
       "      <td>0.031740</td>\n",
       "      <td>-0.029708</td>\n",
       "      <td>0.146019</td>\n",
       "      <td>1.000000</td>\n",
       "      <td>0.003918</td>\n",
       "      <td>0.173174</td>\n",
       "      <td>-0.089880</td>\n",
       "      <td>-0.016917</td>\n",
       "      <td>-0.047008</td>\n",
       "    </tr>\n",
       "    <tr>\n",
       "      <th>vegetables</th>\n",
       "      <td>-0.011861</td>\n",
       "      <td>-0.022442</td>\n",
       "      <td>0.024699</td>\n",
       "      <td>0.003918</td>\n",
       "      <td>1.000000</td>\n",
       "      <td>-0.014684</td>\n",
       "      <td>0.157419</td>\n",
       "      <td>-0.033184</td>\n",
       "      <td>0.044287</td>\n",
       "    </tr>\n",
       "    <tr>\n",
       "      <th>soda</th>\n",
       "      <td>0.110614</td>\n",
       "      <td>-0.052377</td>\n",
       "      <td>0.051952</td>\n",
       "      <td>0.173174</td>\n",
       "      <td>-0.014684</td>\n",
       "      <td>1.000000</td>\n",
       "      <td>-0.087709</td>\n",
       "      <td>0.132579</td>\n",
       "      <td>-0.035172</td>\n",
       "    </tr>\n",
       "    <tr>\n",
       "      <th>breakfast</th>\n",
       "      <td>0.060118</td>\n",
       "      <td>-0.037561</td>\n",
       "      <td>-0.084936</td>\n",
       "      <td>-0.089880</td>\n",
       "      <td>0.157419</td>\n",
       "      <td>-0.087709</td>\n",
       "      <td>1.000000</td>\n",
       "      <td>-0.001090</td>\n",
       "      <td>0.181771</td>\n",
       "    </tr>\n",
       "    <tr>\n",
       "      <th>computer</th>\n",
       "      <td>0.034058</td>\n",
       "      <td>0.025410</td>\n",
       "      <td>0.017453</td>\n",
       "      <td>-0.016917</td>\n",
       "      <td>-0.033184</td>\n",
       "      <td>0.132579</td>\n",
       "      <td>-0.001090</td>\n",
       "      <td>1.000000</td>\n",
       "      <td>-0.061850</td>\n",
       "    </tr>\n",
       "    <tr>\n",
       "      <th>sleepcat</th>\n",
       "      <td>0.050883</td>\n",
       "      <td>-0.038761</td>\n",
       "      <td>-0.048171</td>\n",
       "      <td>-0.047008</td>\n",
       "      <td>0.044287</td>\n",
       "      <td>-0.035172</td>\n",
       "      <td>0.181771</td>\n",
       "      <td>-0.061850</td>\n",
       "      <td>1.000000</td>\n",
       "    </tr>\n",
       "  </tbody>\n",
       "</table>\n",
       "</div>"
      ],
      "text/plain": [
       "                 sex      race  sexharass   smoking  vegetables      soda  \\\n",
       "sex         1.000000 -0.008730  -0.131154  0.031740   -0.011861  0.110614   \n",
       "race       -0.008730  1.000000   0.014876 -0.029708   -0.022442 -0.052377   \n",
       "sexharass  -0.131154  0.014876   1.000000  0.146019    0.024699  0.051952   \n",
       "smoking     0.031740 -0.029708   0.146019  1.000000    0.003918  0.173174   \n",
       "vegetables -0.011861 -0.022442   0.024699  0.003918    1.000000 -0.014684   \n",
       "soda        0.110614 -0.052377   0.051952  0.173174   -0.014684  1.000000   \n",
       "breakfast   0.060118 -0.037561  -0.084936 -0.089880    0.157419 -0.087709   \n",
       "computer    0.034058  0.025410   0.017453 -0.016917   -0.033184  0.132579   \n",
       "sleepcat    0.050883 -0.038761  -0.048171 -0.047008    0.044287 -0.035172   \n",
       "\n",
       "            breakfast  computer  sleepcat  \n",
       "sex          0.060118  0.034058  0.050883  \n",
       "race        -0.037561  0.025410 -0.038761  \n",
       "sexharass   -0.084936  0.017453 -0.048171  \n",
       "smoking     -0.089880 -0.016917 -0.047008  \n",
       "vegetables   0.157419 -0.033184  0.044287  \n",
       "soda        -0.087709  0.132579 -0.035172  \n",
       "breakfast    1.000000 -0.001090  0.181771  \n",
       "computer    -0.001090  1.000000 -0.061850  \n",
       "sleepcat     0.181771 -0.061850  1.000000  "
      ]
     },
     "execution_count": 19,
     "metadata": {},
     "output_type": "execute_result"
    }
   ],
   "source": [
    "df1.corr()"
   ]
  },
  {
   "cell_type": "code",
   "execution_count": 20,
   "metadata": {},
   "outputs": [
    {
     "data": {
      "text/plain": [
       "<matplotlib.axes._subplots.AxesSubplot at 0x24c5896e908>"
      ]
     },
     "execution_count": 20,
     "metadata": {},
     "output_type": "execute_result"
    },
    {
     "data": {
      "image/png": "[encoded data removed]",
      "text/plain": [
       "<Figure size 432x360 with 2 Axes>"
      ]
     },
     "metadata": {},
     "output_type": "display_data"
    }
   ],
   "source": [
    "# Draw a correlation heatmap \n",
    "corrmat = df1.corr()\n",
    "sns.heatmap(corrmat, square = True, cmap=\"Greens\")"
   ]
  },
  {
   "cell_type": "code",
   "execution_count": 59,
   "metadata": {},
   "outputs": [
    {
     "data": {
      "text/html": [
       "<div>\n",
       "<style scoped>\n",
       "    .dataframe tbody tr th:only-of-type {\n",
       "        vertical-align: middle;\n",
       "    }\n",
       "\n",
       "    .dataframe tbody tr th {\n",
       "        vertical-align: top;\n",
       "    }\n",
       "\n",
       "    .dataframe thead th {\n",
       "        text-align: right;\n",
       "    }\n",
       "</style>\n",
       "<table border=\"1\" class=\"dataframe\">\n",
       "  <thead>\n",
       "    <tr style=\"text-align: right;\">\n",
       "      <th></th>\n",
       "      <th>sex</th>\n",
       "      <th>race</th>\n",
       "      <th>sexharass</th>\n",
       "      <th>smoking</th>\n",
       "      <th>vegetables</th>\n",
       "      <th>soda</th>\n",
       "      <th>breakfast</th>\n",
       "      <th>computer</th>\n",
       "      <th>sleepcat</th>\n",
       "      <th>racecat</th>\n",
       "    </tr>\n",
       "  </thead>\n",
       "  <tbody>\n",
       "    <tr>\n",
       "      <th>0</th>\n",
       "      <td>2</td>\n",
       "      <td>4</td>\n",
       "      <td>4</td>\n",
       "      <td>4</td>\n",
       "      <td>3</td>\n",
       "      <td>2</td>\n",
       "      <td>3</td>\n",
       "      <td>3</td>\n",
       "      <td>0</td>\n",
       "      <td>0</td>\n",
       "    </tr>\n",
       "    <tr>\n",
       "      <th>1</th>\n",
       "      <td>2</td>\n",
       "      <td>3</td>\n",
       "      <td>1</td>\n",
       "      <td>1</td>\n",
       "      <td>2</td>\n",
       "      <td>1</td>\n",
       "      <td>1</td>\n",
       "      <td>2</td>\n",
       "      <td>0</td>\n",
       "      <td>0</td>\n",
       "    </tr>\n",
       "    <tr>\n",
       "      <th>2</th>\n",
       "      <td>2</td>\n",
       "      <td>4</td>\n",
       "      <td>1</td>\n",
       "      <td>1</td>\n",
       "      <td>1</td>\n",
       "      <td>1</td>\n",
       "      <td>1</td>\n",
       "      <td>1</td>\n",
       "      <td>0</td>\n",
       "      <td>0</td>\n",
       "    </tr>\n",
       "    <tr>\n",
       "      <th>3</th>\n",
       "      <td>2</td>\n",
       "      <td>4</td>\n",
       "      <td>1</td>\n",
       "      <td>1</td>\n",
       "      <td>3</td>\n",
       "      <td>5</td>\n",
       "      <td>5</td>\n",
       "      <td>4</td>\n",
       "      <td>0</td>\n",
       "      <td>0</td>\n",
       "    </tr>\n",
       "    <tr>\n",
       "      <th>4</th>\n",
       "      <td>2</td>\n",
       "      <td>4</td>\n",
       "      <td>1</td>\n",
       "      <td>6</td>\n",
       "      <td>2</td>\n",
       "      <td>6</td>\n",
       "      <td>5</td>\n",
       "      <td>7</td>\n",
       "      <td>0</td>\n",
       "      <td>0</td>\n",
       "    </tr>\n",
       "    <tr>\n",
       "      <th>5</th>\n",
       "      <td>2</td>\n",
       "      <td>4</td>\n",
       "      <td>1</td>\n",
       "      <td>1</td>\n",
       "      <td>5</td>\n",
       "      <td>2</td>\n",
       "      <td>4</td>\n",
       "      <td>5</td>\n",
       "      <td>1</td>\n",
       "      <td>0</td>\n",
       "    </tr>\n",
       "  </tbody>\n",
       "</table>\n",
       "</div>"
      ],
      "text/plain": [
       "   sex  race  sexharass  smoking  vegetables  soda  breakfast  computer  \\\n",
       "0    2     4          4        4           3     2          3         3   \n",
       "1    2     3          1        1           2     1          1         2   \n",
       "2    2     4          1        1           1     1          1         1   \n",
       "3    2     4          1        1           3     5          5         4   \n",
       "4    2     4          1        6           2     6          5         7   \n",
       "5    2     4          1        1           5     2          4         5   \n",
       "\n",
       "   sleepcat racecat  \n",
       "0         0       0  \n",
       "1         0       0  \n",
       "2         0       0  \n",
       "3         0       0  \n",
       "4         0       0  \n",
       "5         1       0  "
      ]
     },
     "execution_count": 59,
     "metadata": {},
     "output_type": "execute_result"
    }
   ],
   "source": [
    "# inserting a sleep_category column\n",
    "\n",
    "df1['racecat']=pd.cut(df1['race'], bins=[0,2,5], labels=['1', '0']) # 1 = white, 0 =nonwhite\n",
    "df1.head(6)"
   ]
  },
  {
   "cell_type": "code",
   "execution_count": 60,
   "metadata": {},
   "outputs": [
    {
     "data": {
      "text/html": [
       "<div>\n",
       "<style scoped>\n",
       "    .dataframe tbody tr th:only-of-type {\n",
       "        vertical-align: middle;\n",
       "    }\n",
       "\n",
       "    .dataframe tbody tr th {\n",
       "        vertical-align: top;\n",
       "    }\n",
       "\n",
       "    .dataframe thead th {\n",
       "        text-align: right;\n",
       "    }\n",
       "</style>\n",
       "<table border=\"1\" class=\"dataframe\">\n",
       "  <thead>\n",
       "    <tr style=\"text-align: right;\">\n",
       "      <th></th>\n",
       "      <th>sex</th>\n",
       "      <th>race</th>\n",
       "      <th>sexharass</th>\n",
       "      <th>smoking</th>\n",
       "      <th>vegetables</th>\n",
       "      <th>soda</th>\n",
       "      <th>breakfast</th>\n",
       "      <th>computer</th>\n",
       "      <th>sleepcat</th>\n",
       "      <th>racecat</th>\n",
       "    </tr>\n",
       "  </thead>\n",
       "  <tbody>\n",
       "    <tr>\n",
       "      <th>0</th>\n",
       "      <td>2</td>\n",
       "      <td>4</td>\n",
       "      <td>4</td>\n",
       "      <td>4</td>\n",
       "      <td>3</td>\n",
       "      <td>2</td>\n",
       "      <td>3</td>\n",
       "      <td>3</td>\n",
       "      <td>0</td>\n",
       "      <td>0</td>\n",
       "    </tr>\n",
       "    <tr>\n",
       "      <th>1</th>\n",
       "      <td>2</td>\n",
       "      <td>3</td>\n",
       "      <td>1</td>\n",
       "      <td>1</td>\n",
       "      <td>2</td>\n",
       "      <td>1</td>\n",
       "      <td>1</td>\n",
       "      <td>2</td>\n",
       "      <td>0</td>\n",
       "      <td>0</td>\n",
       "    </tr>\n",
       "    <tr>\n",
       "      <th>2</th>\n",
       "      <td>2</td>\n",
       "      <td>4</td>\n",
       "      <td>1</td>\n",
       "      <td>1</td>\n",
       "      <td>1</td>\n",
       "      <td>1</td>\n",
       "      <td>1</td>\n",
       "      <td>1</td>\n",
       "      <td>0</td>\n",
       "      <td>0</td>\n",
       "    </tr>\n",
       "    <tr>\n",
       "      <th>3</th>\n",
       "      <td>2</td>\n",
       "      <td>4</td>\n",
       "      <td>1</td>\n",
       "      <td>1</td>\n",
       "      <td>3</td>\n",
       "      <td>5</td>\n",
       "      <td>5</td>\n",
       "      <td>4</td>\n",
       "      <td>0</td>\n",
       "      <td>0</td>\n",
       "    </tr>\n",
       "    <tr>\n",
       "      <th>4</th>\n",
       "      <td>2</td>\n",
       "      <td>4</td>\n",
       "      <td>1</td>\n",
       "      <td>6</td>\n",
       "      <td>2</td>\n",
       "      <td>6</td>\n",
       "      <td>5</td>\n",
       "      <td>7</td>\n",
       "      <td>0</td>\n",
       "      <td>0</td>\n",
       "    </tr>\n",
       "  </tbody>\n",
       "</table>\n",
       "</div>"
      ],
      "text/plain": [
       "   sex  race  sexharass  smoking  vegetables  soda  breakfast  computer  \\\n",
       "0    2     4          4        4           3     2          3         3   \n",
       "1    2     3          1        1           2     1          1         2   \n",
       "2    2     4          1        1           1     1          1         1   \n",
       "3    2     4          1        1           3     5          5         4   \n",
       "4    2     4          1        6           2     6          5         7   \n",
       "\n",
       "   sleepcat racecat  \n",
       "0         0       0  \n",
       "1         0       0  \n",
       "2         0       0  \n",
       "3         0       0  \n",
       "4         0       0  "
      ]
     },
     "execution_count": 60,
     "metadata": {},
     "output_type": "execute_result"
    }
   ],
   "source": [
    "df1.loc[df1.race>1].head()"
   ]
  },
  {
   "cell_type": "code",
   "execution_count": 61,
   "metadata": {},
   "outputs": [
    {
     "data": {
      "text/html": [
       "<div>\n",
       "<style scoped>\n",
       "    .dataframe tbody tr th:only-of-type {\n",
       "        vertical-align: middle;\n",
       "    }\n",
       "\n",
       "    .dataframe tbody tr th {\n",
       "        vertical-align: top;\n",
       "    }\n",
       "\n",
       "    .dataframe thead th {\n",
       "        text-align: right;\n",
       "    }\n",
       "</style>\n",
       "<table border=\"1\" class=\"dataframe\">\n",
       "  <thead>\n",
       "    <tr style=\"text-align: right;\">\n",
       "      <th></th>\n",
       "      <th>sex</th>\n",
       "      <th>race</th>\n",
       "      <th>sexharass</th>\n",
       "      <th>smoking</th>\n",
       "      <th>vegetables</th>\n",
       "      <th>soda</th>\n",
       "      <th>breakfast</th>\n",
       "      <th>computer</th>\n",
       "      <th>sleepcat</th>\n",
       "      <th>racecat</th>\n",
       "    </tr>\n",
       "  </thead>\n",
       "  <tbody>\n",
       "    <tr>\n",
       "      <th>7</th>\n",
       "      <td>2</td>\n",
       "      <td>1</td>\n",
       "      <td>1</td>\n",
       "      <td>1</td>\n",
       "      <td>2</td>\n",
       "      <td>1</td>\n",
       "      <td>3</td>\n",
       "      <td>6</td>\n",
       "      <td>0</td>\n",
       "      <td>1</td>\n",
       "    </tr>\n",
       "    <tr>\n",
       "      <th>8</th>\n",
       "      <td>2</td>\n",
       "      <td>1</td>\n",
       "      <td>1</td>\n",
       "      <td>1</td>\n",
       "      <td>3</td>\n",
       "      <td>3</td>\n",
       "      <td>1</td>\n",
       "      <td>4</td>\n",
       "      <td>1</td>\n",
       "      <td>1</td>\n",
       "    </tr>\n",
       "    <tr>\n",
       "      <th>10</th>\n",
       "      <td>2</td>\n",
       "      <td>1</td>\n",
       "      <td>1</td>\n",
       "      <td>1</td>\n",
       "      <td>6</td>\n",
       "      <td>2</td>\n",
       "      <td>8</td>\n",
       "      <td>6</td>\n",
       "      <td>1</td>\n",
       "      <td>1</td>\n",
       "    </tr>\n",
       "    <tr>\n",
       "      <th>11</th>\n",
       "      <td>2</td>\n",
       "      <td>1</td>\n",
       "      <td>1</td>\n",
       "      <td>1</td>\n",
       "      <td>1</td>\n",
       "      <td>2</td>\n",
       "      <td>7</td>\n",
       "      <td>2</td>\n",
       "      <td>1</td>\n",
       "      <td>1</td>\n",
       "    </tr>\n",
       "    <tr>\n",
       "      <th>15</th>\n",
       "      <td>2</td>\n",
       "      <td>1</td>\n",
       "      <td>1</td>\n",
       "      <td>1</td>\n",
       "      <td>1</td>\n",
       "      <td>3</td>\n",
       "      <td>8</td>\n",
       "      <td>4</td>\n",
       "      <td>1</td>\n",
       "      <td>1</td>\n",
       "    </tr>\n",
       "  </tbody>\n",
       "</table>\n",
       "</div>"
      ],
      "text/plain": [
       "    sex  race  sexharass  smoking  vegetables  soda  breakfast  computer  \\\n",
       "7     2     1          1        1           2     1          3         6   \n",
       "8     2     1          1        1           3     3          1         4   \n",
       "10    2     1          1        1           6     2          8         6   \n",
       "11    2     1          1        1           1     2          7         2   \n",
       "15    2     1          1        1           1     3          8         4   \n",
       "\n",
       "    sleepcat racecat  \n",
       "7          0       1  \n",
       "8          1       1  \n",
       "10         1       1  \n",
       "11         1       1  \n",
       "15         1       1  "
      ]
     },
     "execution_count": 61,
     "metadata": {},
     "output_type": "execute_result"
    }
   ],
   "source": [
    "df1.loc[df1.race==1].head()"
   ]
  },
  {
   "cell_type": "code",
   "execution_count": 62,
   "metadata": {},
   "outputs": [],
   "source": [
    "# converting the data types using functions like `.astype(int)` or `pd.to_numeric()`.\n",
    "df1.loc[:,'racecat']=pd.to_numeric(df1.loc[:,'racecat'], errors='coerce')"
   ]
  },
  {
   "cell_type": "code",
   "execution_count": 63,
   "metadata": {},
   "outputs": [],
   "source": [
    "# Treat education as categorical, convert to dummy variables\n",
    "df1['racecat'] = df1['racecat'].astype('category')\n",
    "new_categories = {0: 'nonwhite', 1: 'white'}\n",
    "df1.racecat.cat.rename_categories(new_categories, inplace=True)\n",
    "df1 = pd.get_dummies(df1, prefix_sep='_', drop_first=True)"
   ]
  },
  {
   "cell_type": "code",
   "execution_count": 64,
   "metadata": {},
   "outputs": [
    {
     "data": {
      "text/html": [
       "<div>\n",
       "<style scoped>\n",
       "    .dataframe tbody tr th:only-of-type {\n",
       "        vertical-align: middle;\n",
       "    }\n",
       "\n",
       "    .dataframe tbody tr th {\n",
       "        vertical-align: top;\n",
       "    }\n",
       "\n",
       "    .dataframe thead th {\n",
       "        text-align: right;\n",
       "    }\n",
       "</style>\n",
       "<table border=\"1\" class=\"dataframe\">\n",
       "  <thead>\n",
       "    <tr style=\"text-align: right;\">\n",
       "      <th></th>\n",
       "      <th>sex</th>\n",
       "      <th>race</th>\n",
       "      <th>sexharass</th>\n",
       "      <th>smoking</th>\n",
       "      <th>vegetables</th>\n",
       "      <th>soda</th>\n",
       "      <th>breakfast</th>\n",
       "      <th>computer</th>\n",
       "      <th>sleepcat</th>\n",
       "      <th>racecat_white</th>\n",
       "    </tr>\n",
       "  </thead>\n",
       "  <tbody>\n",
       "    <tr>\n",
       "      <th>0</th>\n",
       "      <td>2</td>\n",
       "      <td>4</td>\n",
       "      <td>4</td>\n",
       "      <td>4</td>\n",
       "      <td>3</td>\n",
       "      <td>2</td>\n",
       "      <td>3</td>\n",
       "      <td>3</td>\n",
       "      <td>0</td>\n",
       "      <td>0</td>\n",
       "    </tr>\n",
       "    <tr>\n",
       "      <th>1</th>\n",
       "      <td>2</td>\n",
       "      <td>3</td>\n",
       "      <td>1</td>\n",
       "      <td>1</td>\n",
       "      <td>2</td>\n",
       "      <td>1</td>\n",
       "      <td>1</td>\n",
       "      <td>2</td>\n",
       "      <td>0</td>\n",
       "      <td>0</td>\n",
       "    </tr>\n",
       "    <tr>\n",
       "      <th>2</th>\n",
       "      <td>2</td>\n",
       "      <td>4</td>\n",
       "      <td>1</td>\n",
       "      <td>1</td>\n",
       "      <td>1</td>\n",
       "      <td>1</td>\n",
       "      <td>1</td>\n",
       "      <td>1</td>\n",
       "      <td>0</td>\n",
       "      <td>0</td>\n",
       "    </tr>\n",
       "  </tbody>\n",
       "</table>\n",
       "</div>"
      ],
      "text/plain": [
       "   sex  race  sexharass  smoking  vegetables  soda  breakfast  computer  \\\n",
       "0    2     4          4        4           3     2          3         3   \n",
       "1    2     3          1        1           2     1          1         2   \n",
       "2    2     4          1        1           1     1          1         1   \n",
       "\n",
       "   sleepcat  racecat_white  \n",
       "0         0              0  \n",
       "1         0              0  \n",
       "2         0              0  "
      ]
     },
     "execution_count": 64,
     "metadata": {},
     "output_type": "execute_result"
    }
   ],
   "source": [
    "df1.head(3)"
   ]
  },
  {
   "cell_type": "code",
   "execution_count": 26,
   "metadata": {},
   "outputs": [],
   "source": [
    "# inserting a sleep_category column\n",
    "\n",
    "#df1['vegcat']=pd.cut(df1['vegetables'], bins=[0,1,8], labels=['0', '1']) # 0 = no, 1 =yes\n",
    "#df1.head(6)"
   ]
  },
  {
   "cell_type": "code",
   "execution_count": 27,
   "metadata": {},
   "outputs": [],
   "source": [
    "#df1.loc[df1.vegetables==1].head(3)"
   ]
  },
  {
   "cell_type": "code",
   "execution_count": 28,
   "metadata": {},
   "outputs": [],
   "source": [
    "#df1.loc[df1.vegetables>=2].head(3)"
   ]
  },
  {
   "cell_type": "code",
   "execution_count": 29,
   "metadata": {},
   "outputs": [],
   "source": [
    "# Treat education as categorical, convert to dummy variables\n",
    "#df1['vegcat'] = df1['vegcat'].astype('category')\n",
    "#new_categories = {0: 'No', 1: 'Yes'}\n",
    "#df1.vegcat.cat.rename_categories(new_categories, inplace=True)\n",
    "#df1 = pd.get_dummies(df1, prefix_sep='_', drop_first=True)"
   ]
  },
  {
   "cell_type": "code",
   "execution_count": 30,
   "metadata": {},
   "outputs": [],
   "source": [
    "#df1.head(3)"
   ]
  },
  {
   "cell_type": "code",
   "execution_count": 31,
   "metadata": {},
   "outputs": [],
   "source": [
    "# inserting a sleep_category column\n",
    "\n",
    "#df1['smokecat']=pd.cut(df1['smoking'], bins=[0,1,9], labels=['0', '1']) # 0 = no, 1 =yes\n",
    "#df1.head(6)"
   ]
  },
  {
   "cell_type": "code",
   "execution_count": 32,
   "metadata": {},
   "outputs": [],
   "source": [
    "#df1.loc[df1.smoking>=2].head(3)"
   ]
  },
  {
   "cell_type": "code",
   "execution_count": 33,
   "metadata": {},
   "outputs": [],
   "source": [
    "#df1.loc[df1.smoking<2].head(3)"
   ]
  },
  {
   "cell_type": "code",
   "execution_count": 34,
   "metadata": {},
   "outputs": [],
   "source": [
    "# Treat education as categorical, convert to dummy variables\n",
    "#df1['smokecat'] = df1['smokecat'].astype('category')\n",
    "#new_categories = {0: 'No', 1: 'Yes'}\n",
    "#df1.smokecat.cat.rename_categories(new_categories, inplace=True)\n",
    "#df1 = pd.get_dummies(df1, prefix_sep='_', drop_first=True)"
   ]
  },
  {
   "cell_type": "code",
   "execution_count": 35,
   "metadata": {},
   "outputs": [],
   "source": [
    "#df1.head(3)"
   ]
  },
  {
   "cell_type": "code",
   "execution_count": 36,
   "metadata": {},
   "outputs": [],
   "source": [
    "# inserting a sleep_category column\n",
    "\n",
    "#df1['sexharcat']=pd.cut(df1['sexharass'], bins=[0,1,6], labels=['0', '1']) # 0 = no, 1 =yes\n",
    "#df1.head(6)"
   ]
  },
  {
   "cell_type": "code",
   "execution_count": 37,
   "metadata": {},
   "outputs": [],
   "source": [
    "#df1.loc[df1.sexharass<2].head(3)"
   ]
  },
  {
   "cell_type": "code",
   "execution_count": 38,
   "metadata": {},
   "outputs": [],
   "source": [
    "#df1.loc[df1.sexharass>=2].head(3)"
   ]
  },
  {
   "cell_type": "code",
   "execution_count": 39,
   "metadata": {},
   "outputs": [],
   "source": [
    "# Treat education as categorical, convert to dummy variables\n",
    "#df1['sexharcat'] = df1['sexharcat'].astype('category')\n",
    "#new_categories = {0: 'No', 1: 'Yes'}\n",
    "#df1.sexharcat.cat.rename_categories(new_categories, inplace=True)\n",
    "#df1 = pd.get_dummies(df1, prefix_sep='_', drop_first=True)"
   ]
  },
  {
   "cell_type": "code",
   "execution_count": 40,
   "metadata": {},
   "outputs": [],
   "source": [
    "#df1.head(6)"
   ]
  },
  {
   "cell_type": "code",
   "execution_count": 41,
   "metadata": {},
   "outputs": [],
   "source": [
    "#df1.drop(columns=['race','sexharass', 'smoking', 'vegetables'])"
   ]
  },
  {
   "cell_type": "code",
   "execution_count": 44,
   "metadata": {},
   "outputs": [
    {
     "data": {
      "text/html": [
       "<div>\n",
       "<style scoped>\n",
       "    .dataframe tbody tr th:only-of-type {\n",
       "        vertical-align: middle;\n",
       "    }\n",
       "\n",
       "    .dataframe tbody tr th {\n",
       "        vertical-align: top;\n",
       "    }\n",
       "\n",
       "    .dataframe thead th {\n",
       "        text-align: right;\n",
       "    }\n",
       "</style>\n",
       "<table border=\"1\" class=\"dataframe\">\n",
       "  <thead>\n",
       "    <tr style=\"text-align: right;\">\n",
       "      <th></th>\n",
       "      <th>sex</th>\n",
       "      <th>race</th>\n",
       "      <th>sexharass</th>\n",
       "      <th>smoking</th>\n",
       "      <th>vegetables</th>\n",
       "      <th>soda</th>\n",
       "      <th>breakfast</th>\n",
       "      <th>computer</th>\n",
       "      <th>sleepcat</th>\n",
       "      <th>racecat_0</th>\n",
       "    </tr>\n",
       "  </thead>\n",
       "  <tbody>\n",
       "    <tr>\n",
       "      <th>0</th>\n",
       "      <td>2</td>\n",
       "      <td>4</td>\n",
       "      <td>4</td>\n",
       "      <td>4</td>\n",
       "      <td>3</td>\n",
       "      <td>2</td>\n",
       "      <td>3</td>\n",
       "      <td>3</td>\n",
       "      <td>0</td>\n",
       "      <td>1</td>\n",
       "    </tr>\n",
       "    <tr>\n",
       "      <th>1</th>\n",
       "      <td>2</td>\n",
       "      <td>3</td>\n",
       "      <td>1</td>\n",
       "      <td>1</td>\n",
       "      <td>2</td>\n",
       "      <td>1</td>\n",
       "      <td>1</td>\n",
       "      <td>2</td>\n",
       "      <td>0</td>\n",
       "      <td>1</td>\n",
       "    </tr>\n",
       "    <tr>\n",
       "      <th>2</th>\n",
       "      <td>2</td>\n",
       "      <td>4</td>\n",
       "      <td>1</td>\n",
       "      <td>1</td>\n",
       "      <td>1</td>\n",
       "      <td>1</td>\n",
       "      <td>1</td>\n",
       "      <td>1</td>\n",
       "      <td>0</td>\n",
       "      <td>1</td>\n",
       "    </tr>\n",
       "  </tbody>\n",
       "</table>\n",
       "</div>"
      ],
      "text/plain": [
       "   sex  race  sexharass  smoking  vegetables  soda  breakfast  computer  \\\n",
       "0    2     4          4        4           3     2          3         3   \n",
       "1    2     3          1        1           2     1          1         2   \n",
       "2    2     4          1        1           1     1          1         1   \n",
       "\n",
       "   sleepcat  racecat_0  \n",
       "0         0          1  \n",
       "1         0          1  \n",
       "2         0          1  "
      ]
     },
     "execution_count": 44,
     "metadata": {},
     "output_type": "execute_result"
    }
   ],
   "source": [
    "df1.head(3)"
   ]
  },
  {
   "cell_type": "code",
   "execution_count": 43,
   "metadata": {},
   "outputs": [
    {
     "data": {
      "text/plain": [
       "0"
      ]
     },
     "execution_count": 43,
     "metadata": {},
     "output_type": "execute_result"
    }
   ],
   "source": [
    "df1.isna().sum().sum()"
   ]
  },
  {
   "cell_type": "code",
   "execution_count": 65,
   "metadata": {},
   "outputs": [
    {
     "data": {
      "text/plain": [
       "array([0, 1], dtype=uint8)"
      ]
     },
     "execution_count": 65,
     "metadata": {},
     "output_type": "execute_result"
    }
   ],
   "source": [
    "df1['racecat_white'].unique()"
   ]
  },
  {
   "cell_type": "markdown",
   "metadata": {},
   "source": [
    "<div style=\"text-align: right\"> <a href='#section_id0'>Back to top of Notebook</a></div>"
   ]
  },
  {
   "cell_type": "markdown",
   "metadata": {},
   "source": [
    "<a id='section_id4'></a>\n",
    "### <span style=\"background-color:#B0E0E6\">Logit with Statsmodels</span>"
   ]
  },
  {
   "cell_type": "code",
   "execution_count": 66,
   "metadata": {},
   "outputs": [],
   "source": [
    "df2 = sm.add_constant(df1, prepend=True) # add constant column\n",
    "y = df2['sleepcat']\n",
    "X = df2.drop(columns=['sleepcat', 'race'])\n",
    "train_X, valid_X, train_y, valid_y = train_test_split(X, y, test_size=0.4, random_state=1)"
   ]
  },
  {
   "cell_type": "code",
   "execution_count": 67,
   "metadata": {},
   "outputs": [
    {
     "data": {
      "text/html": [
       "<table class=\"simpletable\">\n",
       "<caption>Generalized Linear Model Regression Results</caption>\n",
       "<tr>\n",
       "  <th>Dep. Variable:</th>       <td>sleepcat</td>     <th>  No. Observations:  </th>  <td> 21732</td> \n",
       "</tr>\n",
       "<tr>\n",
       "  <th>Model:</th>                  <td>GLM</td>       <th>  Df Residuals:      </th>  <td> 21723</td> \n",
       "</tr>\n",
       "<tr>\n",
       "  <th>Model Family:</th>        <td>Binomial</td>     <th>  Df Model:          </th>  <td>     8</td> \n",
       "</tr>\n",
       "<tr>\n",
       "  <th>Link Function:</th>         <td>logit</td>      <th>  Scale:             </th> <td>  1.0000</td>\n",
       "</tr>\n",
       "<tr>\n",
       "  <th>Method:</th>                <td>IRLS</td>       <th>  Log-Likelihood:    </th> <td> -11680.</td>\n",
       "</tr>\n",
       "<tr>\n",
       "  <th>Date:</th>            <td>Tue, 14 Jul 2020</td> <th>  Deviance:          </th> <td>  23359.</td>\n",
       "</tr>\n",
       "<tr>\n",
       "  <th>Time:</th>                <td>17:45:49</td>     <th>  Pearson chi2:      </th> <td>2.18e+04</td>\n",
       "</tr>\n",
       "<tr>\n",
       "  <th>No. Iterations:</th>          <td>4</td>        <th>                     </th>     <td> </td>   \n",
       "</tr>\n",
       "<tr>\n",
       "  <th>Covariance Type:</th>     <td>nonrobust</td>    <th>                     </th>     <td> </td>   \n",
       "</tr>\n",
       "</table>\n",
       "<table class=\"simpletable\">\n",
       "<tr>\n",
       "        <td></td>           <th>coef</th>     <th>std err</th>      <th>z</th>      <th>P>|z|</th>  <th>[0.025</th>    <th>0.975]</th>  \n",
       "</tr>\n",
       "<tr>\n",
       "  <th>const</th>         <td>   -1.8715</td> <td>    0.089</td> <td>  -21.089</td> <td> 0.000</td> <td>   -2.045</td> <td>   -1.698</td>\n",
       "</tr>\n",
       "<tr>\n",
       "  <th>sex</th>           <td>    0.1657</td> <td>    0.033</td> <td>    5.057</td> <td> 0.000</td> <td>    0.101</td> <td>    0.230</td>\n",
       "</tr>\n",
       "<tr>\n",
       "  <th>sexharass</th>     <td>   -0.1153</td> <td>    0.030</td> <td>   -3.833</td> <td> 0.000</td> <td>   -0.174</td> <td>   -0.056</td>\n",
       "</tr>\n",
       "<tr>\n",
       "  <th>smoking</th>       <td>   -0.0788</td> <td>    0.020</td> <td>   -3.991</td> <td> 0.000</td> <td>   -0.118</td> <td>   -0.040</td>\n",
       "</tr>\n",
       "<tr>\n",
       "  <th>vegetables</th>    <td>    0.0389</td> <td>    0.012</td> <td>    3.315</td> <td> 0.001</td> <td>    0.016</td> <td>    0.062</td>\n",
       "</tr>\n",
       "<tr>\n",
       "  <th>soda</th>          <td>   -0.0225</td> <td>    0.012</td> <td>   -1.951</td> <td> 0.051</td> <td>   -0.045</td> <td>    0.000</td>\n",
       "</tr>\n",
       "<tr>\n",
       "  <th>breakfast</th>     <td>    0.1543</td> <td>    0.007</td> <td>   23.702</td> <td> 0.000</td> <td>    0.142</td> <td>    0.167</td>\n",
       "</tr>\n",
       "<tr>\n",
       "  <th>computer</th>      <td>   -0.0595</td> <td>    0.008</td> <td>   -7.881</td> <td> 0.000</td> <td>   -0.074</td> <td>   -0.045</td>\n",
       "</tr>\n",
       "<tr>\n",
       "  <th>racecat_white</th> <td>    0.1307</td> <td>    0.033</td> <td>    3.909</td> <td> 0.000</td> <td>    0.065</td> <td>    0.196</td>\n",
       "</tr>\n",
       "</table>"
      ],
      "text/plain": [
       "<class 'statsmodels.iolib.summary.Summary'>\n",
       "\"\"\"\n",
       "                 Generalized Linear Model Regression Results                  \n",
       "==============================================================================\n",
       "Dep. Variable:               sleepcat   No. Observations:                21732\n",
       "Model:                            GLM   Df Residuals:                    21723\n",
       "Model Family:                Binomial   Df Model:                            8\n",
       "Link Function:                  logit   Scale:                          1.0000\n",
       "Method:                          IRLS   Log-Likelihood:                -11680.\n",
       "Date:                Tue, 14 Jul 2020   Deviance:                       23359.\n",
       "Time:                        17:45:49   Pearson chi2:                 2.18e+04\n",
       "No. Iterations:                     4                                         \n",
       "Covariance Type:            nonrobust                                         \n",
       "=================================================================================\n",
       "                    coef    std err          z      P>|z|      [0.025      0.975]\n",
       "---------------------------------------------------------------------------------\n",
       "const            -1.8715      0.089    -21.089      0.000      -2.045      -1.698\n",
       "sex               0.1657      0.033      5.057      0.000       0.101       0.230\n",
       "sexharass        -0.1153      0.030     -3.833      0.000      -0.174      -0.056\n",
       "smoking          -0.0788      0.020     -3.991      0.000      -0.118      -0.040\n",
       "vegetables        0.0389      0.012      3.315      0.001       0.016       0.062\n",
       "soda             -0.0225      0.012     -1.951      0.051      -0.045       0.000\n",
       "breakfast         0.1543      0.007     23.702      0.000       0.142       0.167\n",
       "computer         -0.0595      0.008     -7.881      0.000      -0.074      -0.045\n",
       "racecat_white     0.1307      0.033      3.909      0.000       0.065       0.196\n",
       "=================================================================================\n",
       "\"\"\""
      ]
     },
     "execution_count": 67,
     "metadata": {},
     "output_type": "execute_result"
    }
   ],
   "source": [
    "# use GLM (general linear model) with the binomial family to fit a logistic regression\n",
    "logit_reg = sm.GLM(train_y, train_X, family=sm.families.Binomial())\n",
    "logit_result = logit_reg.fit()\n",
    "logit_result.summary()"
   ]
  },
  {
   "cell_type": "markdown",
   "metadata": {},
   "source": [
    "* race_1=white: nonwhite students sleep less.\n",
    "* students who eat vegetables sleep more than those don't eat vegetables.\n",
    "* students who smoke cigarettes sleep less than those don't smoke cigarettes.\n",
    "* students who had sexual harrasments sleep less than those who don't."
   ]
  },
  {
   "cell_type": "markdown",
   "metadata": {},
   "source": [
    "<div style=\"text-align: right\"> <a href='#section_id0'>Back to top of Notebook</a></div>"
   ]
  },
  {
   "cell_type": "markdown",
   "metadata": {},
   "source": [
    "<a id='section_id5'></a>\n",
    "### <span style=\"background-color:#B0E0E6\">Logit with Scikit-Learn</span>"
   ]
  },
  {
   "cell_type": "code",
   "execution_count": 72,
   "metadata": {},
   "outputs": [
    {
     "name": "stdout",
     "output_type": "stream",
     "text": [
      "(21732, 8) (21732,)\n",
      "(21732, 8) (14488,)\n"
     ]
    }
   ],
   "source": [
    "#Set up:\n",
    "y = df1['sleepcat']\n",
    "X = df1.drop(columns=['sleepcat', 'race'])\n",
    "train_X2, valid_X2, train_y2, valid_y2 = train_test_split(X, y, test_size=0.4, random_state=1)\n",
    "print(train_X2.shape, train_y2.shape)\n",
    "print(train_X2.shape, valid_y2.shape)"
   ]
  },
  {
   "cell_type": "code",
   "execution_count": 73,
   "metadata": {},
   "outputs": [
    {
     "data": {
      "text/plain": [
       "LogisticRegression(C=1.0, class_weight=None, dual=False, fit_intercept=True,\n",
       "                   intercept_scaling=1, l1_ratio=None, max_iter=100,\n",
       "                   multi_class='auto', n_jobs=None, penalty='l2',\n",
       "                   random_state=None, solver='liblinear', tol=0.0001, verbose=0,\n",
       "                   warm_start=False)"
      ]
     },
     "execution_count": 73,
     "metadata": {},
     "output_type": "execute_result"
    }
   ],
   "source": [
    "lreg=sklm.LogisticRegression(solver='liblinear')\n",
    "lreg.fit(train_X2, train_y2)"
   ]
  },
  {
   "cell_type": "markdown",
   "metadata": {},
   "source": [
    "The coefficient parameters can be different across the different solvers. The scikit estimates are different from statsmodels:"
   ]
  },
  {
   "cell_type": "code",
   "execution_count": 74,
   "metadata": {},
   "outputs": [
    {
     "data": {
      "text/plain": [
       "-1.8560900297337835"
      ]
     },
     "execution_count": 74,
     "metadata": {},
     "output_type": "execute_result"
    }
   ],
   "source": [
    "lreg.intercept_[0]"
   ]
  },
  {
   "cell_type": "code",
   "execution_count": 75,
   "metadata": {},
   "outputs": [
    {
     "data": {
      "text/html": [
       "<div>\n",
       "<style scoped>\n",
       "    .dataframe tbody tr th:only-of-type {\n",
       "        vertical-align: middle;\n",
       "    }\n",
       "\n",
       "    .dataframe tbody tr th {\n",
       "        vertical-align: top;\n",
       "    }\n",
       "\n",
       "    .dataframe thead th {\n",
       "        text-align: right;\n",
       "    }\n",
       "</style>\n",
       "<table border=\"1\" class=\"dataframe\">\n",
       "  <thead>\n",
       "    <tr style=\"text-align: right;\">\n",
       "      <th></th>\n",
       "      <th>coefficients</th>\n",
       "    </tr>\n",
       "  </thead>\n",
       "  <tbody>\n",
       "    <tr>\n",
       "      <th>sex</th>\n",
       "      <td>0.162543</td>\n",
       "    </tr>\n",
       "    <tr>\n",
       "      <th>sexharass</th>\n",
       "      <td>-0.117440</td>\n",
       "    </tr>\n",
       "    <tr>\n",
       "      <th>smoking</th>\n",
       "      <td>-0.079422</td>\n",
       "    </tr>\n",
       "    <tr>\n",
       "      <th>vegetables</th>\n",
       "      <td>0.038342</td>\n",
       "    </tr>\n",
       "    <tr>\n",
       "      <th>soda</th>\n",
       "      <td>-0.022869</td>\n",
       "    </tr>\n",
       "    <tr>\n",
       "      <th>breakfast</th>\n",
       "      <td>0.153832</td>\n",
       "    </tr>\n",
       "    <tr>\n",
       "      <th>computer</th>\n",
       "      <td>-0.059826</td>\n",
       "    </tr>\n",
       "    <tr>\n",
       "      <th>racecat_white</th>\n",
       "      <td>0.129126</td>\n",
       "    </tr>\n",
       "  </tbody>\n",
       "</table>\n",
       "</div>"
      ],
      "text/plain": [
       "               coefficients\n",
       "sex                0.162543\n",
       "sexharass         -0.117440\n",
       "smoking           -0.079422\n",
       "vegetables         0.038342\n",
       "soda              -0.022869\n",
       "breakfast          0.153832\n",
       "computer          -0.059826\n",
       "racecat_white      0.129126"
      ]
     },
     "execution_count": 75,
     "metadata": {},
     "output_type": "execute_result"
    }
   ],
   "source": [
    "pd.DataFrame({'coefficients': lreg.coef_[0]}, index=X.columns)"
   ]
  },
  {
   "cell_type": "code",
   "execution_count": 76,
   "metadata": {},
   "outputs": [
    {
     "data": {
      "text/plain": [
       "array([0, 0, 0, 0, 0], dtype=int64)"
      ]
     },
     "execution_count": 76,
     "metadata": {},
     "output_type": "execute_result"
    }
   ],
   "source": [
    "#get the predicted values in training:\n",
    "lreg_predictions_tr=lreg.predict(train_X2)\n",
    "lreg_predictions_tr[:5]"
   ]
  },
  {
   "cell_type": "code",
   "execution_count": 77,
   "metadata": {},
   "outputs": [
    {
     "data": {
      "text/plain": [
       "array([[0.68450929, 0.31549071],\n",
       "       [0.88334375, 0.11665625],\n",
       "       [0.66465071, 0.33534929],\n",
       "       ...,\n",
       "       [0.63929003, 0.36070997],\n",
       "       [0.84871974, 0.15128026],\n",
       "       [0.85538402, 0.14461598]])"
      ]
     },
     "execution_count": 77,
     "metadata": {},
     "output_type": "execute_result"
    }
   ],
   "source": [
    "#get the predicted probabilities in training:\n",
    "lreg_predict_prob_tr=lreg.predict_proba(train_X2) # predictions for training set as probability values\n",
    "lreg_predict_prob_tr"
   ]
  },
  {
   "cell_type": "code",
   "execution_count": 78,
   "metadata": {},
   "outputs": [],
   "source": [
    "logit_result_tr = pd.DataFrame({'actual': train_y2, \n",
    "                             'p(0)': [p[0] for p in lreg_predict_prob_tr],\n",
    "                             'p(1)': [p[1] for p in lreg_predict_prob_tr],\n",
    "                             'predicted': lreg_predictions_tr })"
   ]
  },
  {
   "cell_type": "code",
   "execution_count": 79,
   "metadata": {},
   "outputs": [
    {
     "data": {
      "text/html": [
       "<div>\n",
       "<style scoped>\n",
       "    .dataframe tbody tr th:only-of-type {\n",
       "        vertical-align: middle;\n",
       "    }\n",
       "\n",
       "    .dataframe tbody tr th {\n",
       "        vertical-align: top;\n",
       "    }\n",
       "\n",
       "    .dataframe thead th {\n",
       "        text-align: right;\n",
       "    }\n",
       "</style>\n",
       "<table border=\"1\" class=\"dataframe\">\n",
       "  <thead>\n",
       "    <tr style=\"text-align: right;\">\n",
       "      <th></th>\n",
       "      <th>actual</th>\n",
       "      <th>p(0)</th>\n",
       "      <th>p(1)</th>\n",
       "      <th>predicted</th>\n",
       "    </tr>\n",
       "  </thead>\n",
       "  <tbody>\n",
       "    <tr>\n",
       "      <th>18852</th>\n",
       "      <td>1</td>\n",
       "      <td>0.545471</td>\n",
       "      <td>0.454529</td>\n",
       "      <td>0</td>\n",
       "    </tr>\n",
       "    <tr>\n",
       "      <th>18869</th>\n",
       "      <td>0</td>\n",
       "      <td>0.545471</td>\n",
       "      <td>0.454529</td>\n",
       "      <td>0</td>\n",
       "    </tr>\n",
       "    <tr>\n",
       "      <th>5108</th>\n",
       "      <td>0</td>\n",
       "      <td>0.545471</td>\n",
       "      <td>0.454529</td>\n",
       "      <td>0</td>\n",
       "    </tr>\n",
       "    <tr>\n",
       "      <th>3837</th>\n",
       "      <td>0</td>\n",
       "      <td>0.545471</td>\n",
       "      <td>0.454529</td>\n",
       "      <td>0</td>\n",
       "    </tr>\n",
       "    <tr>\n",
       "      <th>19367</th>\n",
       "      <td>1</td>\n",
       "      <td>0.545471</td>\n",
       "      <td>0.454529</td>\n",
       "      <td>0</td>\n",
       "    </tr>\n",
       "  </tbody>\n",
       "</table>\n",
       "</div>"
      ],
      "text/plain": [
       "       actual      p(0)      p(1)  predicted\n",
       "18852       1  0.545471  0.454529          0\n",
       "18869       0  0.545471  0.454529          0\n",
       "5108        0  0.545471  0.454529          0\n",
       "3837        0  0.545471  0.454529          0\n",
       "19367       1  0.545471  0.454529          0"
      ]
     },
     "execution_count": 79,
     "metadata": {},
     "output_type": "execute_result"
    }
   ],
   "source": [
    "# highest probability of having sufficient sleep:\n",
    "logit_result_tr.sort_values(by='p(1)', ascending=False).head()"
   ]
  },
  {
   "cell_type": "code",
   "execution_count": 80,
   "metadata": {},
   "outputs": [
    {
     "data": {
      "text/html": [
       "<div>\n",
       "<style scoped>\n",
       "    .dataframe tbody tr th:only-of-type {\n",
       "        vertical-align: middle;\n",
       "    }\n",
       "\n",
       "    .dataframe tbody tr th {\n",
       "        vertical-align: top;\n",
       "    }\n",
       "\n",
       "    .dataframe thead th {\n",
       "        text-align: right;\n",
       "    }\n",
       "</style>\n",
       "<table border=\"1\" class=\"dataframe\">\n",
       "  <thead>\n",
       "    <tr style=\"text-align: right;\">\n",
       "      <th></th>\n",
       "      <th>actual</th>\n",
       "      <th>p(0)</th>\n",
       "      <th>p(1)</th>\n",
       "      <th>predicted</th>\n",
       "    </tr>\n",
       "  </thead>\n",
       "  <tbody>\n",
       "    <tr>\n",
       "      <th>5210</th>\n",
       "      <td>0</td>\n",
       "      <td>0.961705</td>\n",
       "      <td>0.038295</td>\n",
       "      <td>0</td>\n",
       "    </tr>\n",
       "    <tr>\n",
       "      <th>19608</th>\n",
       "      <td>0</td>\n",
       "      <td>0.961705</td>\n",
       "      <td>0.038295</td>\n",
       "      <td>0</td>\n",
       "    </tr>\n",
       "    <tr>\n",
       "      <th>29032</th>\n",
       "      <td>0</td>\n",
       "      <td>0.961705</td>\n",
       "      <td>0.038295</td>\n",
       "      <td>0</td>\n",
       "    </tr>\n",
       "    <tr>\n",
       "      <th>25948</th>\n",
       "      <td>0</td>\n",
       "      <td>0.961705</td>\n",
       "      <td>0.038295</td>\n",
       "      <td>0</td>\n",
       "    </tr>\n",
       "    <tr>\n",
       "      <th>25382</th>\n",
       "      <td>0</td>\n",
       "      <td>0.958190</td>\n",
       "      <td>0.041810</td>\n",
       "      <td>0</td>\n",
       "    </tr>\n",
       "  </tbody>\n",
       "</table>\n",
       "</div>"
      ],
      "text/plain": [
       "       actual      p(0)      p(1)  predicted\n",
       "5210        0  0.961705  0.038295          0\n",
       "19608       0  0.961705  0.038295          0\n",
       "29032       0  0.961705  0.038295          0\n",
       "25948       0  0.961705  0.038295          0\n",
       "25382       0  0.958190  0.041810          0"
      ]
     },
     "execution_count": 80,
     "metadata": {},
     "output_type": "execute_result"
    }
   ],
   "source": [
    "#lowest probability of getting sufficient sleep:\n",
    "logit_result_tr.sort_values(by='p(1)').head()"
   ]
  },
  {
   "cell_type": "code",
   "execution_count": 81,
   "metadata": {},
   "outputs": [
    {
     "name": "stdout",
     "output_type": "stream",
     "text": [
      "Confusion Matrix (Accuracy 0.7542)\n",
      "\n",
      "       Prediction\n",
      "Actual     0     1\n",
      "     0 16390     0\n",
      "     1  5342     0\n"
     ]
    }
   ],
   "source": [
    "# This is the confusion matrix from DMBA book package\n",
    "classificationSummary(train_y2, lreg_predictions_tr)"
   ]
  },
  {
   "cell_type": "code",
   "execution_count": 82,
   "metadata": {},
   "outputs": [
    {
     "name": "stdout",
     "output_type": "stream",
     "text": [
      "Confusion Matrix:\n",
      " [[16390     0]\n",
      " [ 5342     0]]\n"
     ]
    }
   ],
   "source": [
    "# This is a utility from scikit\n",
    "cm = confusion_matrix(train_y2, lreg_predictions_tr)\n",
    "print(\"Confusion Matrix:\\n\", cm)"
   ]
  },
  {
   "cell_type": "code",
   "execution_count": 83,
   "metadata": {},
   "outputs": [
    {
     "name": "stdout",
     "output_type": "stream",
     "text": [
      "Classification Report:\n",
      "               precision    recall  f1-score   support\n",
      "\n",
      "           0       0.75      1.00      0.86     16390\n",
      "           1       0.00      0.00      0.00      5342\n",
      "\n",
      "    accuracy                           0.75     21732\n",
      "   macro avg       0.38      0.50      0.43     21732\n",
      "weighted avg       0.57      0.75      0.65     21732\n",
      "\n"
     ]
    },
    {
     "name": "stderr",
     "output_type": "stream",
     "text": [
      "C:\\Users\\edwar\\anaconda3\\lib\\site-packages\\sklearn\\metrics\\_classification.py:1272: UndefinedMetricWarning: Precision and F-score are ill-defined and being set to 0.0 in labels with no predicted samples. Use `zero_division` parameter to control this behavior.\n",
      "  _warn_prf(average, modifier, msg_start, len(result))\n"
     ]
    }
   ],
   "source": [
    "# This is a utility from scikit\n",
    "print(\"Classification Report:\\n\",classification_report(train_y2, lreg_predictions_tr))"
   ]
  },
  {
   "cell_type": "markdown",
   "metadata": {},
   "source": [
    "Notes:\n",
    "* From the [clasification report documentation](https://scikit-learn.org/stable/modules/generated/sklearn.metrics.classification_report.html)\n",
    "    * The reported averages include macro average (averaging the unweighted mean per label) and weighted average (averaging the support-weighted mean per label).\n",
    "    * macro: calculate metrics for each label, and find their unweighted mean. This does not take label imbalance into account.\n",
    "    * weighted: Calculate metrics for each label, and find their average weighted by support (the number of true instances for each label). This alters ‘macro’ to account for label imbalance; it can result in an F-score that is not between precision and recall. "
   ]
  },
  {
   "cell_type": "code",
   "execution_count": 84,
   "metadata": {},
   "outputs": [
    {
     "data": {
      "text/plain": [
       "<matplotlib.axes._subplots.AxesSubplot at 0x24c59c04b08>"
      ]
     },
     "execution_count": 84,
     "metadata": {},
     "output_type": "execute_result"
    },
    {
     "data": {
      "image/png": "[encoded data removed]",
      "text/plain": [
       "<Figure size 288x288 with 2 Axes>"
      ]
     },
     "metadata": {},
     "output_type": "display_data"
    }
   ],
   "source": [
    "# You can plot the confusion matrix:\n",
    "skplt.metrics.plot_confusion_matrix(train_y2, lreg_predictions_tr, figsize=(4,4), cmap=\"coolwarm\")"
   ]
  },
  {
   "cell_type": "markdown",
   "metadata": {},
   "source": [
    "<Mark>Interpretation:</Mark> We see that the model resulted in 75% accuracy of classifying sleeping duration. none of the 5342 with sufficient sleep were correctly identified by the model. It missed 5342 others who had sufficient sleep, and wrongly identifed nobody as worthy of approval.<br>\n",
    "\n",
    "The classification report produces various other metrics. Here are some additional, easy-to-understand resources for shedding light on them:\n",
    "* Wikipedia has a nice page on the [confusion matrix](https://en.wikipedia.org/wiki/Confusion_matrix) with all the formulas for the metrics\n",
    "* [A discussion of the metrics presented](https://datascience.stackexchange.com/questions/64441/how-to-interpret-classification-report-of-scikit-learn) in the classification report.\n",
    "* [A discussion of the \"avg\" values](https://datascience.stackexchange.com/questions/15989/micro-average-vs-macro-average-performance-in-a-multiclass-classification-settin/16001) presented in the matrix."
   ]
  },
  {
   "cell_type": "code",
   "execution_count": 85,
   "metadata": {},
   "outputs": [],
   "source": [
    "# How good is the model on the validation dataset?\n",
    "lreg_predictions_tt=lreg.predict(valid_X2)"
   ]
  },
  {
   "cell_type": "code",
   "execution_count": 86,
   "metadata": {},
   "outputs": [
    {
     "name": "stdout",
     "output_type": "stream",
     "text": [
      "Classification Report:\n",
      "               precision    recall  f1-score   support\n",
      "\n",
      "           0       0.75      1.00      0.86     10842\n",
      "           1       0.00      0.00      0.00      3646\n",
      "\n",
      "    accuracy                           0.75     14488\n",
      "   macro avg       0.37      0.50      0.43     14488\n",
      "weighted avg       0.56      0.75      0.64     14488\n",
      "\n"
     ]
    },
    {
     "name": "stderr",
     "output_type": "stream",
     "text": [
      "C:\\Users\\edwar\\anaconda3\\lib\\site-packages\\sklearn\\metrics\\_classification.py:1272: UndefinedMetricWarning: Precision and F-score are ill-defined and being set to 0.0 in labels with no predicted samples. Use `zero_division` parameter to control this behavior.\n",
      "  _warn_prf(average, modifier, msg_start, len(result))\n"
     ]
    }
   ],
   "source": [
    "print(\"Classification Report:\\n\",classification_report(valid_y2, lreg_predictions_tt))"
   ]
  },
  {
   "cell_type": "code",
   "execution_count": 87,
   "metadata": {},
   "outputs": [
    {
     "data": {
      "text/plain": [
       "<matplotlib.axes._subplots.AxesSubplot at 0x24c593dd288>"
      ]
     },
     "execution_count": 87,
     "metadata": {},
     "output_type": "execute_result"
    },
    {
     "data": {
      "image/png": "[encoded data removed]",
      "text/plain": [
       "<Figure size 288x288 with 2 Axes>"
      ]
     },
     "metadata": {},
     "output_type": "display_data"
    }
   ],
   "source": [
    "skplt.metrics.plot_confusion_matrix(valid_y2, lreg_predictions_tt, figsize=(4,4), cmap=\"Greens\")"
   ]
  },
  {
   "cell_type": "markdown",
   "metadata": {},
   "source": [
    "<Mark>Interpretation:</Mark> We see that the model resulted in 75% accuracy of classifying students having sufficient sleep. None of the 3646 customers with approvals were correctly identified by the model. It missed 3646 others who were approved, and wrongly identifed noobody who have insifficient sleep.<br>"
   ]
  },
  {
   "cell_type": "code",
   "execution_count": 88,
   "metadata": {},
   "outputs": [
    {
     "data": {
      "text/plain": [
       "(14488,)"
      ]
     },
     "execution_count": 88,
     "metadata": {},
     "output_type": "execute_result"
    }
   ],
   "source": [
    "lreg_predictions_tt.shape"
   ]
  },
  {
   "cell_type": "markdown",
   "metadata": {},
   "source": [
    "#### What about a naive prediction?"
   ]
  },
  {
   "cell_type": "code",
   "execution_count": 89,
   "metadata": {},
   "outputs": [
    {
     "data": {
      "text/plain": [
       "0.7518498067366096"
      ]
     },
     "execution_count": 89,
     "metadata": {},
     "output_type": "execute_result"
    }
   ],
   "source": [
    "1-df1.sleepcat.mean() #for the whole dataset of 5000 customers"
   ]
  },
  {
   "cell_type": "code",
   "execution_count": 90,
   "metadata": {},
   "outputs": [
    {
     "data": {
      "text/plain": [
       "0.7483434566537824"
      ]
     },
     "execution_count": 90,
     "metadata": {},
     "output_type": "execute_result"
    }
   ],
   "source": [
    "1-valid_y2.mean() #for the validation dataset of 14488 customers"
   ]
  },
  {
   "cell_type": "code",
   "execution_count": 91,
   "metadata": {},
   "outputs": [],
   "source": [
    "naiveprediction = [0] * 14488"
   ]
  },
  {
   "cell_type": "code",
   "execution_count": 92,
   "metadata": {},
   "outputs": [
    {
     "data": {
      "text/plain": [
       "<matplotlib.axes._subplots.AxesSubplot at 0x24c59470348>"
      ]
     },
     "execution_count": 92,
     "metadata": {},
     "output_type": "execute_result"
    },
    {
     "data": {
      "image/png": "[encoded data removed]",
      "text/plain": [
       "<Figure size 288x288 with 2 Axes>"
      ]
     },
     "metadata": {},
     "output_type": "display_data"
    }
   ],
   "source": [
    "skplt.metrics.plot_confusion_matrix(valid_y2, naiveprediction, figsize=(4,4), cmap=\"Purples\")"
   ]
  },
  {
   "cell_type": "code",
   "execution_count": 93,
   "metadata": {},
   "outputs": [
    {
     "name": "stdout",
     "output_type": "stream",
     "text": [
      "Classification Report:\n",
      "               precision    recall  f1-score   support\n",
      "\n",
      "           0       0.75      1.00      0.86     10842\n",
      "           1       0.00      0.00      0.00      3646\n",
      "\n",
      "    accuracy                           0.75     14488\n",
      "   macro avg       0.37      0.50      0.43     14488\n",
      "weighted avg       0.56      0.75      0.64     14488\n",
      "\n"
     ]
    }
   ],
   "source": [
    "print(\"Classification Report:\\n\",classification_report(valid_y2, naiveprediction))"
   ]
  },
  {
   "cell_type": "markdown",
   "metadata": {},
   "source": [
    "<Mark>Interpretation:</Mark> Clearly, the naive prediction has almost the same accuracy as our model, and it is not helpful in practice. "
   ]
  },
  {
   "cell_type": "markdown",
   "metadata": {},
   "source": [
    "#### Gain and lift charts"
   ]
  },
  {
   "cell_type": "markdown",
   "metadata": {},
   "source": [
    "* Gains refers to the the total number or percentage of cases of interest identified by a model\n",
    "* Lift refers to the ratio of such cases to those found through random selection"
   ]
  },
  {
   "cell_type": "code",
   "execution_count": 94,
   "metadata": {},
   "outputs": [
    {
     "data": {
      "image/png": "[encoded data removed]",
      "text/plain": [
       "<Figure size 720x288 with 2 Axes>"
      ]
     },
     "metadata": {},
     "output_type": "display_data"
    }
   ],
   "source": [
    "dfgains = logit_result_tr.sort_values(by='p(1)', ascending=False)\n",
    "fig, axes = plt.subplots(nrows=1, ncols=2, figsize=(10, 4))\n",
    "\n",
    "gainsChart(dfgains.actual, ax=axes[0])\n",
    "liftChart(dfgains['p(1)'], title=False, ax=axes[1])\n",
    "    \n",
    "plt.tight_layout()\n",
    "plt.show()"
   ]
  },
  {
   "cell_type": "markdown",
   "metadata": {},
   "source": [
    "#### Manually chaning the cutoff for classification"
   ]
  },
  {
   "cell_type": "code",
   "execution_count": 95,
   "metadata": {},
   "outputs": [
    {
     "data": {
      "text/plain": [
       "Text(0, 0.5, 'Frequency')"
      ]
     },
     "execution_count": 95,
     "metadata": {},
     "output_type": "execute_result"
    },
    {
     "data": {
      "image/png": "[encoded data removed]",
      "text/plain": [
       "<Figure size 432x360 with 1 Axes>"
      ]
     },
     "metadata": {},
     "output_type": "display_data"
    }
   ],
   "source": [
    "# Exploring the probabilities of purchase predicted by the logistic regression model:\n",
    "plt.hist(lreg_predict_prob_tr[:,1], bins=50)\n",
    "plt.xlim(0,1)\n",
    "plt.title('Histogram of predicted probabilities')\n",
    "plt.xlabel('Predicted probability of having sufficient sleep')\n",
    "plt.ylabel('Frequency')"
   ]
  },
  {
   "cell_type": "code",
   "execution_count": 96,
   "metadata": {},
   "outputs": [],
   "source": [
    "# if we cut the probability values into \"sufficient-yes\" or \"insufficient-no\" at 20%:\n",
    "ypredclass_tr2 = np.where(lreg_predict_prob_tr[:,1] > 0.2, 1, 0)"
   ]
  },
  {
   "cell_type": "code",
   "execution_count": 97,
   "metadata": {},
   "outputs": [
    {
     "name": "stdout",
     "output_type": "stream",
     "text": [
      "Confusion Matrix:\n",
      " [[16390     0]\n",
      " [ 5342     0]]\n",
      "\n",
      "\n",
      "Classification Report:\n",
      "               precision    recall  f1-score   support\n",
      "\n",
      "           0       0.84      0.41      0.55     16390\n",
      "           1       0.30      0.76      0.43      5342\n",
      "\n",
      "    accuracy                           0.50     21732\n",
      "   macro avg       0.57      0.59      0.49     21732\n",
      "weighted avg       0.71      0.50      0.52     21732\n",
      "\n"
     ]
    }
   ],
   "source": [
    "cm2 = confusion_matrix(train_y2, ypredclass_tr2)\n",
    "print(\"Confusion Matrix:\\n\", cm)\n",
    "print(\"\\n\")\n",
    "print(\"Classification Report:\\n\",classification_report(train_y2, ypredclass_tr2))"
   ]
  },
  {
   "cell_type": "code",
   "execution_count": 98,
   "metadata": {},
   "outputs": [
    {
     "data": {
      "text/plain": [
       "<matplotlib.axes._subplots.AxesSubplot at 0x24c5a6f0a08>"
      ]
     },
     "execution_count": 98,
     "metadata": {},
     "output_type": "execute_result"
    },
    {
     "data": {
      "image/png": "[encoded data removed]",
      "text/plain": [
       "<Figure size 288x288 with 2 Axes>"
      ]
     },
     "metadata": {},
     "output_type": "display_data"
    }
   ],
   "source": [
    "skplt.metrics.plot_confusion_matrix(train_y2, ypredclass_tr2, figsize=(4,4), cmap=\"YlGnBu\")"
   ]
  },
  {
   "cell_type": "markdown",
   "metadata": {},
   "source": [
    "<Mark>Interpretation:</Mark> After tweaking the cutoff, we see that the model's accuracy has decreased to 50%. More people (4074 as compared to previous 0) are identified correctly as accepting personal loans, but more mistakes are also being made (9673 as compared to the previous 0).<br>"
   ]
  },
  {
   "cell_type": "markdown",
   "metadata": {},
   "source": [
    "The Receiver operating characteristic (ROC) curve shows how the performance of the classifier varies to different cutoffs. A higher area under the curve indicates a better model."
   ]
  },
  {
   "cell_type": "code",
   "execution_count": 99,
   "metadata": {},
   "outputs": [
    {
     "name": "stdout",
     "output_type": "stream",
     "text": [
      "Area under the curve (AUC):\n",
      " 0.5862862453455173\n"
     ]
    },
    {
     "data": {
      "image/png": "[encoded data removed]",
      "text/plain": [
       "<Figure size 432x360 with 1 Axes>"
      ]
     },
     "metadata": {},
     "output_type": "display_data"
    }
   ],
   "source": [
    "#higher AUC indicates better classifier\n",
    "fpr, tpr, thresholds = roc_curve(train_y2, ypredclass_tr2)\n",
    "plt.plot(fpr, tpr)\n",
    "plt.xlim([0.0, 1.0])\n",
    "plt.ylim([0.0, 1.0])\n",
    "plt.plot([0, 1], [0, 1], 'k--', color='r')\n",
    "plt.title('ROC curve for insurance purchase classifier')\n",
    "plt.xlabel('False Positive Rate (1 - Specificity)')\n",
    "plt.ylabel('True Positive Rate (Sensitivity)')\n",
    "print(\"Area under the curve (AUC):\\n\", roc_auc_score(train_y2, ypredclass_tr2))"
   ]
  },
  {
   "cell_type": "markdown",
   "metadata": {},
   "source": [
    "<div style=\"text-align: right\"> <a href='#section_id0'>Back to top of Notebook</a></div>"
   ]
  },
  {
   "cell_type": "markdown",
   "metadata": {},
   "source": [
    "<a id='section_id6'></a>\n",
    "### <span style=\"background-color:#B0E0E6\">K-fold Cross Validation</span>"
   ]
  },
  {
   "cell_type": "code",
   "execution_count": 100,
   "metadata": {},
   "outputs": [
    {
     "name": "stderr",
     "output_type": "stream",
     "text": [
      "C:\\Users\\edwar\\anaconda3\\lib\\site-packages\\sklearn\\model_selection\\_split.py:296: FutureWarning: Setting a random_state has no effect since shuffle is False. This will raise an error in 0.24. You should leave random_state to its default (None), or set shuffle=True.\n",
      "  FutureWarning\n"
     ]
    }
   ],
   "source": [
    "# How good is the model if subjected to variations in the training sample?\n",
    "cvparam = KFold(10, random_state=13)\n",
    "scores_accuracy_lgrcv_tr =  cross_validate(lreg, valid_X2, valid_y2, cv=cvparam, scoring='accuracy')"
   ]
  },
  {
   "cell_type": "code",
   "execution_count": 101,
   "metadata": {},
   "outputs": [
    {
     "data": {
      "text/plain": [
       "{'fit_time': array([0.07878423, 0.06704998, 0.06632042, 0.06029296, 0.07334566,\n",
       "        0.06556225, 0.06399322, 0.06547308, 0.06489253, 0.06466651]),\n",
       " 'score_time': array([0.00164104, 0.        , 0.        , 0.        , 0.0010407 ,\n",
       "        0.        , 0.        , 0.        , 0.00806093, 0.        ]),\n",
       " 'test_score': array([0.73775017, 0.74534161, 0.75569358, 0.74396135, 0.76397516,\n",
       "        0.75362319, 0.73982057, 0.73567978, 0.74654696, 0.76104972])}"
      ]
     },
     "execution_count": 101,
     "metadata": {},
     "output_type": "execute_result"
    }
   ],
   "source": [
    "scores_accuracy_lgrcv_tr"
   ]
  },
  {
   "cell_type": "code",
   "execution_count": 102,
   "metadata": {},
   "outputs": [
    {
     "data": {
      "text/plain": [
       "0.7483442095710892"
      ]
     },
     "execution_count": 102,
     "metadata": {},
     "output_type": "execute_result"
    }
   ],
   "source": [
    "scores_accuracy_lgrcv_tr['test_score'].mean()"
   ]
  },
  {
   "cell_type": "markdown",
   "metadata": {},
   "source": [
    "<Mark>Interpretation:</Mark> The crossvalidated model produces almost no improvement in terms of accuracy over the naive benchmark (no body will have sufficient sleep)."
   ]
  },
  {
   "cell_type": "markdown",
   "metadata": {},
   "source": [
    "<div style=\"text-align: right\"> <a href='#section_id0'>Back to top of Notebook</a></div>"
   ]
  },
  {
   "cell_type": "markdown",
   "metadata": {},
   "source": [
    "<a id='section_id7'></a>\n",
    "### <span style=\"background-color:#B0E0E6\">Variable Selection Approaches</span>"
   ]
  },
  {
   "cell_type": "markdown",
   "metadata": {},
   "source": [
    "#### Exhaustive search\n",
    "* We'll use the Akaike Information Criteria (AIC) to pick among the models with different subsets of predictor variables. Bayesian Information Criteria (BIC) can also be used.\n",
    "* Use a function from the DMBA package for implementing exhaustive search."
   ]
  },
  {
   "cell_type": "code",
   "execution_count": 103,
   "metadata": {},
   "outputs": [],
   "source": [
    "def train_model(variables):\n",
    "    model = sklm.LogisticRegression(solver='liblinear')\n",
    "    model.fit(train_X[variables], train_y)\n",
    "    return model\n",
    "\n",
    "def score_model(model, variables):\n",
    "    pred_y = model.predict(train_X[variables])\n",
    "    # we negate as score is optimized to be as low as possible\n",
    "    return AIC_score(train_y, pred_y, model)"
   ]
  },
  {
   "cell_type": "code",
   "execution_count": 104,
   "metadata": {},
   "outputs": [],
   "source": [
    "allVariables = train_X2.columns\n",
    "results = exhaustive_search(allVariables, train_model, score_model)"
   ]
  },
  {
   "cell_type": "code",
   "execution_count": 105,
   "metadata": {},
   "outputs": [],
   "source": [
    "data = []\n",
    "for result in results:\n",
    "    model = result['model']\n",
    "    variables = result['variables'] \n",
    "    d = {'n': result['n'], 'AIC': result['score']}\n",
    "    d.update({var: var in result['variables'] for var in allVariables})\n",
    "    data.append(d)"
   ]
  },
  {
   "cell_type": "code",
   "execution_count": 106,
   "metadata": {},
   "outputs": [],
   "source": [
    "searchresults=pd.DataFrame(data, columns=('n', 'AIC') + tuple(sorted(allVariables)))"
   ]
  },
  {
   "cell_type": "code",
   "execution_count": 107,
   "metadata": {},
   "outputs": [
    {
     "data": {
      "text/html": [
       "<div>\n",
       "<style scoped>\n",
       "    .dataframe tbody tr th:only-of-type {\n",
       "        vertical-align: middle;\n",
       "    }\n",
       "\n",
       "    .dataframe tbody tr th {\n",
       "        vertical-align: top;\n",
       "    }\n",
       "\n",
       "    .dataframe thead th {\n",
       "        text-align: right;\n",
       "    }\n",
       "</style>\n",
       "<table border=\"1\" class=\"dataframe\">\n",
       "  <thead>\n",
       "    <tr style=\"text-align: right;\">\n",
       "      <th></th>\n",
       "      <th>n</th>\n",
       "      <th>AIC</th>\n",
       "      <th>breakfast</th>\n",
       "      <th>computer</th>\n",
       "      <th>racecat_white</th>\n",
       "      <th>sex</th>\n",
       "      <th>sexharass</th>\n",
       "      <th>smoking</th>\n",
       "      <th>soda</th>\n",
       "      <th>vegetables</th>\n",
       "    </tr>\n",
       "  </thead>\n",
       "  <tbody>\n",
       "    <tr>\n",
       "      <th>0</th>\n",
       "      <td>1</td>\n",
       "      <td>31184.712471</td>\n",
       "      <td>False</td>\n",
       "      <td>False</td>\n",
       "      <td>False</td>\n",
       "      <td>True</td>\n",
       "      <td>False</td>\n",
       "      <td>False</td>\n",
       "      <td>False</td>\n",
       "      <td>False</td>\n",
       "    </tr>\n",
       "    <tr>\n",
       "      <th>1</th>\n",
       "      <td>2</td>\n",
       "      <td>31184.712471</td>\n",
       "      <td>False</td>\n",
       "      <td>False</td>\n",
       "      <td>False</td>\n",
       "      <td>True</td>\n",
       "      <td>True</td>\n",
       "      <td>False</td>\n",
       "      <td>False</td>\n",
       "      <td>False</td>\n",
       "    </tr>\n",
       "    <tr>\n",
       "      <th>2</th>\n",
       "      <td>3</td>\n",
       "      <td>31184.712471</td>\n",
       "      <td>False</td>\n",
       "      <td>False</td>\n",
       "      <td>False</td>\n",
       "      <td>True</td>\n",
       "      <td>True</td>\n",
       "      <td>True</td>\n",
       "      <td>False</td>\n",
       "      <td>False</td>\n",
       "    </tr>\n",
       "    <tr>\n",
       "      <th>3</th>\n",
       "      <td>4</td>\n",
       "      <td>31184.712471</td>\n",
       "      <td>False</td>\n",
       "      <td>False</td>\n",
       "      <td>False</td>\n",
       "      <td>True</td>\n",
       "      <td>True</td>\n",
       "      <td>True</td>\n",
       "      <td>False</td>\n",
       "      <td>True</td>\n",
       "    </tr>\n",
       "    <tr>\n",
       "      <th>4</th>\n",
       "      <td>5</td>\n",
       "      <td>31184.712471</td>\n",
       "      <td>False</td>\n",
       "      <td>False</td>\n",
       "      <td>False</td>\n",
       "      <td>True</td>\n",
       "      <td>True</td>\n",
       "      <td>True</td>\n",
       "      <td>True</td>\n",
       "      <td>True</td>\n",
       "    </tr>\n",
       "    <tr>\n",
       "      <th>5</th>\n",
       "      <td>6</td>\n",
       "      <td>31184.712471</td>\n",
       "      <td>True</td>\n",
       "      <td>False</td>\n",
       "      <td>False</td>\n",
       "      <td>True</td>\n",
       "      <td>True</td>\n",
       "      <td>True</td>\n",
       "      <td>True</td>\n",
       "      <td>True</td>\n",
       "    </tr>\n",
       "    <tr>\n",
       "      <th>6</th>\n",
       "      <td>7</td>\n",
       "      <td>31184.712471</td>\n",
       "      <td>True</td>\n",
       "      <td>True</td>\n",
       "      <td>False</td>\n",
       "      <td>True</td>\n",
       "      <td>True</td>\n",
       "      <td>True</td>\n",
       "      <td>True</td>\n",
       "      <td>True</td>\n",
       "    </tr>\n",
       "    <tr>\n",
       "      <th>7</th>\n",
       "      <td>8</td>\n",
       "      <td>31184.712471</td>\n",
       "      <td>True</td>\n",
       "      <td>True</td>\n",
       "      <td>True</td>\n",
       "      <td>True</td>\n",
       "      <td>True</td>\n",
       "      <td>True</td>\n",
       "      <td>True</td>\n",
       "      <td>True</td>\n",
       "    </tr>\n",
       "  </tbody>\n",
       "</table>\n",
       "</div>"
      ],
      "text/plain": [
       "   n           AIC  breakfast  computer  racecat_white   sex  sexharass  \\\n",
       "0  1  31184.712471      False     False          False  True      False   \n",
       "1  2  31184.712471      False     False          False  True       True   \n",
       "2  3  31184.712471      False     False          False  True       True   \n",
       "3  4  31184.712471      False     False          False  True       True   \n",
       "4  5  31184.712471      False     False          False  True       True   \n",
       "5  6  31184.712471       True     False          False  True       True   \n",
       "6  7  31184.712471       True      True          False  True       True   \n",
       "7  8  31184.712471       True      True           True  True       True   \n",
       "\n",
       "   smoking   soda  vegetables  \n",
       "0    False  False       False  \n",
       "1    False  False       False  \n",
       "2     True  False       False  \n",
       "3     True  False        True  \n",
       "4     True   True        True  \n",
       "5     True   True        True  \n",
       "6     True   True        True  \n",
       "7     True   True        True  "
      ]
     },
     "execution_count": 107,
     "metadata": {},
     "output_type": "execute_result"
    }
   ],
   "source": [
    "searchresults"
   ]
  },
  {
   "cell_type": "code",
   "execution_count": 108,
   "metadata": {},
   "outputs": [
    {
     "data": {
      "text/plain": [
       "<seaborn.axisgrid.FacetGrid at 0x24c5a93a988>"
      ]
     },
     "execution_count": 108,
     "metadata": {},
     "output_type": "execute_result"
    },
    {
     "data": {
      "image/png": "[encoded data removed]",
      "text/plain": [
       "<Figure size 360x360 with 1 Axes>"
      ]
     },
     "metadata": {},
     "output_type": "display_data"
    }
   ],
   "source": [
    "sns.relplot(x=\"n\", y=\"AIC\", data=searchresults, kind=\"line\")"
   ]
  },
  {
   "cell_type": "markdown",
   "metadata": {},
   "source": [
    "* When AIC ( or any other model metric) remains same across two models, we don't have a sufficient basis to prefer one model over the other.  So if exhaustive search yields similar AIC scores, we need some other basis (e.g., a theoretical logic) to prefer one model over the other. \n",
    "\n",
    "* Sex/gender is a dominant variable across all models."
   ]
  },
  {
   "cell_type": "code",
   "execution_count": 117,
   "metadata": {},
   "outputs": [
    {
     "data": {
      "text/html": [
       "<div>\n",
       "<style scoped>\n",
       "    .dataframe tbody tr th:only-of-type {\n",
       "        vertical-align: middle;\n",
       "    }\n",
       "\n",
       "    .dataframe tbody tr th {\n",
       "        vertical-align: top;\n",
       "    }\n",
       "\n",
       "    .dataframe thead th {\n",
       "        text-align: right;\n",
       "    }\n",
       "</style>\n",
       "<table border=\"1\" class=\"dataframe\">\n",
       "  <thead>\n",
       "    <tr style=\"text-align: right;\">\n",
       "      <th></th>\n",
       "      <th>sex</th>\n",
       "      <th>race</th>\n",
       "      <th>sexharass</th>\n",
       "      <th>smoking</th>\n",
       "      <th>vegetables</th>\n",
       "      <th>soda</th>\n",
       "      <th>breakfast</th>\n",
       "      <th>computer</th>\n",
       "      <th>sleepcat</th>\n",
       "      <th>racecat_white</th>\n",
       "    </tr>\n",
       "  </thead>\n",
       "  <tbody>\n",
       "    <tr>\n",
       "      <th>count</th>\n",
       "      <td>36220.000000</td>\n",
       "      <td>36220.000000</td>\n",
       "      <td>36220.000000</td>\n",
       "      <td>36220.000000</td>\n",
       "      <td>36220.000000</td>\n",
       "      <td>36220.000000</td>\n",
       "      <td>36220.000000</td>\n",
       "      <td>36220.000000</td>\n",
       "      <td>36220.000000</td>\n",
       "      <td>36220.000000</td>\n",
       "    </tr>\n",
       "    <tr>\n",
       "      <th>mean</th>\n",
       "      <td>1.481336</td>\n",
       "      <td>2.064633</td>\n",
       "      <td>1.186554</td>\n",
       "      <td>1.250028</td>\n",
       "      <td>2.556102</td>\n",
       "      <td>2.410574</td>\n",
       "      <td>5.098896</td>\n",
       "      <td>3.930204</td>\n",
       "      <td>0.248150</td>\n",
       "      <td>0.615130</td>\n",
       "    </tr>\n",
       "    <tr>\n",
       "      <th>std</th>\n",
       "      <td>0.499658</td>\n",
       "      <td>1.226763</td>\n",
       "      <td>0.631294</td>\n",
       "      <td>0.988877</td>\n",
       "      <td>1.360694</td>\n",
       "      <td>1.490681</td>\n",
       "      <td>2.657106</td>\n",
       "      <td>2.191636</td>\n",
       "      <td>0.431945</td>\n",
       "      <td>0.486571</td>\n",
       "    </tr>\n",
       "    <tr>\n",
       "      <th>min</th>\n",
       "      <td>1.000000</td>\n",
       "      <td>1.000000</td>\n",
       "      <td>1.000000</td>\n",
       "      <td>1.000000</td>\n",
       "      <td>1.000000</td>\n",
       "      <td>1.000000</td>\n",
       "      <td>1.000000</td>\n",
       "      <td>1.000000</td>\n",
       "      <td>0.000000</td>\n",
       "      <td>0.000000</td>\n",
       "    </tr>\n",
       "    <tr>\n",
       "      <th>25%</th>\n",
       "      <td>1.000000</td>\n",
       "      <td>1.000000</td>\n",
       "      <td>1.000000</td>\n",
       "      <td>1.000000</td>\n",
       "      <td>2.000000</td>\n",
       "      <td>1.000000</td>\n",
       "      <td>3.000000</td>\n",
       "      <td>2.000000</td>\n",
       "      <td>0.000000</td>\n",
       "      <td>0.000000</td>\n",
       "    </tr>\n",
       "    <tr>\n",
       "      <th>50%</th>\n",
       "      <td>1.000000</td>\n",
       "      <td>1.000000</td>\n",
       "      <td>1.000000</td>\n",
       "      <td>1.000000</td>\n",
       "      <td>2.000000</td>\n",
       "      <td>2.000000</td>\n",
       "      <td>5.000000</td>\n",
       "      <td>4.000000</td>\n",
       "      <td>0.000000</td>\n",
       "      <td>1.000000</td>\n",
       "    </tr>\n",
       "    <tr>\n",
       "      <th>75%</th>\n",
       "      <td>2.000000</td>\n",
       "      <td>3.000000</td>\n",
       "      <td>1.000000</td>\n",
       "      <td>1.000000</td>\n",
       "      <td>3.000000</td>\n",
       "      <td>3.000000</td>\n",
       "      <td>8.000000</td>\n",
       "      <td>6.000000</td>\n",
       "      <td>0.000000</td>\n",
       "      <td>1.000000</td>\n",
       "    </tr>\n",
       "    <tr>\n",
       "      <th>max</th>\n",
       "      <td>2.000000</td>\n",
       "      <td>4.000000</td>\n",
       "      <td>5.000000</td>\n",
       "      <td>7.000000</td>\n",
       "      <td>7.000000</td>\n",
       "      <td>7.000000</td>\n",
       "      <td>8.000000</td>\n",
       "      <td>7.000000</td>\n",
       "      <td>1.000000</td>\n",
       "      <td>1.000000</td>\n",
       "    </tr>\n",
       "  </tbody>\n",
       "</table>\n",
       "</div>"
      ],
      "text/plain": [
       "                sex          race     sexharass       smoking    vegetables  \\\n",
       "count  36220.000000  36220.000000  36220.000000  36220.000000  36220.000000   \n",
       "mean       1.481336      2.064633      1.186554      1.250028      2.556102   \n",
       "std        0.499658      1.226763      0.631294      0.988877      1.360694   \n",
       "min        1.000000      1.000000      1.000000      1.000000      1.000000   \n",
       "25%        1.000000      1.000000      1.000000      1.000000      2.000000   \n",
       "50%        1.000000      1.000000      1.000000      1.000000      2.000000   \n",
       "75%        2.000000      3.000000      1.000000      1.000000      3.000000   \n",
       "max        2.000000      4.000000      5.000000      7.000000      7.000000   \n",
       "\n",
       "               soda     breakfast      computer      sleepcat  racecat_white  \n",
       "count  36220.000000  36220.000000  36220.000000  36220.000000   36220.000000  \n",
       "mean       2.410574      5.098896      3.930204      0.248150       0.615130  \n",
       "std        1.490681      2.657106      2.191636      0.431945       0.486571  \n",
       "min        1.000000      1.000000      1.000000      0.000000       0.000000  \n",
       "25%        1.000000      3.000000      2.000000      0.000000       0.000000  \n",
       "50%        2.000000      5.000000      4.000000      0.000000       1.000000  \n",
       "75%        3.000000      8.000000      6.000000      0.000000       1.000000  \n",
       "max        7.000000      8.000000      7.000000      1.000000       1.000000  "
      ]
     },
     "execution_count": 117,
     "metadata": {},
     "output_type": "execute_result"
    }
   ],
   "source": [
    "df1.describe()"
   ]
  },
  {
   "cell_type": "code",
   "execution_count": 120,
   "metadata": {},
   "outputs": [
    {
     "name": "stdout",
     "output_type": "stream",
     "text": [
      "<class 'pandas.core.frame.DataFrame'>\n",
      "RangeIndex: 36220 entries, 0 to 36219\n",
      "Data columns (total 10 columns):\n",
      " #   Column         Non-Null Count  Dtype\n",
      "---  ------         --------------  -----\n",
      " 0   sex            36220 non-null  int64\n",
      " 1   race           36220 non-null  int64\n",
      " 2   sexharass      36220 non-null  int64\n",
      " 3   smoking        36220 non-null  int64\n",
      " 4   vegetables     36220 non-null  int64\n",
      " 5   soda           36220 non-null  int64\n",
      " 6   breakfast      36220 non-null  int64\n",
      " 7   computer       36220 non-null  int64\n",
      " 8   sleepcat       36220 non-null  int64\n",
      " 9   racecat_white  36220 non-null  uint8\n",
      "dtypes: int64(9), uint8(1)\n",
      "memory usage: 2.5 MB\n"
     ]
    }
   ],
   "source": [
    "df1.info()"
   ]
  },
  {
   "cell_type": "markdown",
   "metadata": {},
   "source": [
    "The model without the sexual harassment variable seems to tbe best performing model. The AIC score is a straight line."
   ]
  },
  {
   "cell_type": "markdown",
   "metadata": {},
   "source": [
    "<div style=\"text-align: right\"> <a href='#section_id0'>Back to top of Notebook</a></div>"
   ]
  },
  {
   "cell_type": "markdown",
   "metadata": {},
   "source": [
    "#### Backward elimination of variables\n",
    "* We start with the \"full\" model and elimiate in steps the least useful predictor according to statistical significance. \n",
    "* The elimination stops when all the remaining predictors make significant contributions to the model."
   ]
  },
  {
   "cell_type": "code",
   "execution_count": 109,
   "metadata": {},
   "outputs": [
    {
     "name": "stdout",
     "output_type": "stream",
     "text": [
      "Variables: sex, sexharass, smoking, vegetables, soda, breakfast, computer, racecat_white\n",
      "Start: score=31184.71\n",
      "Step: score=31184.71, remove None\n",
      "['sex', 'sexharass', 'smoking', 'vegetables', 'soda', 'breakfast', 'computer', 'racecat_white']\n"
     ]
    }
   ],
   "source": [
    "def train_model(variables):\n",
    "    model = sklm.LogisticRegression(solver='liblinear')\n",
    "    model.fit(train_X[variables], train_y)\n",
    "    return model\n",
    "\n",
    "def score_model(model, variables):\n",
    "    return AIC_score(train_y, model.predict(train_X[variables]), model)\n",
    "\n",
    "best_model, best_variables = backward_elimination(train_X2.columns, train_model, score_model, verbose=True)\n",
    "\n",
    "print(best_variables)"
   ]
  },
  {
   "cell_type": "code",
   "execution_count": 110,
   "metadata": {},
   "outputs": [
    {
     "name": "stdout",
     "output_type": "stream",
     "text": [
      "Confusion Matrix (Accuracy 0.7483)\n",
      "\n",
      "       Prediction\n",
      "Actual     0     1\n",
      "     0 10842     0\n",
      "     1  3646     0\n"
     ]
    }
   ],
   "source": [
    "classificationSummary(valid_y2, best_model.predict(valid_X2[best_variables]))"
   ]
  },
  {
   "cell_type": "markdown",
   "metadata": {},
   "source": [
    "<div style=\"text-align: right\"> <a href='#section_id0'>Back to top of Notebook</a></div>"
   ]
  },
  {
   "cell_type": "markdown",
   "metadata": {},
   "source": [
    "#### Forward selection\n",
    "* We start with the \"null\" model and keep adding predictors one-by-one. \n",
    "* Each added predictor wil be the one that makes the largest contribution to the R-squared value.\n",
    "* The algorithm stops when additional predictors dont make significant contribution."
   ]
  },
  {
   "cell_type": "code",
   "execution_count": 111,
   "metadata": {},
   "outputs": [
    {
     "data": {
      "text/plain": [
       "Index(['const', 'sex', 'sexharass', 'smoking', 'vegetables', 'soda',\n",
       "       'breakfast', 'computer', 'racecat_white'],\n",
       "      dtype='object')"
      ]
     },
     "execution_count": 111,
     "metadata": {},
     "output_type": "execute_result"
    }
   ],
   "source": [
    "train_X.columns"
   ]
  },
  {
   "cell_type": "code",
   "execution_count": 112,
   "metadata": {},
   "outputs": [
    {
     "data": {
      "text/plain": [
       "31182.712470527134"
      ]
     },
     "execution_count": 112,
     "metadata": {},
     "output_type": "execute_result"
    }
   ],
   "source": [
    "AIC_score(train_y, [train_y.mean()*0] * len(train_y), model, df=1)"
   ]
  },
  {
   "cell_type": "code",
   "execution_count": 113,
   "metadata": {},
   "outputs": [
    {
     "name": "stdout",
     "output_type": "stream",
     "text": [
      "Variables: const, sex, sexharass, smoking, vegetables, soda, breakfast, computer, racecat_white\n",
      "Start: score=31182.71, constant\n",
      "Step: score=31182.71, add None\n",
      "[]\n"
     ]
    }
   ],
   "source": [
    "# The initial model is the constant model - this requires special handling\n",
    "# in train_model and score_model\n",
    "def train_model(variables):\n",
    "    if len(variables) == 0:\n",
    "        return None\n",
    "    model = sklm.LogisticRegression(solver='liblinear')\n",
    "    model.fit(train_X[variables], train_y)\n",
    "    return model\n",
    "\n",
    "def score_model(model, variables):\n",
    "    if len(variables) == 0:\n",
    "        return AIC_score(train_y, [train_y.mean()*0] * len(train_y), model, df=1)\n",
    "    return AIC_score(train_y, model.predict(train_X[variables]), model)\n",
    "\n",
    "best_model, best_variables = forward_selection(train_X.columns, train_model, score_model, verbose=True)\n",
    "\n",
    "print(best_variables)"
   ]
  },
  {
   "cell_type": "markdown",
   "metadata": {},
   "source": [
    "<div style=\"text-align: right\"> <a href='#section_id0'>Back to top of Notebook</a></div>"
   ]
  },
  {
   "cell_type": "markdown",
   "metadata": {},
   "source": [
    "#### Stepwise selection\n",
    "* It works like forward selection, but we drop variables that are not statistically significant at each step (similar to backward elimination)."
   ]
  },
  {
   "cell_type": "code",
   "execution_count": 115,
   "metadata": {},
   "outputs": [
    {
     "name": "stdout",
     "output_type": "stream",
     "text": [
      "Variables: const, sex, sexharass, smoking, vegetables, soda, breakfast, computer, racecat_white\n",
      "Start: score=31182.71, constant\n",
      "Step: score=31182.71, unchanged None\n",
      "[]\n"
     ]
    }
   ],
   "source": [
    "best_model, best_variables = stepwise_selection(train_X.columns, train_model, score_model, verbose=True)\n",
    "print(best_variables)"
   ]
  },
  {
   "cell_type": "markdown",
   "metadata": {},
   "source": [
    "* No variable is selected in forward selectio and stepwise selection, meaning the base model (i.e., just the average or the naive prediction) turns out to be better than a model with more variables. That is, there is no valuable information (in terms of prediction) to be gained from adding variables.  "
   ]
  },
  {
   "cell_type": "markdown",
   "metadata": {},
   "source": [
    "<div style=\"text-align: right\"> <a href='#section_id0'>Back to top of Notebook</a></div>"
   ]
  },
  {
   "cell_type": "markdown",
   "metadata": {},
   "source": [
    "<a id='section_id8'></a>\n",
    "### <span style=\"background-color:#B0E0E6\">Regularization in Logit</span>\n",
    "* The solvers handle the penalties to help with regularization. Refer to [the documentation](https://scikit-learn.org/stable/modules/generated/sklearn.linear_model.LogisticRegression.html)\n",
    "* ‘liblinear’ and ‘saga’ handle L1 penalty\n",
    "* newton-cg’, ‘lbfgs’, ‘sag’ and ‘saga’ handle L2 and no penalty"
   ]
  },
  {
   "cell_type": "code",
   "execution_count": 357,
   "metadata": {},
   "outputs": [
    {
     "data": {
      "text/plain": [
       "LogisticRegressionCV(Cs=10, class_weight=None, cv=5, dual=False,\n",
       "                     fit_intercept=True, intercept_scaling=1.0, l1_ratios=None,\n",
       "                     max_iter=100, multi_class='auto', n_jobs=None,\n",
       "                     penalty='l1', random_state=None, refit=True, scoring=None,\n",
       "                     solver='liblinear', tol=0.0001, verbose=0)"
      ]
     },
     "execution_count": 357,
     "metadata": {},
     "output_type": "execute_result"
    }
   ],
   "source": [
    "# split into training and validation\n",
    "logitcv = sklm.LogisticRegressionCV(penalty=\"l1\", solver='liblinear', cv=5)\n",
    "logitcv.fit(train_X, train_y)"
   ]
  },
  {
   "cell_type": "code",
   "execution_count": 358,
   "metadata": {},
   "outputs": [
    {
     "name": "stdout",
     "output_type": "stream",
     "text": [
      "Confusion Matrix (Accuracy 0.7483)\n",
      "\n",
      "       Prediction\n",
      "Actual     0     1\n",
      "     0 10842     0\n",
      "     1  3646     0\n"
     ]
    }
   ],
   "source": [
    "# confusion matrix\n",
    "classificationSummary(valid_y, logitcv.predict(valid_X))"
   ]
  },
  {
   "cell_type": "code",
   "execution_count": 359,
   "metadata": {},
   "outputs": [
    {
     "name": "stdout",
     "output_type": "stream",
     "text": [
      "Classification Report:\n",
      "               precision    recall  f1-score   support\n",
      "\n",
      "           0       0.75      1.00      0.86     10842\n",
      "           1       0.00      0.00      0.00      3646\n",
      "\n",
      "    accuracy                           0.75     14488\n",
      "   macro avg       0.37      0.50      0.43     14488\n",
      "weighted avg       0.56      0.75      0.64     14488\n",
      "\n"
     ]
    },
    {
     "name": "stderr",
     "output_type": "stream",
     "text": [
      "C:\\Users\\edwar\\anaconda3\\lib\\site-packages\\sklearn\\metrics\\_classification.py:1272: UndefinedMetricWarning: Precision and F-score are ill-defined and being set to 0.0 in labels with no predicted samples. Use `zero_division` parameter to control this behavior.\n",
      "  _warn_prf(average, modifier, msg_start, len(result))\n"
     ]
    }
   ],
   "source": [
    "print(\"Classification Report:\\n\",classification_report(valid_y, logitcv.predict(valid_X)))"
   ]
  },
  {
   "cell_type": "code",
   "execution_count": 360,
   "metadata": {},
   "outputs": [
    {
     "data": {
      "text/plain": [
       "<matplotlib.axes._subplots.AxesSubplot at 0x127e1f8dd48>"
      ]
     },
     "execution_count": 360,
     "metadata": {},
     "output_type": "execute_result"
    },
    {
     "data": {
      "image/png": "[encoded data removed]",
      "text/plain": [
       "<Figure size 288x288 with 2 Axes>"
      ]
     },
     "metadata": {},
     "output_type": "display_data"
    }
   ],
   "source": [
    "skplt.metrics.plot_confusion_matrix(valid_y, logitcv.predict(valid_X), figsize=(4,4), cmap=\"YlGnBu\")"
   ]
  },
  {
   "cell_type": "markdown",
   "metadata": {},
   "source": [
    "* regularization regression also suggests base model (i.e., just the average or the naive prediction) turns out to be better.  "
   ]
  },
  {
   "cell_type": "markdown",
   "metadata": {},
   "source": [
    "<div style=\"text-align: right\"> <a href='#section_id0'>Back to top of Notebook</a></div>"
   ]
  },
  {
   "cell_type": "markdown",
   "metadata": {},
   "source": [
    "<a id='section_id11'></a>\n",
    "### <span style=\"background-color:#B0E0E6\">References:</span>"
   ]
  },
  {
   "cell_type": "markdown",
   "metadata": {},
   "source": [
    "* Chapter 10 of _Datamining for Business Analytics_. [Access through Pitt library](https://pitt.summon.serialssolutions.com/#!/search?bookMark=ePnHCXMw42JgAfZbU5khpymBDxSztADNrHEZgbYtA2tc0K0CXMBq3gRYkwA7SJwMSi6JJYkKueALERSATTUF6P2LxQqJoIM5QMcV8zCwpgGjI5WXgaWkqBRYcEq7uYY4e-iCDkeKhw50xAPTkpmJBejiIfyyKlhkYXM9QGVA95qYGQMA-383uA)\n",
    "* Another book I like is: [Introduction to Statistical Learning](http://faculty.marshall.usc.edu/gareth-james/ISL/). The ISL book provides intuitive and \"math-lite\" explanations for many concepts. \n",
    "    * The ISL book uses \"R for lab exercises,\" but the concepts covered are independent of the programming language.\n",
    "    * [The videos](https://www.dataschool.io/15-hours-of-expert-machine-learning-videos/) from the authors of the ISL book are a great resource.\n",
    "    * Another book, [Elements of Statistical Learning](https://web.stanford.edu/~hastie/ElemStatLearn/), has more advanced treatment of the topics covered by ISL.\n",
    "\n",
    "***"
   ]
  },
  {
   "cell_type": "markdown",
   "metadata": {},
   "source": [
    "<font color=\"#610B21\"><center>\\~\\~ End of Part-3. We'll discuss KNN in Part-4\\~\\~ </center>\n",
    "<font color=\"#0B610B\"><center>\\*\\* **See you later!**\\*\\* </center>\n",
    "***"
   ]
  },
  {
   "cell_type": "code",
   "execution_count": null,
   "metadata": {},
   "outputs": [],
   "source": []
  }
 ],
 "metadata": {
  "kernelspec": {
   "display_name": "Python 3",
   "language": "python",
   "name": "python3"
  },
  "language_info": {
   "codemirror_mode": {
    "name": "ipython",
    "version": 3
   },
   "file_extension": ".py",
   "mimetype": "text/x-python",
   "name": "python",
   "nbconvert_exporter": "python",
   "pygments_lexer": "ipython3",
   "version": "3.7.6"
  }
 },
 "nbformat": 4,
 "nbformat_minor": 4
}
