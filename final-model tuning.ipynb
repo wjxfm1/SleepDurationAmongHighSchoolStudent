{
 "cells": [
  {
   "cell_type": "markdown",
   "metadata": {},
   "source": [
    "<a id='section_id0'></a>\n",
    "***\n",
    "\n",
    "# Data Programming Essentials *with Python*\n",
    "\n",
    "\n",
    "## Prediction Approaches: Model Tuning\n",
    "\n",
    "***\n",
    "Topics in this Notebook:\n",
    "\n",
    "* [Topic 1: Tuning linear regression prediction model](#section_id1)<br>\n",
    "* [Topic 2: Tuning logistic regression prediction model](#section_id2)<br>\n",
    "* [Topic 3: Tuning KNN prediction model](#section_id3)<br>\n",
    "* [Topic 4: Tuning tree-based prediction models](#section_id4)<br>\n",
    "***\n",
    "\n",
    "***\n",
    "### Summary of steps in our prediction workflow:\n",
    "1. Clean and pre-process data\n",
    "2. Explore patterns in data\n",
    "  * Identify options for investigations / story lines / narratives\n",
    "  * Are you interested in explaining or predicting or both?\n",
    "  * Is your dependent variable (predicted/response) continuous (regression problem) or categorical (classification problem)?\n",
    "3. Train the models\n",
    "  * Linear regression\n",
    "  * Logistic regression\n",
    "  * KNN\n",
    "  * Naive Bayes\n",
    "  * Tree-based approaches: Bagging, RandomForest, and Boosting\n",
    "  * <span style=\"background-color:Gold\">Advanced: Utilize GridSearchCV for model tuning (which is the topic of this notebook)</span>\n",
    "4. Evaluate models through k-fold cross-validation\n",
    "  * Regression problem metric: RMSE derived by comparing predicted values with actuals\n",
    "  * Classification problem metric: Accuracy derived from the confusion matrix\n",
    "***   \n",
    "### Reference\n",
    "* Our go to library for prediction is SciKit-Learn. [A comprehensive guide](https://scikit-learn.org/stable/user_guide.html) for SciKit-Learn is available.\n",
    "* The GridSearchCV and other methods for [model tuning is documented here](https://scikit-learn.org/stable/modules/grid_search.html)\n",
    "***"
   ]
  },
  {
   "cell_type": "markdown",
   "metadata": {},
   "source": [
    "Preliminaries: loading libraries and reading the datasets into memory"
   ]
  },
  {
   "cell_type": "code",
   "execution_count": 1,
   "metadata": {},
   "outputs": [],
   "source": [
    "import pandas as pd\n",
    "import numpy as np\n",
    "import scipy as sp"
   ]
  },
  {
   "cell_type": "code",
   "execution_count": 2,
   "metadata": {},
   "outputs": [
    {
     "name": "stdout",
     "output_type": "stream",
     "text": [
      "no display found. Using non-interactive Agg backend\n"
     ]
    }
   ],
   "source": [
    "# for regressions:\n",
    "import statsmodels.api as sm\n",
    "import statsmodels.formula.api as smf\n",
    "import sklearn.linear_model as sklm\n",
    "\n",
    "# for KNN:\n",
    "from sklearn.neighbors import KNeighborsClassifier\n",
    "from sklearn.neighbors import KNeighborsRegressor\n",
    "\n",
    "#for model evaluation and pre-processing tools:\n",
    "from sklearn import preprocessing\n",
    "from sklearn.model_selection import KFold\n",
    "from sklearn.metrics import mean_squared_error, r2_score\n",
    "from sklearn.metrics import confusion_matrix, classification_report, precision_score, \\\n",
    "                            accuracy_score, roc_curve, roc_auc_score\n",
    "from sklearn.model_selection import train_test_split, cross_validate, cross_val_score\n",
    "\n",
    "#for modeling with decision trees:\n",
    "from sklearn.tree import DecisionTreeRegressor, DecisionTreeClassifier, export_graphviz\n",
    "from sklearn.ensemble import BaggingClassifier, RandomForestClassifier, BaggingRegressor, \\\n",
    "    RandomForestRegressor, GradientBoostingRegressor, GradientBoostingClassifier\n",
    "\n",
    "#for model tuning:\n",
    "from sklearn.preprocessing import PolynomialFeatures\n",
    "from sklearn.model_selection import GridSearchCV\n",
    "from sklearn.model_selection import RandomizedSearchCV\n",
    "from sklearn.pipeline import make_pipeline\n",
    "from sklearn.pipeline import Pipeline\n",
    "\n",
    "#for plotting confusion matrix:\n",
    "import scikitplot as skplt\n",
    "\n",
    "#for plotting decision trees\n",
    "import pydotplus as pplus\n",
    "import graphviz\n",
    "from IPython.display import Image\n",
    "from six import StringIO\n",
    "\n",
    "#dmba stuff\n",
    "from dmba import regressionSummary, exhaustive_search\n",
    "from dmba import adjusted_r2_score, AIC_score, BIC_score\n",
    "from dmba import classificationSummary, gainsChart, liftChart, plotDecisionTree"
   ]
  },
  {
   "cell_type": "code",
   "execution_count": 3,
   "metadata": {},
   "outputs": [],
   "source": [
    "import seaborn as sns\n",
    "sns.set_style(\"whitegrid\")\n",
    "sns.set_context(\"notebook\", font_scale=1, rc={\"lines.linewidth\": 2,'font.family': [u'times']})\n",
    "import matplotlib.pylab as plt\n",
    "%matplotlib inline \n",
    "plt.style.use('seaborn-whitegrid')\n",
    "plt.rc('text', usetex = False)\n",
    "plt.rc('font', family = 'serif')\n",
    "plt.rc('xtick', labelsize = 10) \n",
    "plt.rc('ytick', labelsize = 10) \n",
    "plt.rc('font', size = 12) \n",
    "plt.rc('figure', figsize = (12, 5))"
   ]
  },
  {
   "cell_type": "code",
   "execution_count": 4,
   "metadata": {},
   "outputs": [],
   "source": [
    "# sometimes, the following is also needed to get the visualization to work\n",
    "# Here, we get the path variable of the graphviz package installed in your machine.\n",
    "import os\n",
    "os.environ['PATH'] = os.environ['PATH']+';'+os.environ['CONDA_PREFIX']+r\"\\Library\\bin\\graphviz\""
   ]
  },
  {
   "cell_type": "markdown",
   "metadata": {},
   "source": [
    "We use the function in the cell below for visualizing the decision trees:"
   ]
  },
  {
   "cell_type": "code",
   "execution_count": 5,
   "metadata": {},
   "outputs": [],
   "source": [
    "#This function helps with drawing decision trees using the pydotplus and graphviz libraries\n",
    "def print_tree(estimator, features, class_names=None, filled=True):\n",
    "    tree = estimator\n",
    "    names = features\n",
    "    color = filled\n",
    "    classn = class_names\n",
    "    \n",
    "    dot_data = StringIO()\n",
    "    export_graphviz(estimator, out_file=dot_data, feature_names=features, class_names=classn, filled=filled)\n",
    "    graph = pplus.graph_from_dot_data(dot_data.getvalue())\n",
    "    return(graph)"
   ]
  },
  {
   "cell_type": "markdown",
   "metadata": {},
   "source": [
    "As usual, we'll read datasets using Pandas, even though Scikit doesn't natively work with Pandas data structures."
   ]
  },
  {
   "cell_type": "code",
   "execution_count": 6,
   "metadata": {},
   "outputs": [],
   "source": [
    "df1 = pd.read_csv('sleeping.csv')"
   ]
  },
  {
   "cell_type": "markdown",
   "metadata": {},
   "source": [
    "|Variable|Description|\n",
    "|:------|:------|\n",
    "|sleeping|sleep hours on an average shcool night: 1=<4 hrs, 2=5 hrs, 3=6 hrs, 4=7 hrs, 5=8 hrs, 6=9 hrs, 7= >=10 hrs|\n",
    "|sex|1=Female, 2=Male|\n",
    "|race|1=White, 2=Black or African American, 3=Hispanic/Latino, 4=All other races|\n",
    "|sexharass|sexual harassment during the past 12 months: 1=0 times, 2=1 time, 3=2 or 3 times, 4=4 or 5 times, 5=6 or more times|\n",
    "|smoking|smoke cigarettes during the past 30 days: 1=0 days, 2=1 or 2 days, 3=3 to 5 days, 4= 6 to 9 days, 5=10 to 19 days, 6=20 to 29 days, 7=all 30 days|\n",
    "|vegetables|eating other vegetables(do not count green salad, potatoes, or carrots) during the past 7 days: 1=0 times, 2=1 to 3 times, 3=4 to 6 times, 4=1 time/day, 5=2 times/day, 6=3 times/day, 7=>= 4 times/day|\n",
    "|soda|drinking soda or pop during past 7 days: 1= 0 times, 2=1 to 3 times, 3=4 to 6 times, 4=1 time/day, 5=2 times/day, 6=3 times/day, 7=>=4 times/day |\n",
    "|breakfast|days of eating breakfast per week: 1=0 day, 2=1 day, 3=2 days, 4=3 days, 5= 4 days, 6=5 days, 7=6 days, 8= 7 days|\n",
    "|computer|hours of playing computer games or something that is not school work per day: 1=0 hrs, 2=<1 hr, 3=1 hr, 4=2 hrs, 5=3 hrs, 6=4 hrs, 7=>=5 hrs|"
   ]
  },
  {
   "cell_type": "markdown",
   "metadata": {},
   "source": [
    "***\n",
    "<Mark>Navigation:</Mark><br>\n",
    "* [Topic 1: Tuning linear regression prediction model](#section_id1)<br>\n",
    "* [Topic 2: Tuning logistic regression prediction model](#section_id2)<br>\n",
    "* [Topic 3: Tuning KNN prediction model](#section_id3)<br>\n",
    "* [Topic 4: Tuning tree-based prediction models](#section_id4)<br>\n",
    "***"
   ]
  },
  {
   "cell_type": "markdown",
   "metadata": {},
   "source": [
    "<div style=\"text-align: right\"> <a href='#section_id0'>Back to top of Notebook</a></div>"
   ]
  },
  {
   "cell_type": "markdown",
   "metadata": {},
   "source": [
    "<a id='section_id1'></a>\n",
    "### <span style=\"background-color:#B0E0E6\">Topic 1: Tuning linear regression models (e.g., polynomials, interactions)</span>"
   ]
  },
  {
   "cell_type": "code",
   "execution_count": 7,
   "metadata": {},
   "outputs": [],
   "source": [
    "# First, define the X (predictor/independent) and the Y (predicted/dependent) variables:\n",
    "# SciKit doesn't work with Pandas dataframes, so we just need the matrix of values in the dataframe.\n",
    "\n",
    "X=df1[['sex', 'race', 'sexharass', 'smoking', 'vegetables', 'soda', 'breakfast', 'computer']].values\n",
    "Y=df1.sleeping"
   ]
  },
  {
   "cell_type": "code",
   "execution_count": 10,
   "metadata": {},
   "outputs": [
    {
     "name": "stdout",
     "output_type": "stream",
     "text": [
      "(27165, 8) (27165,)\n",
      "(9055, 8) (9055,)\n"
     ]
    }
   ],
   "source": [
    "# Second, split the data into training and test portions:\n",
    "# I am using 25% of data for testing and 75% for training.\n",
    "\n",
    "X_train, X_test, Y_train, Y_test = train_test_split(X, Y, test_size=0.25, random_state=7)\n",
    "print(X_train.shape, Y_train.shape)\n",
    "print(X_test.shape, Y_test.shape)"
   ]
  },
  {
   "cell_type": "markdown",
   "metadata": {},
   "source": [
    "#### Getting Polynomial features"
   ]
  },
  {
   "cell_type": "markdown",
   "metadata": {},
   "source": [
    "SciKit [documentation on polynomial features](https://scikit-learn.org/stable/modules/generated/sklearn.preprocessing.PolynomialFeatures.html)"
   ]
  },
  {
   "cell_type": "code",
   "execution_count": 11,
   "metadata": {},
   "outputs": [],
   "source": [
    "poly_features = PolynomialFeatures(degree=2, interaction_only=False, include_bias=False)"
   ]
  },
  {
   "cell_type": "code",
   "execution_count": 12,
   "metadata": {},
   "outputs": [],
   "source": [
    "X_poly = poly_features.fit_transform(X)"
   ]
  },
  {
   "cell_type": "code",
   "execution_count": 13,
   "metadata": {},
   "outputs": [
    {
     "data": {
      "text/plain": [
       "array([2, 3, 1, 1, 2, 1, 1, 2], dtype=int64)"
      ]
     },
     "execution_count": 13,
     "metadata": {},
     "output_type": "execute_result"
    }
   ],
   "source": [
    "X[1]"
   ]
  },
  {
   "cell_type": "code",
   "execution_count": 14,
   "metadata": {},
   "outputs": [
    {
     "data": {
      "text/plain": [
       "array([2., 3., 1., 1., 2., 1., 1., 2., 4., 6., 2., 2., 4., 2., 2., 4., 9.,\n",
       "       3., 3., 6., 3., 3., 6., 1., 1., 2., 1., 1., 2., 1., 2., 1., 1., 2.,\n",
       "       4., 2., 2., 4., 1., 1., 2., 1., 2., 4.])"
      ]
     },
     "execution_count": 14,
     "metadata": {},
     "output_type": "execute_result"
    }
   ],
   "source": [
    "X_poly[1] #includes the "
   ]
  },
  {
   "cell_type": "markdown",
   "metadata": {},
   "source": [
    "If you need only the interaction variables, use the \"interaction_only\" parameter:"
   ]
  },
  {
   "cell_type": "code",
   "execution_count": 15,
   "metadata": {},
   "outputs": [],
   "source": [
    "poly_features_int = PolynomialFeatures(degree=2, interaction_only=True, include_bias=False)"
   ]
  },
  {
   "cell_type": "code",
   "execution_count": 16,
   "metadata": {},
   "outputs": [],
   "source": [
    "X_poly_int=poly_features_int.fit_transform(X)"
   ]
  },
  {
   "cell_type": "code",
   "execution_count": 17,
   "metadata": {},
   "outputs": [
    {
     "data": {
      "text/plain": [
       "array([2., 3., 1., 1., 2., 1., 1., 2., 6., 2., 2., 4., 2., 2., 4., 3., 3.,\n",
       "       6., 3., 3., 6., 1., 2., 1., 1., 2., 2., 1., 1., 2., 2., 2., 4., 1.,\n",
       "       2., 2.])"
      ]
     },
     "execution_count": 17,
     "metadata": {},
     "output_type": "execute_result"
    }
   ],
   "source": [
    "X_poly_int[1]"
   ]
  },
  {
   "cell_type": "markdown",
   "metadata": {},
   "source": [
    "#### Grid search on polynomial regression: which order polynomial gets good predictions?"
   ]
  },
  {
   "cell_type": "code",
   "execution_count": 19,
   "metadata": {},
   "outputs": [],
   "source": [
    "#define the polynomial regression using the pipeline function in preprocessing:\n",
    "\n",
    "def PolyReg(degree=2, **kwargs):\n",
    "    return make_pipeline(PolynomialFeatures(degree), sklm.LinearRegression(**kwargs))"
   ]
  },
  {
   "cell_type": "code",
   "execution_count": 20,
   "metadata": {},
   "outputs": [],
   "source": [
    "# set the gridsearch parameter: search from degrees 0 through 7:\n",
    "\n",
    "param_grid={'polynomialfeatures__degree': np.arange(7)}"
   ]
  },
  {
   "cell_type": "code",
   "execution_count": 21,
   "metadata": {},
   "outputs": [],
   "source": [
    "# define the gridsearch:\n",
    "\n",
    "poly_grid = GridSearchCV(PolyReg(), param_grid, cv=5, scoring='neg_mean_squared_error')"
   ]
  },
  {
   "cell_type": "code",
   "execution_count": 22,
   "metadata": {},
   "outputs": [
    {
     "name": "stderr",
     "output_type": "stream",
     "text": [
      "C:\\Users\\edwar\\anaconda3\\lib\\site-packages\\sklearn\\model_selection\\_validation.py:536: FitFailedWarning: Estimator fit failed. The score on this train-test partition for these parameters will be set to nan. Details: \n",
      "ValueError: could not broadcast input array from shape (21732,8) into shape (21732,0)\n",
      "\n",
      "  FitFailedWarning)\n",
      "C:\\Users\\edwar\\anaconda3\\lib\\site-packages\\sklearn\\model_selection\\_validation.py:536: FitFailedWarning: Estimator fit failed. The score on this train-test partition for these parameters will be set to nan. Details: \n",
      "ValueError: could not broadcast input array from shape (21732,8) into shape (21732,0)\n",
      "\n",
      "  FitFailedWarning)\n",
      "C:\\Users\\edwar\\anaconda3\\lib\\site-packages\\sklearn\\model_selection\\_validation.py:536: FitFailedWarning: Estimator fit failed. The score on this train-test partition for these parameters will be set to nan. Details: \n",
      "ValueError: could not broadcast input array from shape (21732,8) into shape (21732,0)\n",
      "\n",
      "  FitFailedWarning)\n",
      "C:\\Users\\edwar\\anaconda3\\lib\\site-packages\\sklearn\\model_selection\\_validation.py:536: FitFailedWarning: Estimator fit failed. The score on this train-test partition for these parameters will be set to nan. Details: \n",
      "ValueError: could not broadcast input array from shape (21732,8) into shape (21732,0)\n",
      "\n",
      "  FitFailedWarning)\n",
      "C:\\Users\\edwar\\anaconda3\\lib\\site-packages\\sklearn\\model_selection\\_validation.py:536: FitFailedWarning: Estimator fit failed. The score on this train-test partition for these parameters will be set to nan. Details: \n",
      "ValueError: could not broadcast input array from shape (21732,8) into shape (21732,0)\n",
      "\n",
      "  FitFailedWarning)\n"
     ]
    },
    {
     "data": {
      "text/plain": [
       "GridSearchCV(cv=5, error_score=nan,\n",
       "             estimator=Pipeline(memory=None,\n",
       "                                steps=[('polynomialfeatures',\n",
       "                                        PolynomialFeatures(degree=2,\n",
       "                                                           include_bias=True,\n",
       "                                                           interaction_only=False,\n",
       "                                                           order='C')),\n",
       "                                       ('linearregression',\n",
       "                                        LinearRegression(copy_X=True,\n",
       "                                                         fit_intercept=True,\n",
       "                                                         n_jobs=None,\n",
       "                                                         normalize=False))],\n",
       "                                verbose=False),\n",
       "             iid='deprecated', n_jobs=None,\n",
       "             param_grid={'polynomialfeatures__degree': array([0, 1, 2, 3, 4, 5, 6])},\n",
       "             pre_dispatch='2*n_jobs', refit=True, return_train_score=False,\n",
       "             scoring='neg_mean_squared_error', verbose=0)"
      ]
     },
     "execution_count": 22,
     "metadata": {},
     "output_type": "execute_result"
    }
   ],
   "source": [
    "#fit the gridsearch:\n",
    "\n",
    "poly_grid.fit(X_train, Y_train)"
   ]
  },
  {
   "cell_type": "code",
   "execution_count": 23,
   "metadata": {},
   "outputs": [
    {
     "data": {
      "text/plain": [
       "{'mean_fit_time': array([1.33985043e-02, 6.05914593e-02, 8.85229588e-02, 3.29734468e-01,\n",
       "        1.14007540e+00, 4.22153010e+00, 2.51838248e+01]),\n",
       " 'std_fit_time': array([0.00134956, 0.06080629, 0.00849692, 0.01980137, 0.1499019 ,\n",
       "        0.26504886, 0.70166306]),\n",
       " 'mean_score_time': array([0.        , 0.00362287, 0.00652437, 0.02678595, 0.05832515,\n",
       "        0.13453012, 0.28013344]),\n",
       " 'std_score_time': array([0.        , 0.00205885, 0.00242382, 0.00538645, 0.00848884,\n",
       "        0.00780172, 0.00352711]),\n",
       " 'param_polynomialfeatures__degree': masked_array(data=[0, 1, 2, 3, 4, 5, 6],\n",
       "              mask=[False, False, False, False, False, False, False],\n",
       "        fill_value='?',\n",
       "             dtype=object),\n",
       " 'params': [{'polynomialfeatures__degree': 0},\n",
       "  {'polynomialfeatures__degree': 1},\n",
       "  {'polynomialfeatures__degree': 2},\n",
       "  {'polynomialfeatures__degree': 3},\n",
       "  {'polynomialfeatures__degree': 4},\n",
       "  {'polynomialfeatures__degree': 5},\n",
       "  {'polynomialfeatures__degree': 6}],\n",
       " 'split0_test_score': array([            nan, -1.76430682e+00, -1.76522282e+00, -1.76243712e+00,\n",
       "        -1.78662643e+00, -2.04550589e+00, -3.89230881e+06]),\n",
       " 'split1_test_score': array([            nan, -1.79782484e+00, -1.77024593e+00, -1.77912718e+00,\n",
       "        -1.80592878e+00, -2.23261922e+00, -6.77797562e+03]),\n",
       " 'split2_test_score': array([            nan, -1.80662223e+00, -1.79178017e+00, -1.79353549e+00,\n",
       "        -1.81647762e+00, -2.16507854e+00, -3.42607842e+03]),\n",
       " 'split3_test_score': array([            nan, -1.76742267e+00, -1.75412188e+00, -1.76031279e+00,\n",
       "        -1.80290734e+00, -2.08715448e+00, -7.70776408e+11]),\n",
       " 'split4_test_score': array([            nan, -1.80355691e+00, -1.79274510e+00, -1.78581915e+00,\n",
       "        -1.81420278e+00, -2.26407779e+00, -5.54763977e+03]),\n",
       " 'mean_test_score': array([            nan, -1.78794669e+00, -1.77482318e+00, -1.77624635e+00,\n",
       "        -1.80522859e+00, -2.15888718e+00, -1.54156063e+11]),\n",
       " 'std_test_score': array([           nan, 1.82762780e-02, 1.51683663e-02, 1.29878813e-02,\n",
       "        1.05735110e-02, 8.31152324e-02, 3.08310172e+11]),\n",
       " 'rank_test_score': array([7, 3, 1, 2, 4, 5, 6])}"
      ]
     },
     "execution_count": 23,
     "metadata": {},
     "output_type": "execute_result"
    }
   ],
   "source": [
    "#get the cross validation results from the gridsearch:\n",
    "\n",
    "poly_grid.cv_results_"
   ]
  },
  {
   "cell_type": "code",
   "execution_count": 24,
   "metadata": {},
   "outputs": [
    {
     "data": {
      "text/plain": [
       "array([            nan, -1.78794669e+00, -1.77482318e+00, -1.77624635e+00,\n",
       "       -1.80522859e+00, -2.15888718e+00, -1.54156063e+11])"
      ]
     },
     "execution_count": 24,
     "metadata": {},
     "output_type": "execute_result"
    }
   ],
   "source": [
    "#Mean negative-MSE scores across the different runs of the CV:\n",
    "poly_grid.cv_results_['mean_test_score']"
   ]
  },
  {
   "cell_type": "code",
   "execution_count": 25,
   "metadata": {},
   "outputs": [
    {
     "data": {
      "text/plain": [
       "{'polynomialfeatures__degree': 2}"
      ]
     },
     "execution_count": 25,
     "metadata": {},
     "output_type": "execute_result"
    }
   ],
   "source": [
    "#which degree gave the best results?\n",
    "\n",
    "poly_grid.best_params_"
   ]
  },
  {
   "cell_type": "code",
   "execution_count": 26,
   "metadata": {},
   "outputs": [
    {
     "data": {
      "text/plain": [
       "Pipeline(memory=None,\n",
       "         steps=[('polynomialfeatures',\n",
       "                 PolynomialFeatures(degree=2, include_bias=True,\n",
       "                                    interaction_only=False, order='C')),\n",
       "                ('linearregression',\n",
       "                 LinearRegression(copy_X=True, fit_intercept=True, n_jobs=None,\n",
       "                                  normalize=False))],\n",
       "         verbose=False)"
      ]
     },
     "execution_count": 26,
     "metadata": {},
     "output_type": "execute_result"
    }
   ],
   "source": [
    "#which is the best parameter?\n",
    "\n",
    "poly_grid.best_estimator_"
   ]
  },
  {
   "cell_type": "code",
   "execution_count": 27,
   "metadata": {},
   "outputs": [
    {
     "data": {
      "text/plain": [
       "3.5010595255561503"
      ]
     },
     "execution_count": 27,
     "metadata": {},
     "output_type": "execute_result"
    }
   ],
   "source": [
    "#getting the coefficients from the best estimator: \n",
    "\n",
    "poly_grid.best_estimator_.steps[1][1].intercept_"
   ]
  },
  {
   "cell_type": "code",
   "execution_count": 28,
   "metadata": {},
   "outputs": [
    {
     "data": {
      "text/plain": [
       "array([-4.88481871e-17, -1.25385341e-04, -3.89706908e-01, -5.50116090e-01,\n",
       "       -6.45088343e-02,  1.07712473e-02,  7.45593634e-02,  1.51301313e-01,\n",
       "        1.57394997e-01, -3.76156022e-04, -1.82693535e-02, -4.50039513e-03,\n",
       "       -5.19706855e-02,  3.27417560e-02,  7.73807153e-03,  1.71052484e-02,\n",
       "        1.71006399e-03,  5.56328693e-02,  6.63943390e-03,  7.44715705e-03,\n",
       "        9.60300719e-03,  1.60177634e-02, -3.13093790e-04,  1.30687995e-03,\n",
       "        5.58267606e-02, -4.73872295e-03,  1.04306116e-02, -4.25356223e-03,\n",
       "        1.46290828e-02,  1.50935440e-02,  1.77294337e-03,  2.45167496e-03,\n",
       "        6.93659867e-03, -2.62338981e-03,  2.83504945e-03, -3.68904935e-03,\n",
       "       -4.29995066e-03, -3.72025423e-03, -8.75862009e-03, -1.34111828e-02,\n",
       "       -4.94669891e-03, -4.61085345e-03, -8.16521306e-04, -8.96016133e-03,\n",
       "       -1.80177147e-02])"
      ]
     },
     "execution_count": 28,
     "metadata": {},
     "output_type": "execute_result"
    }
   ],
   "source": [
    "poly_grid.best_estimator_.steps[1][1].coef_"
   ]
  },
  {
   "cell_type": "code",
   "execution_count": 29,
   "metadata": {},
   "outputs": [],
   "source": [
    "#get the predictions from the best estimator for the test sample:\n",
    "\n",
    "poly_predictions_tt=poly_grid.best_estimator_.predict(X_test)"
   ]
  },
  {
   "cell_type": "code",
   "execution_count": 30,
   "metadata": {},
   "outputs": [
    {
     "data": {
      "text/plain": [
       "1.327636433826819"
      ]
     },
     "execution_count": 30,
     "metadata": {},
     "output_type": "execute_result"
    }
   ],
   "source": [
    "# How good is the prediction for the test sample?\n",
    "\n",
    "np.sqrt(np.square(poly_predictions_tt-Y_test).mean())"
   ]
  },
  {
   "cell_type": "markdown",
   "metadata": {},
   "source": [
    "<Mark>Interpretation:</Mark> Suppose, sleeping duration is measured in hours, our prediction using the second order polynomial with interaction effects is deviant from the actual values by about 1.3 hours, on average, for the test sample.<br> \n",
    "Looking at the spread of sales (see boxplot below), which is in the range of 8 hours per shool night, the prediction does seem pretty good."
   ]
  },
  {
   "cell_type": "code",
   "execution_count": 31,
   "metadata": {},
   "outputs": [
    {
     "data": {
      "image/png": "[encoded data removed]",
      "text/plain": [
       "<Figure size 864x360 with 1 Axes>"
      ]
     },
     "metadata": {},
     "output_type": "display_data"
    }
   ],
   "source": [
    "fig=plt.boxplot(Y_test)"
   ]
  },
  {
   "cell_type": "markdown",
   "metadata": {},
   "source": [
    "***\n",
    "<Mark>Navigation:</Mark><br>\n",
    "* [Topic 1: Tuning linear regression prediction model](#section_id1)<br>\n",
    "* [Topic 2: Tuning logistic regression prediction model](#section_id2)<br>\n",
    "* [Topic 3: Tuning KNN prediction model](#section_id3)<br>\n",
    "* [Topic 4: Tuning tree-based prediction models](#section_id4)<br>\n",
    "***"
   ]
  },
  {
   "cell_type": "markdown",
   "metadata": {},
   "source": [
    "<div style=\"text-align: right\"> <a href='#section_id0'>Back to top of Notebook</a></div>"
   ]
  },
  {
   "cell_type": "markdown",
   "metadata": {},
   "source": [
    "<a id='section_id2'></a>\n",
    "### <span style=\"background-color:#B0E0E6\">Topic 2: Tuning the logistic regression model</span>"
   ]
  },
  {
   "cell_type": "code",
   "execution_count": 33,
   "metadata": {},
   "outputs": [
    {
     "data": {
      "text/plain": [
       "Index(['sleeping', 'sex', 'race', 'sexharass', 'smoking', 'vegetables', 'soda',\n",
       "       'breakfast', 'computer'],\n",
       "      dtype='object')"
      ]
     },
     "execution_count": 33,
     "metadata": {},
     "output_type": "execute_result"
    }
   ],
   "source": [
    "df1.columns\n"
   ]
  },
  {
   "cell_type": "code",
   "execution_count": 34,
   "metadata": {},
   "outputs": [
    {
     "data": {
      "text/html": [
       "<div>\n",
       "<style scoped>\n",
       "    .dataframe tbody tr th:only-of-type {\n",
       "        vertical-align: middle;\n",
       "    }\n",
       "\n",
       "    .dataframe tbody tr th {\n",
       "        vertical-align: top;\n",
       "    }\n",
       "\n",
       "    .dataframe thead th {\n",
       "        text-align: right;\n",
       "    }\n",
       "</style>\n",
       "<table border=\"1\" class=\"dataframe\">\n",
       "  <thead>\n",
       "    <tr style=\"text-align: right;\">\n",
       "      <th></th>\n",
       "      <th>sleeping</th>\n",
       "      <th>sex</th>\n",
       "      <th>race</th>\n",
       "      <th>sexharass</th>\n",
       "      <th>smoking</th>\n",
       "      <th>vegetables</th>\n",
       "      <th>soda</th>\n",
       "      <th>breakfast</th>\n",
       "      <th>computer</th>\n",
       "      <th>sleepcat</th>\n",
       "    </tr>\n",
       "  </thead>\n",
       "  <tbody>\n",
       "    <tr>\n",
       "      <th>0</th>\n",
       "      <td>1</td>\n",
       "      <td>2</td>\n",
       "      <td>4</td>\n",
       "      <td>4</td>\n",
       "      <td>4</td>\n",
       "      <td>3</td>\n",
       "      <td>2</td>\n",
       "      <td>3</td>\n",
       "      <td>3</td>\n",
       "      <td>short</td>\n",
       "    </tr>\n",
       "    <tr>\n",
       "      <th>1</th>\n",
       "      <td>1</td>\n",
       "      <td>2</td>\n",
       "      <td>3</td>\n",
       "      <td>1</td>\n",
       "      <td>1</td>\n",
       "      <td>2</td>\n",
       "      <td>1</td>\n",
       "      <td>1</td>\n",
       "      <td>2</td>\n",
       "      <td>short</td>\n",
       "    </tr>\n",
       "    <tr>\n",
       "      <th>2</th>\n",
       "      <td>1</td>\n",
       "      <td>2</td>\n",
       "      <td>4</td>\n",
       "      <td>1</td>\n",
       "      <td>1</td>\n",
       "      <td>1</td>\n",
       "      <td>1</td>\n",
       "      <td>1</td>\n",
       "      <td>1</td>\n",
       "      <td>short</td>\n",
       "    </tr>\n",
       "    <tr>\n",
       "      <th>3</th>\n",
       "      <td>3</td>\n",
       "      <td>2</td>\n",
       "      <td>4</td>\n",
       "      <td>1</td>\n",
       "      <td>1</td>\n",
       "      <td>3</td>\n",
       "      <td>5</td>\n",
       "      <td>5</td>\n",
       "      <td>4</td>\n",
       "      <td>short</td>\n",
       "    </tr>\n",
       "    <tr>\n",
       "      <th>4</th>\n",
       "      <td>3</td>\n",
       "      <td>2</td>\n",
       "      <td>4</td>\n",
       "      <td>1</td>\n",
       "      <td>6</td>\n",
       "      <td>2</td>\n",
       "      <td>6</td>\n",
       "      <td>5</td>\n",
       "      <td>7</td>\n",
       "      <td>short</td>\n",
       "    </tr>\n",
       "    <tr>\n",
       "      <th>5</th>\n",
       "      <td>5</td>\n",
       "      <td>2</td>\n",
       "      <td>4</td>\n",
       "      <td>1</td>\n",
       "      <td>1</td>\n",
       "      <td>5</td>\n",
       "      <td>2</td>\n",
       "      <td>4</td>\n",
       "      <td>5</td>\n",
       "      <td>long</td>\n",
       "    </tr>\n",
       "  </tbody>\n",
       "</table>\n",
       "</div>"
      ],
      "text/plain": [
       "   sleeping  sex  race  sexharass  smoking  vegetables  soda  breakfast  \\\n",
       "0         1    2     4          4        4           3     2          3   \n",
       "1         1    2     3          1        1           2     1          1   \n",
       "2         1    2     4          1        1           1     1          1   \n",
       "3         3    2     4          1        1           3     5          5   \n",
       "4         3    2     4          1        6           2     6          5   \n",
       "5         5    2     4          1        1           5     2          4   \n",
       "\n",
       "   computer sleepcat  \n",
       "0         3    short  \n",
       "1         2    short  \n",
       "2         1    short  \n",
       "3         4    short  \n",
       "4         7    short  \n",
       "5         5     long  "
      ]
     },
     "execution_count": 34,
     "metadata": {},
     "output_type": "execute_result"
    }
   ],
   "source": [
    "# inserting a health_category column\n",
    "df1['sleepcat']=pd.cut(df1['sleeping'], bins=[0,4,8], labels=['short', 'long']) # 0 = short, 1 =long\n",
    "df1.head(6)"
   ]
  },
  {
   "cell_type": "code",
   "execution_count": 35,
   "metadata": {},
   "outputs": [],
   "source": [
    "healthdummy=pd.get_dummies(df1['sleepcat'])\n",
    "df1['sleepcatlong']=healthdummy['long']\n",
    "yvar= df1.sleepcatlong.astype('float64')\n",
    "Xvar = df1.drop(['sleeping', 'sleepcat','sleepcatlong'], axis=1).astype('float64')"
   ]
  },
  {
   "cell_type": "code",
   "execution_count": 36,
   "metadata": {},
   "outputs": [
    {
     "name": "stdout",
     "output_type": "stream",
     "text": [
      "(27165, 8) (27165,)\n",
      "(9055, 8) (9055,)\n"
     ]
    }
   ],
   "source": [
    "# Second, split the data into training and test portions:\n",
    "\n",
    "X2_train, X2_test, Y2_train, Y2_test = train_test_split(Xvar, yvar, test_size=0.25, random_state=7)\n",
    "print(X2_train.shape, Y2_train.shape)\n",
    "print(X2_test.shape, Y2_test.shape)"
   ]
  },
  {
   "cell_type": "markdown",
   "metadata": {},
   "source": [
    "Refer to the [documentation of the LogisticRegression in SciKit](https://scikit-learn.org/stable/modules/generated/sklearn.linear_model.LogisticRegression.html) to learn about the many parameters available for tuning the underlying optimization procedures.\n",
    "* For illustration, we can tweak the penaly (l1 or l2) and a regularization parameter called as *C*."
   ]
  },
  {
   "cell_type": "code",
   "execution_count": 37,
   "metadata": {},
   "outputs": [],
   "source": [
    "insurancereg=sklm.LogisticRegression(solver='liblinear')"
   ]
  },
  {
   "cell_type": "code",
   "execution_count": 38,
   "metadata": {},
   "outputs": [],
   "source": [
    "# set the gridsearch parameters for logistic regression\n",
    "lg_param_grid={'penalty': ['l1', 'l2'], 'C': np.logspace(0,2,10)}"
   ]
  },
  {
   "cell_type": "code",
   "execution_count": 39,
   "metadata": {},
   "outputs": [],
   "source": [
    "# define the gridsearch for logistic regression:\n",
    "\n",
    "lg_grid = GridSearchCV(insurancereg, lg_param_grid, cv=5, scoring='accuracy')"
   ]
  },
  {
   "cell_type": "code",
   "execution_count": 40,
   "metadata": {},
   "outputs": [
    {
     "data": {
      "text/plain": [
       "GridSearchCV(cv=5, error_score=nan,\n",
       "             estimator=LogisticRegression(C=1.0, class_weight=None, dual=False,\n",
       "                                          fit_intercept=True,\n",
       "                                          intercept_scaling=1, l1_ratio=None,\n",
       "                                          max_iter=100, multi_class='auto',\n",
       "                                          n_jobs=None, penalty='l2',\n",
       "                                          random_state=None, solver='liblinear',\n",
       "                                          tol=0.0001, verbose=0,\n",
       "                                          warm_start=False),\n",
       "             iid='deprecated', n_jobs=None,\n",
       "             param_grid={'C': array([  1.        ,   1.66810054,   2.7825594 ,   4.64158883,\n",
       "         7.74263683,  12.91549665,  21.5443469 ,  35.93813664,\n",
       "        59.94842503, 100.        ]),\n",
       "                         'penalty': ['l1', 'l2']},\n",
       "             pre_dispatch='2*n_jobs', refit=True, return_train_score=False,\n",
       "             scoring='accuracy', verbose=0)"
      ]
     },
     "execution_count": 40,
     "metadata": {},
     "output_type": "execute_result"
    }
   ],
   "source": [
    "#fit the gridsearch:\n",
    "\n",
    "lg_grid.fit(X2_train, Y2_train)"
   ]
  },
  {
   "cell_type": "code",
   "execution_count": 41,
   "metadata": {},
   "outputs": [
    {
     "data": {
      "text/plain": [
       "array([0.75085588, 0.75085588, 0.75085588, 0.75085588, 0.75085588,\n",
       "       0.75085588, 0.75085588, 0.75085588, 0.75085588, 0.75085588,\n",
       "       0.75085588, 0.75085588, 0.75085588, 0.75085588, 0.75085588,\n",
       "       0.75085588, 0.75085588, 0.75085588, 0.75085588, 0.75085588])"
      ]
     },
     "execution_count": 41,
     "metadata": {},
     "output_type": "execute_result"
    }
   ],
   "source": [
    "#get the cross validation results from the gridsearch (be patient!)\n",
    "\n",
    "lg_grid.cv_results_['mean_test_score']"
   ]
  },
  {
   "cell_type": "code",
   "execution_count": 42,
   "metadata": {},
   "outputs": [
    {
     "data": {
      "text/plain": [
       "{'C': 1.0, 'penalty': 'l1'}"
      ]
     },
     "execution_count": 42,
     "metadata": {},
     "output_type": "execute_result"
    }
   ],
   "source": [
    "#which parameters give the best results?\n",
    "\n",
    "lg_grid.best_params_"
   ]
  },
  {
   "cell_type": "code",
   "execution_count": 43,
   "metadata": {},
   "outputs": [
    {
     "data": {
      "text/plain": [
       "LogisticRegression(C=1.0, class_weight=None, dual=False, fit_intercept=True,\n",
       "                   intercept_scaling=1, l1_ratio=None, max_iter=100,\n",
       "                   multi_class='auto', n_jobs=None, penalty='l1',\n",
       "                   random_state=None, solver='liblinear', tol=0.0001, verbose=0,\n",
       "                   warm_start=False)"
      ]
     },
     "execution_count": 43,
     "metadata": {},
     "output_type": "execute_result"
    }
   ],
   "source": [
    "#which is the best estimator, according to the grid search?\n",
    "\n",
    "lg_grid.best_estimator_"
   ]
  },
  {
   "cell_type": "code",
   "execution_count": 44,
   "metadata": {},
   "outputs": [
    {
     "data": {
      "text/plain": [
       "array([-1.67614148])"
      ]
     },
     "execution_count": 44,
     "metadata": {},
     "output_type": "execute_result"
    }
   ],
   "source": [
    "#getting the intercept/coefficients from the best estimator: \n",
    "\n",
    "lg_grid.best_estimator_.intercept_"
   ]
  },
  {
   "cell_type": "code",
   "execution_count": 45,
   "metadata": {},
   "outputs": [
    {
     "data": {
      "text/plain": [
       "array([[ 0.22573233, -0.06427415, -0.09097671, -0.10811719,  0.02627501,\n",
       "        -0.01859039,  0.15956341, -0.07371347]])"
      ]
     },
     "execution_count": 45,
     "metadata": {},
     "output_type": "execute_result"
    }
   ],
   "source": [
    "#getting the intercept/coefficients from the best estimator: \n",
    "lg_grid.best_estimator_.coef_"
   ]
  },
  {
   "cell_type": "code",
   "execution_count": 46,
   "metadata": {},
   "outputs": [
    {
     "data": {
      "text/plain": [
       "Index(['sex', 'race', 'sexharass', 'smoking', 'vegetables', 'soda',\n",
       "       'breakfast', 'computer'],\n",
       "      dtype='object')"
      ]
     },
     "execution_count": 46,
     "metadata": {},
     "output_type": "execute_result"
    }
   ],
   "source": [
    "features=df1.drop(['sleeping', 'sleepcat','sleepcatlong'], axis=1).columns\n",
    "#these are the columns of independent variables in the caravan dataset.\n",
    "features"
   ]
  },
  {
   "cell_type": "code",
   "execution_count": 47,
   "metadata": {},
   "outputs": [
    {
     "data": {
      "text/html": [
       "<div>\n",
       "<style scoped>\n",
       "    .dataframe tbody tr th:only-of-type {\n",
       "        vertical-align: middle;\n",
       "    }\n",
       "\n",
       "    .dataframe tbody tr th {\n",
       "        vertical-align: top;\n",
       "    }\n",
       "\n",
       "    .dataframe thead th {\n",
       "        text-align: right;\n",
       "    }\n",
       "</style>\n",
       "<table border=\"1\" class=\"dataframe\">\n",
       "  <thead>\n",
       "    <tr style=\"text-align: right;\">\n",
       "      <th></th>\n",
       "      <th>Variable</th>\n",
       "      <th>Coefficients</th>\n",
       "    </tr>\n",
       "  </thead>\n",
       "  <tbody>\n",
       "    <tr>\n",
       "      <th>0</th>\n",
       "      <td>sex</td>\n",
       "      <td>0.225732</td>\n",
       "    </tr>\n",
       "    <tr>\n",
       "      <th>1</th>\n",
       "      <td>race</td>\n",
       "      <td>-0.064274</td>\n",
       "    </tr>\n",
       "    <tr>\n",
       "      <th>2</th>\n",
       "      <td>sexharass</td>\n",
       "      <td>-0.090977</td>\n",
       "    </tr>\n",
       "    <tr>\n",
       "      <th>3</th>\n",
       "      <td>smoking</td>\n",
       "      <td>-0.108117</td>\n",
       "    </tr>\n",
       "    <tr>\n",
       "      <th>4</th>\n",
       "      <td>vegetables</td>\n",
       "      <td>0.026275</td>\n",
       "    </tr>\n",
       "    <tr>\n",
       "      <th>5</th>\n",
       "      <td>soda</td>\n",
       "      <td>-0.018590</td>\n",
       "    </tr>\n",
       "    <tr>\n",
       "      <th>6</th>\n",
       "      <td>breakfast</td>\n",
       "      <td>0.159563</td>\n",
       "    </tr>\n",
       "    <tr>\n",
       "      <th>7</th>\n",
       "      <td>computer</td>\n",
       "      <td>-0.073713</td>\n",
       "    </tr>\n",
       "  </tbody>\n",
       "</table>\n",
       "</div>"
      ],
      "text/plain": [
       "     Variable  Coefficients\n",
       "0         sex      0.225732\n",
       "1        race     -0.064274\n",
       "2   sexharass     -0.090977\n",
       "3     smoking     -0.108117\n",
       "4  vegetables      0.026275\n",
       "5        soda     -0.018590\n",
       "6   breakfast      0.159563\n",
       "7    computer     -0.073713"
      ]
     },
     "execution_count": 47,
     "metadata": {},
     "output_type": "execute_result"
    }
   ],
   "source": [
    "pd.set_option(\"display.max_rows\", None)\n",
    "pd.DataFrame({'Variable': features, 'Coefficients':lg_grid.best_estimator_.coef_[0]})"
   ]
  },
  {
   "cell_type": "code",
   "execution_count": 48,
   "metadata": {},
   "outputs": [],
   "source": [
    "#get the predictions from the best estimator for the test sample:\n",
    "\n",
    "lg_predictions_tt=lg_grid.best_estimator_.predict(X2_test)"
   ]
  },
  {
   "cell_type": "code",
   "execution_count": 49,
   "metadata": {},
   "outputs": [
    {
     "name": "stdout",
     "output_type": "stream",
     "text": [
      "Classification Report:\n",
      "               precision    recall  f1-score   support\n",
      "\n",
      "         0.0       0.75      1.00      0.86      6835\n",
      "         1.0       0.00      0.00      0.00      2220\n",
      "\n",
      "    accuracy                           0.75      9055\n",
      "   macro avg       0.38      0.50      0.43      9055\n",
      "weighted avg       0.57      0.75      0.65      9055\n",
      "\n"
     ]
    },
    {
     "name": "stderr",
     "output_type": "stream",
     "text": [
      "C:\\Users\\edwar\\anaconda3\\lib\\site-packages\\sklearn\\metrics\\_classification.py:1272: UndefinedMetricWarning: Precision and F-score are ill-defined and being set to 0.0 in labels with no predicted samples. Use `zero_division` parameter to control this behavior.\n",
      "  _warn_prf(average, modifier, msg_start, len(result))\n"
     ]
    }
   ],
   "source": [
    "# How good is the prediction for the test sample?\n",
    "\n",
    "print(\"Classification Report:\\n\",classification_report(Y2_test, lg_predictions_tt))"
   ]
  },
  {
   "cell_type": "code",
   "execution_count": 50,
   "metadata": {},
   "outputs": [
    {
     "data": {
      "text/plain": [
       "<matplotlib.axes._subplots.AxesSubplot at 0x1f3bd5faec8>"
      ]
     },
     "execution_count": 50,
     "metadata": {},
     "output_type": "execute_result"
    },
    {
     "data": {
      "image/png": "[encoded data removed]",
      "text/plain": [
       "<Figure size 288x288 with 2 Axes>"
      ]
     },
     "metadata": {},
     "output_type": "display_data"
    }
   ],
   "source": [
    "skplt.metrics.plot_confusion_matrix(Y2_test, lg_predictions_tt, figsize=(4,4), cmap=\"PiYG\")"
   ]
  },
  {
   "cell_type": "markdown",
   "metadata": {},
   "source": [
    "<Mark>Interpretation:</Mark> The best predictor from the gridsearch is almost like the naive predictor, where it says nobody will have sufficient sleep. "
   ]
  },
  {
   "cell_type": "markdown",
   "metadata": {},
   "source": [
    "***\n",
    "<Mark>Navigation:</Mark><br>\n",
    "* [Topic 1: Tuning linear regression prediction model](#section_id1)<br>\n",
    "* [Topic 2: Tuning logistic regression prediction model](#section_id2)<br>\n",
    "* [Topic 3: Tuning KNN prediction model](#section_id3)<br>\n",
    "* [Topic 4: Tuning tree-based prediction models](#section_id4)<br>\n",
    "***"
   ]
  },
  {
   "cell_type": "markdown",
   "metadata": {},
   "source": [
    "<div style=\"text-align: right\"> <a href='#section_id0'>Back to top of Notebook</a></div>"
   ]
  },
  {
   "cell_type": "markdown",
   "metadata": {},
   "source": [
    "<a id='section_id3'></a>\n",
    "### <span style=\"background-color:#B0E0E6\">Topic 3: Tuning the KNN model</span>"
   ]
  },
  {
   "cell_type": "markdown",
   "metadata": {},
   "source": [
    "* Nearest Neighbors is a non-parametric approach and can be used for both continuous outcomes (regression) and categorical outcomes (classification).\n",
    "* [SciKit's documentation on Nearest Neighbors](https://scikit-learn.org/stable/modules/neighbors.html) is very detailed and shows many parameters than can be used."
   ]
  },
  {
   "cell_type": "code",
   "execution_count": 6,
   "metadata": {},
   "outputs": [],
   "source": [
    "df1 = pd.read_csv('sleeping.csv')"
   ]
  },
  {
   "cell_type": "code",
   "execution_count": 7,
   "metadata": {},
   "outputs": [],
   "source": [
    "# First, scale the predictors and predicted variables:\n",
    "Xp=preprocessing.scale(df1[['sex', 'race', 'sexharass', 'smoking', 'vegetables', 'soda', 'breakfast',\n",
    "                            'computer']]).astype('float64')\n",
    "Yp=preprocessing.scale(df1.sleeping).astype('float64')#scaling\n"
   ]
  },
  {
   "cell_type": "code",
   "execution_count": 8,
   "metadata": {},
   "outputs": [
    {
     "name": "stdout",
     "output_type": "stream",
     "text": [
      "(27165, 8) (27165,)\n",
      "(9055, 8) (9055,)\n"
     ]
    }
   ],
   "source": [
    "# Set aside a portion (e.g., 25%) of data for out-of-training-sample testing.\n",
    "\n",
    "X3p_train, X3p_test, Y3p_train, Y3p_test = train_test_split(Xp, Yp, \\\n",
    "                                                            test_size=0.25, random_state=7)\n",
    "print(X3p_train.shape, Y3p_train.shape)\n",
    "print(X3p_test.shape, Y3p_test.shape)"
   ]
  },
  {
   "cell_type": "code",
   "execution_count": 9,
   "metadata": {},
   "outputs": [],
   "source": [
    "# Define the KNN model\n",
    "knn_rcv = KNeighborsRegressor()"
   ]
  },
  {
   "cell_type": "code",
   "execution_count": 10,
   "metadata": {},
   "outputs": [],
   "source": [
    "#set the parameters for KNN gridsearch\n",
    "knn_param_grid = {'n_neighbors': np.arange(1,20), 'weights':['uniform', 'distance']}"
   ]
  },
  {
   "cell_type": "code",
   "execution_count": 11,
   "metadata": {},
   "outputs": [],
   "source": [
    "# set up the grid search with KNN\n",
    "knn_grid_search = GridSearchCV(KNeighborsRegressor(), knn_param_grid, cv=5, scoring = 'neg_mean_squared_error')"
   ]
  },
  {
   "cell_type": "code",
   "execution_count": 12,
   "metadata": {},
   "outputs": [
    {
     "data": {
      "text/plain": [
       "GridSearchCV(cv=5, error_score=nan,\n",
       "             estimator=KNeighborsRegressor(algorithm='auto', leaf_size=30,\n",
       "                                           metric='minkowski',\n",
       "                                           metric_params=None, n_jobs=None,\n",
       "                                           n_neighbors=5, p=2,\n",
       "                                           weights='uniform'),\n",
       "             iid='deprecated', n_jobs=None,\n",
       "             param_grid={'n_neighbors': array([ 1,  2,  3,  4,  5,  6,  7,  8,  9, 10, 11, 12, 13, 14, 15, 16, 17,\n",
       "       18, 19]),\n",
       "                         'weights': ['uniform', 'distance']},\n",
       "             pre_dispatch='2*n_jobs', refit=True, return_train_score=False,\n",
       "             scoring='neg_mean_squared_error', verbose=0)"
      ]
     },
     "execution_count": 12,
     "metadata": {},
     "output_type": "execute_result"
    }
   ],
   "source": [
    "# fit the KNN model using training sample\n",
    "knn_grid_search.fit(X3p_train, Y3p_train)"
   ]
  },
  {
   "cell_type": "code",
   "execution_count": 13,
   "metadata": {},
   "outputs": [
    {
     "data": {
      "text/plain": [
       "array([-1.77757267, -1.77757267, -1.33616558, -1.39341788, -1.18253837,\n",
       "       -1.27030778, -1.10953809, -1.22002462, -1.06276808, -1.19011406,\n",
       "       -1.03773876, -1.17589744, -1.01345678, -1.1631699 , -1.00053504,\n",
       "       -1.15712155, -0.98517265, -1.14880773, -0.97754515, -1.14646075,\n",
       "       -0.97145536, -1.14323641, -0.96489248, -1.14040286, -0.96080764,\n",
       "       -1.13850207, -0.95671549, -1.13642735, -0.95121078, -1.1338457 ,\n",
       "       -0.94726042, -1.1321107 , -0.94367309, -1.1304877 , -0.94153636,\n",
       "       -1.12883493, -0.93954413, -1.12796897])"
      ]
     },
     "execution_count": 13,
     "metadata": {},
     "output_type": "execute_result"
    }
   ],
   "source": [
    "#get the cross validation results from the gridsearch:\n",
    "\n",
    "knn_grid_search.cv_results_['mean_test_score']"
   ]
  },
  {
   "cell_type": "code",
   "execution_count": 14,
   "metadata": {},
   "outputs": [
    {
     "data": {
      "text/plain": [
       "{'n_neighbors': 19, 'weights': 'uniform'}"
      ]
     },
     "execution_count": 14,
     "metadata": {},
     "output_type": "execute_result"
    }
   ],
   "source": [
    "#which parameters gave the best results?\n",
    "\n",
    "knn_grid_search.best_params_"
   ]
  },
  {
   "cell_type": "code",
   "execution_count": 15,
   "metadata": {},
   "outputs": [
    {
     "data": {
      "text/plain": [
       "KNeighborsRegressor(algorithm='auto', leaf_size=30, metric='minkowski',\n",
       "                    metric_params=None, n_jobs=None, n_neighbors=19, p=2,\n",
       "                    weights='uniform')"
      ]
     },
     "execution_count": 15,
     "metadata": {},
     "output_type": "execute_result"
    }
   ],
   "source": [
    "#which is the best estimator?\n",
    "\n",
    "knn_grid_search.best_estimator_"
   ]
  },
  {
   "cell_type": "code",
   "execution_count": 16,
   "metadata": {},
   "outputs": [],
   "source": [
    "# how does the model perform in predicting?\n",
    "\n",
    "knn_prediction_reg=knn_grid_search.best_estimator_.predict(X3p_test) #get the predictions using training data"
   ]
  },
  {
   "cell_type": "code",
   "execution_count": 17,
   "metadata": {},
   "outputs": [
    {
     "data": {
      "text/plain": [
       "0.7779760210499388"
      ]
     },
     "execution_count": 17,
     "metadata": {},
     "output_type": "execute_result"
    }
   ],
   "source": [
    "np.sqrt(np.square(knn_prediction_reg-Y3p_test)).mean() #average error of prediction in training data."
   ]
  },
  {
   "cell_type": "code",
   "execution_count": 18,
   "metadata": {},
   "outputs": [],
   "source": [
    "#to rescale the predicted values, we need to first fit the original scaler:\n",
    "data = df1.sleeping.values\n",
    "scaler = preprocessing.StandardScaler()\n",
    "scaler.fit(data.reshape(-1, 1)) #reshaping is needed for 1-dimensional arrays\n",
    "scaled = scaler.transform(data.reshape(-1, 1))\n",
    "# for inverse transformation\n",
    "inversedpredictions = scaler.inverse_transform(knn_prediction_reg)"
   ]
  },
  {
   "cell_type": "code",
   "execution_count": 19,
   "metadata": {},
   "outputs": [
    {
     "name": "stdout",
     "output_type": "stream",
     "text": [
      "\n",
      "Regression statistics\n",
      "\n",
      "                      Mean Error (ME) : -3.5204\n",
      "       Root Mean Squared Error (RMSE) : 3.6600\n",
      "            Mean Absolute Error (MAE) : 3.5211\n",
      "          Mean Percentage Error (MPE) : 18.2533\n",
      "Mean Absolute Percentage Error (MAPE) : 644.3666\n"
     ]
    }
   ],
   "source": [
    "regressionSummary(Y3p_test,inversedpredictions)"
   ]
  },
  {
   "cell_type": "markdown",
   "metadata": {},
   "source": [
    "<Mark>Interpretation:</Mark> We see that the KNN model from the grid search give a prediction that only deviant by about 0.78 hours per school night, on average, "
   ]
  },
  {
   "cell_type": "markdown",
   "metadata": {},
   "source": [
    "#### KNN Classification way:"
   ]
  },
  {
   "cell_type": "code",
   "execution_count": 63,
   "metadata": {},
   "outputs": [
    {
     "data": {
      "text/plain": [
       "Index(['sleeping', 'sex', 'race', 'sexharass', 'smoking', 'vegetables', 'soda',\n",
       "       'breakfast', 'computer'],\n",
       "      dtype='object')"
      ]
     },
     "execution_count": 63,
     "metadata": {},
     "output_type": "execute_result"
    }
   ],
   "source": [
    "df1.columns\n"
   ]
  },
  {
   "cell_type": "code",
   "execution_count": 64,
   "metadata": {},
   "outputs": [
    {
     "data": {
      "text/html": [
       "<div>\n",
       "<style scoped>\n",
       "    .dataframe tbody tr th:only-of-type {\n",
       "        vertical-align: middle;\n",
       "    }\n",
       "\n",
       "    .dataframe tbody tr th {\n",
       "        vertical-align: top;\n",
       "    }\n",
       "\n",
       "    .dataframe thead th {\n",
       "        text-align: right;\n",
       "    }\n",
       "</style>\n",
       "<table border=\"1\" class=\"dataframe\">\n",
       "  <thead>\n",
       "    <tr style=\"text-align: right;\">\n",
       "      <th></th>\n",
       "      <th>sleeping</th>\n",
       "      <th>sex</th>\n",
       "      <th>race</th>\n",
       "      <th>sexharass</th>\n",
       "      <th>smoking</th>\n",
       "      <th>vegetables</th>\n",
       "      <th>soda</th>\n",
       "      <th>breakfast</th>\n",
       "      <th>computer</th>\n",
       "      <th>sleepcat</th>\n",
       "    </tr>\n",
       "  </thead>\n",
       "  <tbody>\n",
       "    <tr>\n",
       "      <th>0</th>\n",
       "      <td>1</td>\n",
       "      <td>2</td>\n",
       "      <td>4</td>\n",
       "      <td>4</td>\n",
       "      <td>4</td>\n",
       "      <td>3</td>\n",
       "      <td>2</td>\n",
       "      <td>3</td>\n",
       "      <td>3</td>\n",
       "      <td>short</td>\n",
       "    </tr>\n",
       "    <tr>\n",
       "      <th>1</th>\n",
       "      <td>1</td>\n",
       "      <td>2</td>\n",
       "      <td>3</td>\n",
       "      <td>1</td>\n",
       "      <td>1</td>\n",
       "      <td>2</td>\n",
       "      <td>1</td>\n",
       "      <td>1</td>\n",
       "      <td>2</td>\n",
       "      <td>short</td>\n",
       "    </tr>\n",
       "    <tr>\n",
       "      <th>2</th>\n",
       "      <td>1</td>\n",
       "      <td>2</td>\n",
       "      <td>4</td>\n",
       "      <td>1</td>\n",
       "      <td>1</td>\n",
       "      <td>1</td>\n",
       "      <td>1</td>\n",
       "      <td>1</td>\n",
       "      <td>1</td>\n",
       "      <td>short</td>\n",
       "    </tr>\n",
       "    <tr>\n",
       "      <th>3</th>\n",
       "      <td>3</td>\n",
       "      <td>2</td>\n",
       "      <td>4</td>\n",
       "      <td>1</td>\n",
       "      <td>1</td>\n",
       "      <td>3</td>\n",
       "      <td>5</td>\n",
       "      <td>5</td>\n",
       "      <td>4</td>\n",
       "      <td>short</td>\n",
       "    </tr>\n",
       "    <tr>\n",
       "      <th>4</th>\n",
       "      <td>3</td>\n",
       "      <td>2</td>\n",
       "      <td>4</td>\n",
       "      <td>1</td>\n",
       "      <td>6</td>\n",
       "      <td>2</td>\n",
       "      <td>6</td>\n",
       "      <td>5</td>\n",
       "      <td>7</td>\n",
       "      <td>short</td>\n",
       "    </tr>\n",
       "    <tr>\n",
       "      <th>5</th>\n",
       "      <td>5</td>\n",
       "      <td>2</td>\n",
       "      <td>4</td>\n",
       "      <td>1</td>\n",
       "      <td>1</td>\n",
       "      <td>5</td>\n",
       "      <td>2</td>\n",
       "      <td>4</td>\n",
       "      <td>5</td>\n",
       "      <td>long</td>\n",
       "    </tr>\n",
       "  </tbody>\n",
       "</table>\n",
       "</div>"
      ],
      "text/plain": [
       "   sleeping  sex  race  sexharass  smoking  vegetables  soda  breakfast  \\\n",
       "0         1    2     4          4        4           3     2          3   \n",
       "1         1    2     3          1        1           2     1          1   \n",
       "2         1    2     4          1        1           1     1          1   \n",
       "3         3    2     4          1        1           3     5          5   \n",
       "4         3    2     4          1        6           2     6          5   \n",
       "5         5    2     4          1        1           5     2          4   \n",
       "\n",
       "   computer sleepcat  \n",
       "0         3    short  \n",
       "1         2    short  \n",
       "2         1    short  \n",
       "3         4    short  \n",
       "4         7    short  \n",
       "5         5     long  "
      ]
     },
     "execution_count": 64,
     "metadata": {},
     "output_type": "execute_result"
    }
   ],
   "source": [
    "df1['sleepcat']=pd.cut(df1['sleeping'], bins=[0,4,8], labels=['short', 'long']) # 0 = short, 1 =long\n",
    "df1.head(6)"
   ]
  },
  {
   "cell_type": "code",
   "execution_count": 65,
   "metadata": {},
   "outputs": [],
   "source": [
    "# pre-processing the data to get dummy for dependent variable\n",
    "healthdummy=pd.get_dummies(df1['sleepcat'])\n",
    " #one dummy variable is sufficient for predictor with 2-levels\n",
    "df1['sleeplong']=healthdummy['long']"
   ]
  },
  {
   "cell_type": "code",
   "execution_count": 66,
   "metadata": {},
   "outputs": [],
   "source": [
    "yvar= df1.sleeplong.astype('float64')\n",
    " #just retain the independent variables\n",
    "Xvar = df1.drop(['sleeping', 'sleeplong', 'sleepcat'], axis=1).astype('float64')"
   ]
  },
  {
   "cell_type": "code",
   "execution_count": 67,
   "metadata": {},
   "outputs": [],
   "source": [
    "# we scale the Xvar before using KNN:\n",
    "Xvarpc=preprocessing.scale(Xvar)\n",
    "\n",
    "# y-variable is just 1 or 0 in the classification setting, so no need for scaling the predicted variable."
   ]
  },
  {
   "cell_type": "code",
   "execution_count": 68,
   "metadata": {},
   "outputs": [
    {
     "name": "stdout",
     "output_type": "stream",
     "text": [
      "(27165, 8) (27165,)\n",
      "(9055, 8) (9055,)\n"
     ]
    }
   ],
   "source": [
    "# Set aside 25% of data for out-of-training-sample test:\n",
    "\n",
    "X3pc_train, X3pc_test, Y3pc_train, Y3pc_test = train_test_split(Xvarpc, yvar, \\\n",
    "                                                            test_size=0.25, random_state=7)\n",
    "print(X3pc_train.shape, Y3pc_train.shape)\n",
    "print(X3pc_test.shape, Y3pc_test.shape)"
   ]
  },
  {
   "cell_type": "code",
   "execution_count": 69,
   "metadata": {},
   "outputs": [],
   "source": [
    "#set the parameters for KNN gridsearch\n",
    "knn_param_grid = {'n_neighbors': np.arange(1,20), 'weights':['uniform', 'distance']}"
   ]
  },
  {
   "cell_type": "code",
   "execution_count": 70,
   "metadata": {},
   "outputs": [],
   "source": [
    "# set up the grid search with KNN\n",
    "knnc_grid_search = GridSearchCV(KNeighborsClassifier(), knn_param_grid, cv=5, scoring = 'accuracy')"
   ]
  },
  {
   "cell_type": "code",
   "execution_count": 71,
   "metadata": {},
   "outputs": [
    {
     "data": {
      "text/plain": [
       "GridSearchCV(cv=5, error_score=nan,\n",
       "             estimator=KNeighborsClassifier(algorithm='auto', leaf_size=30,\n",
       "                                            metric='minkowski',\n",
       "                                            metric_params=None, n_jobs=None,\n",
       "                                            n_neighbors=5, p=2,\n",
       "                                            weights='uniform'),\n",
       "             iid='deprecated', n_jobs=None,\n",
       "             param_grid={'n_neighbors': array([ 1,  2,  3,  4,  5,  6,  7,  8,  9, 10, 11, 12, 13, 14, 15, 16, 17,\n",
       "       18, 19]),\n",
       "                         'weights': ['uniform', 'distance']},\n",
       "             pre_dispatch='2*n_jobs', refit=True, return_train_score=False,\n",
       "             scoring='accuracy', verbose=0)"
      ]
     },
     "execution_count": 71,
     "metadata": {},
     "output_type": "execute_result"
    }
   ],
   "source": [
    "# fit the KNN model using training sample\n",
    "knnc_grid_search.fit(X3pc_train, Y3pc_train)"
   ]
  },
  {
   "cell_type": "code",
   "execution_count": 72,
   "metadata": {},
   "outputs": [
    {
     "data": {
      "text/plain": [
       "array([0.64811338, 0.64811338, 0.72523468, 0.69854592, 0.68580895,\n",
       "       0.68308485, 0.7286582 , 0.70712314, 0.70892693, 0.70053378,\n",
       "       0.73502669, 0.71183508, 0.72203203, 0.707933  , 0.73712498,\n",
       "       0.71466961, 0.7283637 , 0.71297626, 0.73970182, 0.71621572,\n",
       "       0.73248666, 0.71566354, 0.74172649, 0.71732008, 0.73705135,\n",
       "       0.7170624 , 0.74198417, 0.71695196, 0.73716179, 0.71621572,\n",
       "       0.74242592, 0.71750414, 0.73970182, 0.71610528, 0.74356709,\n",
       "       0.71728327, 0.74080618, 0.71746733])"
      ]
     },
     "execution_count": 72,
     "metadata": {},
     "output_type": "execute_result"
    }
   ],
   "source": [
    "#get the cross validation results from the gridsearch:\n",
    "\n",
    "knnc_grid_search.cv_results_['mean_test_score']"
   ]
  },
  {
   "cell_type": "code",
   "execution_count": 73,
   "metadata": {},
   "outputs": [
    {
     "data": {
      "text/plain": [
       "{'n_neighbors': 18, 'weights': 'uniform'}"
      ]
     },
     "execution_count": 73,
     "metadata": {},
     "output_type": "execute_result"
    }
   ],
   "source": [
    "#which parameters gave the best results?\n",
    "\n",
    "knnc_grid_search.best_params_"
   ]
  },
  {
   "cell_type": "code",
   "execution_count": 74,
   "metadata": {},
   "outputs": [
    {
     "data": {
      "text/plain": [
       "KNeighborsClassifier(algorithm='auto', leaf_size=30, metric='minkowski',\n",
       "                     metric_params=None, n_jobs=None, n_neighbors=18, p=2,\n",
       "                     weights='uniform')"
      ]
     },
     "execution_count": 74,
     "metadata": {},
     "output_type": "execute_result"
    }
   ],
   "source": [
    "#which is the best KNN estimator?\n",
    "\n",
    "knnc_grid_search.best_estimator_"
   ]
  },
  {
   "cell_type": "code",
   "execution_count": 75,
   "metadata": {},
   "outputs": [],
   "source": [
    "# how does the model perform in predicting?\n",
    "\n",
    "knnc_prediction_clf=knnc_grid_search.best_estimator_.predict(X3pc_test) #get the predictions using test data"
   ]
  },
  {
   "cell_type": "code",
   "execution_count": 76,
   "metadata": {},
   "outputs": [
    {
     "name": "stdout",
     "output_type": "stream",
     "text": [
      "Confusion Matrix:\n",
      " [[6590  245]\n",
      " [2093  127]]\n",
      "\n",
      "\n",
      "Classification Report:\n",
      "               precision    recall  f1-score   support\n",
      "\n",
      "         0.0       0.76      0.96      0.85      6835\n",
      "         1.0       0.34      0.06      0.10      2220\n",
      "\n",
      "    accuracy                           0.74      9055\n",
      "   macro avg       0.55      0.51      0.47      9055\n",
      "weighted avg       0.66      0.74      0.67      9055\n",
      "\n"
     ]
    }
   ],
   "source": [
    "# Evaluate how good the knn classification is:\n",
    "cm_knn = confusion_matrix(Y3pc_test, knnc_prediction_clf)\n",
    "print(\"Confusion Matrix:\\n\", cm_knn)\n",
    "print(\"\\n\")\n",
    "print(\"Classification Report:\\n\",classification_report(Y3pc_test, knnc_prediction_clf))"
   ]
  },
  {
   "cell_type": "code",
   "execution_count": 77,
   "metadata": {},
   "outputs": [
    {
     "data": {
      "text/plain": [
       "<matplotlib.axes._subplots.AxesSubplot at 0x1f3bd6a3948>"
      ]
     },
     "execution_count": 77,
     "metadata": {},
     "output_type": "execute_result"
    },
    {
     "data": {
      "image/png": "[encoded data removed]",
      "text/plain": [
       "<Figure size 288x288 with 2 Axes>"
      ]
     },
     "metadata": {},
     "output_type": "display_data"
    }
   ],
   "source": [
    "skplt.metrics.plot_confusion_matrix(Y3pc_test, knnc_prediction_clf, figsize=(4,4), cmap=\"Spectral\")"
   ]
  },
  {
   "cell_type": "markdown",
   "metadata": {},
   "source": [
    "<Mark>Interpretation:</Mark> We see that the model resulted in 74% accuracy of classifying sleep duration. 127 people who were sleep sufficiently were correctly identified by the model.It missed 2093 people and wrongly predicted 245 others having sufficient sleep."
   ]
  },
  {
   "cell_type": "markdown",
   "metadata": {},
   "source": [
    "***\n",
    "<Mark>Navigation:</Mark><br>\n",
    "* [Topic 1: Tuning linear regression prediction model](#section_id1)<br>\n",
    "* [Topic 2: Tuning logistic regression prediction model](#section_id2)<br>\n",
    "* [Topic 3: Tuning KNN prediction model](#section_id3)<br>\n",
    "* [Topic 4: Tuning tree-based prediction models](#section_id4)<br>\n",
    "***"
   ]
  },
  {
   "cell_type": "markdown",
   "metadata": {},
   "source": [
    "<div style=\"text-align: right\"> <a href='#section_id0'>Back to top of Notebook</a></div>"
   ]
  },
  {
   "cell_type": "markdown",
   "metadata": {},
   "source": [
    "<a id='section_id4'></a>\n",
    "### <span style=\"background-color:#B0E0E6\">Topic 4: Tuning the Tree-Based Models</span>"
   ]
  },
  {
   "cell_type": "markdown",
   "metadata": {},
   "source": [
    "* Using Decision Trees is another non-parametric approach, and it can be applied for both continuous outcomes (regression) and categorical outcomes (classification).\n",
    "* [SciKit's documentation on Decision Trees](https://scikit-learn.org/stable/modules/tree.html) is very detailed and shows many parameters than can be used."
   ]
  },
  {
   "cell_type": "markdown",
   "metadata": {},
   "source": [
    "### Regression method"
   ]
  },
  {
   "cell_type": "code",
   "execution_count": 8,
   "metadata": {},
   "outputs": [],
   "source": [
    "df1 = pd.read_csv('sleeping.csv')"
   ]
  },
  {
   "cell_type": "code",
   "execution_count": 80,
   "metadata": {},
   "outputs": [],
   "source": [
    "# First, define the X (predictor/independent) and the Y (predicted/dependent) variables:\n",
    "# SciKit doesn't work with Pandas dataframes, so we just need the matrix of values in the dataframe.\n",
    "\n",
    "X=df1[['sex', 'race', 'sexharass', 'smoking', 'vegetables', 'soda', 'breakfast', 'computer']].values\n",
    "Y=df1.sleeping"
   ]
  },
  {
   "cell_type": "code",
   "execution_count": 81,
   "metadata": {},
   "outputs": [
    {
     "name": "stdout",
     "output_type": "stream",
     "text": [
      "(27165, 8) (27165,)\n",
      "(9055, 8) (9055,)\n"
     ]
    }
   ],
   "source": [
    "# Second, split the data into training and test portions:\n",
    "# I am using 25% of data for testing and 75% for training.\n",
    "\n",
    "X_train, X_test, Y_train, Y_test = train_test_split(X, Y, test_size=0.25, random_state=7)\n",
    "print(X_train.shape, Y_train.shape)\n",
    "print(X_test.shape, Y_test.shape)"
   ]
  },
  {
   "cell_type": "code",
   "execution_count": 82,
   "metadata": {},
   "outputs": [],
   "source": [
    "DTsalesreg=DecisionTreeRegressor(random_state=23)"
   ]
  },
  {
   "cell_type": "code",
   "execution_count": 83,
   "metadata": {},
   "outputs": [],
   "source": [
    "# set the gridsearch parameters for the decision tree regression\n",
    "dtr_param_grid={'max_depth':[3,5,7,10], 'max_leaf_nodes':np.arange(2,10)}"
   ]
  },
  {
   "cell_type": "code",
   "execution_count": 84,
   "metadata": {},
   "outputs": [],
   "source": [
    "# define the gridsearch for the decision tree regression:\n",
    "\n",
    "dtr_grid_search = GridSearchCV(DTsalesreg, dtr_param_grid, cv=5, scoring='neg_mean_squared_error')"
   ]
  },
  {
   "cell_type": "code",
   "execution_count": 85,
   "metadata": {},
   "outputs": [
    {
     "data": {
      "text/plain": [
       "GridSearchCV(cv=5, error_score=nan,\n",
       "             estimator=DecisionTreeRegressor(ccp_alpha=0.0, criterion='mse',\n",
       "                                             max_depth=None, max_features=None,\n",
       "                                             max_leaf_nodes=None,\n",
       "                                             min_impurity_decrease=0.0,\n",
       "                                             min_impurity_split=None,\n",
       "                                             min_samples_leaf=1,\n",
       "                                             min_samples_split=2,\n",
       "                                             min_weight_fraction_leaf=0.0,\n",
       "                                             presort='deprecated',\n",
       "                                             random_state=23, splitter='best'),\n",
       "             iid='deprecated', n_jobs=None,\n",
       "             param_grid={'max_depth': [3, 5, 7, 10],\n",
       "                         'max_leaf_nodes': array([2, 3, 4, 5, 6, 7, 8, 9])},\n",
       "             pre_dispatch='2*n_jobs', refit=True, return_train_score=False,\n",
       "             scoring='neg_mean_squared_error', verbose=0)"
      ]
     },
     "execution_count": 85,
     "metadata": {},
     "output_type": "execute_result"
    }
   ],
   "source": [
    "# Fit the model on training data\n",
    "# Since we are using the training portion of the data, we are now \"training\" our model.\n",
    "dtr_grid_search.fit(X_train, Y_train)"
   ]
  },
  {
   "cell_type": "code",
   "execution_count": 86,
   "metadata": {},
   "outputs": [
    {
     "data": {
      "text/plain": [
       "array([-1.85988613, -1.83710918, -1.82818715, -1.8205748 , -1.8131281 ,\n",
       "       -1.81098471, -1.80885766, -1.80885766, -1.85988613, -1.83710918,\n",
       "       -1.82818715, -1.8205748 , -1.8131281 , -1.8105644 , -1.80668869,\n",
       "       -1.80319403, -1.85988613, -1.83710918, -1.82818715, -1.8205748 ,\n",
       "       -1.8131281 , -1.8105644 , -1.80668869, -1.80022192, -1.85988613,\n",
       "       -1.83710918, -1.82818715, -1.8205748 , -1.8131281 , -1.8105644 ,\n",
       "       -1.80668869, -1.80022192])"
      ]
     },
     "execution_count": 86,
     "metadata": {},
     "output_type": "execute_result"
    }
   ],
   "source": [
    "dtr_grid_search.cv_results_['mean_test_score']"
   ]
  },
  {
   "cell_type": "code",
   "execution_count": 87,
   "metadata": {},
   "outputs": [
    {
     "data": {
      "text/plain": [
       "{'max_depth': 7, 'max_leaf_nodes': 9}"
      ]
     },
     "execution_count": 87,
     "metadata": {},
     "output_type": "execute_result"
    }
   ],
   "source": [
    "dtr_grid_search.best_params_"
   ]
  },
  {
   "cell_type": "code",
   "execution_count": 88,
   "metadata": {},
   "outputs": [
    {
     "data": {
      "text/plain": [
       "DecisionTreeRegressor(ccp_alpha=0.0, criterion='mse', max_depth=7,\n",
       "                      max_features=None, max_leaf_nodes=9,\n",
       "                      min_impurity_decrease=0.0, min_impurity_split=None,\n",
       "                      min_samples_leaf=1, min_samples_split=2,\n",
       "                      min_weight_fraction_leaf=0.0, presort='deprecated',\n",
       "                      random_state=23, splitter='best')"
      ]
     },
     "execution_count": 88,
     "metadata": {},
     "output_type": "execute_result"
    }
   ],
   "source": [
    "dtr_grid_search.best_estimator_"
   ]
  },
  {
   "cell_type": "markdown",
   "metadata": {},
   "source": [
    "We can visualize the Decision Tree from the best_estimator_ as following:"
   ]
  },
  {
   "cell_type": "code",
   "execution_count": 91,
   "metadata": {},
   "outputs": [
    {
     "data": {
      "image/png": "[encoded data removed]",
      "text/plain": [
       "<IPython.core.display.Image object>"
      ]
     },
     "execution_count": 91,
     "metadata": {},
     "output_type": "execute_result"
    }
   ],
   "source": [
    "DTRgraph = print_tree(dtr_grid_search.best_estimator_, features=['sex', 'race', 'sexharass', 'smoking', 'vegetables', 'soda', 'breakfast', 'computer'])\n",
    "Image(DTRgraph.create_png())"
   ]
  },
  {
   "cell_type": "code",
   "execution_count": 92,
   "metadata": {},
   "outputs": [],
   "source": [
    "# Get the predicted values and evaluate the model:\n",
    "\n",
    "DT_predictions_tr=dtr_grid_search.best_estimator_.predict(X_test) # predictions for test set"
   ]
  },
  {
   "cell_type": "code",
   "execution_count": 93,
   "metadata": {},
   "outputs": [
    {
     "data": {
      "text/plain": [
       "1.3369696384137904"
      ]
     },
     "execution_count": 93,
     "metadata": {},
     "output_type": "execute_result"
    }
   ],
   "source": [
    "# How good is this prediction?\n",
    "\n",
    "np.sqrt(np.square(DT_predictions_tr-Y_test).mean()) #RMSE calculation"
   ]
  },
  {
   "cell_type": "markdown",
   "metadata": {},
   "source": [
    "<Mark>Interpretation:</Mark> Our model is deviant from the actual values by about 1.34 hours per school night, on average when using the test data. "
   ]
  },
  {
   "cell_type": "markdown",
   "metadata": {},
   "source": [
    "#### Random Forest Regression"
   ]
  },
  {
   "cell_type": "code",
   "execution_count": 94,
   "metadata": {},
   "outputs": [],
   "source": [
    "DTRFsalesreg=RandomForestRegressor(random_state=23)"
   ]
  },
  {
   "cell_type": "code",
   "execution_count": 95,
   "metadata": {},
   "outputs": [],
   "source": [
    "# set the gridsearch parameters for the RandomForest regression\n",
    "dtrf_param_grid={'n_estimators': [10, 15, 20], 'max_depth':[5, 10, 15], \\\n",
    "                 'max_leaf_nodes':np.arange(2,10), 'min_samples_split':[5, 10, 15]}"
   ]
  },
  {
   "cell_type": "code",
   "execution_count": 96,
   "metadata": {},
   "outputs": [],
   "source": [
    "# define the gridsearch for the RandomForest regression:\n",
    "\n",
    "dtrf_grid_search = GridSearchCV(DTRFsalesreg, dtrf_param_grid, cv=5, scoring='neg_mean_squared_error')"
   ]
  },
  {
   "cell_type": "code",
   "execution_count": 97,
   "metadata": {},
   "outputs": [
    {
     "data": {
      "text/plain": [
       "GridSearchCV(cv=5, error_score=nan,\n",
       "             estimator=RandomForestRegressor(bootstrap=True, ccp_alpha=0.0,\n",
       "                                             criterion='mse', max_depth=None,\n",
       "                                             max_features='auto',\n",
       "                                             max_leaf_nodes=None,\n",
       "                                             max_samples=None,\n",
       "                                             min_impurity_decrease=0.0,\n",
       "                                             min_impurity_split=None,\n",
       "                                             min_samples_leaf=1,\n",
       "                                             min_samples_split=2,\n",
       "                                             min_weight_fraction_leaf=0.0,\n",
       "                                             n_estimators=100, n_jobs=None,\n",
       "                                             oob_score=False, random_state=23,\n",
       "                                             verbose=0, warm_start=False),\n",
       "             iid='deprecated', n_jobs=None,\n",
       "             param_grid={'max_depth': [5, 10, 15],\n",
       "                         'max_leaf_nodes': array([2, 3, 4, 5, 6, 7, 8, 9]),\n",
       "                         'min_samples_split': [5, 10, 15],\n",
       "                         'n_estimators': [10, 15, 20]},\n",
       "             pre_dispatch='2*n_jobs', refit=True, return_train_score=False,\n",
       "             scoring='neg_mean_squared_error', verbose=0)"
      ]
     },
     "execution_count": 97,
     "metadata": {},
     "output_type": "execute_result"
    }
   ],
   "source": [
    "# Fit the model on training data\n",
    "# Since we are using the training portion of the data, we are now \"training\" our model.\n",
    "dtrf_grid_search.fit(X_train, Y_train)"
   ]
  },
  {
   "cell_type": "code",
   "execution_count": 98,
   "metadata": {},
   "outputs": [
    {
     "data": {
      "text/plain": [
       "array([-1.84926028, -1.85032884, -1.85073451, -1.84926028, -1.85032884,\n",
       "       -1.85073451, -1.84926028, -1.85032884, -1.85073451, -1.82993502,\n",
       "       -1.83052409, -1.83080108, -1.82993502, -1.83052409, -1.83080108,\n",
       "       -1.82993502, -1.83052409, -1.83080108, -1.81799583, -1.81868183,\n",
       "       -1.8190655 , -1.81799583, -1.81868183, -1.8190655 , -1.81799583,\n",
       "       -1.81868183, -1.8190655 , -1.81113714, -1.81156648, -1.81151687,\n",
       "       -1.81113714, -1.81156648, -1.81151687, -1.81113714, -1.81156648,\n",
       "       -1.81151687, -1.80604924, -1.80595802, -1.80648342, -1.80604924,\n",
       "       -1.80595802, -1.80648342, -1.80604924, -1.80595802, -1.80648342,\n",
       "       -1.80067736, -1.80069669, -1.8015693 , -1.80067736, -1.80069669,\n",
       "       -1.8015693 , -1.80067736, -1.80069669, -1.8015693 , -1.79579545,\n",
       "       -1.7958193 , -1.79655083, -1.79579545, -1.7958193 , -1.79655083,\n",
       "       -1.79579545, -1.7958193 , -1.79655083, -1.79204199, -1.79226333,\n",
       "       -1.79255071, -1.79204199, -1.79226333, -1.79255071, -1.79204199,\n",
       "       -1.79226333, -1.79255071, -1.84926028, -1.85032884, -1.85073451,\n",
       "       -1.84926028, -1.85032884, -1.85073451, -1.84926028, -1.85032884,\n",
       "       -1.85073451, -1.82993502, -1.83052409, -1.83080108, -1.82993502,\n",
       "       -1.83052409, -1.83080108, -1.82993502, -1.83052409, -1.83080108,\n",
       "       -1.81799583, -1.81868183, -1.8190655 , -1.81799583, -1.81868183,\n",
       "       -1.8190655 , -1.81799583, -1.81868183, -1.8190655 , -1.81113714,\n",
       "       -1.81156648, -1.81151687, -1.81113714, -1.81156648, -1.81151687,\n",
       "       -1.81113714, -1.81156648, -1.81151687, -1.80604924, -1.80595802,\n",
       "       -1.80648342, -1.80604924, -1.80595802, -1.80648342, -1.80604924,\n",
       "       -1.80595802, -1.80648342, -1.80067736, -1.80069669, -1.8015693 ,\n",
       "       -1.80067736, -1.80069669, -1.8015693 , -1.80067736, -1.80069669,\n",
       "       -1.8015693 , -1.79541752, -1.79557333, -1.79636073, -1.79541752,\n",
       "       -1.79557333, -1.79636073, -1.79541752, -1.79557333, -1.79636073,\n",
       "       -1.79142601, -1.79166281, -1.79211696, -1.79142601, -1.79166281,\n",
       "       -1.79211696, -1.79142601, -1.79166281, -1.79211696, -1.84926028,\n",
       "       -1.85032884, -1.85073451, -1.84926028, -1.85032884, -1.85073451,\n",
       "       -1.84926028, -1.85032884, -1.85073451, -1.82993502, -1.83052409,\n",
       "       -1.83080108, -1.82993502, -1.83052409, -1.83080108, -1.82993502,\n",
       "       -1.83052409, -1.83080108, -1.81799583, -1.81868183, -1.8190655 ,\n",
       "       -1.81799583, -1.81868183, -1.8190655 , -1.81799583, -1.81868183,\n",
       "       -1.8190655 , -1.81113714, -1.81156648, -1.81151687, -1.81113714,\n",
       "       -1.81156648, -1.81151687, -1.81113714, -1.81156648, -1.81151687,\n",
       "       -1.80604924, -1.80595802, -1.80648342, -1.80604924, -1.80595802,\n",
       "       -1.80648342, -1.80604924, -1.80595802, -1.80648342, -1.80067736,\n",
       "       -1.80069669, -1.8015693 , -1.80067736, -1.80069669, -1.8015693 ,\n",
       "       -1.80067736, -1.80069669, -1.8015693 , -1.79541752, -1.79557333,\n",
       "       -1.79636073, -1.79541752, -1.79557333, -1.79636073, -1.79541752,\n",
       "       -1.79557333, -1.79636073, -1.79142601, -1.79166281, -1.79211696,\n",
       "       -1.79142601, -1.79166281, -1.79211696, -1.79142601, -1.79166281,\n",
       "       -1.79211696])"
      ]
     },
     "execution_count": 98,
     "metadata": {},
     "output_type": "execute_result"
    }
   ],
   "source": [
    "dtrf_grid_search.cv_results_['mean_test_score']"
   ]
  },
  {
   "cell_type": "code",
   "execution_count": 99,
   "metadata": {},
   "outputs": [
    {
     "data": {
      "text/plain": [
       "{'max_depth': 10,\n",
       " 'max_leaf_nodes': 9,\n",
       " 'min_samples_split': 5,\n",
       " 'n_estimators': 10}"
      ]
     },
     "execution_count": 99,
     "metadata": {},
     "output_type": "execute_result"
    }
   ],
   "source": [
    "dtrf_grid_search.best_params_"
   ]
  },
  {
   "cell_type": "code",
   "execution_count": 100,
   "metadata": {},
   "outputs": [
    {
     "data": {
      "text/plain": [
       "RandomForestRegressor(bootstrap=True, ccp_alpha=0.0, criterion='mse',\n",
       "                      max_depth=10, max_features='auto', max_leaf_nodes=9,\n",
       "                      max_samples=None, min_impurity_decrease=0.0,\n",
       "                      min_impurity_split=None, min_samples_leaf=1,\n",
       "                      min_samples_split=5, min_weight_fraction_leaf=0.0,\n",
       "                      n_estimators=10, n_jobs=None, oob_score=False,\n",
       "                      random_state=23, verbose=0, warm_start=False)"
      ]
     },
     "execution_count": 100,
     "metadata": {},
     "output_type": "execute_result"
    }
   ],
   "source": [
    "dtrf_grid_search.best_estimator_"
   ]
  },
  {
   "cell_type": "code",
   "execution_count": 101,
   "metadata": {},
   "outputs": [],
   "source": [
    "# Get the predicted values and evaluate the training:\n",
    "\n",
    "DTRF_predictions_tt=dtrf_grid_search.best_estimator_.predict(X_test) # predictions for training set"
   ]
  },
  {
   "cell_type": "code",
   "execution_count": 102,
   "metadata": {},
   "outputs": [
    {
     "data": {
      "text/plain": [
       "1.333480910251442"
      ]
     },
     "execution_count": 102,
     "metadata": {},
     "output_type": "execute_result"
    }
   ],
   "source": [
    "# How good is this prediction in training?\n",
    "\n",
    "np.sqrt(np.square(DTRF_predictions_tt-Y_test).mean()) #RMSE calculation"
   ]
  },
  {
   "cell_type": "markdown",
   "metadata": {},
   "source": [
    "<Mark>Interpretation:</Mark> Our model is deviant from the actual values by about 1.33 hours per school night, on average when using the test data. "
   ]
  },
  {
   "cell_type": "code",
   "execution_count": 106,
   "metadata": {},
   "outputs": [
    {
     "data": {
      "image/png": "[encoded data removed]",
      "text/plain": [
       "<Figure size 504x432 with 1 Axes>"
      ]
     },
     "metadata": {
      "needs_background": "light"
     },
     "output_type": "display_data"
    }
   ],
   "source": [
    "#Getting the importance of features from the best random forest model:\n",
    "%matplotlib inline \n",
    "Importance = pd.DataFrame({'Importance':dtrf_grid_search.best_estimator_.feature_importances_*100}, \\\n",
    "                          index=['sex', 'race', 'sexharass', 'smoking', 'vegetables', 'soda', 'breakfast', 'computer'])\n",
    "Importance.sort_values('Importance', axis=0, ascending=True).plot(kind='barh', color='lightsteelblue', )\n",
    "plt.gcf().set_size_inches(7, 6)"
   ]
  },
  {
   "cell_type": "markdown",
   "metadata": {},
   "source": [
    "Other named colors like \"lightsteelblue\" in matplotlib [can be found here](https://matplotlib.org/3.1.0/gallery/color/named_colors.html)"
   ]
  },
  {
   "cell_type": "markdown",
   "metadata": {},
   "source": [
    "#### Boosting Regression"
   ]
  },
  {
   "cell_type": "code",
   "execution_count": 107,
   "metadata": {},
   "outputs": [],
   "source": [
    "DTboostsalesreg=GradientBoostingRegressor(random_state=23)"
   ]
  },
  {
   "cell_type": "code",
   "execution_count": 108,
   "metadata": {},
   "outputs": [],
   "source": [
    "# set the gridsearch parameters for the boosting regression\n",
    "dtboost_param_grid={'n_estimators': [100, 125, 150], 'max_depth':[3,5,7,10], \\\n",
    "                 'max_leaf_nodes':np.arange(2,10), 'min_samples_split':[5,10,20]}"
   ]
  },
  {
   "cell_type": "code",
   "execution_count": 109,
   "metadata": {},
   "outputs": [],
   "source": [
    "# define the gridsearch for the boosting model:\n",
    "\n",
    "dtboost_grid_search = GridSearchCV(DTboostsalesreg, dtboost_param_grid, cv=5, scoring='neg_mean_squared_error')"
   ]
  },
  {
   "cell_type": "code",
   "execution_count": 110,
   "metadata": {},
   "outputs": [
    {
     "data": {
      "text/plain": [
       "GridSearchCV(cv=5, error_score=nan,\n",
       "             estimator=GradientBoostingRegressor(alpha=0.9, ccp_alpha=0.0,\n",
       "                                                 criterion='friedman_mse',\n",
       "                                                 init=None, learning_rate=0.1,\n",
       "                                                 loss='ls', max_depth=3,\n",
       "                                                 max_features=None,\n",
       "                                                 max_leaf_nodes=None,\n",
       "                                                 min_impurity_decrease=0.0,\n",
       "                                                 min_impurity_split=None,\n",
       "                                                 min_samples_leaf=1,\n",
       "                                                 min_samples_split=2,\n",
       "                                                 min_weight_fraction_leaf=0.0,\n",
       "                                                 n_estimators=100,\n",
       "                                                 n_iter_n...\n",
       "                                                 random_state=23, subsample=1.0,\n",
       "                                                 tol=0.0001,\n",
       "                                                 validation_fraction=0.1,\n",
       "                                                 verbose=0, warm_start=False),\n",
       "             iid='deprecated', n_jobs=None,\n",
       "             param_grid={'max_depth': [3, 5, 7, 10],\n",
       "                         'max_leaf_nodes': array([2, 3, 4, 5, 6, 7, 8, 9]),\n",
       "                         'min_samples_split': [5, 10, 20],\n",
       "                         'n_estimators': [100, 125, 150]},\n",
       "             pre_dispatch='2*n_jobs', refit=True, return_train_score=False,\n",
       "             scoring='neg_mean_squared_error', verbose=0)"
      ]
     },
     "execution_count": 110,
     "metadata": {},
     "output_type": "execute_result"
    }
   ],
   "source": [
    "# Fit the model on training data\n",
    "# Since we are using the training portion of the data, we are now \"training\" our model.\n",
    "dtboost_grid_search.fit(X_train, Y_train)"
   ]
  },
  {
   "cell_type": "code",
   "execution_count": 111,
   "metadata": {},
   "outputs": [
    {
     "data": {
      "text/plain": [
       "array([-1.78050922, -1.77824355, -1.77674561, -1.78050922, -1.77824355,\n",
       "       -1.77674561, -1.78050922, -1.77824355, -1.77674561, -1.76859278,\n",
       "       -1.76720817, -1.76666431, -1.76859278, -1.76720817, -1.76666431,\n",
       "       -1.76859278, -1.76720817, -1.76666431, -1.76377144, -1.76330982,\n",
       "       -1.7633787 , -1.76377144, -1.76330982, -1.7633787 , -1.76377144,\n",
       "       -1.76330982, -1.7633787 , -1.76346667, -1.76395464, -1.7644181 ,\n",
       "       -1.76346667, -1.76395464, -1.7644181 , -1.76346667, -1.76395464,\n",
       "       -1.7644181 , -1.76299129, -1.76298039, -1.76354415, -1.76299129,\n",
       "       -1.76298039, -1.76354415, -1.76299129, -1.76298039, -1.76354415,\n",
       "       -1.76365974, -1.764302  , -1.76585989, -1.76365974, -1.764302  ,\n",
       "       -1.76585989, -1.76365974, -1.764302  , -1.76585989, -1.76452443,\n",
       "       -1.76564633, -1.76679087, -1.76452443, -1.76564633, -1.76679087,\n",
       "       -1.76452443, -1.76564633, -1.76679087, -1.76452443, -1.76564633,\n",
       "       -1.76679087, -1.76452443, -1.76564633, -1.76679087, -1.76452443,\n",
       "       -1.76564633, -1.76679087, -1.78050922, -1.77824355, -1.77674561,\n",
       "       -1.78050922, -1.77824355, -1.77674561, -1.78050922, -1.77824355,\n",
       "       -1.77674561, -1.76859278, -1.76720817, -1.76666431, -1.76859278,\n",
       "       -1.76720817, -1.76666431, -1.76859278, -1.76720817, -1.76666431,\n",
       "       -1.76377144, -1.76330982, -1.7633787 , -1.76377144, -1.76330982,\n",
       "       -1.7633787 , -1.76377144, -1.76330982, -1.7633787 , -1.76100751,\n",
       "       -1.76197337, -1.76302113, -1.76088869, -1.76172935, -1.76253153,\n",
       "       -1.76116176, -1.76212974, -1.76258474, -1.76053419, -1.76230483,\n",
       "       -1.76413599, -1.76068176, -1.7620227 , -1.76394463, -1.76074223,\n",
       "       -1.76241437, -1.76385484, -1.76187032, -1.76367011, -1.76477211,\n",
       "       -1.76141559, -1.76263856, -1.76441437, -1.76168438, -1.76350262,\n",
       "       -1.7648907 , -1.76244407, -1.76438213, -1.76591283, -1.76233048,\n",
       "       -1.76487618, -1.76619   , -1.76251067, -1.76456343, -1.76566414,\n",
       "       -1.76283687, -1.76483803, -1.76742848, -1.76215325, -1.76500168,\n",
       "       -1.76622317, -1.76274425, -1.76460997, -1.76673635, -1.78050922,\n",
       "       -1.77824355, -1.77674561, -1.78050922, -1.77824355, -1.77674561,\n",
       "       -1.78050922, -1.77824355, -1.77674561, -1.76859278, -1.76720817,\n",
       "       -1.76666431, -1.76859278, -1.76720817, -1.76666431, -1.76859278,\n",
       "       -1.76720817, -1.76666431, -1.76377144, -1.76330982, -1.7633787 ,\n",
       "       -1.76377144, -1.76330982, -1.7633787 , -1.76377144, -1.76330982,\n",
       "       -1.7633787 , -1.76100751, -1.76197337, -1.76302113, -1.76088869,\n",
       "       -1.76172935, -1.76253153, -1.76116176, -1.76212974, -1.76258474,\n",
       "       -1.76053419, -1.76230483, -1.76413599, -1.76068176, -1.7620227 ,\n",
       "       -1.76394463, -1.76074223, -1.76241437, -1.76385484, -1.76186299,\n",
       "       -1.76364956, -1.76432337, -1.7613493 , -1.76267236, -1.76491473,\n",
       "       -1.76173292, -1.76335426, -1.76491328, -1.76170207, -1.76402621,\n",
       "       -1.76572081, -1.76160485, -1.76385228, -1.76598433, -1.76175098,\n",
       "       -1.76434015, -1.76613739, -1.7618686 , -1.76386926, -1.76596771,\n",
       "       -1.76211036, -1.76461929, -1.76726448, -1.76271489, -1.76509417,\n",
       "       -1.76757939, -1.78050922, -1.77824355, -1.77674561, -1.78050922,\n",
       "       -1.77824355, -1.77674561, -1.78050922, -1.77824355, -1.77674561,\n",
       "       -1.76859278, -1.76720817, -1.76666431, -1.76859278, -1.76720817,\n",
       "       -1.76666431, -1.76859278, -1.76720817, -1.76666431, -1.76377144,\n",
       "       -1.76330982, -1.7633787 , -1.76377144, -1.76330982, -1.7633787 ,\n",
       "       -1.76377144, -1.76330982, -1.7633787 , -1.76100751, -1.76197337,\n",
       "       -1.76302113, -1.76088869, -1.76172935, -1.76253153, -1.76116176,\n",
       "       -1.76212974, -1.76258474, -1.76053419, -1.76230483, -1.76413599,\n",
       "       -1.76068176, -1.7620227 , -1.76394463, -1.76074223, -1.76241437,\n",
       "       -1.76385484, -1.76186299, -1.76364956, -1.76432337, -1.7613493 ,\n",
       "       -1.76267236, -1.76491473, -1.76173292, -1.76335426, -1.76491328,\n",
       "       -1.76170207, -1.76402621, -1.76572081, -1.76160485, -1.76385228,\n",
       "       -1.76598433, -1.76175098, -1.76434015, -1.76613739, -1.76089686,\n",
       "       -1.76358878, -1.76587685, -1.76158611, -1.76419448, -1.76637798,\n",
       "       -1.76218501, -1.76404852, -1.76571135])"
      ]
     },
     "execution_count": 111,
     "metadata": {},
     "output_type": "execute_result"
    }
   ],
   "source": [
    "dtboost_grid_search.cv_results_['mean_test_score']"
   ]
  },
  {
   "cell_type": "code",
   "execution_count": 112,
   "metadata": {},
   "outputs": [
    {
     "data": {
      "text/plain": [
       "{'max_depth': 5,\n",
       " 'max_leaf_nodes': 6,\n",
       " 'min_samples_split': 5,\n",
       " 'n_estimators': 100}"
      ]
     },
     "execution_count": 112,
     "metadata": {},
     "output_type": "execute_result"
    }
   ],
   "source": [
    "dtboost_grid_search.best_params_"
   ]
  },
  {
   "cell_type": "code",
   "execution_count": 113,
   "metadata": {},
   "outputs": [
    {
     "data": {
      "text/plain": [
       "GradientBoostingRegressor(alpha=0.9, ccp_alpha=0.0, criterion='friedman_mse',\n",
       "                          init=None, learning_rate=0.1, loss='ls', max_depth=5,\n",
       "                          max_features=None, max_leaf_nodes=6,\n",
       "                          min_impurity_decrease=0.0, min_impurity_split=None,\n",
       "                          min_samples_leaf=1, min_samples_split=5,\n",
       "                          min_weight_fraction_leaf=0.0, n_estimators=100,\n",
       "                          n_iter_no_change=None, presort='deprecated',\n",
       "                          random_state=23, subsample=1.0, tol=0.0001,\n",
       "                          validation_fraction=0.1, verbose=0, warm_start=False)"
      ]
     },
     "execution_count": 113,
     "metadata": {},
     "output_type": "execute_result"
    }
   ],
   "source": [
    "dtboost_grid_search.best_estimator_"
   ]
  },
  {
   "cell_type": "code",
   "execution_count": 114,
   "metadata": {},
   "outputs": [],
   "source": [
    "# Get the predicted values and evaluate the bossting model:\n",
    "\n",
    "DTboost_predictions_tt=dtboost_grid_search.best_estimator_.predict(X_test) # predictions for test set"
   ]
  },
  {
   "cell_type": "code",
   "execution_count": 115,
   "metadata": {},
   "outputs": [
    {
     "data": {
      "text/plain": [
       "1.3238181384758354"
      ]
     },
     "execution_count": 115,
     "metadata": {},
     "output_type": "execute_result"
    }
   ],
   "source": [
    "# How good is this prediction?\n",
    "\n",
    "np.sqrt(np.square(DTboost_predictions_tt-Y_test).mean()) #RMSE calculation"
   ]
  },
  {
   "cell_type": "markdown",
   "metadata": {},
   "source": [
    "<Mark>Interpretation:</Mark> Our model is deviant from the actual values by about 1.32 hours per school night, on average when using the test data. "
   ]
  },
  {
   "cell_type": "code",
   "execution_count": 117,
   "metadata": {},
   "outputs": [
    {
     "data": {
      "image/png": "[encoded data removed]",
      "text/plain": [
       "<Figure size 288x216 with 1 Axes>"
      ]
     },
     "metadata": {
      "needs_background": "light"
     },
     "output_type": "display_data"
    }
   ],
   "source": [
    "#Getting the importance of features from the best boosting model:\n",
    "%matplotlib inline \n",
    "Importance = pd.DataFrame({'Importance':dtboost_grid_search.best_estimator_.feature_importances_*100}, \\\n",
    "                          index=['sex', 'race', 'sexharass', 'smoking', 'vegetables', 'soda', 'breakfast', 'computer'])\n",
    "Importance.sort_values('Importance', axis=0, ascending=True).plot(kind='barh', color='lightsteelblue', )\n",
    "plt.gcf().set_size_inches(4, 3)"
   ]
  },
  {
   "cell_type": "markdown",
   "metadata": {},
   "source": [
    "### Classification method"
   ]
  },
  {
   "cell_type": "code",
   "execution_count": 37,
   "metadata": {},
   "outputs": [],
   "source": [
    "# reading the caravan insurance dataset:\n",
    "df1 = pd.read_csv('sleeping.csv')"
   ]
  },
  {
   "cell_type": "code",
   "execution_count": 38,
   "metadata": {},
   "outputs": [
    {
     "data": {
      "text/plain": [
       "Index(['sleeping', 'sex', 'race', 'sexharass', 'smoking', 'vegetables', 'soda',\n",
       "       'breakfast', 'computer'],\n",
       "      dtype='object')"
      ]
     },
     "execution_count": 38,
     "metadata": {},
     "output_type": "execute_result"
    }
   ],
   "source": [
    "df1.columns"
   ]
  },
  {
   "cell_type": "code",
   "execution_count": 39,
   "metadata": {},
   "outputs": [
    {
     "data": {
      "text/html": [
       "<div>\n",
       "<style scoped>\n",
       "    .dataframe tbody tr th:only-of-type {\n",
       "        vertical-align: middle;\n",
       "    }\n",
       "\n",
       "    .dataframe tbody tr th {\n",
       "        vertical-align: top;\n",
       "    }\n",
       "\n",
       "    .dataframe thead th {\n",
       "        text-align: right;\n",
       "    }\n",
       "</style>\n",
       "<table border=\"1\" class=\"dataframe\">\n",
       "  <thead>\n",
       "    <tr style=\"text-align: right;\">\n",
       "      <th></th>\n",
       "      <th>sleeping</th>\n",
       "      <th>sex</th>\n",
       "      <th>race</th>\n",
       "      <th>sexharass</th>\n",
       "      <th>smoking</th>\n",
       "      <th>vegetables</th>\n",
       "      <th>soda</th>\n",
       "      <th>breakfast</th>\n",
       "      <th>computer</th>\n",
       "      <th>sleepcat</th>\n",
       "    </tr>\n",
       "  </thead>\n",
       "  <tbody>\n",
       "    <tr>\n",
       "      <th>0</th>\n",
       "      <td>1</td>\n",
       "      <td>2</td>\n",
       "      <td>4</td>\n",
       "      <td>4</td>\n",
       "      <td>4</td>\n",
       "      <td>3</td>\n",
       "      <td>2</td>\n",
       "      <td>3</td>\n",
       "      <td>3</td>\n",
       "      <td>short</td>\n",
       "    </tr>\n",
       "    <tr>\n",
       "      <th>1</th>\n",
       "      <td>1</td>\n",
       "      <td>2</td>\n",
       "      <td>3</td>\n",
       "      <td>1</td>\n",
       "      <td>1</td>\n",
       "      <td>2</td>\n",
       "      <td>1</td>\n",
       "      <td>1</td>\n",
       "      <td>2</td>\n",
       "      <td>short</td>\n",
       "    </tr>\n",
       "    <tr>\n",
       "      <th>2</th>\n",
       "      <td>1</td>\n",
       "      <td>2</td>\n",
       "      <td>4</td>\n",
       "      <td>1</td>\n",
       "      <td>1</td>\n",
       "      <td>1</td>\n",
       "      <td>1</td>\n",
       "      <td>1</td>\n",
       "      <td>1</td>\n",
       "      <td>short</td>\n",
       "    </tr>\n",
       "  </tbody>\n",
       "</table>\n",
       "</div>"
      ],
      "text/plain": [
       "   sleeping  sex  race  sexharass  smoking  vegetables  soda  breakfast  \\\n",
       "0         1    2     4          4        4           3     2          3   \n",
       "1         1    2     3          1        1           2     1          1   \n",
       "2         1    2     4          1        1           1     1          1   \n",
       "\n",
       "   computer sleepcat  \n",
       "0         3    short  \n",
       "1         2    short  \n",
       "2         1    short  "
      ]
     },
     "execution_count": 39,
     "metadata": {},
     "output_type": "execute_result"
    }
   ],
   "source": [
    "df1['sleepcat']=pd.cut(df1['sleeping'], bins=[0,4,8], labels=['short', 'long']) # 0 = short, 1 =long\n",
    "df1.head(3)"
   ]
  },
  {
   "cell_type": "code",
   "execution_count": 40,
   "metadata": {},
   "outputs": [],
   "source": [
    "healthdummy=pd.get_dummies(df1['sleepcat'])\n",
    "df1['sleepcatlong']=healthdummy['long']\n",
    "yvar= df1.sleepcatlong.astype('float64')\n",
    "Xvar = df1.drop(['sleeping', 'sleepcat','sleepcatlong'], axis=1).astype('float64')"
   ]
  },
  {
   "cell_type": "code",
   "execution_count": 41,
   "metadata": {},
   "outputs": [
    {
     "name": "stdout",
     "output_type": "stream",
     "text": [
      "(27165, 8) (27165,)\n",
      "(9055, 8) (9055,)\n"
     ]
    }
   ],
   "source": [
    "# Second, split the data into training and test portions:\n",
    "\n",
    "X2_train, X2_test, Y2_train, Y2_test = train_test_split(Xvar, yvar, test_size=0.25, random_state=7)\n",
    "print(X2_train.shape, Y2_train.shape)\n",
    "print(X2_test.shape, Y2_test.shape)"
   ]
  },
  {
   "cell_type": "code",
   "execution_count": null,
   "metadata": {},
   "outputs": [],
   "source": []
  },
  {
   "cell_type": "code",
   "execution_count": 47,
   "metadata": {},
   "outputs": [],
   "source": [
    "# Select the model approach for fitting: Decision Tree Classifier\n",
    "\n",
    "DT_insurance = DecisionTreeClassifier(random_state=23)"
   ]
  },
  {
   "cell_type": "code",
   "execution_count": 51,
   "metadata": {},
   "outputs": [],
   "source": [
    "# set the gridsearch parameters for decision tree\n",
    "dtc_param_grid={'max_depth':[5, 7, 10], 'max_leaf_nodes':np.arange(2,10), 'max_features': [5, 8, 11]}"
   ]
  },
  {
   "cell_type": "code",
   "execution_count": 52,
   "metadata": {},
   "outputs": [],
   "source": [
    "# define the gridsearch for decision tree classification:\n",
    "dtc_grid_search = GridSearchCV(DT_insurance, dtc_param_grid, cv=5, scoring='accuracy')"
   ]
  },
  {
   "cell_type": "code",
   "execution_count": 53,
   "metadata": {},
   "outputs": [
    {
     "name": "stderr",
     "output_type": "stream",
     "text": [
      "C:\\Users\\edwar\\anaconda3\\lib\\site-packages\\sklearn\\model_selection\\_validation.py:536: FitFailedWarning: Estimator fit failed. The score on this train-test partition for these parameters will be set to nan. Details: \n",
      "ValueError: max_features must be in (0, n_features]\n",
      "\n",
      "  FitFailedWarning)\n",
      "C:\\Users\\edwar\\anaconda3\\lib\\site-packages\\sklearn\\model_selection\\_validation.py:536: FitFailedWarning: Estimator fit failed. The score on this train-test partition for these parameters will be set to nan. Details: \n",
      "ValueError: max_features must be in (0, n_features]\n",
      "\n",
      "  FitFailedWarning)\n",
      "C:\\Users\\edwar\\anaconda3\\lib\\site-packages\\sklearn\\model_selection\\_validation.py:536: FitFailedWarning: Estimator fit failed. The score on this train-test partition for these parameters will be set to nan. Details: \n",
      "ValueError: max_features must be in (0, n_features]\n",
      "\n",
      "  FitFailedWarning)\n",
      "C:\\Users\\edwar\\anaconda3\\lib\\site-packages\\sklearn\\model_selection\\_validation.py:536: FitFailedWarning: Estimator fit failed. The score on this train-test partition for these parameters will be set to nan. Details: \n",
      "ValueError: max_features must be in (0, n_features]\n",
      "\n",
      "  FitFailedWarning)\n",
      "C:\\Users\\edwar\\anaconda3\\lib\\site-packages\\sklearn\\model_selection\\_validation.py:536: FitFailedWarning: Estimator fit failed. The score on this train-test partition for these parameters will be set to nan. Details: \n",
      "ValueError: max_features must be in (0, n_features]\n",
      "\n",
      "  FitFailedWarning)\n",
      "C:\\Users\\edwar\\anaconda3\\lib\\site-packages\\sklearn\\model_selection\\_validation.py:536: FitFailedWarning: Estimator fit failed. The score on this train-test partition for these parameters will be set to nan. Details: \n",
      "ValueError: max_features must be in (0, n_features]\n",
      "\n",
      "  FitFailedWarning)\n",
      "C:\\Users\\edwar\\anaconda3\\lib\\site-packages\\sklearn\\model_selection\\_validation.py:536: FitFailedWarning: Estimator fit failed. The score on this train-test partition for these parameters will be set to nan. Details: \n",
      "ValueError: max_features must be in (0, n_features]\n",
      "\n",
      "  FitFailedWarning)\n",
      "C:\\Users\\edwar\\anaconda3\\lib\\site-packages\\sklearn\\model_selection\\_validation.py:536: FitFailedWarning: Estimator fit failed. The score on this train-test partition for these parameters will be set to nan. Details: \n",
      "ValueError: max_features must be in (0, n_features]\n",
      "\n",
      "  FitFailedWarning)\n",
      "C:\\Users\\edwar\\anaconda3\\lib\\site-packages\\sklearn\\model_selection\\_validation.py:536: FitFailedWarning: Estimator fit failed. The score on this train-test partition for these parameters will be set to nan. Details: \n",
      "ValueError: max_features must be in (0, n_features]\n",
      "\n",
      "  FitFailedWarning)\n",
      "C:\\Users\\edwar\\anaconda3\\lib\\site-packages\\sklearn\\model_selection\\_validation.py:536: FitFailedWarning: Estimator fit failed. The score on this train-test partition for these parameters will be set to nan. Details: \n",
      "ValueError: max_features must be in (0, n_features]\n",
      "\n",
      "  FitFailedWarning)\n",
      "C:\\Users\\edwar\\anaconda3\\lib\\site-packages\\sklearn\\model_selection\\_validation.py:536: FitFailedWarning: Estimator fit failed. The score on this train-test partition for these parameters will be set to nan. Details: \n",
      "ValueError: max_features must be in (0, n_features]\n",
      "\n",
      "  FitFailedWarning)\n",
      "C:\\Users\\edwar\\anaconda3\\lib\\site-packages\\sklearn\\model_selection\\_validation.py:536: FitFailedWarning: Estimator fit failed. The score on this train-test partition for these parameters will be set to nan. Details: \n",
      "ValueError: max_features must be in (0, n_features]\n",
      "\n",
      "  FitFailedWarning)\n",
      "C:\\Users\\edwar\\anaconda3\\lib\\site-packages\\sklearn\\model_selection\\_validation.py:536: FitFailedWarning: Estimator fit failed. The score on this train-test partition for these parameters will be set to nan. Details: \n",
      "ValueError: max_features must be in (0, n_features]\n",
      "\n",
      "  FitFailedWarning)\n",
      "C:\\Users\\edwar\\anaconda3\\lib\\site-packages\\sklearn\\model_selection\\_validation.py:536: FitFailedWarning: Estimator fit failed. The score on this train-test partition for these parameters will be set to nan. Details: \n",
      "ValueError: max_features must be in (0, n_features]\n",
      "\n",
      "  FitFailedWarning)\n",
      "C:\\Users\\edwar\\anaconda3\\lib\\site-packages\\sklearn\\model_selection\\_validation.py:536: FitFailedWarning: Estimator fit failed. The score on this train-test partition for these parameters will be set to nan. Details: \n",
      "ValueError: max_features must be in (0, n_features]\n",
      "\n",
      "  FitFailedWarning)\n",
      "C:\\Users\\edwar\\anaconda3\\lib\\site-packages\\sklearn\\model_selection\\_validation.py:536: FitFailedWarning: Estimator fit failed. The score on this train-test partition for these parameters will be set to nan. Details: \n",
      "ValueError: max_features must be in (0, n_features]\n",
      "\n",
      "  FitFailedWarning)\n",
      "C:\\Users\\edwar\\anaconda3\\lib\\site-packages\\sklearn\\model_selection\\_validation.py:536: FitFailedWarning: Estimator fit failed. The score on this train-test partition for these parameters will be set to nan. Details: \n",
      "ValueError: max_features must be in (0, n_features]\n",
      "\n",
      "  FitFailedWarning)\n",
      "C:\\Users\\edwar\\anaconda3\\lib\\site-packages\\sklearn\\model_selection\\_validation.py:536: FitFailedWarning: Estimator fit failed. The score on this train-test partition for these parameters will be set to nan. Details: \n",
      "ValueError: max_features must be in (0, n_features]\n",
      "\n",
      "  FitFailedWarning)\n",
      "C:\\Users\\edwar\\anaconda3\\lib\\site-packages\\sklearn\\model_selection\\_validation.py:536: FitFailedWarning: Estimator fit failed. The score on this train-test partition for these parameters will be set to nan. Details: \n",
      "ValueError: max_features must be in (0, n_features]\n",
      "\n",
      "  FitFailedWarning)\n",
      "C:\\Users\\edwar\\anaconda3\\lib\\site-packages\\sklearn\\model_selection\\_validation.py:536: FitFailedWarning: Estimator fit failed. The score on this train-test partition for these parameters will be set to nan. Details: \n",
      "ValueError: max_features must be in (0, n_features]\n",
      "\n",
      "  FitFailedWarning)\n",
      "C:\\Users\\edwar\\anaconda3\\lib\\site-packages\\sklearn\\model_selection\\_validation.py:536: FitFailedWarning: Estimator fit failed. The score on this train-test partition for these parameters will be set to nan. Details: \n",
      "ValueError: max_features must be in (0, n_features]\n",
      "\n",
      "  FitFailedWarning)\n",
      "C:\\Users\\edwar\\anaconda3\\lib\\site-packages\\sklearn\\model_selection\\_validation.py:536: FitFailedWarning: Estimator fit failed. The score on this train-test partition for these parameters will be set to nan. Details: \n",
      "ValueError: max_features must be in (0, n_features]\n",
      "\n",
      "  FitFailedWarning)\n",
      "C:\\Users\\edwar\\anaconda3\\lib\\site-packages\\sklearn\\model_selection\\_validation.py:536: FitFailedWarning: Estimator fit failed. The score on this train-test partition for these parameters will be set to nan. Details: \n",
      "ValueError: max_features must be in (0, n_features]\n",
      "\n",
      "  FitFailedWarning)\n",
      "C:\\Users\\edwar\\anaconda3\\lib\\site-packages\\sklearn\\model_selection\\_validation.py:536: FitFailedWarning: Estimator fit failed. The score on this train-test partition for these parameters will be set to nan. Details: \n",
      "ValueError: max_features must be in (0, n_features]\n",
      "\n",
      "  FitFailedWarning)\n",
      "C:\\Users\\edwar\\anaconda3\\lib\\site-packages\\sklearn\\model_selection\\_validation.py:536: FitFailedWarning: Estimator fit failed. The score on this train-test partition for these parameters will be set to nan. Details: \n",
      "ValueError: max_features must be in (0, n_features]\n",
      "\n",
      "  FitFailedWarning)\n",
      "C:\\Users\\edwar\\anaconda3\\lib\\site-packages\\sklearn\\model_selection\\_validation.py:536: FitFailedWarning: Estimator fit failed. The score on this train-test partition for these parameters will be set to nan. Details: \n",
      "ValueError: max_features must be in (0, n_features]\n",
      "\n",
      "  FitFailedWarning)\n",
      "C:\\Users\\edwar\\anaconda3\\lib\\site-packages\\sklearn\\model_selection\\_validation.py:536: FitFailedWarning: Estimator fit failed. The score on this train-test partition for these parameters will be set to nan. Details: \n",
      "ValueError: max_features must be in (0, n_features]\n",
      "\n",
      "  FitFailedWarning)\n",
      "C:\\Users\\edwar\\anaconda3\\lib\\site-packages\\sklearn\\model_selection\\_validation.py:536: FitFailedWarning: Estimator fit failed. The score on this train-test partition for these parameters will be set to nan. Details: \n",
      "ValueError: max_features must be in (0, n_features]\n",
      "\n",
      "  FitFailedWarning)\n",
      "C:\\Users\\edwar\\anaconda3\\lib\\site-packages\\sklearn\\model_selection\\_validation.py:536: FitFailedWarning: Estimator fit failed. The score on this train-test partition for these parameters will be set to nan. Details: \n",
      "ValueError: max_features must be in (0, n_features]\n",
      "\n",
      "  FitFailedWarning)\n",
      "C:\\Users\\edwar\\anaconda3\\lib\\site-packages\\sklearn\\model_selection\\_validation.py:536: FitFailedWarning: Estimator fit failed. The score on this train-test partition for these parameters will be set to nan. Details: \n",
      "ValueError: max_features must be in (0, n_features]\n",
      "\n",
      "  FitFailedWarning)\n",
      "C:\\Users\\edwar\\anaconda3\\lib\\site-packages\\sklearn\\model_selection\\_validation.py:536: FitFailedWarning: Estimator fit failed. The score on this train-test partition for these parameters will be set to nan. Details: \n",
      "ValueError: max_features must be in (0, n_features]\n",
      "\n",
      "  FitFailedWarning)\n"
     ]
    },
    {
     "name": "stderr",
     "output_type": "stream",
     "text": [
      "C:\\Users\\edwar\\anaconda3\\lib\\site-packages\\sklearn\\model_selection\\_validation.py:536: FitFailedWarning: Estimator fit failed. The score on this train-test partition for these parameters will be set to nan. Details: \n",
      "ValueError: max_features must be in (0, n_features]\n",
      "\n",
      "  FitFailedWarning)\n",
      "C:\\Users\\edwar\\anaconda3\\lib\\site-packages\\sklearn\\model_selection\\_validation.py:536: FitFailedWarning: Estimator fit failed. The score on this train-test partition for these parameters will be set to nan. Details: \n",
      "ValueError: max_features must be in (0, n_features]\n",
      "\n",
      "  FitFailedWarning)\n",
      "C:\\Users\\edwar\\anaconda3\\lib\\site-packages\\sklearn\\model_selection\\_validation.py:536: FitFailedWarning: Estimator fit failed. The score on this train-test partition for these parameters will be set to nan. Details: \n",
      "ValueError: max_features must be in (0, n_features]\n",
      "\n",
      "  FitFailedWarning)\n",
      "C:\\Users\\edwar\\anaconda3\\lib\\site-packages\\sklearn\\model_selection\\_validation.py:536: FitFailedWarning: Estimator fit failed. The score on this train-test partition for these parameters will be set to nan. Details: \n",
      "ValueError: max_features must be in (0, n_features]\n",
      "\n",
      "  FitFailedWarning)\n",
      "C:\\Users\\edwar\\anaconda3\\lib\\site-packages\\sklearn\\model_selection\\_validation.py:536: FitFailedWarning: Estimator fit failed. The score on this train-test partition for these parameters will be set to nan. Details: \n",
      "ValueError: max_features must be in (0, n_features]\n",
      "\n",
      "  FitFailedWarning)\n",
      "C:\\Users\\edwar\\anaconda3\\lib\\site-packages\\sklearn\\model_selection\\_validation.py:536: FitFailedWarning: Estimator fit failed. The score on this train-test partition for these parameters will be set to nan. Details: \n",
      "ValueError: max_features must be in (0, n_features]\n",
      "\n",
      "  FitFailedWarning)\n",
      "C:\\Users\\edwar\\anaconda3\\lib\\site-packages\\sklearn\\model_selection\\_validation.py:536: FitFailedWarning: Estimator fit failed. The score on this train-test partition for these parameters will be set to nan. Details: \n",
      "ValueError: max_features must be in (0, n_features]\n",
      "\n",
      "  FitFailedWarning)\n",
      "C:\\Users\\edwar\\anaconda3\\lib\\site-packages\\sklearn\\model_selection\\_validation.py:536: FitFailedWarning: Estimator fit failed. The score on this train-test partition for these parameters will be set to nan. Details: \n",
      "ValueError: max_features must be in (0, n_features]\n",
      "\n",
      "  FitFailedWarning)\n",
      "C:\\Users\\edwar\\anaconda3\\lib\\site-packages\\sklearn\\model_selection\\_validation.py:536: FitFailedWarning: Estimator fit failed. The score on this train-test partition for these parameters will be set to nan. Details: \n",
      "ValueError: max_features must be in (0, n_features]\n",
      "\n",
      "  FitFailedWarning)\n",
      "C:\\Users\\edwar\\anaconda3\\lib\\site-packages\\sklearn\\model_selection\\_validation.py:536: FitFailedWarning: Estimator fit failed. The score on this train-test partition for these parameters will be set to nan. Details: \n",
      "ValueError: max_features must be in (0, n_features]\n",
      "\n",
      "  FitFailedWarning)\n",
      "C:\\Users\\edwar\\anaconda3\\lib\\site-packages\\sklearn\\model_selection\\_validation.py:536: FitFailedWarning: Estimator fit failed. The score on this train-test partition for these parameters will be set to nan. Details: \n",
      "ValueError: max_features must be in (0, n_features]\n",
      "\n",
      "  FitFailedWarning)\n",
      "C:\\Users\\edwar\\anaconda3\\lib\\site-packages\\sklearn\\model_selection\\_validation.py:536: FitFailedWarning: Estimator fit failed. The score on this train-test partition for these parameters will be set to nan. Details: \n",
      "ValueError: max_features must be in (0, n_features]\n",
      "\n",
      "  FitFailedWarning)\n",
      "C:\\Users\\edwar\\anaconda3\\lib\\site-packages\\sklearn\\model_selection\\_validation.py:536: FitFailedWarning: Estimator fit failed. The score on this train-test partition for these parameters will be set to nan. Details: \n",
      "ValueError: max_features must be in (0, n_features]\n",
      "\n",
      "  FitFailedWarning)\n",
      "C:\\Users\\edwar\\anaconda3\\lib\\site-packages\\sklearn\\model_selection\\_validation.py:536: FitFailedWarning: Estimator fit failed. The score on this train-test partition for these parameters will be set to nan. Details: \n",
      "ValueError: max_features must be in (0, n_features]\n",
      "\n",
      "  FitFailedWarning)\n",
      "C:\\Users\\edwar\\anaconda3\\lib\\site-packages\\sklearn\\model_selection\\_validation.py:536: FitFailedWarning: Estimator fit failed. The score on this train-test partition for these parameters will be set to nan. Details: \n",
      "ValueError: max_features must be in (0, n_features]\n",
      "\n",
      "  FitFailedWarning)\n",
      "C:\\Users\\edwar\\anaconda3\\lib\\site-packages\\sklearn\\model_selection\\_validation.py:536: FitFailedWarning: Estimator fit failed. The score on this train-test partition for these parameters will be set to nan. Details: \n",
      "ValueError: max_features must be in (0, n_features]\n",
      "\n",
      "  FitFailedWarning)\n",
      "C:\\Users\\edwar\\anaconda3\\lib\\site-packages\\sklearn\\model_selection\\_validation.py:536: FitFailedWarning: Estimator fit failed. The score on this train-test partition for these parameters will be set to nan. Details: \n",
      "ValueError: max_features must be in (0, n_features]\n",
      "\n",
      "  FitFailedWarning)\n",
      "C:\\Users\\edwar\\anaconda3\\lib\\site-packages\\sklearn\\model_selection\\_validation.py:536: FitFailedWarning: Estimator fit failed. The score on this train-test partition for these parameters will be set to nan. Details: \n",
      "ValueError: max_features must be in (0, n_features]\n",
      "\n",
      "  FitFailedWarning)\n",
      "C:\\Users\\edwar\\anaconda3\\lib\\site-packages\\sklearn\\model_selection\\_validation.py:536: FitFailedWarning: Estimator fit failed. The score on this train-test partition for these parameters will be set to nan. Details: \n",
      "ValueError: max_features must be in (0, n_features]\n",
      "\n",
      "  FitFailedWarning)\n",
      "C:\\Users\\edwar\\anaconda3\\lib\\site-packages\\sklearn\\model_selection\\_validation.py:536: FitFailedWarning: Estimator fit failed. The score on this train-test partition for these parameters will be set to nan. Details: \n",
      "ValueError: max_features must be in (0, n_features]\n",
      "\n",
      "  FitFailedWarning)\n",
      "C:\\Users\\edwar\\anaconda3\\lib\\site-packages\\sklearn\\model_selection\\_validation.py:536: FitFailedWarning: Estimator fit failed. The score on this train-test partition for these parameters will be set to nan. Details: \n",
      "ValueError: max_features must be in (0, n_features]\n",
      "\n",
      "  FitFailedWarning)\n",
      "C:\\Users\\edwar\\anaconda3\\lib\\site-packages\\sklearn\\model_selection\\_validation.py:536: FitFailedWarning: Estimator fit failed. The score on this train-test partition for these parameters will be set to nan. Details: \n",
      "ValueError: max_features must be in (0, n_features]\n",
      "\n",
      "  FitFailedWarning)\n",
      "C:\\Users\\edwar\\anaconda3\\lib\\site-packages\\sklearn\\model_selection\\_validation.py:536: FitFailedWarning: Estimator fit failed. The score on this train-test partition for these parameters will be set to nan. Details: \n",
      "ValueError: max_features must be in (0, n_features]\n",
      "\n",
      "  FitFailedWarning)\n",
      "C:\\Users\\edwar\\anaconda3\\lib\\site-packages\\sklearn\\model_selection\\_validation.py:536: FitFailedWarning: Estimator fit failed. The score on this train-test partition for these parameters will be set to nan. Details: \n",
      "ValueError: max_features must be in (0, n_features]\n",
      "\n",
      "  FitFailedWarning)\n",
      "C:\\Users\\edwar\\anaconda3\\lib\\site-packages\\sklearn\\model_selection\\_validation.py:536: FitFailedWarning: Estimator fit failed. The score on this train-test partition for these parameters will be set to nan. Details: \n",
      "ValueError: max_features must be in (0, n_features]\n",
      "\n",
      "  FitFailedWarning)\n",
      "C:\\Users\\edwar\\anaconda3\\lib\\site-packages\\sklearn\\model_selection\\_validation.py:536: FitFailedWarning: Estimator fit failed. The score on this train-test partition for these parameters will be set to nan. Details: \n",
      "ValueError: max_features must be in (0, n_features]\n",
      "\n",
      "  FitFailedWarning)\n",
      "C:\\Users\\edwar\\anaconda3\\lib\\site-packages\\sklearn\\model_selection\\_validation.py:536: FitFailedWarning: Estimator fit failed. The score on this train-test partition for these parameters will be set to nan. Details: \n",
      "ValueError: max_features must be in (0, n_features]\n",
      "\n",
      "  FitFailedWarning)\n",
      "C:\\Users\\edwar\\anaconda3\\lib\\site-packages\\sklearn\\model_selection\\_validation.py:536: FitFailedWarning: Estimator fit failed. The score on this train-test partition for these parameters will be set to nan. Details: \n",
      "ValueError: max_features must be in (0, n_features]\n",
      "\n",
      "  FitFailedWarning)\n",
      "C:\\Users\\edwar\\anaconda3\\lib\\site-packages\\sklearn\\model_selection\\_validation.py:536: FitFailedWarning: Estimator fit failed. The score on this train-test partition for these parameters will be set to nan. Details: \n",
      "ValueError: max_features must be in (0, n_features]\n",
      "\n",
      "  FitFailedWarning)\n",
      "C:\\Users\\edwar\\anaconda3\\lib\\site-packages\\sklearn\\model_selection\\_validation.py:536: FitFailedWarning: Estimator fit failed. The score on this train-test partition for these parameters will be set to nan. Details: \n",
      "ValueError: max_features must be in (0, n_features]\n",
      "\n",
      "  FitFailedWarning)\n",
      "C:\\Users\\edwar\\anaconda3\\lib\\site-packages\\sklearn\\model_selection\\_validation.py:536: FitFailedWarning: Estimator fit failed. The score on this train-test partition for these parameters will be set to nan. Details: \n",
      "ValueError: max_features must be in (0, n_features]\n",
      "\n",
      "  FitFailedWarning)\n",
      "C:\\Users\\edwar\\anaconda3\\lib\\site-packages\\sklearn\\model_selection\\_validation.py:536: FitFailedWarning: Estimator fit failed. The score on this train-test partition for these parameters will be set to nan. Details: \n",
      "ValueError: max_features must be in (0, n_features]\n",
      "\n",
      "  FitFailedWarning)\n"
     ]
    },
    {
     "name": "stderr",
     "output_type": "stream",
     "text": [
      "C:\\Users\\edwar\\anaconda3\\lib\\site-packages\\sklearn\\model_selection\\_validation.py:536: FitFailedWarning: Estimator fit failed. The score on this train-test partition for these parameters will be set to nan. Details: \n",
      "ValueError: max_features must be in (0, n_features]\n",
      "\n",
      "  FitFailedWarning)\n",
      "C:\\Users\\edwar\\anaconda3\\lib\\site-packages\\sklearn\\model_selection\\_validation.py:536: FitFailedWarning: Estimator fit failed. The score on this train-test partition for these parameters will be set to nan. Details: \n",
      "ValueError: max_features must be in (0, n_features]\n",
      "\n",
      "  FitFailedWarning)\n",
      "C:\\Users\\edwar\\anaconda3\\lib\\site-packages\\sklearn\\model_selection\\_validation.py:536: FitFailedWarning: Estimator fit failed. The score on this train-test partition for these parameters will be set to nan. Details: \n",
      "ValueError: max_features must be in (0, n_features]\n",
      "\n",
      "  FitFailedWarning)\n",
      "C:\\Users\\edwar\\anaconda3\\lib\\site-packages\\sklearn\\model_selection\\_validation.py:536: FitFailedWarning: Estimator fit failed. The score on this train-test partition for these parameters will be set to nan. Details: \n",
      "ValueError: max_features must be in (0, n_features]\n",
      "\n",
      "  FitFailedWarning)\n",
      "C:\\Users\\edwar\\anaconda3\\lib\\site-packages\\sklearn\\model_selection\\_validation.py:536: FitFailedWarning: Estimator fit failed. The score on this train-test partition for these parameters will be set to nan. Details: \n",
      "ValueError: max_features must be in (0, n_features]\n",
      "\n",
      "  FitFailedWarning)\n",
      "C:\\Users\\edwar\\anaconda3\\lib\\site-packages\\sklearn\\model_selection\\_validation.py:536: FitFailedWarning: Estimator fit failed. The score on this train-test partition for these parameters will be set to nan. Details: \n",
      "ValueError: max_features must be in (0, n_features]\n",
      "\n",
      "  FitFailedWarning)\n",
      "C:\\Users\\edwar\\anaconda3\\lib\\site-packages\\sklearn\\model_selection\\_validation.py:536: FitFailedWarning: Estimator fit failed. The score on this train-test partition for these parameters will be set to nan. Details: \n",
      "ValueError: max_features must be in (0, n_features]\n",
      "\n",
      "  FitFailedWarning)\n",
      "C:\\Users\\edwar\\anaconda3\\lib\\site-packages\\sklearn\\model_selection\\_validation.py:536: FitFailedWarning: Estimator fit failed. The score on this train-test partition for these parameters will be set to nan. Details: \n",
      "ValueError: max_features must be in (0, n_features]\n",
      "\n",
      "  FitFailedWarning)\n",
      "C:\\Users\\edwar\\anaconda3\\lib\\site-packages\\sklearn\\model_selection\\_validation.py:536: FitFailedWarning: Estimator fit failed. The score on this train-test partition for these parameters will be set to nan. Details: \n",
      "ValueError: max_features must be in (0, n_features]\n",
      "\n",
      "  FitFailedWarning)\n",
      "C:\\Users\\edwar\\anaconda3\\lib\\site-packages\\sklearn\\model_selection\\_validation.py:536: FitFailedWarning: Estimator fit failed. The score on this train-test partition for these parameters will be set to nan. Details: \n",
      "ValueError: max_features must be in (0, n_features]\n",
      "\n",
      "  FitFailedWarning)\n",
      "C:\\Users\\edwar\\anaconda3\\lib\\site-packages\\sklearn\\model_selection\\_validation.py:536: FitFailedWarning: Estimator fit failed. The score on this train-test partition for these parameters will be set to nan. Details: \n",
      "ValueError: max_features must be in (0, n_features]\n",
      "\n",
      "  FitFailedWarning)\n",
      "C:\\Users\\edwar\\anaconda3\\lib\\site-packages\\sklearn\\model_selection\\_validation.py:536: FitFailedWarning: Estimator fit failed. The score on this train-test partition for these parameters will be set to nan. Details: \n",
      "ValueError: max_features must be in (0, n_features]\n",
      "\n",
      "  FitFailedWarning)\n",
      "C:\\Users\\edwar\\anaconda3\\lib\\site-packages\\sklearn\\model_selection\\_validation.py:536: FitFailedWarning: Estimator fit failed. The score on this train-test partition for these parameters will be set to nan. Details: \n",
      "ValueError: max_features must be in (0, n_features]\n",
      "\n",
      "  FitFailedWarning)\n",
      "C:\\Users\\edwar\\anaconda3\\lib\\site-packages\\sklearn\\model_selection\\_validation.py:536: FitFailedWarning: Estimator fit failed. The score on this train-test partition for these parameters will be set to nan. Details: \n",
      "ValueError: max_features must be in (0, n_features]\n",
      "\n",
      "  FitFailedWarning)\n",
      "C:\\Users\\edwar\\anaconda3\\lib\\site-packages\\sklearn\\model_selection\\_validation.py:536: FitFailedWarning: Estimator fit failed. The score on this train-test partition for these parameters will be set to nan. Details: \n",
      "ValueError: max_features must be in (0, n_features]\n",
      "\n",
      "  FitFailedWarning)\n",
      "C:\\Users\\edwar\\anaconda3\\lib\\site-packages\\sklearn\\model_selection\\_validation.py:536: FitFailedWarning: Estimator fit failed. The score on this train-test partition for these parameters will be set to nan. Details: \n",
      "ValueError: max_features must be in (0, n_features]\n",
      "\n",
      "  FitFailedWarning)\n",
      "C:\\Users\\edwar\\anaconda3\\lib\\site-packages\\sklearn\\model_selection\\_validation.py:536: FitFailedWarning: Estimator fit failed. The score on this train-test partition for these parameters will be set to nan. Details: \n",
      "ValueError: max_features must be in (0, n_features]\n",
      "\n",
      "  FitFailedWarning)\n",
      "C:\\Users\\edwar\\anaconda3\\lib\\site-packages\\sklearn\\model_selection\\_validation.py:536: FitFailedWarning: Estimator fit failed. The score on this train-test partition for these parameters will be set to nan. Details: \n",
      "ValueError: max_features must be in (0, n_features]\n",
      "\n",
      "  FitFailedWarning)\n",
      "C:\\Users\\edwar\\anaconda3\\lib\\site-packages\\sklearn\\model_selection\\_validation.py:536: FitFailedWarning: Estimator fit failed. The score on this train-test partition for these parameters will be set to nan. Details: \n",
      "ValueError: max_features must be in (0, n_features]\n",
      "\n",
      "  FitFailedWarning)\n",
      "C:\\Users\\edwar\\anaconda3\\lib\\site-packages\\sklearn\\model_selection\\_validation.py:536: FitFailedWarning: Estimator fit failed. The score on this train-test partition for these parameters will be set to nan. Details: \n",
      "ValueError: max_features must be in (0, n_features]\n",
      "\n",
      "  FitFailedWarning)\n",
      "C:\\Users\\edwar\\anaconda3\\lib\\site-packages\\sklearn\\model_selection\\_validation.py:536: FitFailedWarning: Estimator fit failed. The score on this train-test partition for these parameters will be set to nan. Details: \n",
      "ValueError: max_features must be in (0, n_features]\n",
      "\n",
      "  FitFailedWarning)\n",
      "C:\\Users\\edwar\\anaconda3\\lib\\site-packages\\sklearn\\model_selection\\_validation.py:536: FitFailedWarning: Estimator fit failed. The score on this train-test partition for these parameters will be set to nan. Details: \n",
      "ValueError: max_features must be in (0, n_features]\n",
      "\n",
      "  FitFailedWarning)\n",
      "C:\\Users\\edwar\\anaconda3\\lib\\site-packages\\sklearn\\model_selection\\_validation.py:536: FitFailedWarning: Estimator fit failed. The score on this train-test partition for these parameters will be set to nan. Details: \n",
      "ValueError: max_features must be in (0, n_features]\n",
      "\n",
      "  FitFailedWarning)\n",
      "C:\\Users\\edwar\\anaconda3\\lib\\site-packages\\sklearn\\model_selection\\_validation.py:536: FitFailedWarning: Estimator fit failed. The score on this train-test partition for these parameters will be set to nan. Details: \n",
      "ValueError: max_features must be in (0, n_features]\n",
      "\n",
      "  FitFailedWarning)\n",
      "C:\\Users\\edwar\\anaconda3\\lib\\site-packages\\sklearn\\model_selection\\_validation.py:536: FitFailedWarning: Estimator fit failed. The score on this train-test partition for these parameters will be set to nan. Details: \n",
      "ValueError: max_features must be in (0, n_features]\n",
      "\n",
      "  FitFailedWarning)\n",
      "C:\\Users\\edwar\\anaconda3\\lib\\site-packages\\sklearn\\model_selection\\_validation.py:536: FitFailedWarning: Estimator fit failed. The score on this train-test partition for these parameters will be set to nan. Details: \n",
      "ValueError: max_features must be in (0, n_features]\n",
      "\n",
      "  FitFailedWarning)\n",
      "C:\\Users\\edwar\\anaconda3\\lib\\site-packages\\sklearn\\model_selection\\_validation.py:536: FitFailedWarning: Estimator fit failed. The score on this train-test partition for these parameters will be set to nan. Details: \n",
      "ValueError: max_features must be in (0, n_features]\n",
      "\n",
      "  FitFailedWarning)\n",
      "C:\\Users\\edwar\\anaconda3\\lib\\site-packages\\sklearn\\model_selection\\_validation.py:536: FitFailedWarning: Estimator fit failed. The score on this train-test partition for these parameters will be set to nan. Details: \n",
      "ValueError: max_features must be in (0, n_features]\n",
      "\n",
      "  FitFailedWarning)\n",
      "C:\\Users\\edwar\\anaconda3\\lib\\site-packages\\sklearn\\model_selection\\_validation.py:536: FitFailedWarning: Estimator fit failed. The score on this train-test partition for these parameters will be set to nan. Details: \n",
      "ValueError: max_features must be in (0, n_features]\n",
      "\n",
      "  FitFailedWarning)\n",
      "C:\\Users\\edwar\\anaconda3\\lib\\site-packages\\sklearn\\model_selection\\_validation.py:536: FitFailedWarning: Estimator fit failed. The score on this train-test partition for these parameters will be set to nan. Details: \n",
      "ValueError: max_features must be in (0, n_features]\n",
      "\n",
      "  FitFailedWarning)\n",
      "C:\\Users\\edwar\\anaconda3\\lib\\site-packages\\sklearn\\model_selection\\_validation.py:536: FitFailedWarning: Estimator fit failed. The score on this train-test partition for these parameters will be set to nan. Details: \n",
      "ValueError: max_features must be in (0, n_features]\n",
      "\n",
      "  FitFailedWarning)\n",
      "C:\\Users\\edwar\\anaconda3\\lib\\site-packages\\sklearn\\model_selection\\_validation.py:536: FitFailedWarning: Estimator fit failed. The score on this train-test partition for these parameters will be set to nan. Details: \n",
      "ValueError: max_features must be in (0, n_features]\n",
      "\n",
      "  FitFailedWarning)\n",
      "C:\\Users\\edwar\\anaconda3\\lib\\site-packages\\sklearn\\model_selection\\_validation.py:536: FitFailedWarning: Estimator fit failed. The score on this train-test partition for these parameters will be set to nan. Details: \n",
      "ValueError: max_features must be in (0, n_features]\n",
      "\n",
      "  FitFailedWarning)\n",
      "C:\\Users\\edwar\\anaconda3\\lib\\site-packages\\sklearn\\model_selection\\_validation.py:536: FitFailedWarning: Estimator fit failed. The score on this train-test partition for these parameters will be set to nan. Details: \n",
      "ValueError: max_features must be in (0, n_features]\n",
      "\n",
      "  FitFailedWarning)\n",
      "C:\\Users\\edwar\\anaconda3\\lib\\site-packages\\sklearn\\model_selection\\_validation.py:536: FitFailedWarning: Estimator fit failed. The score on this train-test partition for these parameters will be set to nan. Details: \n",
      "ValueError: max_features must be in (0, n_features]\n",
      "\n",
      "  FitFailedWarning)\n",
      "C:\\Users\\edwar\\anaconda3\\lib\\site-packages\\sklearn\\model_selection\\_validation.py:536: FitFailedWarning: Estimator fit failed. The score on this train-test partition for these parameters will be set to nan. Details: \n",
      "ValueError: max_features must be in (0, n_features]\n",
      "\n",
      "  FitFailedWarning)\n",
      "C:\\Users\\edwar\\anaconda3\\lib\\site-packages\\sklearn\\model_selection\\_validation.py:536: FitFailedWarning: Estimator fit failed. The score on this train-test partition for these parameters will be set to nan. Details: \n",
      "ValueError: max_features must be in (0, n_features]\n",
      "\n",
      "  FitFailedWarning)\n",
      "C:\\Users\\edwar\\anaconda3\\lib\\site-packages\\sklearn\\model_selection\\_validation.py:536: FitFailedWarning: Estimator fit failed. The score on this train-test partition for these parameters will be set to nan. Details: \n",
      "ValueError: max_features must be in (0, n_features]\n",
      "\n",
      "  FitFailedWarning)\n",
      "C:\\Users\\edwar\\anaconda3\\lib\\site-packages\\sklearn\\model_selection\\_validation.py:536: FitFailedWarning: Estimator fit failed. The score on this train-test partition for these parameters will be set to nan. Details: \n",
      "ValueError: max_features must be in (0, n_features]\n",
      "\n",
      "  FitFailedWarning)\n",
      "C:\\Users\\edwar\\anaconda3\\lib\\site-packages\\sklearn\\model_selection\\_validation.py:536: FitFailedWarning: Estimator fit failed. The score on this train-test partition for these parameters will be set to nan. Details: \n",
      "ValueError: max_features must be in (0, n_features]\n",
      "\n",
      "  FitFailedWarning)\n",
      "C:\\Users\\edwar\\anaconda3\\lib\\site-packages\\sklearn\\model_selection\\_validation.py:536: FitFailedWarning: Estimator fit failed. The score on this train-test partition for these parameters will be set to nan. Details: \n",
      "ValueError: max_features must be in (0, n_features]\n",
      "\n",
      "  FitFailedWarning)\n",
      "C:\\Users\\edwar\\anaconda3\\lib\\site-packages\\sklearn\\model_selection\\_validation.py:536: FitFailedWarning: Estimator fit failed. The score on this train-test partition for these parameters will be set to nan. Details: \n",
      "ValueError: max_features must be in (0, n_features]\n",
      "\n",
      "  FitFailedWarning)\n",
      "C:\\Users\\edwar\\anaconda3\\lib\\site-packages\\sklearn\\model_selection\\_validation.py:536: FitFailedWarning: Estimator fit failed. The score on this train-test partition for these parameters will be set to nan. Details: \n",
      "ValueError: max_features must be in (0, n_features]\n",
      "\n",
      "  FitFailedWarning)\n"
     ]
    },
    {
     "name": "stderr",
     "output_type": "stream",
     "text": [
      "C:\\Users\\edwar\\anaconda3\\lib\\site-packages\\sklearn\\model_selection\\_validation.py:536: FitFailedWarning: Estimator fit failed. The score on this train-test partition for these parameters will be set to nan. Details: \n",
      "ValueError: max_features must be in (0, n_features]\n",
      "\n",
      "  FitFailedWarning)\n",
      "C:\\Users\\edwar\\anaconda3\\lib\\site-packages\\sklearn\\model_selection\\_validation.py:536: FitFailedWarning: Estimator fit failed. The score on this train-test partition for these parameters will be set to nan. Details: \n",
      "ValueError: max_features must be in (0, n_features]\n",
      "\n",
      "  FitFailedWarning)\n",
      "C:\\Users\\edwar\\anaconda3\\lib\\site-packages\\sklearn\\model_selection\\_validation.py:536: FitFailedWarning: Estimator fit failed. The score on this train-test partition for these parameters will be set to nan. Details: \n",
      "ValueError: max_features must be in (0, n_features]\n",
      "\n",
      "  FitFailedWarning)\n",
      "C:\\Users\\edwar\\anaconda3\\lib\\site-packages\\sklearn\\model_selection\\_validation.py:536: FitFailedWarning: Estimator fit failed. The score on this train-test partition for these parameters will be set to nan. Details: \n",
      "ValueError: max_features must be in (0, n_features]\n",
      "\n",
      "  FitFailedWarning)\n",
      "C:\\Users\\edwar\\anaconda3\\lib\\site-packages\\sklearn\\model_selection\\_validation.py:536: FitFailedWarning: Estimator fit failed. The score on this train-test partition for these parameters will be set to nan. Details: \n",
      "ValueError: max_features must be in (0, n_features]\n",
      "\n",
      "  FitFailedWarning)\n",
      "C:\\Users\\edwar\\anaconda3\\lib\\site-packages\\sklearn\\model_selection\\_validation.py:536: FitFailedWarning: Estimator fit failed. The score on this train-test partition for these parameters will be set to nan. Details: \n",
      "ValueError: max_features must be in (0, n_features]\n",
      "\n",
      "  FitFailedWarning)\n",
      "C:\\Users\\edwar\\anaconda3\\lib\\site-packages\\sklearn\\model_selection\\_validation.py:536: FitFailedWarning: Estimator fit failed. The score on this train-test partition for these parameters will be set to nan. Details: \n",
      "ValueError: max_features must be in (0, n_features]\n",
      "\n",
      "  FitFailedWarning)\n",
      "C:\\Users\\edwar\\anaconda3\\lib\\site-packages\\sklearn\\model_selection\\_validation.py:536: FitFailedWarning: Estimator fit failed. The score on this train-test partition for these parameters will be set to nan. Details: \n",
      "ValueError: max_features must be in (0, n_features]\n",
      "\n",
      "  FitFailedWarning)\n",
      "C:\\Users\\edwar\\anaconda3\\lib\\site-packages\\sklearn\\model_selection\\_validation.py:536: FitFailedWarning: Estimator fit failed. The score on this train-test partition for these parameters will be set to nan. Details: \n",
      "ValueError: max_features must be in (0, n_features]\n",
      "\n",
      "  FitFailedWarning)\n",
      "C:\\Users\\edwar\\anaconda3\\lib\\site-packages\\sklearn\\model_selection\\_validation.py:536: FitFailedWarning: Estimator fit failed. The score on this train-test partition for these parameters will be set to nan. Details: \n",
      "ValueError: max_features must be in (0, n_features]\n",
      "\n",
      "  FitFailedWarning)\n",
      "C:\\Users\\edwar\\anaconda3\\lib\\site-packages\\sklearn\\model_selection\\_validation.py:536: FitFailedWarning: Estimator fit failed. The score on this train-test partition for these parameters will be set to nan. Details: \n",
      "ValueError: max_features must be in (0, n_features]\n",
      "\n",
      "  FitFailedWarning)\n",
      "C:\\Users\\edwar\\anaconda3\\lib\\site-packages\\sklearn\\model_selection\\_validation.py:536: FitFailedWarning: Estimator fit failed. The score on this train-test partition for these parameters will be set to nan. Details: \n",
      "ValueError: max_features must be in (0, n_features]\n",
      "\n",
      "  FitFailedWarning)\n",
      "C:\\Users\\edwar\\anaconda3\\lib\\site-packages\\sklearn\\model_selection\\_validation.py:536: FitFailedWarning: Estimator fit failed. The score on this train-test partition for these parameters will be set to nan. Details: \n",
      "ValueError: max_features must be in (0, n_features]\n",
      "\n",
      "  FitFailedWarning)\n",
      "C:\\Users\\edwar\\anaconda3\\lib\\site-packages\\sklearn\\model_selection\\_validation.py:536: FitFailedWarning: Estimator fit failed. The score on this train-test partition for these parameters will be set to nan. Details: \n",
      "ValueError: max_features must be in (0, n_features]\n",
      "\n",
      "  FitFailedWarning)\n"
     ]
    },
    {
     "data": {
      "text/plain": [
       "GridSearchCV(cv=5, error_score=nan,\n",
       "             estimator=DecisionTreeClassifier(ccp_alpha=0.0, class_weight=None,\n",
       "                                              criterion='gini', max_depth=None,\n",
       "                                              max_features=None,\n",
       "                                              max_leaf_nodes=None,\n",
       "                                              min_impurity_decrease=0.0,\n",
       "                                              min_impurity_split=None,\n",
       "                                              min_samples_leaf=1,\n",
       "                                              min_samples_split=2,\n",
       "                                              min_weight_fraction_leaf=0.0,\n",
       "                                              presort='deprecated',\n",
       "                                              random_state=23,\n",
       "                                              splitter='best'),\n",
       "             iid='deprecated', n_jobs=None,\n",
       "             param_grid={'max_depth': [5, 7, 10], 'max_features': [5, 8, 11],\n",
       "                         'max_leaf_nodes': array([2, 3, 4, 5, 6, 7, 8, 9])},\n",
       "             pre_dispatch='2*n_jobs', refit=True, return_train_score=False,\n",
       "             scoring='accuracy', verbose=0)"
      ]
     },
     "execution_count": 53,
     "metadata": {},
     "output_type": "execute_result"
    }
   ],
   "source": [
    "# Fit the model on training data\n",
    "# Since we are using the training portion of the data, we are now \"training\" our model.\n",
    "dtc_grid_search.fit(X2_train, Y2_train)"
   ]
  },
  {
   "cell_type": "code",
   "execution_count": 54,
   "metadata": {},
   "outputs": [
    {
     "data": {
      "text/plain": [
       "array([0.75085588, 0.75085588, 0.75085588, 0.75085588, 0.75085588,\n",
       "       0.75085588, 0.75085588, 0.75085588, 0.75085588, 0.75085588,\n",
       "       0.75085588, 0.75085588, 0.75085588, 0.75085588, 0.75085588,\n",
       "       0.75085588,        nan,        nan,        nan,        nan,\n",
       "              nan,        nan,        nan,        nan, 0.75085588,\n",
       "       0.75085588, 0.75085588, 0.75085588, 0.75085588, 0.75085588,\n",
       "       0.75085588, 0.75085588, 0.75085588, 0.75085588, 0.75085588,\n",
       "       0.75085588, 0.75085588, 0.75085588, 0.75085588, 0.75085588,\n",
       "              nan,        nan,        nan,        nan,        nan,\n",
       "              nan,        nan,        nan, 0.75085588, 0.75085588,\n",
       "       0.75085588, 0.75085588, 0.75085588, 0.75085588, 0.75085588,\n",
       "       0.75085588, 0.75085588, 0.75085588, 0.75085588, 0.75085588,\n",
       "       0.75085588, 0.75085588, 0.75085588, 0.75085588,        nan,\n",
       "              nan,        nan,        nan,        nan,        nan,\n",
       "              nan,        nan])"
      ]
     },
     "execution_count": 54,
     "metadata": {},
     "output_type": "execute_result"
    }
   ],
   "source": [
    "dtc_grid_search.cv_results_['mean_test_score']"
   ]
  },
  {
   "cell_type": "code",
   "execution_count": 55,
   "metadata": {},
   "outputs": [
    {
     "data": {
      "text/plain": [
       "{'max_depth': 5, 'max_features': 5, 'max_leaf_nodes': 2}"
      ]
     },
     "execution_count": 55,
     "metadata": {},
     "output_type": "execute_result"
    }
   ],
   "source": [
    "dtc_grid_search.best_params_"
   ]
  },
  {
   "cell_type": "code",
   "execution_count": 56,
   "metadata": {},
   "outputs": [
    {
     "data": {
      "text/plain": [
       "DecisionTreeClassifier(ccp_alpha=0.0, class_weight=None, criterion='gini',\n",
       "                       max_depth=5, max_features=5, max_leaf_nodes=2,\n",
       "                       min_impurity_decrease=0.0, min_impurity_split=None,\n",
       "                       min_samples_leaf=1, min_samples_split=2,\n",
       "                       min_weight_fraction_leaf=0.0, presort='deprecated',\n",
       "                       random_state=23, splitter='best')"
      ]
     },
     "execution_count": 56,
     "metadata": {},
     "output_type": "execute_result"
    }
   ],
   "source": [
    "dtc_grid_search.best_estimator_"
   ]
  },
  {
   "cell_type": "markdown",
   "metadata": {},
   "source": [
    "We can visualize the Decision Tree as following:"
   ]
  },
  {
   "cell_type": "code",
   "execution_count": 59,
   "metadata": {},
   "outputs": [],
   "source": [
    "#get the names of the independent variables for using them in the tree plot\n",
    "insurance_features=df1.drop(['sleeping', 'sleepcat','sleepcatlong'], axis=1).columns"
   ]
  },
  {
   "cell_type": "code",
   "execution_count": 60,
   "metadata": {},
   "outputs": [
    {
     "data": {
      "image/png": "[encoded data removed]",
      "text/plain": [
       "<IPython.core.display.Image object>"
      ]
     },
     "execution_count": 60,
     "metadata": {},
     "output_type": "execute_result"
    }
   ],
   "source": [
    "DTcgraph = print_tree(dtc_grid_search.best_estimator_, features=insurance_features)\n",
    "Image(DTcgraph.create_png())"
   ]
  },
  {
   "cell_type": "code",
   "execution_count": 61,
   "metadata": {},
   "outputs": [],
   "source": [
    "# Get the predictions of the best decision tree classifier\n",
    "DT_prediction_ctc=dtc_grid_search.best_estimator_.predict(X2_test)"
   ]
  },
  {
   "cell_type": "code",
   "execution_count": 62,
   "metadata": {},
   "outputs": [
    {
     "name": "stdout",
     "output_type": "stream",
     "text": [
      "Confusion Matrix:\n",
      " [[6835    0]\n",
      " [2220    0]]\n",
      "\n",
      "\n",
      "Classification Report:\n",
      "               precision    recall  f1-score   support\n",
      "\n",
      "         0.0       0.75      1.00      0.86      6835\n",
      "         1.0       0.00      0.00      0.00      2220\n",
      "\n",
      "    accuracy                           0.75      9055\n",
      "   macro avg       0.38      0.50      0.43      9055\n",
      "weighted avg       0.57      0.75      0.65      9055\n",
      "\n"
     ]
    },
    {
     "name": "stderr",
     "output_type": "stream",
     "text": [
      "C:\\Users\\edwar\\anaconda3\\lib\\site-packages\\sklearn\\metrics\\_classification.py:1272: UndefinedMetricWarning: Precision and F-score are ill-defined and being set to 0.0 in labels with no predicted samples. Use `zero_division` parameter to control this behavior.\n",
      "  _warn_prf(average, modifier, msg_start, len(result))\n"
     ]
    }
   ],
   "source": [
    "# Evaluate how good the decision tree classification is:\n",
    "cm_DTC = confusion_matrix(Y2_test, DT_prediction_ctc)\n",
    "print(\"Confusion Matrix:\\n\", cm_DTC)\n",
    "print(\"\\n\")\n",
    "print(\"Classification Report:\\n\",classification_report(Y2_test, DT_prediction_ctc))"
   ]
  },
  {
   "cell_type": "code",
   "execution_count": 64,
   "metadata": {},
   "outputs": [
    {
     "data": {
      "text/plain": [
       "<matplotlib.axes._subplots.AxesSubplot at 0x1b14dca5388>"
      ]
     },
     "execution_count": 64,
     "metadata": {},
     "output_type": "execute_result"
    },
    {
     "data": {
      "image/png": "[encoded data removed]",
      "text/plain": [
       "<Figure size 288x288 with 2 Axes>"
      ]
     },
     "metadata": {},
     "output_type": "display_data"
    }
   ],
   "source": [
    "skplt.metrics.plot_confusion_matrix(Y2_test, DT_prediction_ctc, figsize=(4,4), cmap=\"PuBuGn\")"
   ]
  },
  {
   "cell_type": "markdown",
   "metadata": {},
   "source": [
    "Change colors using the [cmap parameter](https://matplotlib.org/3.1.0/tutorials/colors/colormaps.html)"
   ]
  },
  {
   "cell_type": "markdown",
   "metadata": {},
   "source": [
    "<Mark>Interpretation:</Mark> We see that the model is just the naive prediction! <br>"
   ]
  },
  {
   "cell_type": "code",
   "execution_count": 65,
   "metadata": {},
   "outputs": [
    {
     "data": {
      "text/plain": [
       "0.7518498067366096"
      ]
     },
     "execution_count": 65,
     "metadata": {},
     "output_type": "execute_result"
    }
   ],
   "source": [
    "1-df1.sleepcatlong.mean()"
   ]
  },
  {
   "cell_type": "markdown",
   "metadata": {},
   "source": [
    "#### Random Forest Classifier"
   ]
  },
  {
   "cell_type": "code",
   "execution_count": 66,
   "metadata": {},
   "outputs": [],
   "source": [
    "# Select the model approach for fitting: RandomForest Classifier\n",
    "\n",
    "DT_insurance_rfc = RandomForestClassifier(random_state=23)"
   ]
  },
  {
   "cell_type": "code",
   "execution_count": 67,
   "metadata": {},
   "outputs": [],
   "source": [
    "# set the gridsearch parameters for the RandomForest Classifier\n",
    "dtfc_param_grid={'n_estimators': [10, 15, 20], 'max_depth':[5, 10, 15], \\\n",
    "                 'max_leaf_nodes':np.arange(2,10), 'min_samples_split':[5, 10, 15]}"
   ]
  },
  {
   "cell_type": "code",
   "execution_count": 68,
   "metadata": {},
   "outputs": [],
   "source": [
    "# define the gridsearch for decision tree classification:\n",
    "dtrfc_grid_search = GridSearchCV(DT_insurance_rfc, dtfc_param_grid, cv=5, scoring='accuracy')"
   ]
  },
  {
   "cell_type": "code",
   "execution_count": 69,
   "metadata": {},
   "outputs": [
    {
     "data": {
      "text/plain": [
       "GridSearchCV(cv=5, error_score=nan,\n",
       "             estimator=RandomForestClassifier(bootstrap=True, ccp_alpha=0.0,\n",
       "                                              class_weight=None,\n",
       "                                              criterion='gini', max_depth=None,\n",
       "                                              max_features='auto',\n",
       "                                              max_leaf_nodes=None,\n",
       "                                              max_samples=None,\n",
       "                                              min_impurity_decrease=0.0,\n",
       "                                              min_impurity_split=None,\n",
       "                                              min_samples_leaf=1,\n",
       "                                              min_samples_split=2,\n",
       "                                              min_weight_fraction_leaf=0.0,\n",
       "                                              n_estimators=100, n_jobs=None,\n",
       "                                              oob_score=False, random_state=23,\n",
       "                                              verbose=0, warm_start=False),\n",
       "             iid='deprecated', n_jobs=None,\n",
       "             param_grid={'max_depth': [5, 10, 15],\n",
       "                         'max_leaf_nodes': array([2, 3, 4, 5, 6, 7, 8, 9]),\n",
       "                         'min_samples_split': [5, 10, 15],\n",
       "                         'n_estimators': [10, 15, 20]},\n",
       "             pre_dispatch='2*n_jobs', refit=True, return_train_score=False,\n",
       "             scoring='accuracy', verbose=0)"
      ]
     },
     "execution_count": 69,
     "metadata": {},
     "output_type": "execute_result"
    }
   ],
   "source": [
    "# Fit the model on training data\n",
    "# Since we are using the training portion of the data, we are now \"training\" our model.\n",
    "dtrfc_grid_search.fit(X2_train, Y2_train)"
   ]
  },
  {
   "cell_type": "code",
   "execution_count": 70,
   "metadata": {},
   "outputs": [
    {
     "data": {
      "text/plain": [
       "array([0.75085588, 0.75085588, 0.75085588, 0.75085588, 0.75085588,\n",
       "       0.75085588, 0.75085588, 0.75085588, 0.75085588, 0.75085588,\n",
       "       0.75085588, 0.75085588, 0.75085588, 0.75085588, 0.75085588,\n",
       "       0.75085588, 0.75085588, 0.75085588, 0.75085588, 0.75085588,\n",
       "       0.75085588, 0.75085588, 0.75085588, 0.75085588, 0.75085588,\n",
       "       0.75085588, 0.75085588, 0.75085588, 0.75085588, 0.75085588,\n",
       "       0.75085588, 0.75085588, 0.75085588, 0.75085588, 0.75085588,\n",
       "       0.75085588, 0.75085588, 0.75085588, 0.75085588, 0.75085588,\n",
       "       0.75085588, 0.75085588, 0.75085588, 0.75085588, 0.75085588,\n",
       "       0.75085588, 0.75085588, 0.75085588, 0.75085588, 0.75085588,\n",
       "       0.75085588, 0.75085588, 0.75085588, 0.75085588, 0.75085588,\n",
       "       0.75085588, 0.75085588, 0.75085588, 0.75085588, 0.75085588,\n",
       "       0.75085588, 0.75085588, 0.75085588, 0.75085588, 0.75085588,\n",
       "       0.75085588, 0.75085588, 0.75085588, 0.75085588, 0.75085588,\n",
       "       0.75085588, 0.75085588, 0.75085588, 0.75085588, 0.75085588,\n",
       "       0.75085588, 0.75085588, 0.75085588, 0.75085588, 0.75085588,\n",
       "       0.75085588, 0.75085588, 0.75085588, 0.75085588, 0.75085588,\n",
       "       0.75085588, 0.75085588, 0.75085588, 0.75085588, 0.75085588,\n",
       "       0.75085588, 0.75085588, 0.75085588, 0.75085588, 0.75085588,\n",
       "       0.75085588, 0.75085588, 0.75085588, 0.75085588, 0.75085588,\n",
       "       0.75085588, 0.75085588, 0.75085588, 0.75085588, 0.75085588,\n",
       "       0.75085588, 0.75085588, 0.75085588, 0.75085588, 0.75085588,\n",
       "       0.75085588, 0.75085588, 0.75085588, 0.75085588, 0.75085588,\n",
       "       0.75085588, 0.75085588, 0.75085588, 0.75085588, 0.75085588,\n",
       "       0.75085588, 0.75085588, 0.75085588, 0.75085588, 0.75085588,\n",
       "       0.75085588, 0.75085588, 0.75085588, 0.75085588, 0.75085588,\n",
       "       0.75085588, 0.75085588, 0.75085588, 0.75085588, 0.75085588,\n",
       "       0.75085588, 0.75085588, 0.75085588, 0.75085588, 0.75085588,\n",
       "       0.75085588, 0.75085588, 0.75085588, 0.75085588, 0.75085588,\n",
       "       0.75085588, 0.75085588, 0.75085588, 0.75085588, 0.75085588,\n",
       "       0.75085588, 0.75085588, 0.75085588, 0.75085588, 0.75085588,\n",
       "       0.75085588, 0.75085588, 0.75085588, 0.75085588, 0.75085588,\n",
       "       0.75085588, 0.75085588, 0.75085588, 0.75085588, 0.75085588,\n",
       "       0.75085588, 0.75085588, 0.75085588, 0.75085588, 0.75085588,\n",
       "       0.75085588, 0.75085588, 0.75085588, 0.75085588, 0.75085588,\n",
       "       0.75085588, 0.75085588, 0.75085588, 0.75085588, 0.75085588,\n",
       "       0.75085588, 0.75085588, 0.75085588, 0.75085588, 0.75085588,\n",
       "       0.75085588, 0.75085588, 0.75085588, 0.75085588, 0.75085588,\n",
       "       0.75085588, 0.75085588, 0.75085588, 0.75085588, 0.75085588,\n",
       "       0.75085588, 0.75085588, 0.75085588, 0.75085588, 0.75085588,\n",
       "       0.75085588, 0.75085588, 0.75085588, 0.75085588, 0.75085588,\n",
       "       0.75085588, 0.75085588, 0.75085588, 0.75085588, 0.75085588,\n",
       "       0.75085588, 0.75085588, 0.75085588, 0.75085588, 0.75085588,\n",
       "       0.75085588])"
      ]
     },
     "execution_count": 70,
     "metadata": {},
     "output_type": "execute_result"
    }
   ],
   "source": [
    "dtrfc_grid_search.cv_results_['mean_test_score']"
   ]
  },
  {
   "cell_type": "code",
   "execution_count": 71,
   "metadata": {},
   "outputs": [
    {
     "data": {
      "text/plain": [
       "{'max_depth': 5,\n",
       " 'max_leaf_nodes': 2,\n",
       " 'min_samples_split': 5,\n",
       " 'n_estimators': 10}"
      ]
     },
     "execution_count": 71,
     "metadata": {},
     "output_type": "execute_result"
    }
   ],
   "source": [
    "dtrfc_grid_search.best_params_"
   ]
  },
  {
   "cell_type": "code",
   "execution_count": 72,
   "metadata": {},
   "outputs": [
    {
     "data": {
      "text/plain": [
       "RandomForestClassifier(bootstrap=True, ccp_alpha=0.0, class_weight=None,\n",
       "                       criterion='gini', max_depth=5, max_features='auto',\n",
       "                       max_leaf_nodes=2, max_samples=None,\n",
       "                       min_impurity_decrease=0.0, min_impurity_split=None,\n",
       "                       min_samples_leaf=1, min_samples_split=5,\n",
       "                       min_weight_fraction_leaf=0.0, n_estimators=10,\n",
       "                       n_jobs=None, oob_score=False, random_state=23, verbose=0,\n",
       "                       warm_start=False)"
      ]
     },
     "execution_count": 72,
     "metadata": {},
     "output_type": "execute_result"
    }
   ],
   "source": [
    "dtrfc_grid_search.best_estimator_"
   ]
  },
  {
   "cell_type": "code",
   "execution_count": 73,
   "metadata": {},
   "outputs": [],
   "source": [
    "# Get the predictions of the best Random Forest classifier\n",
    "DTrfc_prediction_ctc=dtrfc_grid_search.best_estimator_.predict(X2_test)"
   ]
  },
  {
   "cell_type": "code",
   "execution_count": 74,
   "metadata": {},
   "outputs": [
    {
     "name": "stdout",
     "output_type": "stream",
     "text": [
      "Confusion Matrix:\n",
      " [[6835    0]\n",
      " [2220    0]]\n",
      "\n",
      "\n",
      "Classification Report:\n",
      "               precision    recall  f1-score   support\n",
      "\n",
      "         0.0       0.75      1.00      0.86      6835\n",
      "         1.0       0.00      0.00      0.00      2220\n",
      "\n",
      "    accuracy                           0.75      9055\n",
      "   macro avg       0.38      0.50      0.43      9055\n",
      "weighted avg       0.57      0.75      0.65      9055\n",
      "\n"
     ]
    },
    {
     "name": "stderr",
     "output_type": "stream",
     "text": [
      "C:\\Users\\edwar\\anaconda3\\lib\\site-packages\\sklearn\\metrics\\_classification.py:1272: UndefinedMetricWarning: Precision and F-score are ill-defined and being set to 0.0 in labels with no predicted samples. Use `zero_division` parameter to control this behavior.\n",
      "  _warn_prf(average, modifier, msg_start, len(result))\n"
     ]
    }
   ],
   "source": [
    "# Evaluate how good the Random Forest classification is:\n",
    "cm_DTC = confusion_matrix(Y2_test, DTrfc_prediction_ctc)\n",
    "print(\"Confusion Matrix:\\n\", cm_DTC)\n",
    "print(\"\\n\")\n",
    "print(\"Classification Report:\\n\",classification_report(Y2_test, DTrfc_prediction_ctc))"
   ]
  },
  {
   "cell_type": "code",
   "execution_count": 76,
   "metadata": {},
   "outputs": [
    {
     "data": {
      "text/plain": [
       "<matplotlib.axes._subplots.AxesSubplot at 0x1b15012f688>"
      ]
     },
     "execution_count": 76,
     "metadata": {},
     "output_type": "execute_result"
    },
    {
     "data": {
      "image/png": "[encoded data removed]",
      "text/plain": [
       "<Figure size 288x288 with 2 Axes>"
      ]
     },
     "metadata": {},
     "output_type": "display_data"
    }
   ],
   "source": [
    "skplt.metrics.plot_confusion_matrix(Y2_test, DTrfc_prediction_ctc, figsize=(4,4), cmap=\"OrRd\")"
   ]
  },
  {
   "cell_type": "markdown",
   "metadata": {},
   "source": [
    "<Mark>Interpretation:</Mark> We see that the model is exactly similar to a naive prediction! <br>"
   ]
  },
  {
   "cell_type": "markdown",
   "metadata": {},
   "source": [
    "Another useful feature of ensembles is that we can derive the importance of different variables in infleuncing the prediction. "
   ]
  },
  {
   "cell_type": "code",
   "execution_count": 78,
   "metadata": {},
   "outputs": [
    {
     "data": {
      "image/png": "[encoded data removed]",
      "text/plain": [
       "<Figure size 648x792 with 1 Axes>"
      ]
     },
     "metadata": {
      "needs_background": "light"
     },
     "output_type": "display_data"
    }
   ],
   "source": [
    "%matplotlib inline\n",
    "Importance = pd.DataFrame({'Importance':dtrfc_grid_search.best_estimator_.feature_importances_*100}, \\\n",
    "                          index=insurance_features)\n",
    "Importance.sort_values('Importance', axis=0, ascending=True).plot(kind='barh', color='lightsalmon', )\n",
    "plt.gcf().set_size_inches(9, 11)"
   ]
  },
  {
   "cell_type": "markdown",
   "metadata": {},
   "source": [
    "#### Boosting Classifier"
   ]
  },
  {
   "cell_type": "code",
   "execution_count": 79,
   "metadata": {},
   "outputs": [],
   "source": [
    "# Select the model approach for fitting: Gradiant Boosting Classifier\n",
    "\n",
    "DT_insurance_bc = GradientBoostingClassifier(random_state=23)"
   ]
  },
  {
   "cell_type": "code",
   "execution_count": 80,
   "metadata": {},
   "outputs": [],
   "source": [
    "# set the gridsearch parameters for the Gradiant Boosting Classifier\n",
    "dtbc_param_grid={'n_estimators': [100, 125, 150], 'max_depth':[3,5,7,10], \\\n",
    "                 'max_leaf_nodes':np.arange(2,10), 'min_samples_split':[5,10,20]}"
   ]
  },
  {
   "cell_type": "code",
   "execution_count": 81,
   "metadata": {},
   "outputs": [],
   "source": [
    "# define the gridsearch for Gradiant Boosting classification:\n",
    "dtbc_grid_search = GridSearchCV(DT_insurance_bc, dtfc_param_grid, cv=5, scoring='accuracy')"
   ]
  },
  {
   "cell_type": "code",
   "execution_count": 82,
   "metadata": {},
   "outputs": [
    {
     "data": {
      "text/plain": [
       "GridSearchCV(cv=5, error_score=nan,\n",
       "             estimator=GradientBoostingClassifier(ccp_alpha=0.0,\n",
       "                                                  criterion='friedman_mse',\n",
       "                                                  init=None, learning_rate=0.1,\n",
       "                                                  loss='deviance', max_depth=3,\n",
       "                                                  max_features=None,\n",
       "                                                  max_leaf_nodes=None,\n",
       "                                                  min_impurity_decrease=0.0,\n",
       "                                                  min_impurity_split=None,\n",
       "                                                  min_samples_leaf=1,\n",
       "                                                  min_samples_split=2,\n",
       "                                                  min_weight_fraction_leaf=0.0,\n",
       "                                                  n_estimators=100,\n",
       "                                                  n_iter_no_c...\n",
       "                                                  presort='deprecated',\n",
       "                                                  random_state=23,\n",
       "                                                  subsample=1.0, tol=0.0001,\n",
       "                                                  validation_fraction=0.1,\n",
       "                                                  verbose=0, warm_start=False),\n",
       "             iid='deprecated', n_jobs=None,\n",
       "             param_grid={'max_depth': [5, 10, 15],\n",
       "                         'max_leaf_nodes': array([2, 3, 4, 5, 6, 7, 8, 9]),\n",
       "                         'min_samples_split': [5, 10, 15],\n",
       "                         'n_estimators': [10, 15, 20]},\n",
       "             pre_dispatch='2*n_jobs', refit=True, return_train_score=False,\n",
       "             scoring='accuracy', verbose=0)"
      ]
     },
     "execution_count": 82,
     "metadata": {},
     "output_type": "execute_result"
    }
   ],
   "source": [
    "# Fit the model on training data\n",
    "# Since we are using the training portion of the data, we are now \"training\" our model.\n",
    "# Be patient -- it might take while to finish!\n",
    "\n",
    "dtbc_grid_search.fit(X2_train, Y2_train)"
   ]
  },
  {
   "cell_type": "code",
   "execution_count": 83,
   "metadata": {},
   "outputs": [
    {
     "data": {
      "text/plain": [
       "array([0.75085588, 0.75085588, 0.75085588, 0.75085588, 0.75085588,\n",
       "       0.75085588, 0.75085588, 0.75085588, 0.75085588, 0.75085588,\n",
       "       0.75085588, 0.75085588, 0.75085588, 0.75085588, 0.75085588,\n",
       "       0.75085588, 0.75085588, 0.75085588, 0.75085588, 0.75085588,\n",
       "       0.75085588, 0.75085588, 0.75085588, 0.75085588, 0.75085588,\n",
       "       0.75085588, 0.75085588, 0.75085588, 0.75085588, 0.75085588,\n",
       "       0.75085588, 0.75085588, 0.75085588, 0.75085588, 0.75085588,\n",
       "       0.75085588, 0.75085588, 0.75085588, 0.75085588, 0.75085588,\n",
       "       0.75085588, 0.75085588, 0.75085588, 0.75085588, 0.75085588,\n",
       "       0.75085588, 0.75085588, 0.75085588, 0.75085588, 0.75085588,\n",
       "       0.75085588, 0.75085588, 0.75085588, 0.75085588, 0.75085588,\n",
       "       0.75085588, 0.75085588, 0.75085588, 0.75085588, 0.75085588,\n",
       "       0.75085588, 0.75085588, 0.75085588, 0.75085588, 0.75085588,\n",
       "       0.75085588, 0.75085588, 0.75085588, 0.75085588, 0.75085588,\n",
       "       0.75085588, 0.75085588, 0.75085588, 0.75085588, 0.75085588,\n",
       "       0.75085588, 0.75085588, 0.75085588, 0.75085588, 0.75085588,\n",
       "       0.75085588, 0.75085588, 0.75085588, 0.75085588, 0.75085588,\n",
       "       0.75085588, 0.75085588, 0.75085588, 0.75085588, 0.75085588,\n",
       "       0.75085588, 0.75085588, 0.75085588, 0.75085588, 0.75085588,\n",
       "       0.75085588, 0.75085588, 0.75085588, 0.75085588, 0.75085588,\n",
       "       0.75085588, 0.75085588, 0.75085588, 0.75085588, 0.75085588,\n",
       "       0.75085588, 0.75085588, 0.75085588, 0.75085588, 0.75085588,\n",
       "       0.75085588, 0.75085588, 0.75085588, 0.75085588, 0.75085588,\n",
       "       0.75085588, 0.75085588, 0.75085588, 0.75085588, 0.75085588,\n",
       "       0.75085588, 0.75085588, 0.75085588, 0.75085588, 0.75085588,\n",
       "       0.75085588, 0.75085588, 0.75085588, 0.75085588, 0.75085588,\n",
       "       0.75085588, 0.75085588, 0.75085588, 0.75085588, 0.75085588,\n",
       "       0.75085588, 0.75085588, 0.75085588, 0.75085588, 0.75085588,\n",
       "       0.75085588, 0.75085588, 0.75085588, 0.75085588, 0.75085588,\n",
       "       0.75085588, 0.75085588, 0.75085588, 0.75085588, 0.75085588,\n",
       "       0.75085588, 0.75085588, 0.75085588, 0.75085588, 0.75085588,\n",
       "       0.75085588, 0.75085588, 0.75085588, 0.75085588, 0.75085588,\n",
       "       0.75085588, 0.75085588, 0.75085588, 0.75085588, 0.75085588,\n",
       "       0.75085588, 0.75085588, 0.75085588, 0.75085588, 0.75085588,\n",
       "       0.75085588, 0.75085588, 0.75085588, 0.75085588, 0.75085588,\n",
       "       0.75085588, 0.75085588, 0.75085588, 0.75085588, 0.75085588,\n",
       "       0.75085588, 0.75085588, 0.75085588, 0.75085588, 0.75085588,\n",
       "       0.75085588, 0.75085588, 0.75085588, 0.75085588, 0.75085588,\n",
       "       0.75085588, 0.75085588, 0.75085588, 0.75085588, 0.75085588,\n",
       "       0.75085588, 0.75085588, 0.75085588, 0.75085588, 0.75085588,\n",
       "       0.75085588, 0.75085588, 0.75085588, 0.75085588, 0.75085588,\n",
       "       0.75085588, 0.75085588, 0.75085588, 0.75085588, 0.75085588,\n",
       "       0.75085588, 0.75085588, 0.75085588, 0.75085588, 0.75085588,\n",
       "       0.75085588])"
      ]
     },
     "execution_count": 83,
     "metadata": {},
     "output_type": "execute_result"
    }
   ],
   "source": [
    "dtbc_grid_search.cv_results_['mean_test_score']"
   ]
  },
  {
   "cell_type": "code",
   "execution_count": 84,
   "metadata": {},
   "outputs": [
    {
     "data": {
      "text/plain": [
       "{'max_depth': 5,\n",
       " 'max_leaf_nodes': 2,\n",
       " 'min_samples_split': 5,\n",
       " 'n_estimators': 10}"
      ]
     },
     "execution_count": 84,
     "metadata": {},
     "output_type": "execute_result"
    }
   ],
   "source": [
    "dtbc_grid_search.best_params_"
   ]
  },
  {
   "cell_type": "code",
   "execution_count": 85,
   "metadata": {},
   "outputs": [
    {
     "data": {
      "text/plain": [
       "GradientBoostingClassifier(ccp_alpha=0.0, criterion='friedman_mse', init=None,\n",
       "                           learning_rate=0.1, loss='deviance', max_depth=5,\n",
       "                           max_features=None, max_leaf_nodes=2,\n",
       "                           min_impurity_decrease=0.0, min_impurity_split=None,\n",
       "                           min_samples_leaf=1, min_samples_split=5,\n",
       "                           min_weight_fraction_leaf=0.0, n_estimators=10,\n",
       "                           n_iter_no_change=None, presort='deprecated',\n",
       "                           random_state=23, subsample=1.0, tol=0.0001,\n",
       "                           validation_fraction=0.1, verbose=0,\n",
       "                           warm_start=False)"
      ]
     },
     "execution_count": 85,
     "metadata": {},
     "output_type": "execute_result"
    }
   ],
   "source": [
    "dtbc_grid_search.best_estimator_"
   ]
  },
  {
   "cell_type": "code",
   "execution_count": 86,
   "metadata": {},
   "outputs": [],
   "source": [
    "# Get the predictions of the best boosting classifier\n",
    "DTbc_prediction_ctc=dtbc_grid_search.best_estimator_.predict(X2_test)"
   ]
  },
  {
   "cell_type": "code",
   "execution_count": 87,
   "metadata": {},
   "outputs": [
    {
     "name": "stdout",
     "output_type": "stream",
     "text": [
      "Confusion Matrix:\n",
      " [[6835    0]\n",
      " [2220    0]]\n",
      "\n",
      "\n",
      "Classification Report:\n",
      "               precision    recall  f1-score   support\n",
      "\n",
      "         0.0       0.75      1.00      0.86      6835\n",
      "         1.0       0.00      0.00      0.00      2220\n",
      "\n",
      "    accuracy                           0.75      9055\n",
      "   macro avg       0.38      0.50      0.43      9055\n",
      "weighted avg       0.57      0.75      0.65      9055\n",
      "\n"
     ]
    },
    {
     "name": "stderr",
     "output_type": "stream",
     "text": [
      "C:\\Users\\edwar\\anaconda3\\lib\\site-packages\\sklearn\\metrics\\_classification.py:1272: UndefinedMetricWarning: Precision and F-score are ill-defined and being set to 0.0 in labels with no predicted samples. Use `zero_division` parameter to control this behavior.\n",
      "  _warn_prf(average, modifier, msg_start, len(result))\n"
     ]
    }
   ],
   "source": [
    "# Evaluate how good the boosting classification is:\n",
    "cm_DTC = confusion_matrix(Y2_test, DTbc_prediction_ctc)\n",
    "print(\"Confusion Matrix:\\n\", cm_DTC)\n",
    "print(\"\\n\")\n",
    "print(\"Classification Report:\\n\",classification_report(Y2_test, DTbc_prediction_ctc))"
   ]
  },
  {
   "cell_type": "code",
   "execution_count": 93,
   "metadata": {},
   "outputs": [
    {
     "data": {
      "text/plain": [
       "<matplotlib.axes._subplots.AxesSubplot at 0x1b150400848>"
      ]
     },
     "execution_count": 93,
     "metadata": {},
     "output_type": "execute_result"
    },
    {
     "data": {
      "image/png": "[encoded data removed]",
      "text/plain": [
       "<Figure size 288x288 with 2 Axes>"
      ]
     },
     "metadata": {
      "needs_background": "light"
     },
     "output_type": "display_data"
    }
   ],
   "source": [
    "skplt.metrics.plot_confusion_matrix(Y2_test, DTbc_prediction_ctc, figsize=(4,4), cmap=\"PuRd\")"
   ]
  },
  {
   "cell_type": "markdown",
   "metadata": {},
   "source": [
    "<Mark>Interpretation:</Mark> We see that the model is exactly similar to a naive prediction! <br>"
   ]
  },
  {
   "cell_type": "code",
   "execution_count": 95,
   "metadata": {},
   "outputs": [
    {
     "data": {
      "image/png": "[encoded data removed]",
      "text/plain": [
       "<Figure size 360x576 with 1 Axes>"
      ]
     },
     "metadata": {
      "needs_background": "light"
     },
     "output_type": "display_data"
    }
   ],
   "source": [
    "%matplotlib inline \n",
    "Importance = pd.DataFrame({'Importance':dtbc_grid_search.best_estimator_.feature_importances_*100}, \\\n",
    "                          index=insurance_features)\n",
    "Importance.sort_values('Importance', axis=0, ascending=True).plot(kind='barh', color='lightsalmon', )\n",
    "plt.gcf().set_size_inches(5, 8)\n",
    "plt.show()"
   ]
  },
  {
   "cell_type": "markdown",
   "metadata": {},
   "source": [
    "***\n",
    "<Mark>Navigation:</Mark><br>\n",
    "* [Topic 1: Tuning linear regression prediction model](#section_id1)<br>\n",
    "* [Topic 2: Tuning logistic regression prediction model](#section_id2)<br>\n",
    "* [Topic 3: Tuning KNN prediction model](#section_id3)<br>\n",
    "* [Topic 4: Tuning tree-based prediction models](#section_id4)<br>\n",
    "***"
   ]
  },
  {
   "cell_type": "markdown",
   "metadata": {},
   "source": [
    "***\n",
    "<center>\n",
    "All done!It Has Been Such A Wonderful Journey With You​!\n",
    "</center>"
   ]
  },
  {
   "cell_type": "markdown",
   "metadata": {},
   "source": [
    "<div style=\"text-align: right\"> <a href='#section_id0'>Back to top of Notebook</a></div>"
   ]
  },
  {
   "cell_type": "code",
   "execution_count": null,
   "metadata": {},
   "outputs": [],
   "source": []
  }
 ],
 "metadata": {
  "kernelspec": {
   "display_name": "Python 3",
   "language": "python",
   "name": "python3"
  },
  "language_info": {
   "codemirror_mode": {
    "name": "ipython",
    "version": 3
   },
   "file_extension": ".py",
   "mimetype": "text/x-python",
   "name": "python",
   "nbconvert_exporter": "python",
   "pygments_lexer": "ipython3",
   "version": "3.7.6"
  }
 },
 "nbformat": 4,
 "nbformat_minor": 4
}
